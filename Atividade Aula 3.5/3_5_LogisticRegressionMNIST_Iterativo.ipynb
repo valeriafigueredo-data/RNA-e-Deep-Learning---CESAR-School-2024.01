{
  "cells": [
    {
      "cell_type": "markdown",
      "source": [
        "**Décimo Trabalho da disciplina RNA e Deep Learning**\n",
        "\n",
        "**Discente: Valéria Cristina A. R. de Figueredo**"
      ],
      "metadata": {
        "id": "hqfRSMy_C7bg"
      }
    },
    {
      "cell_type": "markdown",
      "metadata": {
        "id": "B3td_pl4mvQD"
      },
      "source": [
        "# Regressão Softmax com dados do MNIST"
      ]
    },
    {
      "cell_type": "markdown",
      "metadata": {
        "id": "DtkJT-FtmvQE"
      },
      "source": [
        "## Objetivo"
      ]
    },
    {
      "cell_type": "markdown",
      "metadata": {
        "id": "hF-ByQKJmvQF"
      },
      "source": [
        "O objetivo deste notebook é ilustrar o uso de praticamente a mesma rede desenvolvida para a classificação das flores Íris, porém agora com o problema de classificação de dígitos manuscritos utilizando o dataset MNIST.\n",
        "As principais diferenças são:\n",
        "- tipo do dado, agora imagem com muito atributos: 28 x 28 pixels\n",
        "- número de amostras, muito maior, 60 mil.\n",
        "Neste exercício será possível a interpretação do significado dos parâmetros treinados"
      ]
    },
    {
      "cell_type": "markdown",
      "metadata": {
        "id": "HGsYwaRemvQH"
      },
      "source": [
        "## Importação das bibliotecas"
      ]
    },
    {
      "cell_type": "code",
      "execution_count": 51,
      "metadata": {
        "ExecuteTime": {
          "end_time": "2017-11-24T15:44:50.097111",
          "start_time": "2017-11-24T15:44:48.915046"
        },
        "id": "JeBH-PI4mvQI"
      },
      "outputs": [],
      "source": [
        "%matplotlib inline\n",
        "import numpy as np\n",
        "import matplotlib.pyplot as plt\n",
        "import pandas as pd\n",
        "\n",
        "from torch.autograd import Variable\n",
        "import torch\n",
        "import torchvision"
      ]
    },
    {
      "cell_type": "markdown",
      "metadata": {
        "id": "FLEq8nmUmvQL"
      },
      "source": [
        "## Carregamento dos dados do MNIST"
      ]
    },
    {
      "cell_type": "code",
      "execution_count": 52,
      "metadata": {
        "colab": {
          "base_uri": "https://localhost:8080/"
        },
        "id": "5ueXR4zIo5wQ",
        "outputId": "0ed634e4-cc74-4620-c078-67db920a9aeb"
      },
      "outputs": [
        {
          "output_type": "stream",
          "name": "stdout",
          "text": [
            "fatal: destination path 'MNIST' already exists and is not an empty directory.\n"
          ]
        }
      ],
      "source": [
        "! git clone https://github.com/vcasadei/MNIST.git"
      ]
    },
    {
      "cell_type": "code",
      "execution_count": 53,
      "metadata": {
        "ExecuteTime": {
          "end_time": "2017-11-24T15:44:50.638218",
          "start_time": "2017-11-24T15:44:50.098808"
        },
        "colab": {
          "base_uri": "https://localhost:8080/"
        },
        "id": "xZWPIWlumvQM",
        "outputId": "033392c6-577e-43bd-d1db-b0f89820d41d"
      },
      "outputs": [
        {
          "output_type": "stream",
          "name": "stderr",
          "text": [
            "<ipython-input-53-6143b94785d1>:3: FutureWarning: You are using `torch.load` with `weights_only=False` (the current default value), which uses the default pickle module implicitly. It is possible to construct malicious pickle data which will execute arbitrary code during unpickling (See https://github.com/pytorch/pytorch/blob/main/SECURITY.md#untrusted-models for more details). In a future release, the default value for `weights_only` will be flipped to `True`. This limits the functions that could be executed during unpickling. Arbitrary objects will no longer be allowed to be loaded via this mode unless they are explicitly allowlisted by the user via `torch.serialization.add_safe_globals`. We recommend you start setting `weights_only=True` for any use case where you don't have full control of the loaded file. Please open an issue on GitHub for any issues related to this experimental feature.\n",
            "  x_train, y_train = torch.load(dataset_dir + 'processed/training.pt')\n"
          ]
        },
        {
          "output_type": "stream",
          "name": "stdout",
          "text": [
            "Amostras de treinamento: 60000\n",
            "\n",
            "Dimensões dos dados das imagens:    torch.Size([60000, 28, 28])\n",
            "Valores mínimo e máximo dos pixels: tensor(0, dtype=torch.uint8) tensor(255, dtype=torch.uint8)\n",
            "Tipo dos dados das imagens:         <class 'torch.Tensor'>\n",
            "Tipo das classes das imagens:       <class 'torch.Tensor'>\n"
          ]
        }
      ],
      "source": [
        "dataset_dir = 'MNIST/'\n",
        "\n",
        "x_train, y_train = torch.load(dataset_dir + 'processed/training.pt')\n",
        "\n",
        "print(\"Amostras de treinamento:\", x_train.size(0))\n",
        "\n",
        "print(\"\\nDimensões dos dados das imagens:   \", x_train.size())\n",
        "print(\"Valores mínimo e máximo dos pixels:\", torch.min(x_train), torch.max(x_train))\n",
        "print(\"Tipo dos dados das imagens:        \", type(x_train))\n",
        "print(\"Tipo das classes das imagens:      \", type(y_train))"
      ]
    },
    {
      "cell_type": "markdown",
      "metadata": {
        "id": "uR2L0QQgmvQU"
      },
      "source": [
        "### Carregamento, normalização e seleção dos dados do MNIST\n",
        "\n",
        "Neste exemplo utilizaremos apenas 1000 amostras de treinamento."
      ]
    },
    {
      "cell_type": "code",
      "execution_count": 54,
      "metadata": {
        "ExecuteTime": {
          "end_time": "2017-11-24T15:44:50.895668",
          "start_time": "2017-11-24T15:44:50.640110"
        },
        "colab": {
          "base_uri": "https://localhost:8080/"
        },
        "id": "C9Rh7wRemvQU",
        "outputId": "5b3a3baf-8069-41f0-c4be-e51e1aed8f78"
      },
      "outputs": [
        {
          "output_type": "stream",
          "name": "stdout",
          "text": [
            "Amostras de treinamento: 1000\n",
            "\n",
            "Dimensões dos dados das imagens:    torch.Size([1000, 28, 28])\n",
            "Valores mínimo e máximo dos pixels: tensor(0.) tensor(1.)\n",
            "Tipo dos dados das imagens:         <class 'torch.Tensor'>\n",
            "Tipo das classes das imagens:       <class 'torch.Tensor'>\n"
          ]
        }
      ],
      "source": [
        "x_train = x_train.float()\n",
        "\n",
        "x_train = x_train / 255.\n",
        "\n",
        "if True:\n",
        "    n_samples_train = 1000\n",
        "\n",
        "    x_train = x_train[:n_samples_train]\n",
        "    y_train = y_train[:n_samples_train]\n",
        "\n",
        "print(\"Amostras de treinamento:\", x_train.size(0))\n",
        "\n",
        "print(\"\\nDimensões dos dados das imagens:   \", x_train.size())\n",
        "print(\"Valores mínimo e máximo dos pixels:\", torch.min(x_train), torch.max(x_train))\n",
        "print(\"Tipo dos dados das imagens:        \", type(x_train))\n",
        "print(\"Tipo das classes das imagens:      \", type(y_train))"
      ]
    },
    {
      "cell_type": "markdown",
      "metadata": {
        "id": "6UtzmsQimvQa"
      },
      "source": [
        "### Visualizando os dados"
      ]
    },
    {
      "cell_type": "code",
      "execution_count": 55,
      "metadata": {
        "ExecuteTime": {
          "end_time": "2017-11-24T16:32:19.474568",
          "start_time": "2017-11-24T16:32:19.207270"
        },
        "colab": {
          "base_uri": "https://localhost:8080/",
          "height": 472
        },
        "id": "gFG0qpODmvQa",
        "outputId": "dce36818-7d76-4a03-9754-d81827587c99"
      },
      "outputs": [
        {
          "output_type": "execute_result",
          "data": {
            "text/plain": [
              "(-0.5, 232.5, 87.5, -0.5)"
            ]
          },
          "metadata": {},
          "execution_count": 55
        },
        {
          "output_type": "display_data",
          "data": {
            "text/plain": [
              "<Figure size 1500x1000 with 1 Axes>"
            ],
            "image/png": "[encoded data removed]"
          },
          "metadata": {}
        }
      ],
      "source": [
        "n_samples = 24\n",
        "\n",
        "# cria um grid com as imagens\n",
        "grid = torchvision.utils.make_grid(x_train[:n_samples].unsqueeze(1), pad_value=1.0, padding=1)\n",
        "\n",
        "plt.figure(figsize=(15, 10))\n",
        "plt.imshow(grid.numpy().transpose(1, 2, 0))\n",
        "plt.axis('off')"
      ]
    },
    {
      "cell_type": "markdown",
      "metadata": {
        "id": "075sVFBZmvQe"
      },
      "source": [
        "### Visualizando uma imagem com o matplotlib"
      ]
    },
    {
      "cell_type": "code",
      "execution_count": 56,
      "metadata": {
        "ExecuteTime": {
          "end_time": "2017-11-24T15:44:51.413232",
          "start_time": "2017-11-24T15:44:51.251376"
        },
        "colab": {
          "base_uri": "https://localhost:8080/",
          "height": 448
        },
        "id": "3W2NpeW0mvQg",
        "outputId": "098ca658-3ec3-4ff7-d617-1301075f73fa"
      },
      "outputs": [
        {
          "output_type": "stream",
          "name": "stdout",
          "text": [
            "class: tensor(5)\n"
          ]
        },
        {
          "output_type": "display_data",
          "data": {
            "text/plain": [
              "<Figure size 640x480 with 1 Axes>"
            ],
            "image/png": "[encoded data removed]"
          },
          "metadata": {}
        }
      ],
      "source": [
        "image  = x_train[0]\n",
        "target = y_train[0]\n",
        "\n",
        "plt.imshow(image.numpy().reshape(28,28), cmap='gray')\n",
        "print('class:', target)"
      ]
    },
    {
      "cell_type": "markdown",
      "metadata": {
        "id": "SU-PzteEmvQj"
      },
      "source": [
        "## Modelo"
      ]
    },
    {
      "cell_type": "code",
      "execution_count": 57,
      "metadata": {
        "ExecuteTime": {
          "end_time": "2017-11-24T15:44:51.419287",
          "start_time": "2017-11-24T15:44:51.415065"
        },
        "id": "VKMngBWzmvQk"
      },
      "outputs": [],
      "source": [
        "model = torch.nn.Linear(28*28, 10) # 28*28 atributos de entrada e 10 neurônios na sáida"
      ]
    },
    {
      "cell_type": "markdown",
      "metadata": {
        "id": "uzvpr1u6mvQo"
      },
      "source": [
        "### Testando um predict com poucas amostras"
      ]
    },
    {
      "cell_type": "code",
      "execution_count": 58,
      "metadata": {
        "id": "KiiO8WDAmvQq",
        "colab": {
          "base_uri": "https://localhost:8080/"
        },
        "outputId": "6931d471-c995-4dda-f0b5-5d71b307b0b5"
      },
      "outputs": [
        {
          "output_type": "stream",
          "name": "stdout",
          "text": [
            "Accuracy (com poucas amostras): 0.083\n"
          ]
        }
      ],
      "source": [
        "## TODO\n",
        "\n",
        "# Função de previsão\n",
        "def predict(model, input_data):\n",
        "    outputs = model(Variable(input_data))\n",
        "    _, predicts = torch.max(outputs, 1)\n",
        "    return predicts.data\n",
        "\n",
        "# Definir o número de amostras para o teste (100 amostras)\n",
        "n_samples_test = 1000\n",
        "\n",
        "# Testando com as primeiras 'n_samples_test' amostras\n",
        "y_pred = predict(model, x_train[:n_samples_test].view(-1, 28*28))\n",
        "\n",
        "# Calcular a acurácia com as poucas amostras\n",
        "accuracy = (y_pred.numpy() == y_train[:n_samples_test].numpy()).mean()\n",
        "\n",
        "print('Accuracy (com poucas amostras):', accuracy)"
      ]
    },
    {
      "cell_type": "markdown",
      "metadata": {
        "id": "tIIeicyGmvQs"
      },
      "source": [
        "## Treinamento"
      ]
    },
    {
      "cell_type": "markdown",
      "metadata": {
        "id": "tSfqKNW2mvQt"
      },
      "source": [
        "### Inicialização dos parâmetros"
      ]
    },
    {
      "cell_type": "code",
      "execution_count": 59,
      "metadata": {
        "ExecuteTime": {
          "end_time": "2017-11-24T15:44:51.425768",
          "start_time": "2017-11-24T15:44:51.420825"
        },
        "id": "I9W3OFvomvQu"
      },
      "outputs": [],
      "source": [
        "epochs = 5\n",
        "learningRate = 0.5\n",
        "\n",
        "# Utilizaremos CrossEntropyLoss como função de perda\n",
        "criterion = torch.nn.CrossEntropyLoss()\n",
        "\n",
        "# Gradiente descendente\n",
        "optimizer = torch.optim.SGD(model.parameters(), lr=learningRate)"
      ]
    },
    {
      "cell_type": "markdown",
      "metadata": {
        "id": "hlNgV_pgmvQx"
      },
      "source": [
        "### Visualização do grafo computacional da perda (loss)"
      ]
    },
    {
      "cell_type": "code",
      "execution_count": 60,
      "metadata": {
        "colab": {
          "base_uri": "https://localhost:8080/"
        },
        "id": "5ycGDyoWjMoR",
        "outputId": "3f263c3b-fd69-42b9-b2d9-d40106e8d66d"
      },
      "outputs": [
        {
          "output_type": "stream",
          "name": "stdout",
          "text": [
            "Requirement already satisfied: graphviz in /usr/local/lib/python3.10/dist-packages (0.20.3)\n",
            "Collecting git+https://github.com/szagoruyko/pytorchviz\n",
            "  Cloning https://github.com/szagoruyko/pytorchviz to /tmp/pip-req-build-z74890ry\n",
            "  Running command git clone --filter=blob:none --quiet https://github.com/szagoruyko/pytorchviz /tmp/pip-req-build-z74890ry\n",
            "  Resolved https://github.com/szagoruyko/pytorchviz to commit 0adcd83af8aa7ab36d6afd139cabbd9df598edb7\n",
            "  Preparing metadata (setup.py) ... \u001b[?25l\u001b[?25hdone\n",
            "Requirement already satisfied: torch in /usr/local/lib/python3.10/dist-packages (from torchviz==0.0.2) (2.5.1+cu121)\n",
            "Requirement already satisfied: graphviz in /usr/local/lib/python3.10/dist-packages (from torchviz==0.0.2) (0.20.3)\n",
            "Requirement already satisfied: filelock in /usr/local/lib/python3.10/dist-packages (from torch->torchviz==0.0.2) (3.16.1)\n",
            "Requirement already satisfied: typing-extensions>=4.8.0 in /usr/local/lib/python3.10/dist-packages (from torch->torchviz==0.0.2) (4.12.2)\n",
            "Requirement already satisfied: networkx in /usr/local/lib/python3.10/dist-packages (from torch->torchviz==0.0.2) (3.4.2)\n",
            "Requirement already satisfied: jinja2 in /usr/local/lib/python3.10/dist-packages (from torch->torchviz==0.0.2) (3.1.4)\n",
            "Requirement already satisfied: fsspec in /usr/local/lib/python3.10/dist-packages (from torch->torchviz==0.0.2) (2024.10.0)\n",
            "Requirement already satisfied: sympy==1.13.1 in /usr/local/lib/python3.10/dist-packages (from torch->torchviz==0.0.2) (1.13.1)\n",
            "Requirement already satisfied: mpmath<1.4,>=1.1.0 in /usr/local/lib/python3.10/dist-packages (from sympy==1.13.1->torch->torchviz==0.0.2) (1.3.0)\n",
            "Requirement already satisfied: MarkupSafe>=2.0 in /usr/local/lib/python3.10/dist-packages (from jinja2->torch->torchviz==0.0.2) (3.0.2)\n"
          ]
        }
      ],
      "source": [
        "!pip install graphviz\n",
        "!pip install git+https://github.com/szagoruyko/pytorchviz"
      ]
    },
    {
      "cell_type": "code",
      "execution_count": 61,
      "metadata": {
        "ExecuteTime": {
          "end_time": "2017-11-24T16:28:18.101867",
          "start_time": "2017-11-24T16:28:18.062312"
        },
        "colab": {
          "base_uri": "https://localhost:8080/",
          "height": 542
        },
        "id": "oYPRIePImvQz",
        "outputId": "8ad167df-28aa-408e-9acf-8e6059889539"
      },
      "outputs": [
        {
          "output_type": "execute_result",
          "data": {
            "image/svg+xml": "<?xml version=\"1.0\" encoding=\"UTF-8\" standalone=\"no\"?>\n<!DOCTYPE svg PUBLIC \"-//W3C//DTD SVG 1.1//EN\"\n \"http://www.w3.org/Graphics/SVG/1.1/DTD/svg11.dtd\">\n<!-- Generated by graphviz version 2.43.0 (0)\n -->\n<!-- Title: %3 Pages: 1 -->\n<svg width=\"216pt\" height=\"391pt\"\n viewBox=\"0.00 0.00 216.00 391.00\" xmlns=\"http://www.w3.org/2000/svg\" xmlns:xlink=\"http://www.w3.org/1999/xlink\">\n<g id=\"graph0\" class=\"graph\" transform=\"scale(1 1) rotate(0) translate(4 387)\">\n<title>%3</title>\n<polygon fill=\"white\" stroke=\"transparent\" points=\"-4,4 -4,-387 212,-387 212,4 -4,4\"/>\n<!-- 136310847309280 -->\n<g id=\"node1\" class=\"node\">\n<title>136310847309280</title>\n<polygon fill=\"#caff70\" stroke=\"black\" points=\"130.5,-31 76.5,-31 76.5,0 130.5,0 130.5,-31\"/>\n<text text-anchor=\"middle\" x=\"103.5\" y=\"-7\" font-family=\"monospace\" font-size=\"10.00\"> ()</text>\n</g>\n<!-- 136310848760240 -->\n<g id=\"node2\" class=\"node\">\n<title>136310848760240</title>\n<polygon fill=\"lightgrey\" stroke=\"black\" points=\"160,-86 47,-86 47,-67 160,-67 160,-86\"/>\n<text text-anchor=\"middle\" x=\"103.5\" y=\"-74\" font-family=\"monospace\" font-size=\"10.00\">NllLossBackward0</text>\n</g>\n<!-- 136310848760240&#45;&gt;136310847309280 -->\n<g id=\"edge8\" class=\"edge\">\n<title>136310848760240&#45;&gt;136310847309280</title>\n<path fill=\"none\" stroke=\"black\" d=\"M103.5,-66.79C103.5,-60.07 103.5,-50.4 103.5,-41.34\"/>\n<polygon fill=\"black\" stroke=\"black\" points=\"107,-41.19 103.5,-31.19 100,-41.19 107,-41.19\"/>\n</g>\n<!-- 136310848763312 -->\n<g id=\"node3\" class=\"node\">\n<title>136310848763312</title>\n<polygon fill=\"lightgrey\" stroke=\"black\" points=\"169,-141 38,-141 38,-122 169,-122 169,-141\"/>\n<text text-anchor=\"middle\" x=\"103.5\" y=\"-129\" font-family=\"monospace\" font-size=\"10.00\">LogSoftmaxBackward0</text>\n</g>\n<!-- 136310848763312&#45;&gt;136310848760240 -->\n<g id=\"edge1\" class=\"edge\">\n<title>136310848763312&#45;&gt;136310848760240</title>\n<path fill=\"none\" stroke=\"black\" d=\"M103.5,-121.75C103.5,-114.8 103.5,-104.85 103.5,-96.13\"/>\n<polygon fill=\"black\" stroke=\"black\" points=\"107,-96.09 103.5,-86.09 100,-96.09 107,-96.09\"/>\n</g>\n<!-- 136310848761920 -->\n<g id=\"node4\" class=\"node\">\n<title>136310848761920</title>\n<polygon fill=\"lightgrey\" stroke=\"black\" points=\"154,-196 53,-196 53,-177 154,-177 154,-196\"/>\n<text text-anchor=\"middle\" x=\"103.5\" y=\"-184\" font-family=\"monospace\" font-size=\"10.00\">AddmmBackward0</text>\n</g>\n<!-- 136310848761920&#45;&gt;136310848763312 -->\n<g id=\"edge2\" class=\"edge\">\n<title>136310848761920&#45;&gt;136310848763312</title>\n<path fill=\"none\" stroke=\"black\" d=\"M103.5,-176.75C103.5,-169.8 103.5,-159.85 103.5,-151.13\"/>\n<polygon fill=\"black\" stroke=\"black\" points=\"107,-151.09 103.5,-141.09 100,-151.09 107,-151.09\"/>\n</g>\n<!-- 136310848763024 -->\n<g id=\"node5\" class=\"node\">\n<title>136310848763024</title>\n<polygon fill=\"lightgrey\" stroke=\"black\" points=\"101,-251 0,-251 0,-232 101,-232 101,-251\"/>\n<text text-anchor=\"middle\" x=\"50.5\" y=\"-239\" font-family=\"monospace\" font-size=\"10.00\">AccumulateGrad</text>\n</g>\n<!-- 136310848763024&#45;&gt;136310848761920 -->\n<g id=\"edge3\" class=\"edge\">\n<title>136310848763024&#45;&gt;136310848761920</title>\n<path fill=\"none\" stroke=\"black\" d=\"M59.25,-231.75C66.97,-224.03 78.4,-212.6 87.72,-203.28\"/>\n<polygon fill=\"black\" stroke=\"black\" points=\"90.31,-205.64 94.91,-196.09 85.36,-200.69 90.31,-205.64\"/>\n</g>\n<!-- 136310848718624 -->\n<g id=\"node6\" class=\"node\">\n<title>136310848718624</title>\n<polygon fill=\"lightblue\" stroke=\"black\" points=\"77.5,-317 23.5,-317 23.5,-287 77.5,-287 77.5,-317\"/>\n<text text-anchor=\"middle\" x=\"50.5\" y=\"-305\" font-family=\"monospace\" font-size=\"10.00\">bias</text>\n<text text-anchor=\"middle\" x=\"50.5\" y=\"-294\" font-family=\"monospace\" font-size=\"10.00\"> (10)</text>\n</g>\n<!-- 136310848718624&#45;&gt;136310848763024 -->\n<g id=\"edge4\" class=\"edge\">\n<title>136310848718624&#45;&gt;136310848763024</title>\n<path fill=\"none\" stroke=\"black\" d=\"M50.5,-286.84C50.5,-279.21 50.5,-269.7 50.5,-261.45\"/>\n<polygon fill=\"black\" stroke=\"black\" points=\"54,-261.27 50.5,-251.27 47,-261.27 54,-261.27\"/>\n</g>\n<!-- 136310848762976 -->\n<g id=\"node7\" class=\"node\">\n<title>136310848762976</title>\n<polygon fill=\"lightgrey\" stroke=\"black\" points=\"196,-251 119,-251 119,-232 196,-232 196,-251\"/>\n<text text-anchor=\"middle\" x=\"157.5\" y=\"-239\" font-family=\"monospace\" font-size=\"10.00\">TBackward0</text>\n</g>\n<!-- 136310848762976&#45;&gt;136310848761920 -->\n<g id=\"edge5\" class=\"edge\">\n<title>136310848762976&#45;&gt;136310848761920</title>\n<path fill=\"none\" stroke=\"black\" d=\"M148.58,-231.75C140.72,-224.03 129.07,-212.6 119.58,-203.28\"/>\n<polygon fill=\"black\" stroke=\"black\" points=\"121.84,-200.6 112.25,-196.09 116.94,-205.59 121.84,-200.6\"/>\n</g>\n<!-- 136310848764368 -->\n<g id=\"node8\" class=\"node\">\n<title>136310848764368</title>\n<polygon fill=\"lightgrey\" stroke=\"black\" points=\"208,-311.5 107,-311.5 107,-292.5 208,-292.5 208,-311.5\"/>\n<text text-anchor=\"middle\" x=\"157.5\" y=\"-299.5\" font-family=\"monospace\" font-size=\"10.00\">AccumulateGrad</text>\n</g>\n<!-- 136310848764368&#45;&gt;136310848762976 -->\n<g id=\"edge6\" class=\"edge\">\n<title>136310848764368&#45;&gt;136310848762976</title>\n<path fill=\"none\" stroke=\"black\" d=\"M157.5,-292.37C157.5,-284.25 157.5,-271.81 157.5,-261.39\"/>\n<polygon fill=\"black\" stroke=\"black\" points=\"161,-261.17 157.5,-251.17 154,-261.17 161,-261.17\"/>\n</g>\n<!-- 136310847137936 -->\n<g id=\"node9\" class=\"node\">\n<title>136310847137936</title>\n<polygon fill=\"lightblue\" stroke=\"black\" points=\"196,-383 119,-383 119,-353 196,-353 196,-383\"/>\n<text text-anchor=\"middle\" x=\"157.5\" y=\"-371\" font-family=\"monospace\" font-size=\"10.00\">weight</text>\n<text text-anchor=\"middle\" x=\"157.5\" y=\"-360\" font-family=\"monospace\" font-size=\"10.00\"> (10, 784)</text>\n</g>\n<!-- 136310847137936&#45;&gt;136310848764368 -->\n<g id=\"edge7\" class=\"edge\">\n<title>136310847137936&#45;&gt;136310848764368</title>\n<path fill=\"none\" stroke=\"black\" d=\"M157.5,-352.8C157.5,-343.7 157.5,-331.79 157.5,-321.9\"/>\n<polygon fill=\"black\" stroke=\"black\" points=\"161,-321.84 157.5,-311.84 154,-321.84 161,-321.84\"/>\n</g>\n</g>\n</svg>\n",
            "text/plain": [
              "<graphviz.graphs.Digraph at 0x7bf957b83370>"
            ]
          },
          "metadata": {},
          "execution_count": 61
        }
      ],
      "source": [
        "y_pred = model(Variable(x_train.view(-1,28*28)))\n",
        "loss = criterion(y_pred, Variable(y_train))\n",
        "from torchviz import make_dot, make_dot_from_trace\n",
        "p = make_dot(loss, dict(model.named_parameters()))\n",
        "p"
      ]
    },
    {
      "cell_type": "markdown",
      "metadata": {
        "id": "Pq2yq8qAmvQ2"
      },
      "source": [
        "### Laço de treinamento dos pesos"
      ]
    },
    {
      "cell_type": "code",
      "execution_count": 62,
      "metadata": {
        "ExecuteTime": {
          "end_time": "2017-11-24T15:44:51.678678",
          "start_time": "2017-11-24T15:44:51.427695"
        },
        "colab": {
          "base_uri": "https://localhost:8080/",
          "height": 35
        },
        "id": "HPUUNKXxmvQ3",
        "outputId": "50ce0d01-eee8-4c91-8711-5b1ef6aa3a3c"
      },
      "outputs": [
        {
          "output_type": "display_data",
          "data": {
            "text/plain": [
              "<Figure size 1800x600 with 0 Axes>"
            ]
          },
          "metadata": {}
        }
      ],
      "source": [
        "from IPython import display\n",
        "import numpy\n",
        "a = 5\n",
        "losses = []\n",
        "zs = []\n",
        "fig = plt.figure(figsize=(18, 6))\n",
        "\n",
        "try:\n",
        "    for i in range(epochs):\n",
        "        # Transforma a entrada para uma dimensão\n",
        "        inputs = Variable(x_train.view(-1, 28 * 28))\n",
        "        # Predict da rede\n",
        "        outputs = model(inputs)\n",
        "        zs.append(outputs[1].detach().numpy())\n",
        "\n",
        "        # calcula a perda\n",
        "        loss = criterion(outputs, Variable(y_train))\n",
        "\n",
        "        # zero, backpropagation, ajusta parâmetros pelo gradiente descendente\n",
        "        optimizer.zero_grad()\n",
        "        loss.backward()\n",
        "        optimizer.step()\n",
        "\n",
        "        losses.append(loss.data)\n",
        "        _, predicts = torch.max(outputs, 1)\n",
        "\n",
        "        y_pred = predicts.data\n",
        "        accuracy = (y_pred.numpy() == y_train.numpy()).mean()\n",
        "\n",
        "except KeyboardInterrupt:\n",
        "    pass"
      ]
    },
    {
      "cell_type": "code",
      "execution_count": 63,
      "metadata": {
        "colab": {
          "base_uri": "https://localhost:8080/"
        },
        "id": "8wbN-_fnmvQ7",
        "outputId": "1d4861a1-3d3a-4567-e0ce-2ac7669e8209"
      },
      "outputs": [
        {
          "output_type": "execute_result",
          "data": {
            "text/plain": [
              "tensor([[0., 0., 0.,  ..., 0., 0., 0.],\n",
              "        [0., 0., 0.,  ..., 0., 0., 0.],\n",
              "        [0., 0., 0.,  ..., 0., 0., 0.],\n",
              "        ...,\n",
              "        [0., 0., 0.,  ..., 0., 0., 0.],\n",
              "        [0., 0., 0.,  ..., 0., 0., 0.],\n",
              "        [0., 0., 0.,  ..., 0., 0., 0.]])"
            ]
          },
          "metadata": {},
          "execution_count": 63
        }
      ],
      "source": [
        "model.weight.grad"
      ]
    },
    {
      "cell_type": "code",
      "execution_count": 64,
      "metadata": {
        "ExecuteTime": {
          "end_time": "2017-11-24T15:44:51.685301",
          "start_time": "2017-11-24T15:44:51.680419"
        },
        "colab": {
          "base_uri": "https://localhost:8080/"
        },
        "id": "mPWKRc_gmvRH",
        "outputId": "cacc84b4-22e2-4de2-a8f1-c69417658ef0"
      },
      "outputs": [
        {
          "output_type": "stream",
          "name": "stdout",
          "text": [
            "Final loss: tensor(1.1008)\n"
          ]
        }
      ],
      "source": [
        "print('Final loss:', loss.data)"
      ]
    },
    {
      "cell_type": "markdown",
      "metadata": {
        "id": "PWIjRdCJmvRQ"
      },
      "source": [
        "### Visualizando gráfico de perda durante o treinamento"
      ]
    },
    {
      "cell_type": "code",
      "execution_count": 65,
      "metadata": {
        "ExecuteTime": {
          "end_time": "2017-11-24T15:44:56.787741",
          "start_time": "2017-11-24T15:44:56.627754"
        },
        "id": "gwV8aFcbmvRR",
        "outputId": "9e8f8a60-20f7-4a3e-b1ae-2248b92fe31c",
        "colab": {
          "base_uri": "https://localhost:8080/",
          "height": 448
        }
      },
      "outputs": [
        {
          "output_type": "execute_result",
          "data": {
            "text/plain": [
              "[<matplotlib.lines.Line2D at 0x7bf957afae60>]"
            ]
          },
          "metadata": {},
          "execution_count": 65
        },
        {
          "output_type": "display_data",
          "data": {
            "text/plain": [
              "<Figure size 640x480 with 1 Axes>"
            ],
            "image/png": "[encoded data removed]"
          },
          "metadata": {}
        }
      ],
      "source": [
        "plt.plot(losses)"
      ]
    },
    {
      "cell_type": "markdown",
      "metadata": {
        "id": "H8og76PRmvRW"
      },
      "source": [
        "## Avaliação"
      ]
    },
    {
      "cell_type": "markdown",
      "metadata": {
        "id": "tIe0ngxWmvRY"
      },
      "source": [
        "### Acurácia tanto no conjunto de treinamento como no conjunto de testes"
      ]
    },
    {
      "cell_type": "code",
      "execution_count": 66,
      "metadata": {
        "ExecuteTime": {
          "end_time": "2017-11-24T15:50:29.922115",
          "start_time": "2017-11-24T15:50:29.914004"
        },
        "id": "tlL-lfF5mvRZ",
        "outputId": "19e172dd-59e0-4ce0-ee60-a7885a2d5572",
        "colab": {
          "base_uri": "https://localhost:8080/"
        }
      },
      "outputs": [
        {
          "output_type": "stream",
          "name": "stdout",
          "text": [
            "Accuracy: 0.813\n"
          ]
        }
      ],
      "source": [
        "def predict(model, input_data):\n",
        "    outputs = model(Variable(input_data))\n",
        "    _, predicts = torch.max(outputs, 1)\n",
        "\n",
        "    return predicts.data\n",
        "\n",
        "y_pred = predict(model, x_train.view(-1, 28*28))\n",
        "accuracy = (y_pred.numpy() == y_train.numpy()).mean()\n",
        "print('Accuracy:', accuracy)"
      ]
    },
    {
      "cell_type": "markdown",
      "metadata": {
        "id": "CvWz9qeDmvRc"
      },
      "source": [
        "### Matriz de confusão com dados de treinamento e teste"
      ]
    },
    {
      "cell_type": "code",
      "execution_count": 67,
      "metadata": {
        "ExecuteTime": {
          "end_time": "2017-11-24T15:51:40.706177",
          "start_time": "2017-11-24T15:51:40.679474"
        },
        "id": "CqNe40IqmvRd",
        "outputId": "9475b2d4-c7db-405b-eee9-1ac33713c791",
        "colab": {
          "base_uri": "https://localhost:8080/",
          "height": 412
        }
      },
      "outputs": [
        {
          "output_type": "stream",
          "name": "stdout",
          "text": [
            "Matriz de confusão:\n"
          ]
        },
        {
          "output_type": "execute_result",
          "data": {
            "text/plain": [
              "col_0   0    1   2   3   4   5   6    7   8   9\n",
              "row_0                                          \n",
              "0      94    0   3   2   2   5   3    1   0   2\n",
              "1       0  108  11   1   1   3   3    4   8   1\n",
              "2       1    0  71   0   0   1   0    1   2   0\n",
              "3       0    1   1  80   1  17   0    0   9   2\n",
              "4       0    0   2   0  90   5   0    2   0   6\n",
              "5       0    1   0   2   0  47   1    0   0   1\n",
              "6       2    1   2   2   4   4  86    0   3   1\n",
              "7       0    1   6   3   1   1   1  105   0  15\n",
              "8       0    4   3   2   0   6   0    0  63   3\n",
              "9       0    0   0   1   6   3   0    4   2  69"
            ],
            "text/html": [
              "\n",
              "  <div id=\"df-a2ceb0d4-cc5e-4871-9678-5035eb3e2f3b\" class=\"colab-df-container\">\n",
              "    <div>\n",
              "<style scoped>\n",
              "    .dataframe tbody tr th:only-of-type {\n",
              "        vertical-align: middle;\n",
              "    }\n",
              "\n",
              "    .dataframe tbody tr th {\n",
              "        vertical-align: top;\n",
              "    }\n",
              "\n",
              "    .dataframe thead th {\n",
              "        text-align: right;\n",
              "    }\n",
              "</style>\n",
              "<table border=\"1\" class=\"dataframe\">\n",
              "  <thead>\n",
              "    <tr style=\"text-align: right;\">\n",
              "      <th>col_0</th>\n",
              "      <th>0</th>\n",
              "      <th>1</th>\n",
              "      <th>2</th>\n",
              "      <th>3</th>\n",
              "      <th>4</th>\n",
              "      <th>5</th>\n",
              "      <th>6</th>\n",
              "      <th>7</th>\n",
              "      <th>8</th>\n",
              "      <th>9</th>\n",
              "    </tr>\n",
              "    <tr>\n",
              "      <th>row_0</th>\n",
              "      <th></th>\n",
              "      <th></th>\n",
              "      <th></th>\n",
              "      <th></th>\n",
              "      <th></th>\n",
              "      <th></th>\n",
              "      <th></th>\n",
              "      <th></th>\n",
              "      <th></th>\n",
              "      <th></th>\n",
              "    </tr>\n",
              "  </thead>\n",
              "  <tbody>\n",
              "    <tr>\n",
              "      <th>0</th>\n",
              "      <td>94</td>\n",
              "      <td>0</td>\n",
              "      <td>3</td>\n",
              "      <td>2</td>\n",
              "      <td>2</td>\n",
              "      <td>5</td>\n",
              "      <td>3</td>\n",
              "      <td>1</td>\n",
              "      <td>0</td>\n",
              "      <td>2</td>\n",
              "    </tr>\n",
              "    <tr>\n",
              "      <th>1</th>\n",
              "      <td>0</td>\n",
              "      <td>108</td>\n",
              "      <td>11</td>\n",
              "      <td>1</td>\n",
              "      <td>1</td>\n",
              "      <td>3</td>\n",
              "      <td>3</td>\n",
              "      <td>4</td>\n",
              "      <td>8</td>\n",
              "      <td>1</td>\n",
              "    </tr>\n",
              "    <tr>\n",
              "      <th>2</th>\n",
              "      <td>1</td>\n",
              "      <td>0</td>\n",
              "      <td>71</td>\n",
              "      <td>0</td>\n",
              "      <td>0</td>\n",
              "      <td>1</td>\n",
              "      <td>0</td>\n",
              "      <td>1</td>\n",
              "      <td>2</td>\n",
              "      <td>0</td>\n",
              "    </tr>\n",
              "    <tr>\n",
              "      <th>3</th>\n",
              "      <td>0</td>\n",
              "      <td>1</td>\n",
              "      <td>1</td>\n",
              "      <td>80</td>\n",
              "      <td>1</td>\n",
              "      <td>17</td>\n",
              "      <td>0</td>\n",
              "      <td>0</td>\n",
              "      <td>9</td>\n",
              "      <td>2</td>\n",
              "    </tr>\n",
              "    <tr>\n",
              "      <th>4</th>\n",
              "      <td>0</td>\n",
              "      <td>0</td>\n",
              "      <td>2</td>\n",
              "      <td>0</td>\n",
              "      <td>90</td>\n",
              "      <td>5</td>\n",
              "      <td>0</td>\n",
              "      <td>2</td>\n",
              "      <td>0</td>\n",
              "      <td>6</td>\n",
              "    </tr>\n",
              "    <tr>\n",
              "      <th>5</th>\n",
              "      <td>0</td>\n",
              "      <td>1</td>\n",
              "      <td>0</td>\n",
              "      <td>2</td>\n",
              "      <td>0</td>\n",
              "      <td>47</td>\n",
              "      <td>1</td>\n",
              "      <td>0</td>\n",
              "      <td>0</td>\n",
              "      <td>1</td>\n",
              "    </tr>\n",
              "    <tr>\n",
              "      <th>6</th>\n",
              "      <td>2</td>\n",
              "      <td>1</td>\n",
              "      <td>2</td>\n",
              "      <td>2</td>\n",
              "      <td>4</td>\n",
              "      <td>4</td>\n",
              "      <td>86</td>\n",
              "      <td>0</td>\n",
              "      <td>3</td>\n",
              "      <td>1</td>\n",
              "    </tr>\n",
              "    <tr>\n",
              "      <th>7</th>\n",
              "      <td>0</td>\n",
              "      <td>1</td>\n",
              "      <td>6</td>\n",
              "      <td>3</td>\n",
              "      <td>1</td>\n",
              "      <td>1</td>\n",
              "      <td>1</td>\n",
              "      <td>105</td>\n",
              "      <td>0</td>\n",
              "      <td>15</td>\n",
              "    </tr>\n",
              "    <tr>\n",
              "      <th>8</th>\n",
              "      <td>0</td>\n",
              "      <td>4</td>\n",
              "      <td>3</td>\n",
              "      <td>2</td>\n",
              "      <td>0</td>\n",
              "      <td>6</td>\n",
              "      <td>0</td>\n",
              "      <td>0</td>\n",
              "      <td>63</td>\n",
              "      <td>3</td>\n",
              "    </tr>\n",
              "    <tr>\n",
              "      <th>9</th>\n",
              "      <td>0</td>\n",
              "      <td>0</td>\n",
              "      <td>0</td>\n",
              "      <td>1</td>\n",
              "      <td>6</td>\n",
              "      <td>3</td>\n",
              "      <td>0</td>\n",
              "      <td>4</td>\n",
              "      <td>2</td>\n",
              "      <td>69</td>\n",
              "    </tr>\n",
              "  </tbody>\n",
              "</table>\n",
              "</div>\n",
              "    <div class=\"colab-df-buttons\">\n",
              "\n",
              "  <div class=\"colab-df-container\">\n",
              "    <button class=\"colab-df-convert\" onclick=\"convertToInteractive('df-a2ceb0d4-cc5e-4871-9678-5035eb3e2f3b')\"\n",
              "            title=\"Convert this dataframe to an interactive table.\"\n",
              "            style=\"display:none;\">\n",
              "\n",
              "  <svg xmlns=\"http://www.w3.org/2000/svg\" height=\"24px\" viewBox=\"0 -960 960 960\">\n",
              "    <path d=\"M120-120v-720h720v720H120Zm60-500h600v-160H180v160Zm220 220h160v-160H400v160Zm0 220h160v-160H400v160ZM180-400h160v-160H180v160Zm440 0h160v-160H620v160ZM180-180h160v-160H180v160Zm440 0h160v-160H620v160Z\"/>\n",
              "  </svg>\n",
              "    </button>\n",
              "\n",
              "  <style>\n",
              "    .colab-df-container {\n",
              "      display:flex;\n",
              "      gap: 12px;\n",
              "    }\n",
              "\n",
              "    .colab-df-convert {\n",
              "      background-color: #E8F0FE;\n",
              "      border: none;\n",
              "      border-radius: 50%;\n",
              "      cursor: pointer;\n",
              "      display: none;\n",
              "      fill: #1967D2;\n",
              "      height: 32px;\n",
              "      padding: 0 0 0 0;\n",
              "      width: 32px;\n",
              "    }\n",
              "\n",
              "    .colab-df-convert:hover {\n",
              "      background-color: #E2EBFA;\n",
              "      box-shadow: 0px 1px 2px rgba(60, 64, 67, 0.3), 0px 1px 3px 1px rgba(60, 64, 67, 0.15);\n",
              "      fill: #174EA6;\n",
              "    }\n",
              "\n",
              "    .colab-df-buttons div {\n",
              "      margin-bottom: 4px;\n",
              "    }\n",
              "\n",
              "    [theme=dark] .colab-df-convert {\n",
              "      background-color: #3B4455;\n",
              "      fill: #D2E3FC;\n",
              "    }\n",
              "\n",
              "    [theme=dark] .colab-df-convert:hover {\n",
              "      background-color: #434B5C;\n",
              "      box-shadow: 0px 1px 3px 1px rgba(0, 0, 0, 0.15);\n",
              "      filter: drop-shadow(0px 1px 2px rgba(0, 0, 0, 0.3));\n",
              "      fill: #FFFFFF;\n",
              "    }\n",
              "  </style>\n",
              "\n",
              "    <script>\n",
              "      const buttonEl =\n",
              "        document.querySelector('#df-a2ceb0d4-cc5e-4871-9678-5035eb3e2f3b button.colab-df-convert');\n",
              "      buttonEl.style.display =\n",
              "        google.colab.kernel.accessAllowed ? 'block' : 'none';\n",
              "\n",
              "      async function convertToInteractive(key) {\n",
              "        const element = document.querySelector('#df-a2ceb0d4-cc5e-4871-9678-5035eb3e2f3b');\n",
              "        const dataTable =\n",
              "          await google.colab.kernel.invokeFunction('convertToInteractive',\n",
              "                                                    [key], {});\n",
              "        if (!dataTable) return;\n",
              "\n",
              "        const docLinkHtml = 'Like what you see? Visit the ' +\n",
              "          '<a target=\"_blank\" href=https://colab.research.google.com/notebooks/data_table.ipynb>data table notebook</a>'\n",
              "          + ' to learn more about interactive tables.';\n",
              "        element.innerHTML = '';\n",
              "        dataTable['output_type'] = 'display_data';\n",
              "        await google.colab.output.renderOutput(dataTable, element);\n",
              "        const docLink = document.createElement('div');\n",
              "        docLink.innerHTML = docLinkHtml;\n",
              "        element.appendChild(docLink);\n",
              "      }\n",
              "    </script>\n",
              "  </div>\n",
              "\n",
              "\n",
              "<div id=\"df-6b170376-ef32-4638-8f5e-0b9abf896b8c\">\n",
              "  <button class=\"colab-df-quickchart\" onclick=\"quickchart('df-6b170376-ef32-4638-8f5e-0b9abf896b8c')\"\n",
              "            title=\"Suggest charts\"\n",
              "            style=\"display:none;\">\n",
              "\n",
              "<svg xmlns=\"http://www.w3.org/2000/svg\" height=\"24px\"viewBox=\"0 0 24 24\"\n",
              "     width=\"24px\">\n",
              "    <g>\n",
              "        <path d=\"M19 3H5c-1.1 0-2 .9-2 2v14c0 1.1.9 2 2 2h14c1.1 0 2-.9 2-2V5c0-1.1-.9-2-2-2zM9 17H7v-7h2v7zm4 0h-2V7h2v10zm4 0h-2v-4h2v4z\"/>\n",
              "    </g>\n",
              "</svg>\n",
              "  </button>\n",
              "\n",
              "<style>\n",
              "  .colab-df-quickchart {\n",
              "      --bg-color: #E8F0FE;\n",
              "      --fill-color: #1967D2;\n",
              "      --hover-bg-color: #E2EBFA;\n",
              "      --hover-fill-color: #174EA6;\n",
              "      --disabled-fill-color: #AAA;\n",
              "      --disabled-bg-color: #DDD;\n",
              "  }\n",
              "\n",
              "  [theme=dark] .colab-df-quickchart {\n",
              "      --bg-color: #3B4455;\n",
              "      --fill-color: #D2E3FC;\n",
              "      --hover-bg-color: #434B5C;\n",
              "      --hover-fill-color: #FFFFFF;\n",
              "      --disabled-bg-color: #3B4455;\n",
              "      --disabled-fill-color: #666;\n",
              "  }\n",
              "\n",
              "  .colab-df-quickchart {\n",
              "    background-color: var(--bg-color);\n",
              "    border: none;\n",
              "    border-radius: 50%;\n",
              "    cursor: pointer;\n",
              "    display: none;\n",
              "    fill: var(--fill-color);\n",
              "    height: 32px;\n",
              "    padding: 0;\n",
              "    width: 32px;\n",
              "  }\n",
              "\n",
              "  .colab-df-quickchart:hover {\n",
              "    background-color: var(--hover-bg-color);\n",
              "    box-shadow: 0 1px 2px rgba(60, 64, 67, 0.3), 0 1px 3px 1px rgba(60, 64, 67, 0.15);\n",
              "    fill: var(--button-hover-fill-color);\n",
              "  }\n",
              "\n",
              "  .colab-df-quickchart-complete:disabled,\n",
              "  .colab-df-quickchart-complete:disabled:hover {\n",
              "    background-color: var(--disabled-bg-color);\n",
              "    fill: var(--disabled-fill-color);\n",
              "    box-shadow: none;\n",
              "  }\n",
              "\n",
              "  .colab-df-spinner {\n",
              "    border: 2px solid var(--fill-color);\n",
              "    border-color: transparent;\n",
              "    border-bottom-color: var(--fill-color);\n",
              "    animation:\n",
              "      spin 1s steps(1) infinite;\n",
              "  }\n",
              "\n",
              "  @keyframes spin {\n",
              "    0% {\n",
              "      border-color: transparent;\n",
              "      border-bottom-color: var(--fill-color);\n",
              "      border-left-color: var(--fill-color);\n",
              "    }\n",
              "    20% {\n",
              "      border-color: transparent;\n",
              "      border-left-color: var(--fill-color);\n",
              "      border-top-color: var(--fill-color);\n",
              "    }\n",
              "    30% {\n",
              "      border-color: transparent;\n",
              "      border-left-color: var(--fill-color);\n",
              "      border-top-color: var(--fill-color);\n",
              "      border-right-color: var(--fill-color);\n",
              "    }\n",
              "    40% {\n",
              "      border-color: transparent;\n",
              "      border-right-color: var(--fill-color);\n",
              "      border-top-color: var(--fill-color);\n",
              "    }\n",
              "    60% {\n",
              "      border-color: transparent;\n",
              "      border-right-color: var(--fill-color);\n",
              "    }\n",
              "    80% {\n",
              "      border-color: transparent;\n",
              "      border-right-color: var(--fill-color);\n",
              "      border-bottom-color: var(--fill-color);\n",
              "    }\n",
              "    90% {\n",
              "      border-color: transparent;\n",
              "      border-bottom-color: var(--fill-color);\n",
              "    }\n",
              "  }\n",
              "</style>\n",
              "\n",
              "  <script>\n",
              "    async function quickchart(key) {\n",
              "      const quickchartButtonEl =\n",
              "        document.querySelector('#' + key + ' button');\n",
              "      quickchartButtonEl.disabled = true;  // To prevent multiple clicks.\n",
              "      quickchartButtonEl.classList.add('colab-df-spinner');\n",
              "      try {\n",
              "        const charts = await google.colab.kernel.invokeFunction(\n",
              "            'suggestCharts', [key], {});\n",
              "      } catch (error) {\n",
              "        console.error('Error during call to suggestCharts:', error);\n",
              "      }\n",
              "      quickchartButtonEl.classList.remove('colab-df-spinner');\n",
              "      quickchartButtonEl.classList.add('colab-df-quickchart-complete');\n",
              "    }\n",
              "    (() => {\n",
              "      let quickchartButtonEl =\n",
              "        document.querySelector('#df-6b170376-ef32-4638-8f5e-0b9abf896b8c button');\n",
              "      quickchartButtonEl.style.display =\n",
              "        google.colab.kernel.accessAllowed ? 'block' : 'none';\n",
              "    })();\n",
              "  </script>\n",
              "</div>\n",
              "\n",
              "    </div>\n",
              "  </div>\n"
            ],
            "application/vnd.google.colaboratory.intrinsic+json": {
              "type": "dataframe",
              "summary": "{\n  \"name\": \"pd\",\n  \"rows\": 10,\n  \"fields\": [\n    {\n      \"column\": \"row_0\",\n      \"properties\": {\n        \"dtype\": \"number\",\n        \"std\": 3,\n        \"min\": 0,\n        \"max\": 9,\n        \"num_unique_values\": 10,\n        \"samples\": [\n          8,\n          1,\n          5\n        ],\n        \"semantic_type\": \"\",\n        \"description\": \"\"\n      }\n    },\n    {\n      \"column\": 0,\n      \"properties\": {\n        \"dtype\": \"number\",\n        \"std\": 29,\n        \"min\": 0,\n        \"max\": 94,\n        \"num_unique_values\": 4,\n        \"samples\": [\n          0,\n          2,\n          94\n        ],\n        \"semantic_type\": \"\",\n        \"description\": \"\"\n      }\n    },\n    {\n      \"column\": 1,\n      \"properties\": {\n        \"dtype\": \"number\",\n        \"std\": 33,\n        \"min\": 0,\n        \"max\": 108,\n        \"num_unique_values\": 4,\n        \"samples\": [\n          108,\n          4,\n          0\n        ],\n        \"semantic_type\": \"\",\n        \"description\": \"\"\n      }\n    },\n    {\n      \"column\": 2,\n      \"properties\": {\n        \"dtype\": \"number\",\n        \"std\": 21,\n        \"min\": 0,\n        \"max\": 71,\n        \"num_unique_values\": 7,\n        \"samples\": [\n          3,\n          11,\n          0\n        ],\n        \"semantic_type\": \"\",\n        \"description\": \"\"\n      }\n    },\n    {\n      \"column\": 3,\n      \"properties\": {\n        \"dtype\": \"number\",\n        \"std\": 24,\n        \"min\": 0,\n        \"max\": 80,\n        \"num_unique_values\": 5,\n        \"samples\": [\n          1,\n          3,\n          0\n        ],\n        \"semantic_type\": \"\",\n        \"description\": \"\"\n      }\n    },\n    {\n      \"column\": 4,\n      \"properties\": {\n        \"dtype\": \"number\",\n        \"std\": 28,\n        \"min\": 0,\n        \"max\": 90,\n        \"num_unique_values\": 6,\n        \"samples\": [\n          2,\n          1,\n          6\n        ],\n        \"semantic_type\": \"\",\n        \"description\": \"\"\n      }\n    },\n    {\n      \"column\": 5,\n      \"properties\": {\n        \"dtype\": \"number\",\n        \"std\": 14,\n        \"min\": 1,\n        \"max\": 47,\n        \"num_unique_values\": 7,\n        \"samples\": [\n          5,\n          3,\n          4\n        ],\n        \"semantic_type\": \"\",\n        \"description\": \"\"\n      }\n    },\n    {\n      \"column\": 6,\n      \"properties\": {\n        \"dtype\": \"number\",\n        \"std\": 26,\n        \"min\": 0,\n        \"max\": 86,\n        \"num_unique_values\": 4,\n        \"samples\": [\n          0,\n          86,\n          3\n        ],\n        \"semantic_type\": \"\",\n        \"description\": \"\"\n      }\n    },\n    {\n      \"column\": 7,\n      \"properties\": {\n        \"dtype\": \"number\",\n        \"std\": 32,\n        \"min\": 0,\n        \"max\": 105,\n        \"num_unique_values\": 5,\n        \"samples\": [\n          4,\n          105,\n          0\n        ],\n        \"semantic_type\": \"\",\n        \"description\": \"\"\n      }\n    },\n    {\n      \"column\": 8,\n      \"properties\": {\n        \"dtype\": \"number\",\n        \"std\": 19,\n        \"min\": 0,\n        \"max\": 63,\n        \"num_unique_values\": 6,\n        \"samples\": [\n          0,\n          8,\n          63\n        ],\n        \"semantic_type\": \"\",\n        \"description\": \"\"\n      }\n    },\n    {\n      \"column\": 9,\n      \"properties\": {\n        \"dtype\": \"number\",\n        \"std\": 21,\n        \"min\": 0,\n        \"max\": 69,\n        \"num_unique_values\": 7,\n        \"samples\": [\n          2,\n          1,\n          3\n        ],\n        \"semantic_type\": \"\",\n        \"description\": \"\"\n      }\n    }\n  ]\n}"
            }
          },
          "metadata": {},
          "execution_count": 67
        }
      ],
      "source": [
        "print('Matriz de confusão:')\n",
        "pd.crosstab(y_pred.numpy(), y_train.numpy())"
      ]
    },
    {
      "cell_type": "markdown",
      "metadata": {
        "id": "RLjDGqb7mvRi"
      },
      "source": [
        "## Visualizando a matriz de pesos treinados"
      ]
    },
    {
      "cell_type": "markdown",
      "metadata": {
        "id": "AYuIu31KmvRj"
      },
      "source": [
        "Observe que a matriz de peso treinado para cada classe mostra a importância dos pesos associados aos caracteres de cada classe."
      ]
    },
    {
      "cell_type": "code",
      "execution_count": 68,
      "metadata": {
        "ExecuteTime": {
          "end_time": "2017-11-24T16:34:49.367135",
          "start_time": "2017-11-24T16:34:49.204452"
        },
        "id": "_QESuAB8mvRk",
        "outputId": "bbdcfcb2-6de6-431f-efe5-339494423b1c",
        "colab": {
          "base_uri": "https://localhost:8080/",
          "height": 466
        }
      },
      "outputs": [
        {
          "output_type": "stream",
          "name": "stdout",
          "text": [
            "weights: torch.Size([10, 784])\n",
            "bias:    torch.Size([10])\n"
          ]
        },
        {
          "output_type": "display_data",
          "data": {
            "text/plain": [
              "<Figure size 640x480 with 1 Axes>"
            ],
            "image/png": "[encoded data removed]"
          },
          "metadata": {}
        }
      ],
      "source": [
        "weights = model.state_dict()['weight']\n",
        "print('weights:', weights.shape)\n",
        "\n",
        "bias = model.state_dict()['bias']\n",
        "print('bias:   ', bias.shape)\n",
        "\n",
        "# Visualizando pesos da classe 3\n",
        "plt.imshow(weights[3, :].numpy().reshape((28,28)),cmap = 'gray')\n",
        "plt.show()"
      ]
    },
    {
      "cell_type": "markdown",
      "metadata": {
        "id": "eE1B62KamvRp"
      },
      "source": [
        "### Visualizando os pesos de todas as classes"
      ]
    },
    {
      "cell_type": "code",
      "execution_count": 69,
      "metadata": {
        "ExecuteTime": {
          "end_time": "2017-11-24T16:34:50.240218",
          "start_time": "2017-11-24T16:34:50.025515"
        },
        "id": "EHm39Pe_mvRp",
        "outputId": "4933e090-4f8d-47ab-f893-741a03af4f13",
        "colab": {
          "base_uri": "https://localhost:8080/",
          "height": 149
        }
      },
      "outputs": [
        {
          "output_type": "display_data",
          "data": {
            "text/plain": [
              "<Figure size 1500x1000 with 1 Axes>"
            ],
            "image/png": "[encoded data removed]"
          },
          "metadata": {}
        }
      ],
      "source": [
        "# cria um grid com as imagens\n",
        "grid = torchvision.utils.make_grid(weights.view(-1, 1, 28, 28), normalize=True, pad_value=1.0, padding=1, nrow=10)\n",
        "\n",
        "plt.figure(figsize=(15, 10))\n",
        "plt.imshow(grid.numpy().transpose(1, 2, 0))\n",
        "plt.axis('off');"
      ]
    },
    {
      "cell_type": "markdown",
      "metadata": {
        "id": "odqHBFclmvRt"
      },
      "source": [
        "### Diagrama da regressão softmax com visualização dos pesos W"
      ]
    },
    {
      "cell_type": "markdown",
      "metadata": {
        "id": "UVKoDiM-mvRu"
      },
      "source": [
        "![alt text](https://raw.githubusercontent.com/vcasadei/images/master/RegressaoSoftmaxArgmaxNMIST.png)"
      ]
    },
    {
      "cell_type": "markdown",
      "metadata": {
        "id": "y0vTJyVbmvRv"
      },
      "source": [
        "# Atividades"
      ]
    },
    {
      "cell_type": "markdown",
      "metadata": {
        "id": "Rl-7WEDMmvRw"
      },
      "source": [
        "## Exercícios"
      ]
    },
    {
      "cell_type": "markdown",
      "metadata": {
        "id": "Vn4GzfSYmvR5"
      },
      "source": [
        "- 1) Insira código no laço do treinamento para que no final de cada época,\n",
        "     seja impresso: o número da época e a perda e a acurácia"
      ]
    },
    {
      "cell_type": "markdown",
      "metadata": {
        "id": "RtZPs6M6mvR6"
      },
      "source": [
        "- 2) Insira código no laço do treinamento para visualização dos valores dos gradientes referentes à classe do dígito 4, no final de cada época."
      ]
    },
    {
      "cell_type": "code",
      "source": [
        "#Primeira Questão\n",
        "\n",
        "# Inicializar a figura para plotagem\n",
        "fig = plt.figure(figsize=(18, 6))\n",
        "\n",
        "losses = []\n",
        "zs = []\n",
        "\n",
        "# Número de épocas\n",
        "epochs = 5\n",
        "\n",
        "try:\n",
        "    for epoch in range(epochs):\n",
        "        # Transformar a entrada para uma dimensão (flatten)\n",
        "        inputs = Variable(x_train.view(-1, 28 * 28))\n",
        "\n",
        "        # Passar os dados pela rede (forward pass)\n",
        "        outputs = model(inputs)\n",
        "\n",
        "        # Armazenar a saída de uma amostra\n",
        "        zs.append(outputs[1].detach().numpy())\n",
        "\n",
        "        # Calcular a perda (cross-entropy loss)\n",
        "        loss = criterion(outputs, Variable(y_train))\n",
        "\n",
        "        # Zero do gradiente, backpropagation e ajuste dos parâmetros\n",
        "        optimizer.zero_grad()\n",
        "        loss.backward()  # Cálculo do gradiente\n",
        "        optimizer.step()  # Atualiza os pesos com o gradiente descendente\n",
        "\n",
        "        losses.append(loss.data)\n",
        "\n",
        "        # Realizar a previsão (cálculo de classe predita)\n",
        "        _, predicts = torch.max(outputs, 1)\n",
        "        y_pred = predicts.data\n",
        "\n",
        "        # Calcular a acurácia da época\n",
        "        accuracy = (y_pred.numpy() == y_train.numpy()).mean()\n",
        "\n",
        "        # Exibir informações da época\n",
        "        print(f\"Época {epoch+1}/{epochs} - Perda: {loss.item():.4f} - Acurácia: {accuracy:.4f}\")\n",
        "\n",
        "except KeyboardInterrupt:\n",
        "    pass\n",
        "\n",
        "# Plotar a curva da perda ao longo das épocas\n",
        "plt.plot(losses, label=\"Loss\")\n",
        "plt.xlabel(\"Épocas\")\n",
        "plt.ylabel(\"Perda\")\n",
        "plt.title(\"Curva de Perda durante o Treinamento\")\n",
        "plt.legend()\n",
        "plt.show()\n",
        "\n",
        "# Se quiser ver a acurácia final em todas as amostras\n",
        "y_pred = predict(model, x_train.view(-1, 28 * 28))\n",
        "accuracy_final = (y_pred.numpy() == y_train.numpy()).mean()\n",
        "print(f\"Acurácia final: {accuracy_final:.4f}\")"
      ],
      "metadata": {
        "colab": {
          "base_uri": "https://localhost:8080/",
          "height": 545
        },
        "id": "RtaclwNnVmH9",
        "outputId": "1151f5e1-7f1e-4912-d73c-5dd0e00d500a"
      },
      "execution_count": 70,
      "outputs": [
        {
          "output_type": "stream",
          "name": "stdout",
          "text": [
            "Época 1/5 - Perda: 0.9923 - Acurácia: 0.8130\n",
            "Época 2/5 - Perda: 0.9111 - Acurácia: 0.8250\n",
            "Época 3/5 - Perda: 0.8482 - Acurácia: 0.8410\n",
            "Época 4/5 - Perda: 0.7977 - Acurácia: 0.8510\n",
            "Época 5/5 - Perda: 0.7562 - Acurácia: 0.8540\n"
          ]
        },
        {
          "output_type": "display_data",
          "data": {
            "text/plain": [
              "<Figure size 1800x600 with 1 Axes>"
            ],
            "image/png": "[encoded data removed]"
          },
          "metadata": {}
        },
        {
          "output_type": "stream",
          "name": "stdout",
          "text": [
            "Acurácia final: 0.8590\n"
          ]
        }
      ]
    },
    {
      "cell_type": "code",
      "source": [
        "# Segunda Questão\n",
        "# Inicializar a figura para plotagem\n",
        "fig = plt.figure(figsize=(18, 6))\n",
        "\n",
        "losses = []\n",
        "zs = []\n",
        "\n",
        "# Número de épocas\n",
        "epochs = 5\n",
        "\n",
        "try:\n",
        "    for epoch in range(epochs):\n",
        "        # Transformar a entrada para uma dimensão (flatten)\n",
        "        inputs = Variable(x_train.view(-1, 28 * 28))\n",
        "\n",
        "        # Passar os dados pela rede (forward pass)\n",
        "        outputs = model(inputs)\n",
        "\n",
        "        # Armazenar a saída de uma amostra (como exemplo)\n",
        "        zs.append(outputs[1].detach().numpy())\n",
        "\n",
        "        # Calcular a perda (cross-entropy loss)\n",
        "        loss = criterion(outputs, Variable(y_train))\n",
        "\n",
        "        # Zero do gradiente, backpropagation e ajuste dos parâmetros\n",
        "        optimizer.zero_grad()\n",
        "        loss.backward()\n",
        "        optimizer.step()\n",
        "\n",
        "        losses.append(loss.data)\n",
        "\n",
        "        # Realizar a previsão (cálculo de classe predita)\n",
        "        _, predicts = torch.max(outputs, 1)\n",
        "        y_pred = predicts.data\n",
        "\n",
        "        # Visualizar os gradientes para a classe 4\n",
        "        class_4_gradients = model.weight.grad[4].detach().numpy()  # Gradientes para a classe 4\n",
        "        print(f\"Gradientes da classe 4 na época {epoch+1}: {class_4_gradients[10:]}...\")\n",
        "\n",
        "except KeyboardInterrupt:\n",
        "    pass\n"
      ],
      "metadata": {
        "colab": {
          "base_uri": "https://localhost:8080/",
          "height": 1000
        },
        "id": "Yl9d7xCdfBSo",
        "outputId": "63f0f555-8281-4565-9486-b15980991b17"
      },
      "execution_count": 71,
      "outputs": [
        {
          "output_type": "stream",
          "name": "stdout",
          "text": [
            "Gradientes da classe 4 na época 1: [ 0.00000000e+00  0.00000000e+00  0.00000000e+00  0.00000000e+00\n",
            "  0.00000000e+00  0.00000000e+00  0.00000000e+00  0.00000000e+00\n",
            "  0.00000000e+00  0.00000000e+00  0.00000000e+00  0.00000000e+00\n",
            "  0.00000000e+00  0.00000000e+00  0.00000000e+00  0.00000000e+00\n",
            "  0.00000000e+00  0.00000000e+00  0.00000000e+00  0.00000000e+00\n",
            "  0.00000000e+00  0.00000000e+00  0.00000000e+00  0.00000000e+00\n",
            "  0.00000000e+00  0.00000000e+00  0.00000000e+00  0.00000000e+00\n",
            "  2.11256447e-05  1.30978995e-04  0.00000000e+00  4.27013802e-05\n",
            "  1.73486420e-04  2.21733761e-04  1.56317576e-04  2.05398188e-04\n",
            "  1.01001751e-04  0.00000000e+00  0.00000000e+00  0.00000000e+00\n",
            "  0.00000000e+00  0.00000000e+00  0.00000000e+00  0.00000000e+00\n",
            "  0.00000000e+00  0.00000000e+00  0.00000000e+00  0.00000000e+00\n",
            "  0.00000000e+00  0.00000000e+00  0.00000000e+00  0.00000000e+00\n",
            "  0.00000000e+00  0.00000000e+00  0.00000000e+00  0.00000000e+00\n",
            "  2.24182106e-04  5.95447142e-04  3.95274896e-04  3.39605234e-04\n",
            "  6.84917497e-04  3.96494928e-04  1.64974670e-04  6.70109410e-04\n",
            "  5.70790726e-04  3.84248240e-04  1.47099650e-04  1.54953421e-04\n",
            "  7.52189007e-05  4.12095187e-06  0.00000000e+00  0.00000000e+00\n",
            "  0.00000000e+00  0.00000000e+00  0.00000000e+00  0.00000000e+00\n",
            "  0.00000000e+00  0.00000000e+00  0.00000000e+00  0.00000000e+00\n",
            "  9.90282842e-06  6.64509498e-05  6.41021761e-05  9.99460535e-05\n",
            "  6.26456691e-04  9.10062168e-04  1.02266180e-03  1.42663880e-03\n",
            "  1.38778856e-03  1.10445684e-03  1.02746685e-03  1.65105262e-03\n",
            "  1.53599354e-03  1.32870674e-03  8.38085660e-04  3.13025375e-04\n",
            " -5.61490742e-05  3.31467868e-06  0.00000000e+00  0.00000000e+00\n",
            "  0.00000000e+00  0.00000000e+00  0.00000000e+00  0.00000000e+00\n",
            "  0.00000000e+00  0.00000000e+00 -5.62166533e-05 -5.97684702e-05\n",
            "  1.67804712e-04  3.10771924e-04  2.56557571e-04 -5.86060167e-04\n",
            " -2.43288421e-04  1.12038164e-03  2.18872819e-03  2.37695780e-03\n",
            "  2.22002668e-03  2.68673897e-03  3.17917881e-03  3.53204762e-03\n",
            "  2.74612801e-03  1.69410266e-03 -6.54268079e-05 -2.60777160e-04\n",
            " -4.86360659e-04 -2.75381579e-04  1.44674814e-05  0.00000000e+00\n",
            "  0.00000000e+00  0.00000000e+00  0.00000000e+00  0.00000000e+00\n",
            "  0.00000000e+00 -1.12002481e-05 -2.92545737e-04 -1.85120953e-04\n",
            "  2.67497147e-04  4.48336214e-04 -7.83634096e-05 -1.46652781e-03\n",
            " -1.44791300e-03 -2.49065575e-04  1.25655369e-03  2.02495977e-03\n",
            "  2.51040328e-03  4.18444397e-03  4.37009009e-03  3.76611017e-03\n",
            "  2.76532350e-03  1.30543648e-03 -4.42162564e-04 -2.30373302e-03\n",
            " -2.85403756e-03 -3.22416262e-03 -2.15104572e-03 -7.84802833e-04\n",
            "  2.35817643e-05  0.00000000e+00  0.00000000e+00  0.00000000e+00\n",
            "  0.00000000e+00 -2.26319986e-04 -5.46523661e-04 -5.88105759e-04\n",
            "  3.91930225e-04  6.82635349e-04 -5.04298834e-04 -1.65412307e-03\n",
            " -1.47198478e-03 -7.30269589e-04  2.13223579e-03  3.58464965e-03\n",
            "  7.32187694e-03  9.95994080e-03  1.00051314e-02  6.63226517e-03\n",
            "  4.02564881e-03  1.07146101e-03 -1.40515424e-03 -4.41005873e-03\n",
            " -5.31960558e-03 -4.50708717e-03 -2.32752669e-03 -7.54598703e-04\n",
            " -1.38224495e-04  7.80570772e-05  0.00000000e+00  0.00000000e+00\n",
            "  1.56301976e-05 -6.16496909e-05 -5.48792363e-04 -9.22463776e-04\n",
            "  3.96039337e-04  6.30970986e-04 -4.39642987e-04 -4.94346838e-04\n",
            "  3.98926204e-04  1.38436514e-03  4.57630772e-03  8.56281258e-03\n",
            "  1.24225589e-02  1.54547067e-02  1.32652791e-02  8.46076384e-03\n",
            "  3.61889508e-03  9.29492991e-04 -1.85629411e-03 -3.06313834e-03\n",
            " -4.73312940e-03 -4.02598316e-03 -1.77502329e-03 -4.70056402e-04\n",
            " -3.58633661e-05  4.63767028e-05  0.00000000e+00  0.00000000e+00\n",
            "  1.34919419e-05 -6.55453769e-05 -7.18306168e-04 -5.61462948e-04\n",
            " -2.17049674e-04  1.74519926e-04  8.62168614e-04  7.68818310e-04\n",
            "  1.48296449e-03  3.15476628e-03  5.85506437e-03  8.91161896e-03\n",
            "  1.18410951e-02  1.39306020e-02  1.00680236e-02  6.06971839e-03\n",
            "  4.63537220e-03  4.10802662e-04 -7.69121514e-04 -1.87541929e-03\n",
            " -3.83717706e-03 -2.99731479e-03  8.22221918e-04  4.41880897e-04\n",
            "  1.63017132e-04  0.00000000e+00  0.00000000e+00  3.94575400e-05\n",
            "  6.96689240e-05 -3.05812719e-05 -3.51525319e-04 -4.26611397e-04\n",
            " -6.82275859e-05  8.71065306e-04  2.06673332e-03  1.85966562e-03\n",
            "  2.88519310e-03  2.49575824e-03  2.78656697e-03  4.64364979e-03\n",
            "  9.39457677e-03  1.03259450e-02  4.20910120e-03  2.97921337e-03\n",
            "  2.41160369e-03  3.50643648e-04 -1.25342212e-03 -2.20362446e-03\n",
            " -3.37948324e-03 -7.19603267e-04  8.96932906e-04  2.17873167e-04\n",
            "  8.38768465e-05  0.00000000e+00  0.00000000e+00  4.55279314e-06\n",
            "  3.58713965e-04  4.31696797e-04  3.40376631e-04 -3.66922060e-04\n",
            " -7.56791997e-05  6.54377975e-04  6.92732807e-04  3.44422064e-04\n",
            " -6.57325785e-04 -1.97384274e-03 -1.65452203e-03  2.23028357e-03\n",
            "  5.98143367e-03  6.56021945e-03  1.15644839e-03 -3.46069573e-04\n",
            "  2.20269663e-04 -1.37044373e-03 -1.93345780e-03 -1.76200550e-03\n",
            " -2.38318625e-03  1.94045453e-04  1.76153422e-04  3.57609388e-05\n",
            "  3.70810358e-06  0.00000000e+00  0.00000000e+00  0.00000000e+00\n",
            "  2.78220949e-04  4.20213444e-04 -2.66652205e-06 -1.03147724e-03\n",
            " -2.91505130e-05 -4.80544462e-04 -4.20710596e-04 -2.97624385e-03\n",
            " -6.12499472e-03 -6.49535470e-03 -1.98061205e-03  2.80027883e-03\n",
            "  5.55467606e-03  3.89112788e-03 -2.29602866e-03 -3.73914186e-03\n",
            " -1.33943534e-03 -2.45380122e-03 -1.12785411e-03 -1.18947786e-03\n",
            " -1.45215984e-03  2.95841368e-04  2.11971113e-04  1.25908446e-05\n",
            "  2.17544002e-05  0.00000000e+00  0.00000000e+00  0.00000000e+00\n",
            "  6.94699411e-05  8.37795378e-05 -9.71505826e-04 -1.65971357e-03\n",
            " -9.08026821e-04 -2.26398045e-03 -2.86340085e-03 -7.48509634e-03\n",
            " -1.18061379e-02 -8.94447416e-03 -2.49211164e-03  2.12262641e-03\n",
            "  4.35820501e-03  1.61170913e-03 -4.69012512e-03 -4.47415793e-03\n",
            " -2.28563976e-03 -1.59071898e-03  8.24568502e-04 -5.62167377e-04\n",
            " -1.81906216e-05  1.09531684e-03  5.54527680e-04  1.34117436e-04\n",
            "  1.73433691e-05  0.00000000e+00  0.00000000e+00  0.00000000e+00\n",
            "  2.33878691e-05 -2.10535669e-04 -1.50141038e-03 -1.96222728e-03\n",
            " -3.09519423e-03 -5.17689623e-03 -6.73543243e-03 -1.02971373e-02\n",
            " -1.20872436e-02 -7.18397647e-03 -1.10307604e-03  3.50603880e-03\n",
            "  4.56387410e-03  1.76714780e-03 -4.46114829e-03 -7.13395001e-03\n",
            " -3.64778191e-03 -9.02000349e-04 -1.36016135e-03 -1.71219034e-03\n",
            " -8.96690646e-04  8.11053265e-04  5.57533232e-04  2.78994325e-04\n",
            "  2.00501381e-06  0.00000000e+00  0.00000000e+00  0.00000000e+00\n",
            "  0.00000000e+00 -1.73839217e-04 -1.89189776e-03 -3.07868980e-03\n",
            " -6.25256449e-03 -9.46586672e-03 -9.56138037e-03 -8.09486769e-03\n",
            " -6.97537884e-03 -4.98159323e-03 -1.43465004e-03  1.81798218e-03\n",
            "  1.61457667e-03 -1.07865047e-03 -6.80371793e-03 -1.05693499e-02\n",
            " -4.48803557e-03 -3.57888220e-03 -3.13230278e-03 -2.30598799e-03\n",
            " -1.04195217e-03  3.42098239e-04  6.00278028e-04  2.43074464e-04\n",
            "  8.87257102e-06  0.00000000e+00  0.00000000e+00  0.00000000e+00\n",
            "  0.00000000e+00 -2.48429191e-04 -1.68572448e-03 -3.01473401e-03\n",
            " -6.44166814e-03 -1.12415319e-02 -1.27133718e-02 -9.62219015e-03\n",
            " -7.88953155e-03 -6.54742541e-03 -5.51103521e-03 -4.95750271e-03\n",
            " -3.97433620e-03 -6.38755411e-03 -9.64237750e-03 -7.71862874e-03\n",
            " -5.79242501e-03 -5.54282963e-03 -2.57897098e-03 -1.09720905e-03\n",
            " -8.92058539e-04  2.21449809e-04  6.69176516e-04  4.43553028e-04\n",
            "  1.70529136e-04  0.00000000e+00  0.00000000e+00  0.00000000e+00\n",
            "  1.57797112e-05  5.28194760e-05 -9.09440278e-04 -2.59956066e-03\n",
            " -4.67816368e-03 -1.04123298e-02 -1.13062887e-02 -9.01998114e-03\n",
            " -7.25083472e-03 -5.50900167e-03 -4.63726372e-03 -4.50070482e-03\n",
            " -5.55987004e-03 -8.16686545e-03 -8.94498266e-03 -6.17506588e-03\n",
            " -6.56026741e-03 -2.94673676e-03  1.55807036e-04  6.31957431e-04\n",
            " -1.05157658e-03 -1.88349033e-04  5.44535287e-04  2.27267767e-04\n",
            "  7.57581074e-05  0.00000000e+00  0.00000000e+00  0.00000000e+00\n",
            "  2.21573755e-05  1.83588811e-04  3.87658074e-04 -2.93466757e-04\n",
            " -2.04511406e-03 -5.27512236e-03 -5.01264865e-03 -2.89638247e-03\n",
            " -9.76148352e-04 -9.98182571e-04 -3.86435469e-03 -5.37254009e-03\n",
            " -6.72748219e-03 -8.48439429e-03 -7.11694686e-03 -3.12711578e-03\n",
            " -1.91775290e-03  1.09980558e-03  1.78846356e-03  1.58214837e-03\n",
            "  8.10215657e-04  2.46648473e-04  4.56158305e-04  1.39791344e-04\n",
            "  0.00000000e+00  0.00000000e+00  0.00000000e+00  0.00000000e+00\n",
            "  1.37218769e-04  3.08275077e-04  1.17745809e-03  2.33993540e-03\n",
            "  2.50216108e-03  1.60114316e-03 -1.68463856e-04  5.59059728e-04\n",
            "  2.62472872e-03  1.94825791e-03  1.99793954e-04 -2.43580970e-03\n",
            " -4.34313761e-03 -4.78371000e-03 -1.69706694e-03  9.63941333e-04\n",
            "  2.36289622e-03  2.71943631e-03  1.95783190e-03  1.10432960e-03\n",
            "  1.02817302e-03  7.86376419e-04  4.61044372e-04  6.45003747e-05\n",
            "  0.00000000e+00  0.00000000e+00  0.00000000e+00  0.00000000e+00\n",
            "  1.76569010e-04  3.88001674e-04  1.43694005e-03  3.03624501e-03\n",
            "  4.65471298e-03  5.29527664e-03  5.91978570e-03  6.19909074e-03\n",
            "  5.83037687e-03  5.45890443e-03  3.42266262e-03  1.62433775e-03\n",
            " -1.16398861e-03 -1.83776719e-03  1.96634501e-05  2.23838445e-03\n",
            "  2.01678649e-03  3.26112262e-03  1.70251227e-03  9.82170342e-04\n",
            "  8.66365561e-04  4.47444501e-04  8.94993063e-05  3.61713319e-06\n",
            "  0.00000000e+00  0.00000000e+00  0.00000000e+00  0.00000000e+00\n",
            "  7.80187474e-05  3.99500801e-04  1.43009005e-03  2.72609573e-03\n",
            "  4.40002512e-03  5.70288068e-03  6.76199188e-03  7.50089716e-03\n",
            "  8.76043271e-03  7.45134475e-03  6.49441266e-03  3.67797748e-03\n",
            " -7.08933163e-04  4.88525839e-04  2.14774930e-03  2.49857432e-03\n",
            "  1.82197802e-03  2.50824401e-03  1.23947207e-03 -6.66086635e-07\n",
            "  3.68004577e-04  3.97118507e-04  1.44721227e-04  1.54312220e-05\n",
            "  1.44361002e-05  0.00000000e+00  0.00000000e+00  0.00000000e+00\n",
            "  5.95191777e-05  2.61343695e-04  1.21563778e-03  2.34782277e-03\n",
            "  3.52325197e-03  5.21853054e-03  5.94274001e-03  6.99228421e-03\n",
            "  6.58333069e-03  5.09024179e-03  4.81841667e-03  1.68251141e-03\n",
            " -1.83367170e-03  6.67411601e-04  2.33760546e-03  2.03761505e-03\n",
            "  4.45484184e-05  1.38039340e-03  6.40617858e-04 -5.47738979e-04\n",
            "  3.82976403e-04  2.55479739e-04  5.26449803e-05  1.30826429e-05\n",
            "  2.73700516e-05  0.00000000e+00  0.00000000e+00  0.00000000e+00\n",
            "  2.32528669e-06  9.49452588e-05  5.52963116e-04  1.43610407e-03\n",
            "  2.53774785e-03  3.06593371e-03  3.91916698e-03  5.16524073e-03\n",
            "  3.40605574e-03  2.52485415e-03  2.78409384e-03 -1.08613563e-03\n",
            " -2.21843668e-03 -3.90190893e-04  1.35785644e-03  8.70665244e-04\n",
            " -8.95875040e-04  1.16844109e-04 -3.01715918e-04 -5.43346105e-04\n",
            "  5.74648584e-05  1.94813008e-04  3.84631276e-05  6.21554273e-06\n",
            "  1.42355984e-05  0.00000000e+00  0.00000000e+00  0.00000000e+00\n",
            "  2.24077823e-07  9.23030602e-05  4.20481199e-04  8.69077048e-04\n",
            "  1.29073684e-03  1.64842512e-03  2.85485759e-03  2.02428200e-03\n",
            "  1.23102008e-03  1.41902978e-03  8.24385672e-04 -2.11932021e-03\n",
            " -2.34158384e-03 -7.25705759e-04  1.61858951e-03 -3.30883136e-04\n",
            " -1.02459313e-03 -1.43440336e-03 -1.24005985e-03 -8.60238360e-05\n",
            "  6.81372185e-05  1.13124457e-04  8.86413618e-05  0.00000000e+00\n",
            "  0.00000000e+00  0.00000000e+00  0.00000000e+00  0.00000000e+00\n",
            "  0.00000000e+00  1.12874644e-04  3.85444262e-04  6.70861744e-04\n",
            "  2.63139547e-04  1.21513102e-03  2.38179695e-03  3.64965119e-04\n",
            "  1.70833874e-03  1.51062955e-03  1.97383459e-03 -3.18293140e-04\n",
            "  3.77974095e-04  3.70783452e-03  1.92177307e-03 -9.62395279e-05\n",
            " -8.67967261e-04 -5.59640292e-04  1.46854363e-04  2.73743761e-04\n",
            "  6.65687840e-05  1.04713981e-04  8.66700939e-05  0.00000000e+00\n",
            "  0.00000000e+00  0.00000000e+00  0.00000000e+00  0.00000000e+00\n",
            "  0.00000000e+00  6.72888245e-06  1.45981932e-04  4.19251330e-04\n",
            "  8.32621241e-04  1.39522820e-03  1.27862045e-03  5.31657890e-04\n",
            "  3.24688503e-03  3.74302524e-03  3.39377974e-03  2.60644592e-03\n",
            "  2.38332315e-03  3.18886829e-03  3.21137393e-03  1.95578579e-03\n",
            "  1.54932088e-03  6.42438652e-04  4.40934848e-04  1.28113330e-04\n",
            "  1.43164274e-04  1.80811752e-04  3.95992683e-05  0.00000000e+00\n",
            "  0.00000000e+00  0.00000000e+00  0.00000000e+00  0.00000000e+00\n",
            "  0.00000000e+00  8.78137689e-06  9.40371901e-05  1.77805414e-04\n",
            "  3.91348818e-04  4.43249621e-04 -7.50163454e-05  4.12013236e-04\n",
            "  9.13777330e-04  6.48803893e-04  7.51158455e-04  7.09449931e-04\n",
            "  1.25038729e-03  1.33109721e-03  1.35257700e-03  1.22764171e-03\n",
            "  8.23905400e-04  5.61588560e-04  1.16225805e-04  3.04989699e-05\n",
            "  0.00000000e+00  0.00000000e+00  0.00000000e+00  0.00000000e+00\n",
            "  0.00000000e+00  0.00000000e+00  0.00000000e+00  0.00000000e+00\n",
            "  0.00000000e+00  0.00000000e+00  0.00000000e+00  3.53714750e-05\n",
            "  8.10243946e-05  7.75024164e-05  3.63968866e-05  1.31960023e-05\n",
            "  1.49717362e-05  1.05038511e-04  1.73442779e-04  1.78357979e-04\n",
            "  1.25975756e-04  1.42418459e-04  1.69797058e-04  1.15285162e-04\n",
            "  1.82688163e-04  7.54037683e-05  0.00000000e+00  0.00000000e+00\n",
            "  0.00000000e+00  0.00000000e+00  0.00000000e+00  0.00000000e+00\n",
            "  0.00000000e+00  0.00000000e+00]...\n",
            "Gradientes da classe 4 na época 2: [ 0.00000000e+00  0.00000000e+00  0.00000000e+00  0.00000000e+00\n",
            "  0.00000000e+00  0.00000000e+00  0.00000000e+00  0.00000000e+00\n",
            "  0.00000000e+00  0.00000000e+00  0.00000000e+00  0.00000000e+00\n",
            "  0.00000000e+00  0.00000000e+00  0.00000000e+00  0.00000000e+00\n",
            "  0.00000000e+00  0.00000000e+00  0.00000000e+00  0.00000000e+00\n",
            "  0.00000000e+00  0.00000000e+00  0.00000000e+00  0.00000000e+00\n",
            "  0.00000000e+00  0.00000000e+00  0.00000000e+00  0.00000000e+00\n",
            "  2.14256906e-05  1.32839283e-04  0.00000000e+00  4.12467816e-05\n",
            "  1.69731386e-04  2.16708679e-04  1.48644351e-04  1.98092515e-04\n",
            "  9.75543226e-05  0.00000000e+00  0.00000000e+00  0.00000000e+00\n",
            "  0.00000000e+00  0.00000000e+00  0.00000000e+00  0.00000000e+00\n",
            "  0.00000000e+00  0.00000000e+00  0.00000000e+00  0.00000000e+00\n",
            "  0.00000000e+00  0.00000000e+00  0.00000000e+00  0.00000000e+00\n",
            "  0.00000000e+00  0.00000000e+00  0.00000000e+00  0.00000000e+00\n",
            "  2.25968121e-04  5.94325713e-04  3.88723332e-04  3.31503106e-04\n",
            "  6.69662433e-04  3.69531568e-04  1.16925177e-04  6.17998128e-04\n",
            "  5.26609598e-04  3.50938935e-04  1.34741334e-04  1.46366583e-04\n",
            "  7.07640065e-05  3.61040907e-06  0.00000000e+00  0.00000000e+00\n",
            "  0.00000000e+00  0.00000000e+00  0.00000000e+00  0.00000000e+00\n",
            "  0.00000000e+00  0.00000000e+00  0.00000000e+00  0.00000000e+00\n",
            "  9.22802701e-06  6.51521914e-05  5.93449622e-05  9.30784154e-05\n",
            "  6.22945838e-04  8.95023055e-04  9.92564135e-04  1.38881535e-03\n",
            "  1.32076954e-03  9.97723662e-04  9.02476488e-04  1.51547336e-03\n",
            "  1.42402120e-03  1.24553079e-03  8.06472730e-04  3.15624464e-04\n",
            " -3.99598866e-05  2.90402477e-06  0.00000000e+00  0.00000000e+00\n",
            "  0.00000000e+00  0.00000000e+00  0.00000000e+00  0.00000000e+00\n",
            "  0.00000000e+00  0.00000000e+00 -5.26445074e-05 -5.56103769e-05\n",
            "  1.61853051e-04  3.05317371e-04  2.47481483e-04 -5.82511188e-04\n",
            " -2.43687900e-04  1.06419111e-03  2.10402906e-03  2.24504457e-03\n",
            "  2.01531663e-03  2.42199935e-03  2.89246277e-03  3.29269329e-03\n",
            "  2.63302936e-03  1.63962576e-03  2.22906237e-06 -1.77244481e-04\n",
            " -4.16810013e-04 -2.44152412e-04  1.31300740e-05  0.00000000e+00\n",
            "  0.00000000e+00  0.00000000e+00  0.00000000e+00  0.00000000e+00\n",
            "  0.00000000e+00 -1.02070853e-05 -2.73650803e-04 -1.73844935e-04\n",
            "  2.72373902e-04  4.49699204e-04 -6.53140378e-05 -1.41795143e-03\n",
            " -1.40871189e-03 -2.20876595e-04  1.21873710e-03  1.85556314e-03\n",
            "  2.17435346e-03  3.74827278e-03  3.90439597e-03  3.38295102e-03\n",
            "  2.58940761e-03  1.31234317e-03 -2.58747838e-04 -2.04962702e-03\n",
            " -2.62502488e-03 -3.01366625e-03 -2.00841227e-03 -7.44240184e-04\n",
            "  2.26103657e-05  0.00000000e+00  0.00000000e+00  0.00000000e+00\n",
            "  0.00000000e+00 -2.08367812e-04 -5.04642550e-04 -5.50083234e-04\n",
            "  3.97222087e-04  6.86440733e-04 -4.77057067e-04 -1.57543237e-03\n",
            " -1.35786983e-03 -6.11288706e-04  2.10413197e-03  3.37072997e-03\n",
            "  6.83015632e-03  9.34807770e-03  9.45361052e-03  6.22153375e-03\n",
            "  3.89256817e-03  1.26840593e-03 -1.06314837e-03 -4.00895113e-03\n",
            " -4.94654337e-03 -4.18413710e-03 -2.10703607e-03 -7.04203034e-04\n",
            " -1.28851592e-04  7.53461572e-05  0.00000000e+00  0.00000000e+00\n",
            "  1.36273466e-05 -5.00177121e-05 -5.06099313e-04 -8.58052517e-04\n",
            "  3.98532575e-04  6.29482442e-04 -4.32027096e-04 -3.98359902e-04\n",
            "  5.35869913e-04  1.47251808e-03  4.40967595e-03  8.20039026e-03\n",
            "  1.18042361e-02  1.47397276e-02  1.26556978e-02  8.05634540e-03\n",
            "  3.61598586e-03  1.32935855e-03 -1.34370581e-03 -2.65498948e-03\n",
            " -4.32738615e-03 -3.67569365e-03 -1.57361303e-03 -4.00947261e-04\n",
            " -3.01449818e-05  4.42775781e-05  0.00000000e+00  0.00000000e+00\n",
            "  1.18018024e-05 -5.93263685e-05 -6.75609161e-04 -5.14968648e-04\n",
            " -2.02627576e-04  1.62665980e-04  8.48104828e-04  8.90034891e-04\n",
            "  1.65228732e-03  3.17986123e-03  5.72810322e-03  8.54017306e-03\n",
            "  1.12428004e-02  1.32489605e-02  9.55152884e-03  5.79480967e-03\n",
            "  4.79719276e-03  9.90001019e-04 -1.26839994e-04 -1.36293075e-03\n",
            " -3.38342739e-03 -2.64578499e-03  9.04821500e-04  4.96896682e-04\n",
            "  1.59963500e-04  0.00000000e+00  0.00000000e+00  3.95320494e-05\n",
            "  7.03394326e-05 -1.41527198e-05 -3.18931270e-04 -3.91051435e-04\n",
            " -4.31126973e-05  8.70599295e-04  2.12799455e-03  2.07285327e-03\n",
            "  3.06291459e-03  2.65431218e-03  2.93013174e-03  4.54429770e-03\n",
            "  8.99641123e-03  9.86609235e-03  3.90382693e-03  2.91702291e-03\n",
            "  2.75724614e-03  1.00711233e-03 -5.19923633e-04 -1.64067489e-03\n",
            " -2.97706528e-03 -5.34457969e-04  9.54761170e-04  2.44867551e-04\n",
            "  8.48907439e-05  0.00000000e+00  0.00000000e+00  4.56139014e-06\n",
            "  3.70718131e-04  4.52001841e-04  3.71899107e-04 -3.14387522e-04\n",
            " -1.00363541e-05  7.65449076e-04  9.59492405e-04  6.88272296e-04\n",
            " -1.43820827e-04 -1.44505105e-03 -1.31340208e-03  2.24268786e-03\n",
            "  5.77101856e-03  6.29229238e-03  1.05549442e-03 -1.30759436e-04\n",
            "  7.97930406e-04 -5.41708316e-04 -1.18704420e-03 -1.34648453e-03\n",
            " -2.18044198e-03  2.54677725e-04  2.15737309e-04  4.29874854e-05\n",
            "  3.11158624e-06  0.00000000e+00  0.00000000e+00  0.00000000e+00\n",
            "  2.85289338e-04  4.40032687e-04  3.87253531e-05 -9.46584623e-04\n",
            "  1.21334917e-04 -1.42567791e-04  2.54918705e-05 -2.38842983e-03\n",
            " -5.23385080e-03 -5.79268578e-03 -1.73020840e-03  2.68141739e-03\n",
            "  5.32295881e-03  3.71621689e-03 -2.21528369e-03 -3.24607175e-03\n",
            " -5.67127601e-04 -1.58798066e-03 -5.25240554e-04 -9.05666791e-04\n",
            " -1.33333215e-03  3.54452815e-04  2.28174322e-04  1.14826225e-05\n",
            "  1.96562632e-05  0.00000000e+00  0.00000000e+00  0.00000000e+00\n",
            "  6.68721477e-05  9.82113415e-05 -9.14864417e-04 -1.53610797e-03\n",
            " -6.24206965e-04 -1.74217205e-03 -2.17799773e-03 -6.52740104e-03\n",
            " -1.08079799e-02 -8.36756080e-03 -2.46122805e-03  1.89812225e-03\n",
            "  4.12254035e-03  1.48423249e-03 -4.47162054e-03 -3.82695370e-03\n",
            " -1.34593132e-03 -8.24322749e-04  1.20761269e-03 -4.16017312e-04\n",
            "  4.25448816e-05  1.12666469e-03  5.58918109e-04  1.36600924e-04\n",
            "  1.56706610e-05  0.00000000e+00  0.00000000e+00  0.00000000e+00\n",
            "  2.25513231e-05 -1.96940047e-04 -1.40664855e-03 -1.72669336e-03\n",
            " -2.63266987e-03 -4.41669906e-03 -5.69180166e-03 -9.11502726e-03\n",
            " -1.11428993e-02 -6.78005768e-03 -1.14534679e-03  3.31843644e-03\n",
            "  4.37352341e-03  1.71137252e-03 -4.00343584e-03 -6.21736003e-03\n",
            " -2.75632460e-03 -3.51426075e-04 -1.07259257e-03 -1.57037959e-03\n",
            " -8.08657496e-04  8.33160360e-04  5.56890853e-04  2.85708287e-04\n",
            "  1.81163716e-06  0.00000000e+00  0.00000000e+00  0.00000000e+00\n",
            "  0.00000000e+00 -1.59623567e-04 -1.75915088e-03 -2.73574563e-03\n",
            " -5.58634568e-03 -8.40483233e-03 -8.23760498e-03 -6.79862266e-03\n",
            " -5.92003809e-03 -4.35901945e-03 -1.08313630e-03  1.96400145e-03\n",
            "  1.73481205e-03 -7.28939776e-04 -5.98765630e-03 -9.43921413e-03\n",
            " -3.61570762e-03 -2.99357157e-03 -2.78443843e-03 -2.14359956e-03\n",
            " -9.66235239e-04  3.74872761e-04  5.95818739e-04  2.46473181e-04\n",
            "  8.91785658e-06  0.00000000e+00  0.00000000e+00  0.00000000e+00\n",
            "  0.00000000e+00 -2.36982305e-04 -1.57460372e-03 -2.64956825e-03\n",
            " -5.63074322e-03 -1.00242132e-02 -1.12956604e-02 -8.26605316e-03\n",
            " -6.59618713e-03 -5.42463595e-03 -4.54591308e-03 -4.14746068e-03\n",
            " -3.21736932e-03 -5.51320892e-03 -8.45080893e-03 -6.57733623e-03\n",
            " -4.85319505e-03 -4.93365526e-03 -2.27981433e-03 -9.92756104e-04\n",
            " -8.12110200e-04  2.65923620e-04  6.58155477e-04  4.39765019e-04\n",
            "  1.71438020e-04  0.00000000e+00  0.00000000e+00  0.00000000e+00\n",
            "  1.65025849e-05  4.94689593e-05 -8.30404286e-04 -2.26220395e-03\n",
            " -3.97435017e-03 -9.36211925e-03 -1.00670243e-02 -7.77838286e-03\n",
            " -6.05228357e-03 -4.39348258e-03 -3.58149526e-03 -3.49381962e-03\n",
            " -4.55032662e-03 -7.05124484e-03 -7.70921819e-03 -5.03688818e-03\n",
            " -5.62831759e-03 -2.53040646e-03  3.17065598e-04  6.79535791e-04\n",
            " -9.97808529e-04 -1.94230000e-04  5.20886853e-04  2.23654017e-04\n",
            "  7.61447809e-05  0.00000000e+00  0.00000000e+00  0.00000000e+00\n",
            "  2.16202625e-05  1.75670459e-04  3.98286676e-04 -1.32334011e-04\n",
            " -1.68965477e-03 -4.69088182e-03 -4.42217058e-03 -2.36916123e-03\n",
            " -4.83094307e-04 -4.78201109e-04 -3.27792205e-03 -4.71353624e-03\n",
            " -5.89783350e-03 -7.43093248e-03 -6.10856712e-03 -2.34123599e-03\n",
            " -1.40289695e-03  1.29829673e-03  1.87514513e-03  1.58457411e-03\n",
            "  7.69429374e-04  1.99826245e-04  4.30576067e-04  1.37616269e-04\n",
            "  0.00000000e+00  0.00000000e+00  0.00000000e+00  0.00000000e+00\n",
            "  1.39477503e-04  2.97083927e-04  1.13542099e-03  2.29365355e-03\n",
            "  2.49912427e-03  1.64970814e-03 -1.17557298e-04  5.50878874e-04\n",
            "  2.55495706e-03  1.93174277e-03  2.86797178e-04 -2.10548798e-03\n",
            " -3.80804087e-03 -4.06864099e-03 -1.19097531e-03  1.24410039e-03\n",
            "  2.45683384e-03  2.72554578e-03  1.93572848e-03  1.06485444e-03\n",
            "  9.83304111e-04  7.40854244e-04  4.42901277e-04  6.26662440e-05\n",
            "  0.00000000e+00  0.00000000e+00  0.00000000e+00  0.00000000e+00\n",
            "  1.81862430e-04  3.67314235e-04  1.36690668e-03  2.89929518e-03\n",
            "  4.44903038e-03  5.03539946e-03  5.60689019e-03  5.83984097e-03\n",
            "  5.48994215e-03  5.19687217e-03  3.37992306e-03  1.82739878e-03\n",
            " -6.81650941e-04 -1.41737331e-03  2.42261216e-04  2.23964243e-03\n",
            "  2.00736546e-03  3.22442548e-03  1.71354238e-03  9.49844718e-04\n",
            "  8.25964031e-04  4.12417314e-04  8.04167285e-05  2.92637696e-06\n",
            "  0.00000000e+00  0.00000000e+00  0.00000000e+00  0.00000000e+00\n",
            "  7.46968290e-05  3.72199400e-04  1.33994513e-03  2.55470653e-03\n",
            "  4.13785735e-03  5.38016390e-03  6.35384582e-03  7.03674555e-03\n",
            "  8.30587186e-03  7.14764930e-03  6.40883157e-03  3.84404417e-03\n",
            " -3.70231923e-04  7.29475985e-04  2.18088133e-03  2.44396646e-03\n",
            "  1.82336569e-03  2.53546773e-03  1.27357850e-03  1.29143937e-05\n",
            "  3.51607829e-04  3.66053166e-04  1.33536028e-04  1.39752610e-05\n",
            "  1.30437875e-05  0.00000000e+00  0.00000000e+00  0.00000000e+00\n",
            "  5.65797818e-05  2.40009409e-04  1.13444636e-03  2.18801713e-03\n",
            "  3.28649534e-03  4.90139518e-03  5.55502903e-03  6.52842736e-03\n",
            "  6.16706954e-03  4.85828659e-03  4.81605297e-03  1.88723078e-03\n",
            " -1.54964800e-03  8.35879589e-04  2.25453987e-03  1.99312065e-03\n",
            "  1.07342203e-04  1.44559809e-03  6.97287614e-04 -5.11173392e-04\n",
            "  3.68641719e-04  2.34740612e-04  4.65669327e-05  1.16801766e-05\n",
            "  2.46496602e-05  0.00000000e+00  0.00000000e+00  0.00000000e+00\n",
            "  1.95598159e-06  8.48972777e-05  5.06151118e-04  1.32925611e-03\n",
            "  2.36349832e-03  2.83208909e-03  3.61557701e-03  4.78895567e-03\n",
            "  3.17334197e-03  2.48328899e-03  2.90817372e-03 -8.01490038e-04\n",
            " -1.88904337e-03 -2.56481551e-04  1.29678205e-03  8.72043078e-04\n",
            " -7.97813118e-04  2.45528878e-04 -1.99332600e-04 -5.01057832e-04\n",
            "  6.49779613e-05  1.85630255e-04  3.59883743e-05  5.61607521e-06\n",
            "  1.28626243e-05  0.00000000e+00  0.00000000e+00  0.00000000e+00\n",
            "  1.81247557e-07  8.66363916e-05  3.95316601e-04  8.12497630e-04\n",
            "  1.20354455e-03  1.51519966e-03  2.62904493e-03  1.83714007e-03\n",
            "  1.15953118e-03  1.49414875e-03  9.83439153e-04 -1.86754460e-03\n",
            " -2.10874132e-03 -6.14554912e-04  1.57962181e-03 -2.67104653e-04\n",
            " -8.75690253e-04 -1.25845440e-03 -1.11976301e-03 -5.16740474e-05\n",
            "  7.60426046e-05  1.17425727e-04  8.63054665e-05  0.00000000e+00\n",
            "  0.00000000e+00  0.00000000e+00  0.00000000e+00  0.00000000e+00\n",
            "  0.00000000e+00  1.07266853e-04  3.70136229e-04  6.37588499e-04\n",
            "  2.41419068e-04  1.14752632e-03  2.27082614e-03  3.08323768e-04\n",
            "  1.70142739e-03  1.57000404e-03  2.03030836e-03 -2.57819192e-04\n",
            "  4.40696691e-04  3.61813954e-03  1.86708150e-03 -1.49649859e-05\n",
            " -7.33076828e-04 -4.38741496e-04  2.13262188e-04  2.83504487e-04\n",
            "  7.60461189e-05  1.10098714e-04  8.45600443e-05  0.00000000e+00\n",
            "  0.00000000e+00  0.00000000e+00  0.00000000e+00  0.00000000e+00\n",
            "  0.00000000e+00  6.30906288e-06  1.42209581e-04  4.06319072e-04\n",
            "  8.07643752e-04  1.35852839e-03  1.23371347e-03  4.97199828e-04\n",
            "  3.18154576e-03  3.65440780e-03  3.31481686e-03  2.56205373e-03\n",
            "  2.35972134e-03  3.09404614e-03  3.12094530e-03  1.93244603e-03\n",
            "  1.54707627e-03  6.72077236e-04  4.53106069e-04  1.27590043e-04\n",
            "  1.39459546e-04  1.76409740e-04  3.86351931e-05  0.00000000e+00\n",
            "  0.00000000e+00  0.00000000e+00  0.00000000e+00  0.00000000e+00\n",
            "  0.00000000e+00  8.52989160e-06  9.06196583e-05  1.70640327e-04\n",
            "  3.68055276e-04  4.09024156e-04 -1.14593713e-04  3.55452357e-04\n",
            "  8.47165298e-04  6.00504573e-04  7.08115578e-04  6.68247580e-04\n",
            "  1.21167884e-03  1.28283177e-03  1.29838637e-03  1.19461759e-03\n",
            "  8.17903783e-04  5.63279027e-04  1.13393609e-04  2.97557690e-05\n",
            "  0.00000000e+00  0.00000000e+00  0.00000000e+00  0.00000000e+00\n",
            "  0.00000000e+00  0.00000000e+00  0.00000000e+00  0.00000000e+00\n",
            "  0.00000000e+00  0.00000000e+00  0.00000000e+00  3.24507673e-05\n",
            "  7.48164384e-05  7.09766173e-05  3.17980703e-05  1.12130838e-05\n",
            "  1.33834283e-05  1.00444158e-04  1.63520031e-04  1.66609068e-04\n",
            "  1.16003488e-04  1.30074593e-04  1.54846755e-04  1.06624007e-04\n",
            "  1.80379488e-04  7.52645501e-05  0.00000000e+00  0.00000000e+00\n",
            "  0.00000000e+00  0.00000000e+00  0.00000000e+00  0.00000000e+00\n",
            "  0.00000000e+00  0.00000000e+00]...\n",
            "Gradientes da classe 4 na época 3: [ 0.00000000e+00  0.00000000e+00  0.00000000e+00  0.00000000e+00\n",
            "  0.00000000e+00  0.00000000e+00  0.00000000e+00  0.00000000e+00\n",
            "  0.00000000e+00  0.00000000e+00  0.00000000e+00  0.00000000e+00\n",
            "  0.00000000e+00  0.00000000e+00  0.00000000e+00  0.00000000e+00\n",
            "  0.00000000e+00  0.00000000e+00  0.00000000e+00  0.00000000e+00\n",
            "  0.00000000e+00  0.00000000e+00  0.00000000e+00  0.00000000e+00\n",
            "  0.00000000e+00  0.00000000e+00  0.00000000e+00  0.00000000e+00\n",
            "  2.14920310e-05  1.33250593e-04  0.00000000e+00  3.93789014e-05\n",
            "  1.64384517e-04  2.10020400e-04  1.40032746e-04  1.88512669e-04\n",
            "  9.29225644e-05  0.00000000e+00  0.00000000e+00  0.00000000e+00\n",
            "  0.00000000e+00  0.00000000e+00  0.00000000e+00  0.00000000e+00\n",
            "  0.00000000e+00  0.00000000e+00  0.00000000e+00  0.00000000e+00\n",
            "  0.00000000e+00  0.00000000e+00  0.00000000e+00  0.00000000e+00\n",
            "  0.00000000e+00  0.00000000e+00  0.00000000e+00  0.00000000e+00\n",
            "  2.25075884e-04  5.85980830e-04  3.77626857e-04  3.20182968e-04\n",
            "  6.49202557e-04  3.39596096e-04  6.59684738e-05  5.65448194e-04\n",
            "  4.83569107e-04  3.19240469e-04  1.22885263e-04  1.37078721e-04\n",
            "  6.60625519e-05  3.14605586e-06  0.00000000e+00  0.00000000e+00\n",
            "  0.00000000e+00  0.00000000e+00  0.00000000e+00  0.00000000e+00\n",
            "  0.00000000e+00  0.00000000e+00  0.00000000e+00  0.00000000e+00\n",
            "  8.42565532e-06  6.32242445e-05  5.40199617e-05  8.53387246e-05\n",
            "  6.11520605e-04  8.69713724e-04  9.52181057e-04  1.33628747e-03\n",
            "  1.23987021e-03  8.72926204e-04  7.58853334e-04  1.37022382e-03\n",
            "  1.30623952e-03  1.15498039e-03  7.63512799e-04  3.06015281e-04\n",
            " -3.21603075e-05  2.53052326e-06  0.00000000e+00  0.00000000e+00\n",
            "  0.00000000e+00  0.00000000e+00  0.00000000e+00  0.00000000e+00\n",
            "  0.00000000e+00  0.00000000e+00 -5.07785808e-05 -5.51327357e-05\n",
            "  1.54021371e-04  2.96899118e-04  2.33902116e-04 -5.89983247e-04\n",
            " -2.65101611e-04  9.93087771e-04  1.99550949e-03  2.08539655e-03\n",
            "  1.78261416e-03  2.13106349e-03  2.58011441e-03  3.02116969e-03\n",
            "  2.45922385e-03  1.52247644e-03 -4.53848043e-06 -1.48932420e-04\n",
            " -3.78252240e-04 -2.23732772e-04  1.19048864e-05  0.00000000e+00\n",
            "  0.00000000e+00  0.00000000e+00  0.00000000e+00  0.00000000e+00\n",
            "  0.00000000e+00 -9.62183185e-06 -2.63917114e-04 -1.73258726e-04\n",
            "  2.65609880e-04  4.36706468e-04 -7.42923221e-05 -1.41006266e-03\n",
            " -1.43200415e-03 -2.88888550e-04  1.07364752e-03  1.58893561e-03\n",
            "  1.76346675e-03  3.25330207e-03  3.39441467e-03  2.93177343e-03\n",
            "  2.29629781e-03  1.18077581e-03 -2.34236577e-04 -1.93872442e-03\n",
            " -2.49982229e-03 -2.88059097e-03 -1.91136368e-03 -7.14738504e-04\n",
            "  2.15098025e-05  0.00000000e+00  0.00000000e+00  0.00000000e+00\n",
            "  0.00000000e+00 -1.98284673e-04 -4.81460243e-04 -5.34585968e-04\n",
            "  3.78613069e-04  6.63353538e-04 -4.94250096e-04 -1.58650929e-03\n",
            " -1.39213563e-03 -7.01541081e-04  1.86034711e-03  2.93149194e-03\n",
            "  6.12524478e-03  8.52620415e-03  8.66912771e-03  5.56457415e-03\n",
            "  3.47047672e-03  1.13327696e-03 -1.00582943e-03 -3.84341320e-03\n",
            " -4.74819122e-03 -3.98298493e-03 -1.95943937e-03 -6.68177323e-04\n",
            " -1.22793252e-04  7.19450836e-05  0.00000000e+00  0.00000000e+00\n",
            "  1.19259084e-05 -4.71244930e-05 -4.85439610e-04 -8.28442455e-04\n",
            "  3.71519855e-04  5.82730572e-04 -4.97615780e-04 -4.67944366e-04\n",
            "  4.20476426e-04  1.23306166e-03  3.91323632e-03  7.45691219e-03\n",
            "  1.08241420e-02  1.36833554e-02  1.16820522e-02  7.27818161e-03\n",
            "  3.17569310e-03  1.23661815e-03 -1.25194155e-03 -2.53794086e-03\n",
            " -4.12877277e-03 -3.46699753e-03 -1.44610275e-03 -3.57193436e-04\n",
            " -2.93682097e-05  4.20262113e-05  0.00000000e+00  0.00000000e+00\n",
            "  1.03619550e-05 -6.15780446e-05 -6.57098775e-04 -5.06103912e-04\n",
            " -2.38988592e-04  7.56900408e-05  7.12523877e-04  7.49300583e-04\n",
            "  1.43483304e-03  2.74476549e-03  5.10947220e-03  7.73070147e-03\n",
            "  1.03080096e-02  1.23135122e-02  8.72912444e-03  5.13260532e-03\n",
            "  4.43174131e-03  9.78150405e-04  3.47507012e-06 -1.20786519e-03\n",
            " -3.17383301e-03 -2.45204638e-03  9.30173032e-04  5.17451088e-04\n",
            "  1.55419431e-04  0.00000000e+00  0.00000000e+00  3.92236943e-05\n",
            "  7.05857092e-05 -1.19560136e-05 -3.13753408e-04 -4.01823461e-04\n",
            " -9.05078923e-05  7.58862647e-04  1.98787777e-03  1.89562561e-03\n",
            "  2.72757141e-03  2.24368949e-03  2.52071908e-03  4.03675390e-03\n",
            "  8.36885069e-03  9.26173199e-03  3.39038647e-03  2.47096131e-03\n",
            "  2.53091194e-03  1.03135314e-03 -3.15795653e-04 -1.44151715e-03\n",
            " -2.79581104e-03 -4.48950799e-04  9.72712704e-04  2.53929989e-04\n",
            "  8.46250914e-05  0.00000000e+00  0.00000000e+00  4.52581071e-06\n",
            "  3.78898927e-04  4.54985595e-04  3.68282082e-04 -3.24951194e-04\n",
            " -3.76040989e-05  7.11122993e-04  9.04043671e-04  5.23110328e-04\n",
            " -2.80231558e-04 -1.56452518e-03 -1.45430863e-03  1.99200399e-03\n",
            "  5.45090996e-03  5.93592180e-03  7.40135205e-04 -3.60288890e-04\n",
            "  7.29700259e-04 -4.06758336e-04 -9.61058657e-04 -1.23457995e-03\n",
            " -2.11507361e-03  2.74502090e-04  2.35318788e-04  4.61995478e-05\n",
            "  2.67433461e-06  0.00000000e+00  0.00000000e+00  0.00000000e+00\n",
            "  2.89571763e-04  4.46502556e-04  4.52349486e-05 -9.33793432e-04\n",
            "  1.43644022e-04 -6.73457980e-05  2.77950894e-05 -2.43710913e-03\n",
            " -5.08675165e-03 -5.69733698e-03 -1.80914125e-03  2.43385090e-03\n",
            "  5.01998048e-03  3.43201822e-03 -2.42418889e-03 -3.32727237e-03\n",
            " -5.50787197e-04 -1.47715164e-03 -4.05831262e-04 -8.79369967e-04\n",
            " -1.30276172e-03  3.82655475e-04  2.36591033e-04  1.04224600e-05\n",
            "  1.75641690e-05  0.00000000e+00  0.00000000e+00  0.00000000e+00\n",
            "  6.39874197e-05  1.06075240e-04 -8.96792335e-04 -1.49397773e-03\n",
            " -5.27002441e-04 -1.59126765e-03 -2.07438669e-03 -6.34222012e-03\n",
            " -1.05562331e-02 -8.28174502e-03 -2.64003361e-03  1.57945708e-03\n",
            "  3.77478544e-03  1.13962824e-03 -4.71739005e-03 -3.91408242e-03\n",
            " -1.28304586e-03 -7.85042648e-04  1.18319993e-03 -4.53387504e-04\n",
            "  4.41721131e-05  1.13970472e-03  5.58320549e-04  1.37434006e-04\n",
            "  1.40027705e-05  0.00000000e+00  0.00000000e+00  0.00000000e+00\n",
            "  2.14530992e-05 -1.87339494e-04 -1.35378225e-03 -1.60622585e-03\n",
            " -2.42507621e-03 -4.12354618e-03 -5.37285348e-03 -8.77836812e-03\n",
            " -1.09059690e-02 -6.82292692e-03 -1.42319337e-03  2.92730192e-03\n",
            "  3.89836240e-03  1.21900265e-03 -4.25738655e-03 -6.22960133e-03\n",
            " -2.76872981e-03 -4.37242386e-04 -1.12626876e-03 -1.58164068e-03\n",
            " -7.87519850e-04  8.35621904e-04  5.51396632e-04  2.88805342e-04\n",
            "  1.61881746e-06  0.00000000e+00  0.00000000e+00  0.00000000e+00\n",
            "  0.00000000e+00 -1.49968168e-04 -1.67292089e-03 -2.54629599e-03\n",
            " -5.24052884e-03 -7.90732354e-03 -7.73190893e-03 -6.40471047e-03\n",
            " -5.67559199e-03 -4.36917506e-03 -1.26661628e-03  1.58671988e-03\n",
            "  1.28532597e-03 -1.06072228e-03 -6.05979236e-03 -9.33836028e-03\n",
            " -3.61051457e-03 -2.99556926e-03 -2.74779694e-03 -2.12425622e-03\n",
            " -9.52155504e-04  3.81374237e-04  5.84997411e-04  2.46776268e-04\n",
            "  8.88903651e-06  0.00000000e+00  0.00000000e+00  0.00000000e+00\n",
            "  0.00000000e+00 -2.28837802e-04 -1.50216126e-03 -2.44194968e-03\n",
            " -5.18323667e-03 -9.40718595e-03 -1.07184835e-02 -7.85935950e-03\n",
            " -6.26211055e-03 -5.19270822e-03 -4.42613848e-03 -4.14658338e-03\n",
            " -3.26080783e-03 -5.48087712e-03 -8.26514512e-03 -6.45615440e-03\n",
            " -4.74635838e-03 -4.83958796e-03 -2.25056382e-03 -1.01864454e-03\n",
            " -8.06315453e-04  2.72140111e-04  6.38144440e-04  4.31260385e-04\n",
            "  1.70556741e-04  0.00000000e+00  0.00000000e+00  0.00000000e+00\n",
            "  1.70372878e-05  4.55369518e-05 -7.88026897e-04 -2.07423000e-03\n",
            " -3.59874405e-03 -8.83732829e-03 -9.54511203e-03 -7.36602535e-03\n",
            " -5.69836004e-03 -4.08574194e-03 -3.30939726e-03 -3.24556511e-03\n",
            " -4.32937359e-03 -6.82689622e-03 -7.48219481e-03 -4.88683628e-03\n",
            " -5.45973890e-03 -2.52854940e-03  2.57226871e-04  6.09765819e-04\n",
            " -1.01327535e-03 -2.21635521e-04  4.92205087e-04  2.18303612e-04\n",
            "  7.58986935e-05  0.00000000e+00  0.00000000e+00  0.00000000e+00\n",
            "  2.04749049e-05  1.64477795e-04  3.83342296e-04 -8.03497096e-05\n",
            " -1.53983128e-03 -4.44241008e-03 -4.23220638e-03 -2.28813454e-03\n",
            " -4.36422124e-04 -4.13049216e-04 -3.15536652e-03 -4.57822625e-03\n",
            " -5.73402829e-03 -7.22694909e-03 -6.00989489e-03 -2.36207689e-03\n",
            " -1.45324750e-03  1.18593452e-03  1.77497941e-03  1.47953816e-03\n",
            "  6.87923981e-04  1.41768236e-04  3.98597069e-04  1.32643050e-04\n",
            "  0.00000000e+00  0.00000000e+00  0.00000000e+00  0.00000000e+00\n",
            "  1.39382930e-04  2.80788809e-04  1.07313076e-03  2.18841946e-03\n",
            "  2.38806219e-03  1.54107565e-03 -2.39389017e-04  3.68681358e-04\n",
            "  2.29251757e-03  1.69373606e-03  1.00388075e-04 -2.17979937e-03\n",
            " -3.84518015e-03 -4.10226965e-03 -1.39502040e-03  9.73713584e-04\n",
            "  2.17813556e-03  2.51951162e-03  1.77852111e-03  9.47073568e-04\n",
            "  9.00804182e-04  6.90008514e-04  4.22145764e-04  6.01302454e-05\n",
            "  0.00000000e+00  0.00000000e+00  0.00000000e+00  0.00000000e+00\n",
            "  1.84965873e-04  3.41443927e-04  1.27688562e-03  2.72333156e-03\n",
            "  4.18692036e-03  4.71251225e-03  5.23862336e-03  5.41720213e-03\n",
            "  5.04456321e-03  4.78033721e-03  3.07084201e-03  1.61635969e-03\n",
            " -8.05368880e-04 -1.64253975e-03 -8.28904449e-05  1.84105535e-03\n",
            "  1.70715037e-03  3.00521543e-03  1.61368772e-03  8.65500886e-04\n",
            "  7.68412603e-04  3.77138320e-04  7.18518131e-05  2.35734069e-06\n",
            "  0.00000000e+00  0.00000000e+00  0.00000000e+00  0.00000000e+00\n",
            "  6.99190423e-05  3.39958176e-04  1.23236387e-03  2.35526590e-03\n",
            "  3.83822806e-03  5.01888851e-03  5.91049669e-03  6.52270811e-03\n",
            "  7.75682367e-03  6.67161774e-03  6.02212921e-03  3.55635816e-03\n",
            " -6.06505666e-04  4.23654623e-04  1.79318525e-03  2.06728745e-03\n",
            "  1.57230429e-03  2.38563120e-03  1.19727082e-03 -2.32562488e-05\n",
            "  3.16930702e-04  3.33772303e-04  1.21964717e-04  1.26030181e-05\n",
            "  1.16554857e-05  0.00000000e+00  0.00000000e+00  0.00000000e+00\n",
            "  5.26951844e-05  2.16304688e-04  1.03959127e-03  2.00695405e-03\n",
            "  3.02443700e-03  4.55380511e-03  5.12930891e-03  6.01121876e-03\n",
            "  5.64941717e-03  4.42519877e-03  4.47482988e-03  1.62844569e-03\n",
            " -1.76427816e-03  5.58916596e-04  1.85444136e-03  1.67843385e-03\n",
            " -5.15975407e-05  1.34757604e-03  6.49183057e-04 -5.23918192e-04\n",
            "  3.35815857e-04  2.12720857e-04  4.08748019e-05  1.03361417e-05\n",
            "  2.19779413e-05  0.00000000e+00  0.00000000e+00  0.00000000e+00\n",
            "  1.65427150e-06  7.50225227e-05  4.56358102e-04  1.21215230e-03\n",
            "  2.17485195e-03  2.57731578e-03  3.28537519e-03  4.36962442e-03\n",
            "  2.81823566e-03  2.19663698e-03  2.69071735e-03 -9.45089443e-04\n",
            " -1.98693085e-03 -4.74717177e-04  9.69726825e-04  6.44215383e-04\n",
            " -8.95641395e-04  2.25513621e-04 -1.84897683e-04 -5.01703471e-04\n",
            "  5.50710538e-05  1.74654488e-04  3.33085118e-05  5.01833392e-06\n",
            "  1.14936038e-05  0.00000000e+00  0.00000000e+00  0.00000000e+00\n",
            "  1.48099630e-07  8.05312229e-05  3.67092813e-04  7.50951178e-04\n",
            "  1.10692764e-03  1.36381388e-03  2.39042169e-03  1.59427128e-03\n",
            "  9.46715823e-04  1.32273580e-03  8.26805190e-04 -1.95530290e-03\n",
            " -2.19843630e-03 -7.74457876e-04  1.31525670e-03 -4.11481131e-04\n",
            " -8.97473423e-04 -1.20127609e-03 -1.07168988e-03 -4.55053996e-05\n",
            "  7.44149293e-05  1.15495408e-04  8.27670956e-05  0.00000000e+00\n",
            "  0.00000000e+00  0.00000000e+00  0.00000000e+00  0.00000000e+00\n",
            "  0.00000000e+00  1.00835510e-04  3.51135968e-04  5.99458523e-04\n",
            "  2.05325807e-04  1.06194732e-03  2.14040093e-03  1.87915808e-04\n",
            "  1.55392673e-03  1.42522634e-03  1.87015417e-03 -4.03190934e-04\n",
            "  2.95971491e-04  3.38679203e-03  1.65025424e-03 -1.05113781e-04\n",
            " -7.21352815e-04 -4.01295838e-04  2.31203725e-04  2.82310182e-04\n",
            "  7.77525347e-05  1.09465043e-04  8.12388244e-05  0.00000000e+00\n",
            "  0.00000000e+00  0.00000000e+00  0.00000000e+00  0.00000000e+00\n",
            "  0.00000000e+00  5.80691358e-06  1.36448929e-04  3.88569111e-04\n",
            "  7.73609790e-04  1.30921870e-03  1.17026048e-03  4.17046394e-04\n",
            "  3.03080166e-03  3.47429491e-03  3.13680968e-03  2.42387014e-03\n",
            "  2.24725204e-03  2.93798419e-03  2.95533449e-03  1.83730503e-03\n",
            "  1.50260155e-03  6.67431450e-04  4.42141492e-04  1.24042213e-04\n",
            "  1.33739435e-04  1.69481005e-04  3.71177412e-05  0.00000000e+00\n",
            "  0.00000000e+00  0.00000000e+00  0.00000000e+00  0.00000000e+00\n",
            "  0.00000000e+00  8.18912940e-06  8.61030639e-05  1.61610107e-04\n",
            "  3.43248656e-04  3.74605181e-04 -1.57523944e-04  2.91964679e-04\n",
            "  7.73379637e-04  5.48072043e-04  6.59670972e-04  6.21323416e-04\n",
            "  1.16041955e-03  1.22188893e-03  1.22678967e-03  1.13915454e-03\n",
            "  7.98954337e-04  5.56481013e-04  1.07525135e-04  2.82158162e-05\n",
            "  0.00000000e+00  0.00000000e+00  0.00000000e+00  0.00000000e+00\n",
            "  0.00000000e+00  0.00000000e+00  0.00000000e+00  0.00000000e+00\n",
            "  0.00000000e+00  0.00000000e+00  0.00000000e+00  2.97123388e-05\n",
            "  6.89296940e-05  6.49946305e-05  2.79414890e-05  9.59326735e-06\n",
            "  1.20101631e-05  9.54088246e-05  1.53537650e-04  1.55235306e-04\n",
            "  1.06644424e-04  1.18548363e-04  1.40939679e-04  9.83421342e-05\n",
            "  1.76396279e-04  7.42842531e-05  0.00000000e+00  0.00000000e+00\n",
            "  0.00000000e+00  0.00000000e+00  0.00000000e+00  0.00000000e+00\n",
            "  0.00000000e+00  0.00000000e+00]...\n",
            "Gradientes da classe 4 na época 4: [ 0.00000000e+00  0.00000000e+00  0.00000000e+00  0.00000000e+00\n",
            "  0.00000000e+00  0.00000000e+00  0.00000000e+00  0.00000000e+00\n",
            "  0.00000000e+00  0.00000000e+00  0.00000000e+00  0.00000000e+00\n",
            "  0.00000000e+00  0.00000000e+00  0.00000000e+00  0.00000000e+00\n",
            "  0.00000000e+00  0.00000000e+00  0.00000000e+00  0.00000000e+00\n",
            "  0.00000000e+00  0.00000000e+00  0.00000000e+00  0.00000000e+00\n",
            "  0.00000000e+00  0.00000000e+00  0.00000000e+00  0.00000000e+00\n",
            "  2.16256558e-05  1.34079062e-04  0.00000000e+00  3.78270961e-05\n",
            "  1.60201438e-04  2.05131219e-04  1.33323061e-04  1.81183321e-04\n",
            "  8.93946708e-05  0.00000000e+00  0.00000000e+00  0.00000000e+00\n",
            "  0.00000000e+00  0.00000000e+00  0.00000000e+00  0.00000000e+00\n",
            "  0.00000000e+00  0.00000000e+00  0.00000000e+00  0.00000000e+00\n",
            "  0.00000000e+00  0.00000000e+00  0.00000000e+00  0.00000000e+00\n",
            "  0.00000000e+00  0.00000000e+00  0.00000000e+00  0.00000000e+00\n",
            "  2.25102238e-04  5.80755179e-04  3.69327550e-04  3.11699929e-04\n",
            "  6.34371478e-04  3.16919846e-04  2.76188803e-05  5.25341951e-04\n",
            "  4.50492545e-04  2.94661615e-04  1.13745962e-04  1.29934619e-04\n",
            "  6.24779859e-05  2.78457583e-06  0.00000000e+00  0.00000000e+00\n",
            "  0.00000000e+00  0.00000000e+00  0.00000000e+00  0.00000000e+00\n",
            "  0.00000000e+00  0.00000000e+00  0.00000000e+00  0.00000000e+00\n",
            "  7.80168648e-06  6.18893246e-05  4.99184171e-05  7.94307853e-05\n",
            "  6.05126785e-04  8.52188561e-04  9.21973784e-04  1.29813980e-03\n",
            "  1.18019746e-03  7.82151241e-04  6.55070005e-04  1.26161799e-03\n",
            "  1.21754245e-03  1.08766323e-03  7.34153669e-04  3.02204106e-04\n",
            " -2.33723185e-05  2.23976758e-06  0.00000000e+00  0.00000000e+00\n",
            "  0.00000000e+00  0.00000000e+00  0.00000000e+00  0.00000000e+00\n",
            "  0.00000000e+00  0.00000000e+00 -4.84905104e-05 -5.31676451e-05\n",
            "  1.48169041e-04  2.91235046e-04  2.24948570e-04 -5.89510775e-04\n",
            " -2.70477991e-04  9.42026672e-04  1.91969238e-03  1.97245809e-03\n",
            "  1.61590741e-03  1.91839866e-03  2.35145167e-03  2.82896264e-03\n",
            "  2.35622260e-03  1.46521197e-03  2.79347878e-05 -1.04025909e-04\n",
            " -3.35594756e-04 -2.03077070e-04  1.09471730e-05  0.00000000e+00\n",
            "  0.00000000e+00  0.00000000e+00  0.00000000e+00  0.00000000e+00\n",
            "  0.00000000e+00 -8.98299368e-06 -2.51849036e-04 -1.67976192e-04\n",
            "  2.64900329e-04  4.32202534e-04 -7.15007554e-05 -1.38102716e-03\n",
            " -1.41474546e-03 -2.87711679e-04  1.02002686e-03  1.43868581e-03\n",
            "  1.49297446e-03  2.90558720e-03  3.02716950e-03  2.62117083e-03\n",
            "  2.13611103e-03  1.15575758e-03 -1.34624861e-04 -1.78267783e-03\n",
            " -2.34992220e-03 -2.73723807e-03 -1.81085139e-03 -6.84594794e-04\n",
            "  2.06363529e-05  0.00000000e+00  0.00000000e+00  0.00000000e+00\n",
            "  0.00000000e+00 -1.86703910e-04 -4.54191031e-04 -5.11405698e-04\n",
            "  3.74740048e-04  6.56126591e-04 -4.85269236e-04 -1.54723751e-03\n",
            " -1.33852370e-03 -6.55167154e-04  1.78615237e-03  2.71105231e-03\n",
            "  5.68549428e-03  7.98523705e-03  8.16479232e-03  5.16935997e-03\n",
            "  3.28377145e-03  1.19207334e-03 -8.20944435e-04 -3.59653356e-03\n",
            " -4.50586621e-03 -3.76749784e-03 -1.80910761e-03 -6.31254108e-04\n",
            " -1.16148862e-04  6.93295806e-05  0.00000000e+00  0.00000000e+00\n",
            "  1.05297840e-05 -4.06892650e-05 -4.58456256e-04 -7.88108562e-04\n",
            "  3.63483006e-04  5.65854949e-04 -5.12412982e-04 -4.38996707e-04\n",
            "  4.59649687e-04  1.21582963e-03  3.69029422e-03  7.05627911e-03\n",
            "  1.02202930e-02  1.30011076e-02  1.10771367e-02  6.83995010e-03\n",
            "  3.03786504e-03  1.39714847e-03 -9.80608747e-04 -2.30865949e-03\n",
            " -3.87178548e-03 -3.23529518e-03 -1.30981824e-03 -3.09005933e-04\n",
            " -2.63412294e-05  4.02024089e-05  0.00000000e+00  0.00000000e+00\n",
            "  9.17877878e-06 -5.91424396e-05 -6.29821443e-04 -4.80764109e-04\n",
            " -2.44788127e-04  4.12513036e-05  6.63014594e-04  7.63461692e-04\n",
            "  1.45380292e-03  2.62929872e-03  4.86039929e-03  7.29865255e-03\n",
            "  9.72403213e-03  1.16842017e-02  8.22091848e-03  4.80029080e-03\n",
            "  4.39732149e-03  1.24652963e-03  3.38936225e-04 -9.21442581e-04\n",
            " -2.89190561e-03 -2.22329888e-03  9.75230651e-04  5.47974778e-04\n",
            "  1.52121764e-04  0.00000000e+00  0.00000000e+00  3.90699934e-05\n",
            "  7.11874527e-05 -3.32771742e-06 -2.96282815e-04 -3.88614921e-04\n",
            " -9.63318016e-05  7.19241332e-04  1.96758332e-03  1.93707994e-03\n",
            "  2.70611956e-03  2.19581579e-03  2.46845139e-03  3.83229344e-03\n",
            "  7.97654409e-03  8.84669088e-03  3.09193111e-03  2.31653103e-03\n",
            "  2.62891641e-03  1.34186342e-03  8.55532126e-05 -1.11359137e-03\n",
            " -2.54580099e-03 -3.32407537e-04  1.00555539e-03  2.68358272e-04\n",
            "  8.47388510e-05  0.00000000e+00  0.00000000e+00  4.50807647e-06\n",
            "  3.87932349e-04  4.65686317e-04  3.81240330e-04 -3.06493224e-04\n",
            " -1.92117877e-05  7.41621072e-04  1.00651581e-03  6.28967653e-04\n",
            " -7.58843089e-05 -1.33680983e-03 -1.32109434e-03  1.93071738e-03\n",
            "  5.25403442e-03  5.70068602e-03  6.12093252e-04 -3.05752154e-04\n",
            "  9.88892512e-04  1.95730245e-05 -5.47485775e-04 -1.00407819e-03\n",
            " -1.99421844e-03  3.13983823e-04  2.63348367e-04  5.09476959e-05\n",
            "  2.31177569e-06  0.00000000e+00  0.00000000e+00  0.00000000e+00\n",
            "  2.94561469e-04  4.58052324e-04  6.60483784e-05 -8.93929217e-04\n",
            "  2.15532637e-04  1.08879292e-04  2.26923788e-04 -2.17852765e-03\n",
            " -4.60103154e-03 -5.30600175e-03 -1.69273152e-03  2.31269328e-03\n",
            "  4.82235057e-03  3.27431224e-03 -2.41729384e-03 -3.08487844e-03\n",
            " -1.78421149e-04 -1.05034444e-03 -9.59344616e-05 -7.39334733e-04\n",
            " -1.22976070e-03  4.24612517e-04  2.48393102e-04  9.60953093e-06\n",
            "  1.59591982e-05  0.00000000e+00  0.00000000e+00  0.00000000e+00\n",
            "  6.14157834e-05  1.16029347e-04 -8.66354560e-04 -1.42620248e-03\n",
            " -3.68018489e-04 -1.30927528e-03 -1.73214241e-03 -5.82427345e-03\n",
            " -9.97155253e-03 -7.94008747e-03 -2.65140762e-03  1.39123970e-03\n",
            "  3.57093243e-03  9.97417839e-04 -4.64808382e-03 -3.60636576e-03\n",
            " -8.26606352e-04 -4.29904030e-04  1.34509779e-03 -3.93093622e-04\n",
            "  7.96134264e-05  1.16083678e-03  5.60342974e-04  1.38844669e-04\n",
            "  1.27232315e-05  0.00000000e+00  0.00000000e+00  0.00000000e+00\n",
            "  2.05424403e-05 -1.77523572e-04 -1.29354012e-03 -1.45999936e-03\n",
            " -2.14789668e-03 -3.68512981e-03 -4.78461944e-03 -8.09681509e-03\n",
            " -1.03461882e-02 -6.60910830e-03 -1.50765339e-03  2.73058540e-03\n",
            "  3.67493834e-03  1.06190774e-03 -4.08627465e-03 -5.78561332e-03\n",
            " -2.36579659e-03 -2.18068191e-04 -1.00490288e-03 -1.50825433e-03\n",
            " -7.35097798e-04  8.47450807e-04  5.49226010e-04  2.92796205e-04\n",
            "  1.47089384e-06  0.00000000e+00  0.00000000e+00  0.00000000e+00\n",
            "  0.00000000e+00 -1.40062417e-04 -1.58312824e-03 -2.32809316e-03\n",
            " -4.82338388e-03 -7.25576887e-03 -6.94505777e-03 -5.65096363e-03\n",
            " -5.07393759e-03 -4.05832427e-03 -1.14966009e-03  1.54223584e-03\n",
            "  1.21177291e-03 -9.76933166e-04 -5.67017822e-03 -8.75970908e-03\n",
            " -3.20309424e-03 -2.71879416e-03 -2.55955104e-03 -2.03436613e-03\n",
            " -9.08794347e-04  4.00670804e-04  5.78938285e-04  2.48122669e-04\n",
            "  8.90173760e-06  0.00000000e+00  0.00000000e+00  0.00000000e+00\n",
            "  0.00000000e+00 -2.20244227e-04 -1.42687617e-03 -2.20778375e-03\n",
            " -4.66845697e-03 -8.63959268e-03 -9.86333750e-03 -7.08164927e-03\n",
            " -5.54129528e-03 -4.59154882e-03 -3.93340318e-03 -3.76121746e-03\n",
            " -2.91042216e-03 -5.03695384e-03 -7.62491487e-03 -5.87383239e-03\n",
            " -4.27089585e-03 -4.51349979e-03 -2.08876864e-03 -9.74211900e-04\n",
            " -7.63021293e-04  2.97663704e-04  6.25691784e-04  4.25734033e-04\n",
            "  1.70628977e-04  0.00000000e+00  0.00000000e+00  0.00000000e+00\n",
            "  1.76020294e-05  4.26190309e-05 -7.37857539e-04 -1.85995689e-03\n",
            " -3.15914885e-03 -8.17991048e-03 -8.79252236e-03 -6.64443616e-03\n",
            " -5.01965079e-03 -3.46502033e-03 -2.72786152e-03 -2.68805004e-03\n",
            " -3.77351255e-03 -6.20828522e-03 -6.80966303e-03 -4.29949630e-03\n",
            " -4.95768618e-03 -2.32050219e-03  3.20276013e-04  6.13971206e-04\n",
            " -9.86933475e-04 -2.31485348e-04  4.71560576e-04  2.14779895e-04\n",
            "  7.60071416e-05  0.00000000e+00  0.00000000e+00  0.00000000e+00\n",
            "  1.97397603e-05  1.56449838e-04  3.83269275e-04  8.22218135e-06\n",
            " -1.32847717e-03 -4.08873707e-03 -3.88711691e-03 -2.00689724e-03\n",
            " -1.84623583e-04 -1.40898541e-04 -2.82459264e-03 -4.20543971e-03\n",
            " -5.27122058e-03 -6.63944613e-03 -5.48766134e-03 -1.99797424e-03\n",
            " -1.21892092e-03  1.25082617e-03  1.78496423e-03  1.44493766e-03\n",
            "  6.42832485e-04  1.02301012e-04  3.76869226e-04  1.30044820e-04\n",
            "  0.00000000e+00  0.00000000e+00  0.00000000e+00  0.00000000e+00\n",
            "  1.40454562e-04  2.69424607e-04  1.03353383e-03  2.13160808e-03\n",
            "  2.34825467e-03  1.53134414e-03 -2.46438489e-04  3.18511738e-04\n",
            "  2.18586833e-03  1.62011164e-03  9.54509014e-05 -2.03347066e-03\n",
            " -3.58524872e-03 -3.75547563e-03 -1.21437502e-03  1.02134049e-03\n",
            "  2.13834527e-03  2.45818822e-03  1.71203818e-03  8.87623872e-04\n",
            "  8.52987287e-04  6.53224008e-04  4.07322776e-04  5.84651134e-05\n",
            "  0.00000000e+00  0.00000000e+00  0.00000000e+00  0.00000000e+00\n",
            "  1.88934297e-04  3.23226734e-04  1.21484487e-03  2.60191271e-03\n",
            "  4.00366774e-03  4.48693056e-03  4.97797225e-03  5.12094330e-03\n",
            "  4.74922545e-03  4.52945754e-03  2.95887887e-03  1.64963445e-03\n",
            " -6.01614884e-04 -1.49520184e-03 -6.95969211e-05  1.72144559e-03\n",
            "  1.61001296e-03  2.91430228e-03  1.58306910e-03  8.22441827e-04\n",
            "  7.31401902e-04  3.50559800e-04  6.52655508e-05  1.95119947e-06\n",
            "  0.00000000e+00  0.00000000e+00  0.00000000e+00  0.00000000e+00\n",
            "  6.66964042e-05  3.16737453e-04  1.15487410e-03  2.20917747e-03\n",
            "  3.61514324e-03  4.74894326e-03  5.57719031e-03  6.14440907e-03\n",
            "  7.36995693e-03  6.37847418e-03  5.86048095e-03  3.54722585e-03\n",
            " -5.03054645e-04  4.60498384e-04  1.69995974e-03  1.92823634e-03\n",
            "  1.49392150e-03  2.34592590e-03  1.18441612e-03 -3.03706402e-05\n",
            "  2.97924562e-04  3.09305993e-04  1.12975729e-04  1.15694274e-05\n",
            "  1.05904355e-05  0.00000000e+00  0.00000000e+00  0.00000000e+00\n",
            "  5.00313363e-05  1.99149450e-04  9.70505876e-04  1.87359028e-03\n",
            "  2.82895728e-03  4.29246621e-03  4.81457543e-03  5.63482707e-03\n",
            "  5.29780658e-03  4.18905960e-03  4.37497580e-03  1.65795942e-03\n",
            " -1.67153962e-03  5.75537269e-04  1.70133240e-03  1.56120188e-03\n",
            " -7.31908367e-05  1.34123384e-03  6.53835770e-04 -5.14102518e-04\n",
            "  3.17135884e-04  1.96163819e-04  3.64991502e-05  9.30870738e-06\n",
            "  1.99322203e-05  0.00000000e+00  0.00000000e+00  0.00000000e+00\n",
            "  1.42619967e-06  6.74738767e-05  4.18890064e-04  1.12473010e-03\n",
            "  2.03323364e-03  2.38977582e-03  3.04632122e-03  4.06955741e-03\n",
            "  2.61075050e-03  2.10304605e-03  2.69564521e-03 -8.33975850e-04\n",
            " -1.83266378e-03 -4.56193316e-04  8.44448688e-04  5.72007732e-04\n",
            " -8.84298817e-04  2.73475889e-04 -1.37449504e-04 -4.85503173e-04\n",
            "  5.37887645e-05  1.66133425e-04  3.12371812e-05  4.55977079e-06\n",
            "  1.04433466e-05  0.00000000e+00  0.00000000e+00  0.00000000e+00\n",
            "  1.23720810e-07  7.58386450e-05  3.45810695e-04  7.04221311e-04\n",
            "  1.03586889e-03  1.25737733e-03  2.21480988e-03  1.44170795e-03\n",
            "  8.57998792e-04  1.31509104e-03  8.66344199e-04 -1.84158492e-03\n",
            " -2.09132582e-03 -7.57553382e-04  1.21326721e-03 -4.29600594e-04\n",
            " -8.39887070e-04 -1.10382005e-03 -1.00216945e-03 -2.98661180e-05\n",
            "  7.58332608e-05  1.15139337e-04  7.99461050e-05  0.00000000e+00\n",
            "  0.00000000e+00  0.00000000e+00  0.00000000e+00  0.00000000e+00\n",
            "  0.00000000e+00  9.59373938e-05  3.37424251e-04  5.70807897e-04\n",
            "  1.84744218e-04  1.00326934e-03  2.04759464e-03  1.28479413e-04\n",
            "  1.50601962e-03  1.40933611e-03  1.85019081e-03 -4.07439773e-04\n",
            "  2.88840354e-04  3.26716946e-03  1.55046512e-03 -9.97598690e-05\n",
            " -6.58379169e-04 -3.35383171e-04  2.65082286e-04  2.85495451e-04\n",
            "  8.08300829e-05  1.09965433e-04  7.85827360e-05  0.00000000e+00\n",
            "  0.00000000e+00  0.00000000e+00  0.00000000e+00  0.00000000e+00\n",
            "  0.00000000e+00  5.42700036e-06  1.32527275e-04  3.75960954e-04\n",
            "  7.49937375e-04  1.27586816e-03  1.12979393e-03  3.76071257e-04\n",
            "  2.94638635e-03  3.36866966e-03  3.03649018e-03  2.35571177e-03\n",
            "  2.19874107e-03  2.83952267e-03  2.85322219e-03  1.78950489e-03\n",
            "  1.48335937e-03  6.77513133e-04  4.42261255e-04  1.22239479e-04\n",
            "  1.29227483e-04  1.63939840e-04  3.59041805e-05  0.00000000e+00\n",
            "  0.00000000e+00  0.00000000e+00  0.00000000e+00  0.00000000e+00\n",
            "  0.00000000e+00  7.93388608e-06  8.26667820e-05  1.54586261e-04\n",
            "  3.23629938e-04  3.47170571e-04 -1.89961545e-04  2.44661845e-04\n",
            "  7.18173455e-04  5.08918602e-04  6.23465574e-04  5.86370006e-04\n",
            "  1.12491066e-03  1.17884553e-03  1.17635215e-03  1.10249640e-03\n",
            "  7.88461999e-04  5.53606544e-04  1.03581544e-04  2.71809731e-05\n",
            "  0.00000000e+00  0.00000000e+00  0.00000000e+00  0.00000000e+00\n",
            "  0.00000000e+00  0.00000000e+00  0.00000000e+00  0.00000000e+00\n",
            "  0.00000000e+00  0.00000000e+00  0.00000000e+00  2.73841924e-05\n",
            "  6.39024511e-05  5.99536143e-05  2.48190827e-05  8.30465251e-06\n",
            "  1.08964177e-05  9.10432282e-05  1.44998761e-04  1.45594851e-04\n",
            "  9.88272222e-05  1.08940330e-04  1.29359949e-04  9.14141710e-05\n",
            "  1.73613080e-04  7.37603623e-05  0.00000000e+00  0.00000000e+00\n",
            "  0.00000000e+00  0.00000000e+00  0.00000000e+00  0.00000000e+00\n",
            "  0.00000000e+00  0.00000000e+00]...\n",
            "Gradientes da classe 4 na época 5: [ 0.00000000e+00  0.00000000e+00  0.00000000e+00  0.00000000e+00\n",
            "  0.00000000e+00  0.00000000e+00  0.00000000e+00  0.00000000e+00\n",
            "  0.00000000e+00  0.00000000e+00  0.00000000e+00  0.00000000e+00\n",
            "  0.00000000e+00  0.00000000e+00  0.00000000e+00  0.00000000e+00\n",
            "  0.00000000e+00  0.00000000e+00  0.00000000e+00  0.00000000e+00\n",
            "  0.00000000e+00  0.00000000e+00  0.00000000e+00  0.00000000e+00\n",
            "  0.00000000e+00  0.00000000e+00  0.00000000e+00  0.00000000e+00\n",
            "  2.16659755e-05  1.34329050e-04  0.00000000e+00  3.61955063e-05\n",
            "  1.55647722e-04  1.99933085e-04  1.26647879e-04  1.73369044e-04\n",
            "  8.55949329e-05  0.00000000e+00  0.00000000e+00  0.00000000e+00\n",
            "  0.00000000e+00  0.00000000e+00  0.00000000e+00  0.00000000e+00\n",
            "  0.00000000e+00  0.00000000e+00  0.00000000e+00  0.00000000e+00\n",
            "  0.00000000e+00  0.00000000e+00  0.00000000e+00  0.00000000e+00\n",
            "  0.00000000e+00  0.00000000e+00  0.00000000e+00  0.00000000e+00\n",
            "  2.24109055e-04  5.72989404e-04  3.59753001e-04  3.02570697e-04\n",
            "  6.18592836e-04  2.94571335e-04 -9.26571374e-06  4.87644342e-04\n",
            "  4.20002121e-04  2.72343110e-04  1.05418774e-04  1.23034784e-04\n",
            "  5.90694472e-05  2.46810464e-06  0.00000000e+00  0.00000000e+00\n",
            "  0.00000000e+00  0.00000000e+00  0.00000000e+00  0.00000000e+00\n",
            "  0.00000000e+00  0.00000000e+00  0.00000000e+00  0.00000000e+00\n",
            "  7.19286618e-06  6.04955530e-05  4.60080082e-05  7.37848459e-05\n",
            "  5.96639176e-04  8.32289341e-04  8.90182855e-04  1.25772564e-03\n",
            "  1.12049095e-03  6.92905975e-04  5.54017490e-04  1.15887751e-03\n",
            "  1.13462214e-03  1.02358032e-03  7.03755883e-04  2.95048609e-04\n",
            " -1.76404137e-05  1.98521457e-06  0.00000000e+00  0.00000000e+00\n",
            "  0.00000000e+00  0.00000000e+00  0.00000000e+00  0.00000000e+00\n",
            "  0.00000000e+00  0.00000000e+00 -4.68258222e-05 -5.23208291e-05\n",
            "  1.42247693e-04  2.85197631e-04  2.15498512e-04 -5.91553689e-04\n",
            " -2.80745735e-04  8.90305848e-04  1.84278004e-03  1.86058506e-03\n",
            "  1.45503553e-03  1.71566545e-03  2.13437853e-03  2.64459220e-03\n",
            "  2.24697939e-03  1.39745220e-03  3.90658097e-05 -7.73992360e-05\n",
            " -3.04775342e-04 -1.87025042e-04  1.00931538e-05  0.00000000e+00\n",
            "  0.00000000e+00  0.00000000e+00  0.00000000e+00  0.00000000e+00\n",
            "  0.00000000e+00 -8.49901699e-06 -2.43100469e-04 -1.65853067e-04\n",
            "  2.61161360e-04  4.24258003e-04 -7.45055149e-05 -1.36392692e-03\n",
            " -1.41429342e-03 -3.11232405e-04  9.42347571e-04  1.27493881e-03\n",
            "  1.22485333e-03  2.56969873e-03  2.67781201e-03  2.31819693e-03\n",
            "  1.96002889e-03  1.09875156e-03 -8.33853555e-05 -1.67629821e-03\n",
            " -2.23947712e-03 -2.62622605e-03 -1.73049665e-03 -6.59700891e-04\n",
            "  1.97477566e-05  0.00000000e+00  0.00000000e+00  0.00000000e+00\n",
            "  0.00000000e+00 -1.78066693e-04 -4.33875510e-04 -4.95744520e-04\n",
            "  3.64611711e-04  6.42076542e-04 -4.88487189e-04 -1.53391948e-03\n",
            " -1.32796727e-03 -6.67555432e-04  1.65902590e-03  2.44587287e-03\n",
            "  5.21893753e-03  7.42443232e-03  7.63158174e-03  4.73499391e-03\n",
            "  3.03247618e-03  1.15666783e-03 -7.26876431e-04 -3.43215698e-03\n",
            " -4.32993285e-03 -3.60272336e-03 -1.69096468e-03 -6.01039152e-04\n",
            " -1.10990477e-04  6.66043634e-05  0.00000000e+00  0.00000000e+00\n",
            "  9.34261880e-06 -3.70477501e-05 -4.39158612e-04 -7.59613176e-04\n",
            "  3.48136789e-04  5.37735526e-04 -5.45812072e-04 -4.57321003e-04\n",
            "  4.26147279e-04  1.10772578e-03  3.38979159e-03  6.57497952e-03\n",
            "  9.55539010e-03  1.22681018e-02  1.04107149e-02  6.32784935e-03\n",
            "  2.78791809e-03  1.40849955e-03 -8.46767914e-04 -2.17834325e-03\n",
            " -3.69253405e-03 -3.06194439e-03 -1.20560441e-03 -2.72085919e-04\n",
            " -2.50953344e-05  3.84063642e-05  0.00000000e+00  0.00000000e+00\n",
            "  8.17028013e-06 -5.90593190e-05 -6.10511459e-04 -4.66867030e-04\n",
            " -2.63705413e-04 -1.14819850e-05  5.83061366e-04  7.01856101e-04\n",
            "  1.36041921e-03  2.39019562e-03  4.48770821e-03  6.77022897e-03\n",
            "  9.08332132e-03  1.10250935e-02  7.66212773e-03  4.38532606e-03\n",
            "  4.21859976e-03  1.32912782e-03  5.03752322e-04 -7.59532559e-04\n",
            " -2.70208018e-03 -2.05874746e-03  9.97968367e-04  5.64547081e-04\n",
            "  1.48391468e-04  0.00000000e+00  0.00000000e+00  3.87694927e-05\n",
            "  7.16435170e-05  7.97554094e-07 -2.87260104e-04 -3.88714456e-04\n",
            " -1.21728612e-04  6.50703558e-04  1.89019274e-03  1.86189217e-03\n",
            "  2.53760931e-03  1.98807870e-03  2.26046541e-03  3.52253160e-03\n",
            "  7.54278339e-03  8.41700006e-03  2.75691273e-03  2.06853310e-03\n",
            "  2.56041531e-03  1.44996832e-03  3.05449095e-04 -9.15306271e-04\n",
            " -2.37899413e-03 -2.55098043e-04  1.02274108e-03  2.75524362e-04\n",
            "  8.43065209e-05  0.00000000e+00  0.00000000e+00  4.47340290e-06\n",
            "  3.95248149e-04  4.70633386e-04  3.83353821e-04 -3.07121023e-04\n",
            " -2.86585419e-05  7.21479882e-04  1.00751570e-03  5.79003477e-04\n",
            " -7.34018104e-05 -1.31122814e-03 -1.33708457e-03  1.79607642e-03\n",
            "  5.03727468e-03  5.45559125e-03  4.35147260e-04 -3.76203097e-04\n",
            "  1.04834524e-03  2.17262364e-04 -3.14675155e-04 -8.78639345e-04\n",
            " -1.92181824e-03  3.38417914e-04  2.83431466e-04  5.40695582e-05\n",
            "  2.02022034e-06  0.00000000e+00  0.00000000e+00  0.00000000e+00\n",
            "  2.98355037e-04  4.64850455e-04  7.53732456e-05 -8.77459184e-04\n",
            "  2.44695635e-04  1.94603112e-04  2.81159475e-04 -2.12310906e-03\n",
            " -4.36258269e-03 -5.11600450e-03 -1.68067939e-03  2.16157571e-03\n",
            "  4.61751642e-03  3.09810042e-03 -2.48676119e-03 -3.01572680e-03\n",
            " -4.62867320e-05 -8.71140684e-04  5.13506238e-05 -6.84241415e-04\n",
            " -1.18666934e-03  4.54961730e-04  2.57200823e-04  8.87813076e-06\n",
            "  1.44940977e-05  0.00000000e+00  0.00000000e+00  0.00000000e+00\n",
            "  5.88391522e-05  1.23435224e-04 -8.49173986e-04 -1.38662965e-03\n",
            " -2.75541621e-04 -1.15723093e-03 -1.58439414e-03 -5.56502724e-03\n",
            " -9.63985082e-03 -7.76141323e-03 -2.72123306e-03  1.19091978e-03\n",
            "  3.35155288e-03  8.07507138e-04 -4.70843446e-03 -3.52414837e-03\n",
            " -6.53456489e-04 -3.09945201e-04  1.37691002e-03 -3.90041241e-04\n",
            "  9.58829114e-05  1.17503048e-03  5.60611486e-04  1.39624375e-04\n",
            "  1.15552029e-05  0.00000000e+00  0.00000000e+00  0.00000000e+00\n",
            "  1.95882130e-05 -1.69506136e-04 -1.24962197e-03 -1.35778659e-03\n",
            " -1.96573883e-03 -3.41547304e-03 -4.44778521e-03 -7.70528289e-03\n",
            " -1.00260004e-02 -6.53601810e-03 -1.65169395e-03  2.49129836e-03\n",
            "  3.38860019e-03  7.95787666e-04 -4.12374083e-03 -5.63479960e-03\n",
            " -2.25033774e-03 -1.96942186e-04 -9.89425345e-04 -1.48310082e-03\n",
            " -7.05517479e-04  8.52561265e-04  5.45531977e-04  2.95292120e-04\n",
            "  1.33586161e-06  0.00000000e+00  0.00000000e+00  0.00000000e+00\n",
            "  0.00000000e+00 -1.32203510e-04 -1.51292945e-03 -2.17051036e-03\n",
            " -4.52984637e-03 -6.81327237e-03 -6.44723000e-03 -5.20688109e-03\n",
            " -4.74408409e-03 -3.94715322e-03 -1.19162328e-03  1.35343731e-03\n",
            "  9.83440317e-04 -1.08984264e-03 -5.55638038e-03 -8.51104967e-03\n",
            " -3.07009276e-03 -2.62771524e-03 -2.47205165e-03 -1.99094322e-03\n",
            " -8.86000576e-04  4.11068380e-04  5.71175071e-04  2.48331955e-04\n",
            "  8.88837894e-06  0.00000000e+00  0.00000000e+00  0.00000000e+00\n",
            "  0.00000000e+00 -2.13040330e-04 -1.36765314e-03 -2.03595450e-03\n",
            " -4.29545157e-03 -8.09660275e-03 -9.30627529e-03 -6.62739156e-03\n",
            " -5.14330994e-03 -4.28567966e-03 -3.71508370e-03 -3.63274803e-03\n",
            " -2.81296996e-03 -4.86193225e-03 -7.31288176e-03 -5.62022673e-03\n",
            " -4.06381069e-03 -4.35496029e-03 -2.01381557e-03 -9.69604007e-04\n",
            " -7.43228768e-04  3.11063079e-04  6.11261348e-04  4.18997661e-04\n",
            "  1.70070460e-04  0.00000000e+00  0.00000000e+00  0.00000000e+00\n",
            "  1.80772586e-05  3.97847471e-05 -7.01064302e-04 -1.70254975e-03\n",
            " -2.84433016e-03 -7.71705899e-03 -8.29519331e-03 -6.20808033e-03\n",
            " -4.62933211e-03 -3.11910803e-03 -2.41190079e-03 -2.38712761e-03\n",
            " -3.48252337e-03 -5.88513259e-03 -6.46884181e-03 -4.03310638e-03\n",
            " -4.70555341e-03 -2.24215770e-03  3.17093683e-04  5.85365982e-04\n",
            " -9.80683020e-04 -2.46235053e-04  4.51110391e-04  2.10972285e-04\n",
            "  7.58930837e-05  0.00000000e+00  0.00000000e+00  0.00000000e+00\n",
            "  1.88604408e-05  1.48159568e-04  3.77028715e-04  6.16185134e-05\n",
            " -1.18784257e-03 -3.85252992e-03 -3.67783243e-03 -1.87202194e-03\n",
            " -7.88471662e-05 -1.85678946e-05 -2.64803274e-03 -4.00594762e-03\n",
            " -5.02983853e-03 -6.33273553e-03 -5.25919860e-03 -1.88851124e-03\n",
            " -1.15982315e-03  1.22492667e-03  1.74177554e-03  1.38256466e-03\n",
            "  5.90080395e-04  6.33395175e-05  3.55239201e-04  1.26887113e-04\n",
            "  0.00000000e+00  0.00000000e+00  0.00000000e+00  0.00000000e+00\n",
            "  1.40754259e-04  2.57607782e-04  9.92829679e-04  2.06529442e-03\n",
            "  2.28360179e-03  1.48097146e-03 -2.99310253e-04  2.23807991e-04\n",
            "  2.03108974e-03  1.48772541e-03  1.31840352e-05 -2.01297458e-03\n",
            " -3.50613683e-03 -3.64478608e-03 -1.24714873e-03  9.10362462e-04\n",
            "  1.99703313e-03  2.34188465e-03  1.61197351e-03  8.10697791e-04\n",
            "  7.98661902e-04  6.18193182e-04  3.92977992e-04  5.67269453e-05\n",
            "  0.00000000e+00  0.00000000e+00  0.00000000e+00  0.00000000e+00\n",
            "  1.92093299e-04  3.05483671e-04  1.15387898e-03  2.48193578e-03\n",
            "  3.82060651e-03  4.26188298e-03  4.72160615e-03  4.82827099e-03\n",
            "  4.44474444e-03  4.25158534e-03  2.77740764e-03  1.56021421e-03\n",
            " -5.85388159e-04 -1.54012255e-03 -2.10193015e-04  1.49888732e-03\n",
            "  1.43879373e-03  2.77832150e-03  1.52342045e-03  7.68430415e-04\n",
            "  6.92760281e-04  3.26257024e-04  5.94462654e-05  1.62752053e-06\n",
            "  0.00000000e+00  0.00000000e+00  0.00000000e+00  0.00000000e+00\n",
            "  6.34402022e-05  2.94618047e-04  1.08031789e-03  2.06906861e-03\n",
            "  3.40062892e-03  4.48926259e-03  5.25866635e-03  5.77955414e-03\n",
            "  6.98304176e-03  6.05539326e-03  5.62120788e-03  3.40618729e-03\n",
            " -5.70391421e-04  3.41348408e-04  1.49678416e-03  1.70939229e-03\n",
            "  1.35049305e-03  2.25925189e-03  1.14184967e-03 -5.04982236e-05\n",
            "  2.75583006e-04  2.86610593e-04  1.04633757e-04  1.06529506e-05\n",
            "  9.61820388e-06  0.00000000e+00  0.00000000e+00  0.00000000e+00\n",
            "  4.74075641e-05  1.83273252e-04  9.04536690e-04  1.74715195e-03\n",
            "  2.64401105e-03  4.04366804e-03  4.51296056e-03  5.27143665e-03\n",
            "  4.94295312e-03  3.91187333e-03  4.18383302e-03  1.55258947e-03\n",
            " -1.72436540e-03  4.68286104e-04  1.47196173e-03  1.37698604e-03\n",
            " -1.55158981e-04  1.28923776e-03  6.28746115e-04 -5.18419547e-04\n",
            "  2.94901314e-04  1.80736592e-04  3.26625377e-05  8.39034237e-06\n",
            "  1.80786192e-05  0.00000000e+00  0.00000000e+00  0.00000000e+00\n",
            "  1.24093629e-06  6.07498951e-05  3.84289160e-04  1.04282773e-03\n",
            "  1.90013775e-03  2.21220357e-03  2.81900680e-03  3.78010026e-03\n",
            "  2.38412782e-03  1.94649724e-03  2.60243984e-03 -8.51303339e-04\n",
            " -1.80689478e-03 -5.34363207e-04  6.54893112e-04  4.40235686e-04\n",
            " -9.29470640e-04  2.75490806e-04 -1.18231459e-04 -4.82254516e-04\n",
            "  4.78025795e-05  1.57626564e-04  2.92698896e-05  4.14117085e-06\n",
            "  9.48461729e-06  0.00000000e+00  0.00000000e+00  0.00000000e+00\n",
            "  1.04643100e-07  7.14069756e-05  3.25384230e-04  6.59992220e-04\n",
            "  9.67904518e-04  1.15392182e-03  2.04826845e-03  1.28431735e-03\n",
            "  7.34729634e-04  1.23642699e-03  8.12430109e-04 -1.83093874e-03\n",
            " -2.07973667e-03 -8.15333682e-04  1.05536496e-03 -5.05910662e-04\n",
            " -8.35904619e-04 -1.04723021e-03 -9.57914221e-04 -2.33094379e-05\n",
            "  7.43280398e-05  1.12848342e-04  7.68619939e-05  0.00000000e+00\n",
            "  0.00000000e+00  0.00000000e+00  0.00000000e+00  0.00000000e+00\n",
            "  0.00000000e+00  9.11438110e-05  3.23559449e-04  5.42832713e-04\n",
            "  1.61589880e-04  9.43116553e-04  1.95513899e-03  5.49019314e-05\n",
            "  1.41965505e-03  1.33456406e-03  1.76841230e-03 -4.69647202e-04\n",
            "  2.24323303e-04  3.11560393e-03  1.41137291e-03 -1.44381891e-04\n",
            " -6.35750708e-04 -2.98159430e-04  2.82469351e-04  2.85271031e-04\n",
            "  8.13043443e-05  1.08481021e-04  7.56433219e-05  0.00000000e+00\n",
            "  0.00000000e+00  0.00000000e+00  0.00000000e+00  0.00000000e+00\n",
            "  0.00000000e+00  5.05077060e-06  1.28198488e-04  3.62584484e-04\n",
            "  7.24909187e-04  1.24083436e-03  1.08669815e-03  3.24694964e-04\n",
            "  2.84170732e-03  3.24245426e-03  2.91304477e-03  2.26403121e-03\n",
            "  2.12721620e-03  2.73026689e-03  2.73601455e-03  1.72287459e-03\n",
            "  1.45223190e-03  6.76588330e-04  4.35426686e-04  1.19609707e-04\n",
            "  1.24265993e-04  1.57807634e-04  3.45611734e-05  0.00000000e+00\n",
            "  0.00000000e+00  0.00000000e+00  0.00000000e+00  0.00000000e+00\n",
            "  0.00000000e+00  7.66031008e-06  7.90403137e-05  1.47302591e-04\n",
            "  3.04746995e-04  3.21577158e-04 -2.21031805e-04  1.98830734e-04\n",
            "  6.65010710e-04  4.71651467e-04  5.88323106e-04  5.52054029e-04\n",
            "  1.08791201e-03  1.13500596e-03  1.12438330e-03  1.06144778e-03\n",
            "  7.74609623e-04  5.48042590e-04  9.88847169e-05  2.59484732e-05\n",
            "  0.00000000e+00  0.00000000e+00  0.00000000e+00  0.00000000e+00\n",
            "  0.00000000e+00  0.00000000e+00  0.00000000e+00  0.00000000e+00\n",
            "  0.00000000e+00  0.00000000e+00  0.00000000e+00  2.52619066e-05\n",
            "  5.92836113e-05  5.54067628e-05  2.21695227e-05  7.23529047e-06\n",
            "  9.93115373e-06  8.67265408e-05  1.36903036e-04  1.36645162e-04\n",
            "  9.17275756e-05  1.00260535e-04  1.18925607e-04  8.50684883e-05\n",
            "  1.70417334e-04  7.29781168e-05  0.00000000e+00  0.00000000e+00\n",
            "  0.00000000e+00  0.00000000e+00  0.00000000e+00  0.00000000e+00\n",
            "  0.00000000e+00  0.00000000e+00]...\n"
          ]
        },
        {
          "output_type": "display_data",
          "data": {
            "text/plain": [
              "<Figure size 1800x600 with 0 Axes>"
            ]
          },
          "metadata": {}
        }
      ]
    },
    {
      "cell_type": "markdown",
      "metadata": {
        "id": "8UjOANOOe4Es"
      },
      "source": [
        "<details>\n",
        "<summary>Mostrar Resultado</summary>\n",
        "\n",
        "```python\n",
        "from IPython import display\n",
        "import numpy\n",
        "a = 5\n",
        "losses = []\n",
        "zs = []\n",
        "fig = plt.figure(figsize=(18, 6))\n",
        "\n",
        "try:\n",
        "    for i in range(epochs):\n",
        "        # Transforma a entrada para uma dimensão\n",
        "        inputs = Variable(x_train.view(-1, 28 * 28))\n",
        "        # Predict da rede\n",
        "        outputs = model(inputs)\n",
        "        zs.append(outputs[1].detach().numpy())\n",
        "\n",
        "        # calcula a perda\n",
        "        loss = criterion(outputs, Variable(y_train))\n",
        "\n",
        "        # zero, backpropagation, ajusta parâmetros pelo gradiente descendente\n",
        "        optimizer.zero_grad()\n",
        "        loss.backward()\n",
        "        optimizer.step()\n",
        "\n",
        "        losses.append(loss.data)\n",
        "        weights_d = model.weight.data[4].numpy().reshape(28,28)\n",
        "        weights_g = model.weight.grad.data[4].numpy().reshape(28,28)\n",
        "        ww = np.concatenate((weights_d,weights_g),1)\n",
        "        plt.imshow(ww.reshape((28,28*2)),cmap = 'gray')\n",
        "        display.display(fig)\n",
        "        display.clear_output(wait=True)\n",
        "        input(i)\n",
        "        \n",
        "        _, predicts = torch.max(outputs, 1)\n",
        "\n",
        "        y_pred = predicts.data\n",
        "        accuracy = (y_pred.numpy() == y_train.numpy()).mean()\n",
        "        print('Accuracy:', accuracy)\n",
        "        print(\"epoca: \" + str(i + 1))\n",
        "        print(\"perda: \" + str(loss.data.detach().numpy()))\n",
        "except KeyboardInterrupt:\n",
        "    pass\n",
        "```\n",
        "\n",
        "</details>\n",
        "\n"
      ]
    },
    {
      "cell_type": "markdown",
      "metadata": {
        "heading_collapsed": true,
        "id": "WNYt_-zhmvR7"
      },
      "source": [
        "## Perguntas"
      ]
    },
    {
      "cell_type": "markdown",
      "metadata": {
        "hidden": true,
        "id": "joaXY_W3mvR9"
      },
      "source": [
        "1. Qual é o shape da matriz de entrada na rede?\n",
        "2. Qual é o shape da saída da rede?\n",
        "3. Qual é o número total de parâmetros da rede, incluindo o bias?"
      ]
    },
    {
      "cell_type": "markdown",
      "source": [
        "Considerando esses dados, amostras de treinamento: 60000, dimensões dos dados das imagens:    torch.Size([60000, 28, 28]), model = torch.nn.Linear(28*28, 10) # 28*28 atributos de entrada e 10 neurônios na sáida\n",
        "e n_samples_train = 1000, serão realizadas as seguintes análises:\n",
        "\n",
        "**1.shape da matriz de entrada na rede**\n",
        "\n",
        "Shape da matriz de entrada: (1000, 784)\n",
        "\n",
        "* 1000 amostras de entrada e cada amostra tem 784 características- 28x28 (pixels da imagem achatados).\n",
        "\n",
        "**2.shape da matriz de saída na rede**\n",
        "\n",
        "Shape da matriz de saída: (1000, 10)\n",
        "\n",
        "Para cada uma das 1000 amostras, a rede retorna 10 valores, correspondendo às probabilidades dos 10 dígitos possíveis (0 a 9).\n",
        "\n",
        "**3.Número total de parâmetros da rede, incluindo o bias**\n",
        "\n",
        "**Parâmetros de peso:**\n",
        "\n",
        "Cada entrada (784) está conectada a cada neurônio de saída (10). Portanto, o número de parâmetros de peso é: 784 x 10 = 7840\n",
        "\n",
        "**Parâmetros de bias:**\n",
        "\n",
        "10 - cada neurônio de saída tem um parâmetro de bias.\n",
        "\n",
        "**Número total de parâmetros da rede**\n",
        "\n",
        "Número total de parâmetros: 7840 + 10 =**7850**\n",
        "\n",
        "\n"
      ],
      "metadata": {
        "id": "ZgjE0R2NlOrx"
      }
    },
    {
      "cell_type": "markdown",
      "metadata": {
        "id": "WzWdNQ6PmvR9"
      },
      "source": [
        "# Aprendizados\n"
      ]
    },
    {
      "cell_type": "markdown",
      "source": [
        "Este notebook realizou a classificação de dígitos manuscritos utilizando o dataset MNIST. Os 60 mil dados possuem muitos atributos: 28 x28 pixels, de modo que foi necessário pegar uma amostra(sample).\n",
        "\n",
        "Nesse contexto, foi realizado o carregamento de dados do MNist de forma completa, outro carregamento mas dessa vez com uma seleção de 1000 elementos e normalização. Também ocorreu a visualização de dados e a visualização de imagem com o matplotlib.\n",
        "\n",
        "Foi testado um predict com poucas amostras e ocorreu o treinamento, com  a inicialização de parâmetros, visualização do grafo computacional da perda (loss), o laço de treinamento dos pesos e a visualização gráfica de perda durante o treinamento.\n",
        "\n",
        "Também ocorreu a avaliação, com a determinação da acurácia e a matriz de confusão. E a visualização dos pesos de todas as classes, bem como o diagrama de regressão softmax com visualização dos pesos w.\n",
        "\n",
        "Sobre as atividades, foram inscritos códigos no laço do treinamento para que no final de cada época fosse impresso o número da época, a perda, a acurácia e a visualização dos valores dos gradientes referentes à classe do dígito 4.\n",
        "\n",
        "Por fim, foram analisados o shape da matriz de entrada e saída na rede, bem como o número total de parâmetros da rede, incluindo o bias."
      ],
      "metadata": {
        "id": "lglr3O19q5jk"
      }
    }
  ],
  "metadata": {
    "colab": {
      "provenance": [],
      "toc_visible": true
    },
    "kernelspec": {
      "display_name": "Python 3",
      "name": "python3"
    },
    "language_info": {
      "name": "python",
      "version": "3.10.2"
    },
    "vscode": {
      "interpreter": {
        "hash": "5fe3e6f0cdaab8afdc61c52912fda83f7c0a71baaea1897dd7498e2df01e69ec"
      }
    }
  },
  "nbformat": 4,
  "nbformat_minor": 0
}