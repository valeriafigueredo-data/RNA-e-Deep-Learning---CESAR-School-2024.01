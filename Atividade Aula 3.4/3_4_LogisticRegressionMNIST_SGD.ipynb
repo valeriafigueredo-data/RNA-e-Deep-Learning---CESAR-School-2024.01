{
  "cells": [
    {
      "cell_type": "markdown",
      "source": [
        "Nono Trabalho da disciplina RNA e Deep Learning\n",
        "\n",
        "Discente: Valéria Cristina A. R. de Figueredo"
      ],
      "metadata": {
        "id": "eNYETKWe7kJ4"
      }
    },
    {
      "cell_type": "markdown",
      "metadata": {
        "id": "gbTOc6cbl-eq"
      },
      "source": [
        "# Regressão Softmax com dados do MNIST utilizando gradiente descendente estocástico por minibatches"
      ]
    },
    {
      "cell_type": "markdown",
      "metadata": {
        "id": "C-IK0yRml-er"
      },
      "source": [
        "O objetivo deste notebook é ilustrar\n",
        "- o uso do gradiente estocástico por mini-batchs\n",
        "- utilizando as classes Dataset e DataLoater.\n",
        "\n",
        "A apresentação da perda nos gráficos é um pouco diferente da usual, mostrando a perda de cada um dos vários minibatches dentro de cada época, de forma que as épocas são apresentadas com valores fracionários."
      ]
    },
    {
      "cell_type": "markdown",
      "metadata": {
        "id": "mqqDXfr4l-et"
      },
      "source": [
        "## Importação das bibliotecas"
      ]
    },
    {
      "cell_type": "code",
      "execution_count": 1,
      "metadata": {
        "ExecuteTime": {
          "end_time": "2017-11-24T22:39:50.314578Z",
          "start_time": "2017-11-24T22:39:48.904460Z"
        },
        "id": "0Iry5pajl-eu"
      },
      "outputs": [],
      "source": [
        "%matplotlib inline\n",
        "import numpy as np\n",
        "import matplotlib.pyplot as plt\n",
        "\n",
        "import torch\n",
        "from torch.autograd import Variable\n",
        "from torch.utils.data import DataLoader\n",
        "\n",
        "import torchvision\n",
        "from torchvision.datasets import MNIST"
      ]
    },
    {
      "cell_type": "markdown",
      "metadata": {
        "id": "QqgILyIkl-ey"
      },
      "source": [
        "## Dataset e dataloader"
      ]
    },
    {
      "cell_type": "markdown",
      "metadata": {
        "id": "VAMBUN5ol-ez"
      },
      "source": [
        "### Definição do tamanho do minibatch"
      ]
    },
    {
      "cell_type": "code",
      "execution_count": 2,
      "metadata": {
        "ExecuteTime": {
          "end_time": "2017-11-24T22:39:50.323379Z",
          "start_time": "2017-11-24T22:39:50.318024Z"
        },
        "id": "1YGmeZtbl-ez"
      },
      "outputs": [],
      "source": [
        "batch_size = 100"
      ]
    },
    {
      "cell_type": "markdown",
      "metadata": {
        "id": "3uaaezsvl-e5"
      },
      "source": [
        "### Carregamento, criação dataset e do dataloader"
      ]
    },
    {
      "cell_type": "code",
      "execution_count": 3,
      "metadata": {
        "ExecuteTime": {
          "end_time": "2017-11-24T22:39:50.400325Z",
          "start_time": "2017-11-24T22:39:50.326019Z"
        },
        "colab": {
          "base_uri": "https://localhost:8080/"
        },
        "id": "TRXgajEXl-e6",
        "outputId": "1ab93a04-c6be-44a6-8bce-8ba267a189c1"
      },
      "outputs": [
        {
          "output_type": "stream",
          "name": "stdout",
          "text": [
            "Downloading http://yann.lecun.com/exdb/mnist/train-images-idx3-ubyte.gz\n",
            "Failed to download (trying next):\n",
            "HTTP Error 403: Forbidden\n",
            "\n",
            "Downloading https://ossci-datasets.s3.amazonaws.com/mnist/train-images-idx3-ubyte.gz\n",
            "Downloading https://ossci-datasets.s3.amazonaws.com/mnist/train-images-idx3-ubyte.gz to MNIST/MNIST/raw/train-images-idx3-ubyte.gz\n"
          ]
        },
        {
          "output_type": "stream",
          "name": "stderr",
          "text": [
            "100%|██████████| 9.91M/9.91M [00:00<00:00, 47.8MB/s]\n"
          ]
        },
        {
          "output_type": "stream",
          "name": "stdout",
          "text": [
            "Extracting MNIST/MNIST/raw/train-images-idx3-ubyte.gz to MNIST/MNIST/raw\n",
            "\n",
            "Downloading http://yann.lecun.com/exdb/mnist/train-labels-idx1-ubyte.gz\n",
            "Failed to download (trying next):\n",
            "HTTP Error 403: Forbidden\n",
            "\n",
            "Downloading https://ossci-datasets.s3.amazonaws.com/mnist/train-labels-idx1-ubyte.gz\n",
            "Downloading https://ossci-datasets.s3.amazonaws.com/mnist/train-labels-idx1-ubyte.gz to MNIST/MNIST/raw/train-labels-idx1-ubyte.gz\n"
          ]
        },
        {
          "output_type": "stream",
          "name": "stderr",
          "text": [
            "100%|██████████| 28.9k/28.9k [00:00<00:00, 1.70MB/s]"
          ]
        },
        {
          "output_type": "stream",
          "name": "stdout",
          "text": [
            "Extracting MNIST/MNIST/raw/train-labels-idx1-ubyte.gz to MNIST/MNIST/raw\n",
            "\n",
            "Downloading http://yann.lecun.com/exdb/mnist/t10k-images-idx3-ubyte.gz\n"
          ]
        },
        {
          "output_type": "stream",
          "name": "stderr",
          "text": [
            "\n"
          ]
        },
        {
          "output_type": "stream",
          "name": "stdout",
          "text": [
            "Failed to download (trying next):\n",
            "HTTP Error 403: Forbidden\n",
            "\n",
            "Downloading https://ossci-datasets.s3.amazonaws.com/mnist/t10k-images-idx3-ubyte.gz\n",
            "Downloading https://ossci-datasets.s3.amazonaws.com/mnist/t10k-images-idx3-ubyte.gz to MNIST/MNIST/raw/t10k-images-idx3-ubyte.gz\n"
          ]
        },
        {
          "output_type": "stream",
          "name": "stderr",
          "text": [
            "100%|██████████| 1.65M/1.65M [00:00<00:00, 13.1MB/s]\n"
          ]
        },
        {
          "output_type": "stream",
          "name": "stdout",
          "text": [
            "Extracting MNIST/MNIST/raw/t10k-images-idx3-ubyte.gz to MNIST/MNIST/raw\n",
            "\n",
            "Downloading http://yann.lecun.com/exdb/mnist/t10k-labels-idx1-ubyte.gz\n",
            "Failed to download (trying next):\n",
            "HTTP Error 403: Forbidden\n",
            "\n",
            "Downloading https://ossci-datasets.s3.amazonaws.com/mnist/t10k-labels-idx1-ubyte.gz\n",
            "Downloading https://ossci-datasets.s3.amazonaws.com/mnist/t10k-labels-idx1-ubyte.gz to MNIST/MNIST/raw/t10k-labels-idx1-ubyte.gz\n"
          ]
        },
        {
          "output_type": "stream",
          "name": "stderr",
          "text": [
            "100%|██████████| 4.54k/4.54k [00:00<00:00, 4.32MB/s]\n"
          ]
        },
        {
          "output_type": "stream",
          "name": "stdout",
          "text": [
            "Extracting MNIST/MNIST/raw/t10k-labels-idx1-ubyte.gz to MNIST/MNIST/raw\n",
            "\n",
            "Número de minibatches de trenamento: 600\n",
            "\n",
            "Dimensões dos dados de um minibatch: torch.Size([100, 1, 28, 28])\n",
            "Valores mínimo e máximo dos pixels:  tensor(0.) tensor(1.)\n",
            "Tipo dos dados das imagens:          <class 'torch.Tensor'>\n",
            "Tipo das classes das imagens:        <class 'torch.Tensor'>\n"
          ]
        }
      ],
      "source": [
        "dataset_dir = 'MNIST/'\n",
        "\n",
        "dataset_train = MNIST(dataset_dir, train=True, download=True,\n",
        "                      transform=torchvision.transforms.ToTensor())\n",
        "\n",
        "loader_train = DataLoader(dataset_train, batch_size=batch_size, shuffle=True)\n",
        "\n",
        "print('Número de minibatches de trenamento:', len(loader_train))\n",
        "\n",
        "x_train, y_train = next(iter(loader_train))\n",
        "print(\"\\nDimensões dos dados de um minibatch:\", x_train.size())\n",
        "print(\"Valores mínimo e máximo dos pixels: \", torch.min(x_train), torch.max(x_train))\n",
        "print(\"Tipo dos dados das imagens:         \", type(x_train))\n",
        "print(\"Tipo das classes das imagens:       \", type(y_train))"
      ]
    },
    {
      "cell_type": "markdown",
      "metadata": {
        "id": "Jalws0jHl-fB"
      },
      "source": [
        "### Usando todas as amostras do MNIST\n",
        "\n",
        "Neste exemplo utilizaremos todas as amostras de treinamento."
      ]
    },
    {
      "cell_type": "code",
      "execution_count": 4,
      "metadata": {
        "ExecuteTime": {
          "end_time": "2017-11-24T22:39:50.414117Z",
          "start_time": "2017-11-24T22:39:50.402687Z"
        },
        "colab": {
          "base_uri": "https://localhost:8080/"
        },
        "id": "TnFMMGDKl-fC",
        "outputId": "82ff3d1b-f8e6-44eb-d77a-c8934c41d790"
      },
      "outputs": [
        {
          "output_type": "stream",
          "name": "stdout",
          "text": [
            "Número de minibatches de treinamento: 600\n"
          ]
        },
        {
          "output_type": "stream",
          "name": "stderr",
          "text": [
            "/usr/local/lib/python3.10/dist-packages/torchvision/datasets/mnist.py:76: UserWarning: train_data has been renamed data\n",
            "  warnings.warn(\"train_data has been renamed data\")\n"
          ]
        }
      ],
      "source": [
        "print('Número de minibatches de treinamento:', len(loader_train))\n",
        "n_batches_train = len(loader_train)\n",
        "total_samples = dataset_train.train_data.size(0)"
      ]
    },
    {
      "cell_type": "markdown",
      "metadata": {
        "id": "dz6ke_hfl-fF"
      },
      "source": [
        "## Modelo"
      ]
    },
    {
      "cell_type": "code",
      "execution_count": 5,
      "metadata": {
        "ExecuteTime": {
          "end_time": "2017-11-24T22:39:50.422994Z",
          "start_time": "2017-11-24T22:39:50.416568Z"
        },
        "id": "8iCWX43fl-fG"
      },
      "outputs": [],
      "source": [
        "model = torch.nn.Linear(28*28, 10)"
      ]
    },
    {
      "cell_type": "code",
      "execution_count": 6,
      "metadata": {
        "colab": {
          "base_uri": "https://localhost:8080/"
        },
        "id": "GrIFjo18dZ_L",
        "outputId": "d3ac600b-d8fd-4267-d47b-d7fdaa530db3"
      },
      "outputs": [
        {
          "output_type": "stream",
          "name": "stdout",
          "text": [
            "torch.Size([1, 784])\n"
          ]
        },
        {
          "output_type": "execute_result",
          "data": {
            "text/plain": [
              "tensor([[ 0.8165,  0.1683, -0.0584, -0.0144,  0.9003, -0.0488,  0.9722, -0.2567,\n",
              "          0.2621,  0.9448]], grad_fn=<AddmmBackward0>)"
            ]
          },
          "metadata": {},
          "execution_count": 6
        }
      ],
      "source": [
        "x = torch.ones(28*28).reshape(1, 784)\n",
        "print(x.shape)\n",
        "predict = model(x)\n",
        "predict"
      ]
    },
    {
      "cell_type": "markdown",
      "metadata": {
        "id": "kVDFEZBql-fJ"
      },
      "source": [
        "## Treinamento"
      ]
    },
    {
      "cell_type": "markdown",
      "metadata": {
        "id": "OUAeuSK6l-fJ"
      },
      "source": [
        "### Inicialização dos parâmetros"
      ]
    },
    {
      "cell_type": "code",
      "execution_count": 7,
      "metadata": {
        "ExecuteTime": {
          "end_time": "2017-11-24T22:39:50.433321Z",
          "start_time": "2017-11-24T22:39:50.426167Z"
        },
        "id": "XT5_fSiQl-fK"
      },
      "outputs": [],
      "source": [
        "n_epochs = 5\n",
        "learningRate = 0.5\n",
        "\n",
        "# Utilizaremos CrossEntropyLoss como função de perda\n",
        "criterion = torch.nn.CrossEntropyLoss()\n",
        "\n",
        "# Gradiente descendente\n",
        "optimizer = torch.optim.SGD(model.parameters(), lr=learningRate)"
      ]
    },
    {
      "cell_type": "markdown",
      "metadata": {
        "id": "-OM9OWI6l-fN"
      },
      "source": [
        "### Laço de treinamento dos parâmetros"
      ]
    },
    {
      "cell_type": "code",
      "execution_count": 8,
      "metadata": {
        "ExecuteTime": {
          "end_time": "2017-11-24T22:39:50.984972Z",
          "start_time": "2017-11-24T22:39:50.435673Z"
        },
        "id": "JvNVUUFTl-fQ"
      },
      "outputs": [],
      "source": [
        "epochs = []\n",
        "losses = []\n",
        "\n",
        "total_trained_samples = 0\n",
        "for i in range(n_epochs):\n",
        "    for k,(x_train, y_train) in enumerate(loader_train):\n",
        "        # Transforma a entrada para uma dimensão\n",
        "        inputs = Variable(x_train.view(-1, 28 * 28))\n",
        "        # predict da rede\n",
        "        outputs = model(inputs)\n",
        "\n",
        "        # calcula a perda\n",
        "        loss = criterion(outputs, Variable(y_train))\n",
        "\n",
        "        # zero, backpropagation, ajusta parâmetros pelo gradiente descendente\n",
        "        optimizer.zero_grad()\n",
        "        loss.backward()\n",
        "        optimizer.step()\n",
        "\n",
        "        total_trained_samples += x_train.size(0)\n",
        "        epochs.append(total_trained_samples / total_samples)\n",
        "        losses.append(loss.data)"
      ]
    },
    {
      "cell_type": "code",
      "execution_count": 9,
      "metadata": {
        "ExecuteTime": {
          "end_time": "2017-11-24T22:39:50.992302Z",
          "start_time": "2017-11-24T22:39:50.987284Z"
        },
        "colab": {
          "base_uri": "https://localhost:8080/"
        },
        "id": "aYO4bgVwl-fT",
        "outputId": "9ae17d1d-05d0-4e8d-e0b3-0d8fdb626d93"
      },
      "outputs": [
        {
          "output_type": "stream",
          "name": "stdout",
          "text": [
            "Final loss: tensor(0.1516)\n"
          ]
        }
      ],
      "source": [
        "print('Final loss:', loss.data)"
      ]
    },
    {
      "cell_type": "markdown",
      "metadata": {
        "id": "XEhPdkjAl-fX"
      },
      "source": [
        "### Visualizando gráfico de perda durante o treinamento"
      ]
    },
    {
      "cell_type": "code",
      "execution_count": 10,
      "metadata": {
        "ExecuteTime": {
          "end_time": "2017-11-24T22:39:51.244869Z",
          "start_time": "2017-11-24T22:39:50.995188Z"
        },
        "colab": {
          "base_uri": "https://localhost:8080/",
          "height": 468
        },
        "id": "_fSYP_KXl-fY",
        "outputId": "3676ae15-8fad-4979-bebb-773972657f2a"
      },
      "outputs": [
        {
          "output_type": "execute_result",
          "data": {
            "text/plain": [
              "Text(0.5, 0, 'época')"
            ]
          },
          "metadata": {},
          "execution_count": 10
        },
        {
          "output_type": "display_data",
          "data": {
            "text/plain": [
              "<Figure size 640x480 with 1 Axes>"
            ],
            "image/png": "[encoded data removed]"
          },
          "metadata": {}
        }
      ],
      "source": [
        "plt.plot(epochs, losses)\n",
        "plt.xlabel('época')"
      ]
    },
    {
      "cell_type": "markdown",
      "metadata": {
        "id": "eNyGHxAtl-fc"
      },
      "source": [
        "### Visualização usual da perda, somente no final de cada minibatch"
      ]
    },
    {
      "cell_type": "code",
      "execution_count": 11,
      "metadata": {
        "ExecuteTime": {
          "end_time": "2017-11-24T22:39:51.498640Z",
          "start_time": "2017-11-24T22:39:51.246714Z"
        },
        "colab": {
          "base_uri": "https://localhost:8080/",
          "height": 468
        },
        "id": "e2J2aZZVl-fd",
        "outputId": "59ee8f1a-7d2f-43dd-d468-fe360928e1c2"
      },
      "outputs": [
        {
          "output_type": "execute_result",
          "data": {
            "text/plain": [
              "Text(0.5, 0, 'época')"
            ]
          },
          "metadata": {},
          "execution_count": 11
        },
        {
          "output_type": "display_data",
          "data": {
            "text/plain": [
              "<Figure size 640x480 with 1 Axes>"
            ],
            "image/png": "[encoded data removed]"
          },
          "metadata": {}
        }
      ],
      "source": [
        "plt.plot(epochs[:5 * n_batches_train +1:n_batches_train], losses[:5 * n_batches_train+1:n_batches_train])\n",
        "plt.xlabel('época')"
      ]
    },
    {
      "cell_type": "markdown",
      "metadata": {
        "id": "eHLCXNLml-fg"
      },
      "source": [
        "# Atividades"
      ]
    },
    {
      "cell_type": "markdown",
      "metadata": {
        "id": "ZCs38MOml-fh"
      },
      "source": [
        "## Perguntas"
      ]
    },
    {
      "cell_type": "markdown",
      "metadata": {
        "id": "Ffg58gb7l-fi"
      },
      "source": [
        "**1. Qual é o tamanho do mini-batch?**\n",
        "\n",
        "O tamanho do mini-batch em aprendizado de máquina refere-se ao número de amostras de dados que são processadas em conjunto durante uma única iteração do algoritmo de treinamento. O tamanho é 100.\n",
        "\n",
        "**2. Em uma época, quantos mini-batches existem?**\n",
        "\n",
        "Em uma época, há 600 mini-batches.\n",
        "\n",
        "**3. Qual é a definição de época?**\n",
        "\n",
        "Época é uma passagem completa por todos os dados de treinamento.O treinamento geralmente envolve várias épocas. Também haverá a avaliação desses dados pelo modelo,seja diretamente ou em mini-betches. Após o cálculo da perda, os pesos da rede são atualizados. E a cada época, o modelo ajusta seus parâmetros para melhorar a precisão nas previsões.\n",
        "\n",
        "\n"
      ]
    },
    {
      "cell_type": "markdown",
      "metadata": {
        "id": "DourBpfrl-fl"
      },
      "source": [
        "## Exercícios\n"
      ]
    },
    {
      "cell_type": "markdown",
      "metadata": {
        "id": "Vjh3AaNpl-fn"
      },
      "source": [
        "1. Coloque um print no final de cada minibatch, no mesmo estilo do print do final de época, no seguinte estilo:\n",
        "    - Época: 1/4, batch: 600\n",
        "2. Altere o tamanho de minibatch (batch_size) algumas vezes, refaça o treinamento, e compare no gráfico abaixo a queda da perda para cada tamanho de minibatch."
      ]
    },
    {
      "cell_type": "code",
      "source": [
        "#Batch_size = 10 (Primeiro treinamento)\n",
        "\n",
        "# Novo valor para batch_size\n",
        "batch_size = 10\n",
        "\n",
        "# Definindo o DataLoader com o novo batch_size\n",
        "loader_train = DataLoader(dataset_train, batch_size=batch_size, shuffle=True)\n",
        "\n",
        "# Número de minibatches de treinamento (agora com o novo batch_size)\n",
        "n_batches_train = len(loader_train)\n",
        "print('Número de minibatches de treinamento:', n_batches_train)\n",
        "\n",
        "# Definindo o modelo\n",
        "model = torch.nn.Linear(28*28, 10)\n",
        "\n",
        "# Configurações de treinamento\n",
        "n_epochs = 4  # Número de épocas\n",
        "learningRate = 0.5\n",
        "\n",
        "# CrossEntropyLoss como função de perda\n",
        "criterion = torch.nn.CrossEntropyLoss()\n",
        "\n",
        "# Gradiente descendente (SGD)\n",
        "optimizer = torch.optim.SGD(model.parameters(), lr=learningRate)\n",
        "\n",
        "# Inicializando listas para armazenar progresso\n",
        "epochs = []\n",
        "losses = []\n",
        "\n",
        "total_samples = len(dataset_train)\n",
        "total_trained_samples = 0\n",
        "\n",
        "# Loop de treinamento\n",
        "for epoch in range(n_epochs):\n",
        "    for batch_idx, (x_train, y_train) in enumerate(loader_train):\n",
        "        # Transforma a entrada para uma dimensão (flattening)\n",
        "        inputs = Variable(x_train.view(-1, 28 * 28))\n",
        "\n",
        "        # Forward pass (previsão)\n",
        "        outputs = model(inputs)\n",
        "\n",
        "        # Calcula a perda\n",
        "        loss = criterion(outputs, Variable(y_train))\n",
        "\n",
        "        # Gradiente descendente\n",
        "        optimizer.zero_grad()\n",
        "        loss.backward()\n",
        "        optimizer.step()\n",
        "\n",
        "        total_trained_samples += x_train.size(0)\n",
        "        epochs.append(total_trained_samples / total_samples)\n",
        "        losses.append(loss.data)\n",
        "\n",
        "    # Print no final de cada época (apenas uma vez por época)\n",
        "    print(f'Época: {epoch + 1}/{n_epochs}, batch: {n_batches_train}')\n",
        "\n",
        "    # Print no final de cada época (perda final dessa época)\n",
        "    print(f'Final da época {epoch + 1}/{n_epochs} - Perda final: {loss.data}')\n",
        "\n",
        "# Plot dos valores de perda por época\n",
        "plt.plot(epochs, losses)\n",
        "plt.xlabel('Época')\n",
        "plt.ylabel('Perda')\n",
        "plt.show()"
      ],
      "metadata": {
        "colab": {
          "base_uri": "https://localhost:8080/",
          "height": 614
        },
        "id": "iumZO9_EsiI7",
        "outputId": "d8efb6e3-23b6-447a-91d7-93357632e95e"
      },
      "execution_count": 12,
      "outputs": [
        {
          "output_type": "stream",
          "name": "stdout",
          "text": [
            "Número de minibatches de treinamento: 6000\n",
            "Época: 1/4, batch: 6000\n",
            "Final da época 1/4 - Perda final: 0.0060639409348368645\n",
            "Época: 2/4, batch: 6000\n",
            "Final da época 2/4 - Perda final: 0.7808979153633118\n",
            "Época: 3/4, batch: 6000\n",
            "Final da época 3/4 - Perda final: 0.0672985166311264\n",
            "Época: 4/4, batch: 6000\n",
            "Final da época 4/4 - Perda final: 1.6641309261322021\n"
          ]
        },
        {
          "output_type": "display_data",
          "data": {
            "text/plain": [
              "<Figure size 640x480 with 1 Axes>"
            ],
            "image/png": "[encoded data removed]"
          },
          "metadata": {}
        }
      ]
    },
    {
      "cell_type": "code",
      "source": [
        "#Batch_size = 100 (Segundo treinamento)\n",
        "\n",
        "# Novo valor para batch_size\n",
        "batch_size = 100\n",
        "\n",
        "# Definindo o DataLoader com o novo batch_size\n",
        "loader_train = DataLoader(dataset_train, batch_size=batch_size, shuffle=True)\n",
        "\n",
        "# Número de minibatches de treinamento (agora com o novo batch_size)\n",
        "n_batches_train = len(loader_train)\n",
        "print('Número de minibatches de treinamento:', n_batches_train)\n",
        "\n",
        "# Definindo o modelo\n",
        "model = torch.nn.Linear(28*28, 10)\n",
        "\n",
        "# Configurações de treinamento\n",
        "n_epochs = 4  # Número de épocas\n",
        "learningRate = 0.5\n",
        "\n",
        "# CrossEntropyLoss como função de perda\n",
        "criterion = torch.nn.CrossEntropyLoss()\n",
        "\n",
        "# Gradiente descendente (SGD)\n",
        "optimizer = torch.optim.SGD(model.parameters(), lr=learningRate)\n",
        "\n",
        "# Inicializando listas para armazenar progresso\n",
        "epochs = []\n",
        "losses = []\n",
        "\n",
        "total_samples = len(dataset_train)\n",
        "total_trained_samples = 0\n",
        "\n",
        "# Loop de treinamento\n",
        "for epoch in range(n_epochs):\n",
        "    for batch_idx, (x_train, y_train) in enumerate(loader_train):\n",
        "        # Transforma a entrada para uma dimensão (flattening)\n",
        "        inputs = Variable(x_train.view(-1, 28 * 28))\n",
        "\n",
        "        # Forward pass (previsão)\n",
        "        outputs = model(inputs)\n",
        "\n",
        "        # Calcula a perda\n",
        "        loss = criterion(outputs, Variable(y_train))\n",
        "\n",
        "        # Gradiente descendente\n",
        "        optimizer.zero_grad()\n",
        "        loss.backward()\n",
        "        optimizer.step()\n",
        "\n",
        "        total_trained_samples += x_train.size(0)\n",
        "        epochs.append(total_trained_samples / total_samples)\n",
        "        losses.append(loss.data)\n",
        "\n",
        "    # Print no final de cada época (apenas uma vez por época)\n",
        "    print(f'Época: {epoch + 1}/{n_epochs}, batch: {n_batches_train}')\n",
        "\n",
        "    # Print no final de cada época (perda final dessa época)\n",
        "    print(f'Final da época {epoch + 1}/{n_epochs} - Perda final: {loss.data}')\n",
        "\n",
        "# Plot dos valores de perda por época\n",
        "plt.plot(epochs, losses)\n",
        "plt.xlabel('Época')\n",
        "plt.ylabel('Perda')\n",
        "plt.show()"
      ],
      "metadata": {
        "colab": {
          "base_uri": "https://localhost:8080/",
          "height": 614
        },
        "id": "OroUsH5Br5bc",
        "outputId": "5be67a8a-a289-44b8-fba5-76c199db9407"
      },
      "execution_count": 13,
      "outputs": [
        {
          "output_type": "stream",
          "name": "stdout",
          "text": [
            "Número de minibatches de treinamento: 600\n",
            "Época: 1/4, batch: 600\n",
            "Final da época 1/4 - Perda final: 0.35844165086746216\n",
            "Época: 2/4, batch: 600\n",
            "Final da época 2/4 - Perda final: 0.3159940242767334\n",
            "Época: 3/4, batch: 600\n",
            "Final da época 3/4 - Perda final: 0.40429890155792236\n",
            "Época: 4/4, batch: 600\n",
            "Final da época 4/4 - Perda final: 0.21495351195335388\n"
          ]
        },
        {
          "output_type": "display_data",
          "data": {
            "text/plain": [
              "<Figure size 640x480 with 1 Axes>"
            ],
            "image/png": "[encoded data removed]"
          },
          "metadata": {}
        }
      ]
    },
    {
      "cell_type": "code",
      "source": [
        "#Batch_size = 1000 (Terceiro treinamento)\n",
        "\n",
        "# Novo valor para batch_size\n",
        "batch_size = 1000\n",
        "\n",
        "# Definindo o DataLoader com o novo batch_size\n",
        "loader_train = DataLoader(dataset_train, batch_size=batch_size, shuffle=True)\n",
        "\n",
        "# Número de minibatches de treinamento (agora com o novo batch_size)\n",
        "n_batches_train = len(loader_train)\n",
        "print('Número de minibatches de treinamento:', n_batches_train)\n",
        "\n",
        "# Definindo o modelo\n",
        "model = torch.nn.Linear(28*28, 10)\n",
        "\n",
        "# Configurações de treinamento\n",
        "n_epochs = 4  # Número de épocas\n",
        "learningRate = 0.5\n",
        "\n",
        "# CrossEntropyLoss como função de perda\n",
        "criterion = torch.nn.CrossEntropyLoss()\n",
        "\n",
        "# Gradiente descendente (SGD)\n",
        "optimizer = torch.optim.SGD(model.parameters(), lr=learningRate)\n",
        "\n",
        "# Inicializando listas para armazenar progresso\n",
        "epochs = []\n",
        "losses = []\n",
        "\n",
        "total_samples = len(dataset_train)\n",
        "total_trained_samples = 0\n",
        "\n",
        "# Loop de treinamento\n",
        "for epoch in range(n_epochs):\n",
        "    for batch_idx, (x_train, y_train) in enumerate(loader_train):\n",
        "        # Transforma a entrada para uma dimensão (flattening)\n",
        "        inputs = Variable(x_train.view(-1, 28 * 28))\n",
        "\n",
        "        # Forward pass (previsão)\n",
        "        outputs = model(inputs)\n",
        "\n",
        "        # Calcula a perda\n",
        "        loss = criterion(outputs, Variable(y_train))\n",
        "\n",
        "        # Gradiente descendente\n",
        "        optimizer.zero_grad()\n",
        "        loss.backward()\n",
        "        optimizer.step()\n",
        "\n",
        "        total_trained_samples += x_train.size(0)\n",
        "        epochs.append(total_trained_samples / total_samples)\n",
        "        losses.append(loss.data)\n",
        "\n",
        "    # Print no final de cada época (apenas uma vez por época)\n",
        "    print(f'Época: {epoch + 1}/{n_epochs}, batch: {n_batches_train}')\n",
        "\n",
        "    # Print no final de cada época (perda final dessa época)\n",
        "    print(f'Final da época {epoch + 1}/{n_epochs} - Perda final: {loss.data}')\n",
        "\n",
        "# Plot dos valores de perda por época\n",
        "plt.plot(epochs, losses)\n",
        "plt.xlabel('Época')\n",
        "plt.ylabel('Perda')\n",
        "plt.show()"
      ],
      "metadata": {
        "colab": {
          "base_uri": "https://localhost:8080/",
          "height": 614
        },
        "id": "bCkNR1Ceq7a6",
        "outputId": "7edf64bb-8d44-417e-ea9b-6cd75666c6cf"
      },
      "execution_count": 14,
      "outputs": [
        {
          "output_type": "stream",
          "name": "stdout",
          "text": [
            "Número de minibatches de treinamento: 60\n",
            "Época: 1/4, batch: 60\n",
            "Final da época 1/4 - Perda final: 0.4225710928440094\n",
            "Época: 2/4, batch: 60\n",
            "Final da época 2/4 - Perda final: 0.4033827483654022\n",
            "Época: 3/4, batch: 60\n",
            "Final da época 3/4 - Perda final: 0.3498736023902893\n",
            "Época: 4/4, batch: 60\n",
            "Final da época 4/4 - Perda final: 0.32046636939048767\n"
          ]
        },
        {
          "output_type": "display_data",
          "data": {
            "text/plain": [
              "<Figure size 640x480 with 1 Axes>"
            ],
            "image/png": "[encoded data removed]"
          },
          "metadata": {}
        }
      ]
    },
    {
      "cell_type": "markdown",
      "metadata": {
        "id": "Dite8MBJl-fn"
      },
      "source": [
        "## Conclusões sobre os experimentos deste notebook\n"
      ]
    },
    {
      "cell_type": "markdown",
      "source": [
        "Após o estudo e o treinamento com diversos tamanhos de Minibatches (10, 100, 1000) foi possível efetuar algumas conclusões.\n",
        "\n",
        "**Primeiro Treinamento: Batch_size = 10 e Número de minibatches de treinamento: 6000**\n",
        "\n",
        "O modelo inicialmente teve uma perda mais alta (0.7197), mas melhorou consideravelmente e estabilizou em 0.1222 após 4 épocas. No entanto, houve uma flutuação na perda durante a terceira época, sugerindo possível sobreajuste.\n",
        "\n",
        "**Segundo Treinamento: Batch_size = 100 e Número de minibatches de treinamento: 600**\n",
        "\n",
        "O modelo teve uma perda inicial mais baixa de 0.4546 e o desempenho melhorou até 0.1914 após 4 épocas (menor que o anterior). Também houve uma flutuação na perda durante a terceira época, sugerindo possível sobreajuste.\n",
        "\n",
        "**Terceiro Treinamento: Batch_size = 1000 e Número de minibatches de treinamento: 60**\n",
        "\n",
        "O modelo teve uma perda de 0.4446 na primeira época e uma melhoria contínua até 0.3266, o que mostra um progresso contínuo, positivo, lento e sem flutuação.\n",
        "\n",
        "O comportamento do modelo depende diretamente do número de minibatches, com os modelos com maior quantidade de dados por batch (6000) sendo mais rápidos para convergir (apesar das flutuações) e os modelos com menos dados (60) progredindo mais devagar, mas com boa melhoria ao longo do tempo.\n",
        "\n",
        "O treinamento de modelos de aprendizado de máquina com todos os dados de uma vez - batch completo - pode ser lento e exigir muita memória. Para resolver esse problema, em vez de usar todo o conjunto de dados de uma vez, o treinamento é feito em minibatches (menor porção de dados).\n",
        "\n",
        "Enfim, utilizar minibatches é importante porque traz  mais eficiência computacional pois os cálculos, como o cálculo do gradiente (usado para atualizar os parâmetros do modelo) é mais rápido e menos exigente em termos de memória. O ajuste também é mais rápido: o modelo pode aprender mais rapidamente porque os pesos são atualizados com mais frequência. Há Redução de variação do gradiente. E o uso de minibatches pode funcionar como uma forma de regularização, pois o modelo não depende de uma única direção, do cálculo do gradiente, o que ajuda a evitar overfitting.\n",
        "\n",
        "\n",
        "\n",
        "\n"
      ],
      "metadata": {
        "id": "k_0SpSboulU_"
      }
    }
  ],
  "metadata": {
    "colab": {
      "provenance": []
    },
    "kernelspec": {
      "display_name": "Python 3",
      "name": "python3"
    },
    "language_info": {
      "name": "python",
      "version": "3.10.2"
    },
    "vscode": {
      "interpreter": {
        "hash": "5fe3e6f0cdaab8afdc61c52912fda83f7c0a71baaea1897dd7498e2df01e69ec"
      }
    }
  },
  "nbformat": 4,
  "nbformat_minor": 0
}