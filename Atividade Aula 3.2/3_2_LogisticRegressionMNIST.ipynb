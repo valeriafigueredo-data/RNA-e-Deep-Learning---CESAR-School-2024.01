{
  "cells": [
    {
      "cell_type": "markdown",
      "source": [
        "**Sétimo Trabalho da disciplina RNA e Deep Learning**\n",
        "\n",
        "**Discente: Valéria Cristina A. R. de Figueredo**"
      ],
      "metadata": {
        "id": "4KkWTyYNg0Tb"
      }
    },
    {
      "cell_type": "markdown",
      "metadata": {
        "id": "Ot79tGiPOl08"
      },
      "source": [
        "# Regressão Softmax com dados do MNIST"
      ]
    },
    {
      "cell_type": "markdown",
      "metadata": {
        "id": "21fecJPyOl0-"
      },
      "source": [
        "## Objetivo"
      ]
    },
    {
      "cell_type": "markdown",
      "metadata": {
        "id": "z8SxRSoLOl1I"
      },
      "source": [
        "O objetivo deste notebook é ilustrar o uso de praticamente a mesma rede desenvolvida para a classificação das flores Íris, porém agora com o problema de classificação de dígitos manuscritos utilizando o dataset MNIST.\n",
        "As principais diferenças são:\n",
        "- tipo do dado, agora imagem com muito atributos: 28 x 28 pixels\n",
        "- número de amostras, muito maior, 60 mil\n",
        "Neste exercício será possível a interpretação do significado dos parâmetros treinados"
      ]
    },
    {
      "cell_type": "markdown",
      "metadata": {
        "id": "RKVT1A6zOl1J"
      },
      "source": [
        "## Importação das bibliotecas"
      ]
    },
    {
      "cell_type": "code",
      "execution_count": 35,
      "metadata": {
        "colab": {
          "base_uri": "https://localhost:8080/",
          "height": 0
        },
        "id": "EVN-NfMTNk73",
        "outputId": "25e9efcb-db5d-4d72-91e5-bb7a29c31e79"
      },
      "outputs": [
        {
          "output_type": "stream",
          "name": "stdout",
          "text": [
            "Requirement already satisfied: Pillow in /usr/local/lib/python3.10/dist-packages (11.0.0)\n"
          ]
        }
      ],
      "source": [
        "! pip install Pillow"
      ]
    },
    {
      "cell_type": "code",
      "execution_count": 36,
      "metadata": {
        "ExecuteTime": {
          "end_time": "2017-11-24T15:44:50.097111",
          "start_time": "2017-11-24T15:44:48.915046"
        },
        "id": "2oKVJHVNOl1k"
      },
      "outputs": [],
      "source": [
        "%matplotlib inline\n",
        "import numpy as np\n",
        "import matplotlib.pyplot as plt\n",
        "import pandas as pd\n",
        "\n",
        "import torch\n",
        "from torch.autograd import Variable\n",
        "\n",
        "import torchvision"
      ]
    },
    {
      "cell_type": "markdown",
      "metadata": {
        "id": "BmeldMPaOl1p"
      },
      "source": [
        "## Carregamento dos dados do MNIST"
      ]
    },
    {
      "cell_type": "code",
      "execution_count": 37,
      "metadata": {
        "colab": {
          "base_uri": "https://localhost:8080/",
          "height": 0
        },
        "id": "vzrUS_xbgvry",
        "outputId": "f59dd5c2-fceb-478f-fe98-0d40f9555e11"
      },
      "outputs": [
        {
          "output_type": "stream",
          "name": "stdout",
          "text": [
            "fatal: destination path 'MNIST' already exists and is not an empty directory.\n"
          ]
        }
      ],
      "source": [
        "! git clone https://github.com/vcasadei/MNIST.git"
      ]
    },
    {
      "cell_type": "code",
      "execution_count": 38,
      "metadata": {
        "colab": {
          "base_uri": "https://localhost:8080/",
          "height": 0
        },
        "id": "f6tbsAECg5JB",
        "outputId": "c260a14c-e766-4bf2-e0ef-60c0d9e0202f"
      },
      "outputs": [
        {
          "output_type": "stream",
          "name": "stdout",
          "text": [
            "processed  raw\n"
          ]
        }
      ],
      "source": [
        "!ls MNIST"
      ]
    },
    {
      "cell_type": "code",
      "execution_count": 39,
      "metadata": {
        "ExecuteTime": {
          "end_time": "2017-11-24T15:44:50.638218",
          "start_time": "2017-11-24T15:44:50.098808"
        },
        "colab": {
          "base_uri": "https://localhost:8080/",
          "height": 0
        },
        "id": "q0KuxPGVOl1q",
        "outputId": "1f08d412-4578-4d7b-e4f1-a697e085066b"
      },
      "outputs": [
        {
          "output_type": "stream",
          "name": "stderr",
          "text": [
            "<ipython-input-39-6143b94785d1>:3: FutureWarning: You are using `torch.load` with `weights_only=False` (the current default value), which uses the default pickle module implicitly. It is possible to construct malicious pickle data which will execute arbitrary code during unpickling (See https://github.com/pytorch/pytorch/blob/main/SECURITY.md#untrusted-models for more details). In a future release, the default value for `weights_only` will be flipped to `True`. This limits the functions that could be executed during unpickling. Arbitrary objects will no longer be allowed to be loaded via this mode unless they are explicitly allowlisted by the user via `torch.serialization.add_safe_globals`. We recommend you start setting `weights_only=True` for any use case where you don't have full control of the loaded file. Please open an issue on GitHub for any issues related to this experimental feature.\n",
            "  x_train, y_train = torch.load(dataset_dir + 'processed/training.pt')\n"
          ]
        },
        {
          "output_type": "stream",
          "name": "stdout",
          "text": [
            "Amostras de treinamento: 60000\n",
            "\n",
            "Dimensões dos dados das imagens:    torch.Size([60000, 28, 28])\n",
            "Valores mínimo e máximo dos pixels: tensor(0, dtype=torch.uint8) tensor(255, dtype=torch.uint8)\n",
            "Tipo dos dados das imagens:         <class 'torch.Tensor'>\n",
            "Tipo das classes das imagens:       <class 'torch.Tensor'>\n"
          ]
        }
      ],
      "source": [
        "dataset_dir = 'MNIST/'\n",
        "\n",
        "x_train, y_train = torch.load(dataset_dir + 'processed/training.pt')\n",
        "\n",
        "print(\"Amostras de treinamento:\", x_train.size(0))\n",
        "\n",
        "print(\"\\nDimensões dos dados das imagens:   \", x_train.size())\n",
        "print(\"Valores mínimo e máximo dos pixels:\", torch.min(x_train), torch.max(x_train))\n",
        "print(\"Tipo dos dados das imagens:        \", type(x_train))\n",
        "print(\"Tipo das classes das imagens:      \", type(y_train))"
      ]
    },
    {
      "cell_type": "markdown",
      "metadata": {
        "id": "DccnsPRCOl1y"
      },
      "source": [
        "### Carregamento, normalização e seleção dos dados do MNIST\n",
        "\n",
        "Neste exemplo utilizaremos apenas 1000 amostras de treinamento."
      ]
    },
    {
      "cell_type": "code",
      "execution_count": 40,
      "metadata": {
        "ExecuteTime": {
          "end_time": "2017-11-24T15:44:50.895668",
          "start_time": "2017-11-24T15:44:50.640110"
        },
        "colab": {
          "base_uri": "https://localhost:8080/",
          "height": 0
        },
        "id": "jRfSlVpnOl10",
        "outputId": "e28a22de-5fac-4f45-cf8a-c55eb4165aa3"
      },
      "outputs": [
        {
          "output_type": "stream",
          "name": "stdout",
          "text": [
            "Amostras de treinamento: 1000\n",
            "\n",
            "Dimensões dos dados das imagens:    torch.Size([1000, 28, 28])\n",
            "Valores mínimo e máximo dos pixels: tensor(0.) tensor(1.)\n",
            "Tipo dos dados das imagens:         <class 'torch.Tensor'>\n",
            "Tipo das classes das imagens:       <class 'torch.Tensor'>\n"
          ]
        }
      ],
      "source": [
        "x_train = x_train.float()\n",
        "\n",
        "x_train = x_train / 255.\n",
        "\n",
        "if True:\n",
        "    n_samples_train = 1000\n",
        "\n",
        "    x_train = x_train[:n_samples_train]\n",
        "    y_train = y_train[:n_samples_train]\n",
        "\n",
        "print(\"Amostras de treinamento:\", x_train.size(0))\n",
        "\n",
        "print(\"\\nDimensões dos dados das imagens:   \", x_train.size())\n",
        "print(\"Valores mínimo e máximo dos pixels:\", torch.min(x_train), torch.max(x_train))\n",
        "print(\"Tipo dos dados das imagens:        \", type(x_train))\n",
        "print(\"Tipo das classes das imagens:      \", type(y_train))"
      ]
    },
    {
      "cell_type": "markdown",
      "metadata": {
        "id": "0tXHwvS_Ol13"
      },
      "source": [
        "### Visualizando os dados"
      ]
    },
    {
      "cell_type": "code",
      "execution_count": 41,
      "metadata": {
        "ExecuteTime": {
          "end_time": "2017-11-24T16:32:19.474568",
          "start_time": "2017-11-24T16:32:19.207270"
        },
        "colab": {
          "base_uri": "https://localhost:8080/",
          "height": 464
        },
        "id": "zV7-8V9UOl15",
        "outputId": "a6f56b07-15c9-4a54-8770-4c0a5508495e"
      },
      "outputs": [
        {
          "output_type": "execute_result",
          "data": {
            "text/plain": [
              "(-0.5, 232.5, 87.5, -0.5)"
            ]
          },
          "metadata": {},
          "execution_count": 41
        },
        {
          "output_type": "display_data",
          "data": {
            "text/plain": [
              "<Figure size 1500x1000 with 1 Axes>"
            ],
            "image/png": "[encoded data removed]"
          },
          "metadata": {}
        }
      ],
      "source": [
        "n_samples = 24\n",
        "\n",
        "# cria um grid com as imagens\n",
        "grid = torchvision.utils.make_grid(x_train[:n_samples].unsqueeze(dim=1), pad_value=1.0, padding=1)\n",
        "\n",
        "plt.figure(figsize=(15, 10))\n",
        "plt.imshow(grid.numpy().transpose(1, 2, 0))\n",
        "plt.axis('off')"
      ]
    },
    {
      "cell_type": "markdown",
      "metadata": {
        "id": "biPfk_htOl2H"
      },
      "source": [
        "### Visualizando uma imagem com o matplotlib"
      ]
    },
    {
      "cell_type": "code",
      "execution_count": 42,
      "metadata": {
        "ExecuteTime": {
          "end_time": "2017-11-24T15:44:51.413232",
          "start_time": "2017-11-24T15:44:51.251376"
        },
        "colab": {
          "base_uri": "https://localhost:8080/",
          "height": 448
        },
        "id": "tAs2Zy28Ol2I",
        "outputId": "2ec3751f-d370-4cb9-c9eb-c644b2baae8f",
        "scrolled": true
      },
      "outputs": [
        {
          "output_type": "stream",
          "name": "stdout",
          "text": [
            "class: tensor(5)\n"
          ]
        },
        {
          "output_type": "display_data",
          "data": {
            "text/plain": [
              "<Figure size 640x480 with 1 Axes>"
            ],
            "image/png": "[encoded data removed]"
          },
          "metadata": {}
        }
      ],
      "source": [
        "image  = x_train[0]\n",
        "target = y_train[0]\n",
        "\n",
        "plt.imshow(image.numpy(), cmap='gray')\n",
        "print('class:', target)"
      ]
    },
    {
      "cell_type": "markdown",
      "metadata": {
        "id": "jWlWHjOvOl2R"
      },
      "source": [
        "## Modelo"
      ]
    },
    {
      "cell_type": "code",
      "execution_count": 43,
      "metadata": {
        "ExecuteTime": {
          "end_time": "2017-11-24T15:44:51.419287",
          "start_time": "2017-11-24T15:44:51.415065"
        },
        "id": "8OeUJnUqOl2T"
      },
      "outputs": [],
      "source": [
        "model = torch.nn.Linear(28*28, 10) # 28*28 atributos de entrada e 10 neurônios na sáida"
      ]
    },
    {
      "cell_type": "markdown",
      "metadata": {
        "id": "COKUqRSGOl2d"
      },
      "source": [
        "### Testando um predict com poucas amostras"
      ]
    },
    {
      "cell_type": "code",
      "execution_count": 44,
      "metadata": {
        "colab": {
          "base_uri": "https://localhost:8080/",
          "height": 0
        },
        "id": "Rxf7FUZOOl2g",
        "outputId": "c6036c64-b08c-4b01-f594-89d59a30f112"
      },
      "outputs": [
        {
          "output_type": "execute_result",
          "data": {
            "text/plain": [
              "tensor([[ 0.1763,  0.0789, -0.1650, -0.3288, -0.0163,  0.2011,  0.1962, -0.1436,\n",
              "         -0.0532,  0.1210],\n",
              "        [-0.2092, -0.0840,  0.2179, -0.3272, -0.2176, -0.1195,  0.0170, -0.2062,\n",
              "         -0.1066,  0.1697],\n",
              "        [-0.0396, -0.2605, -0.0358, -0.1932, -0.1217, -0.2701, -0.2327, -0.1969,\n",
              "          0.2061, -0.0989],\n",
              "        [ 0.1007,  0.0676,  0.0294, -0.3631, -0.1873,  0.1270,  0.3474, -0.2630,\n",
              "          0.1165,  0.0103],\n",
              "        [-0.0968,  0.3387,  0.2827, -0.6272,  0.0341,  0.1719,  0.0609, -0.0123,\n",
              "          0.1677,  0.1494]], grad_fn=<AddmmBackward0>)"
            ]
          },
          "metadata": {},
          "execution_count": 44
        }
      ],
      "source": [
        "xin = x_train[:5].view(-1,28*28)\n",
        "score = model(Variable(xin))\n",
        "score"
      ]
    },
    {
      "cell_type": "markdown",
      "metadata": {
        "id": "JsyINWhBOl2m"
      },
      "source": [
        "## Treinamento"
      ]
    },
    {
      "cell_type": "markdown",
      "metadata": {
        "id": "Cj7WB9NzOl2n"
      },
      "source": [
        "### Inicialização dos parâmetros"
      ]
    },
    {
      "cell_type": "code",
      "execution_count": 45,
      "metadata": {
        "ExecuteTime": {
          "end_time": "2017-11-24T15:44:51.425768",
          "start_time": "2017-11-24T15:44:51.420825"
        },
        "id": "xgTvQXGCOl2o"
      },
      "outputs": [],
      "source": [
        "epochs = 100\n",
        "learningRate = 0.5\n",
        "\n",
        "# Utilizaremos CrossEntropyLoss como função de perda\n",
        "criterion = torch.nn.CrossEntropyLoss()\n",
        "\n",
        "# Gradiente descendente\n",
        "optimizer = torch.optim.SGD(model.parameters(), lr=learningRate)"
      ]
    },
    {
      "cell_type": "markdown",
      "metadata": {
        "id": "fK50bgRzOl2z"
      },
      "source": [
        "### Visualização do grafo computacional da perda (loss)"
      ]
    },
    {
      "cell_type": "code",
      "execution_count": 46,
      "metadata": {
        "colab": {
          "base_uri": "https://localhost:8080/",
          "height": 0
        },
        "id": "sLuv_VgNENQf",
        "outputId": "7f857291-57a9-4d33-e3b3-12e3cdef8613"
      },
      "outputs": [
        {
          "output_type": "stream",
          "name": "stdout",
          "text": [
            "Requirement already satisfied: graphviz in /usr/local/lib/python3.10/dist-packages (0.20.3)\n",
            "Collecting git+https://github.com/szagoruyko/pytorchviz\n",
            "  Cloning https://github.com/szagoruyko/pytorchviz to /tmp/pip-req-build-wta8utc7\n",
            "  Running command git clone --filter=blob:none --quiet https://github.com/szagoruyko/pytorchviz /tmp/pip-req-build-wta8utc7\n",
            "  Resolved https://github.com/szagoruyko/pytorchviz to commit 0adcd83af8aa7ab36d6afd139cabbd9df598edb7\n",
            "  Preparing metadata (setup.py) ... \u001b[?25l\u001b[?25hdone\n",
            "Requirement already satisfied: torch in /usr/local/lib/python3.10/dist-packages (from torchviz==0.0.2) (2.5.1+cu121)\n",
            "Requirement already satisfied: graphviz in /usr/local/lib/python3.10/dist-packages (from torchviz==0.0.2) (0.20.3)\n",
            "Requirement already satisfied: filelock in /usr/local/lib/python3.10/dist-packages (from torch->torchviz==0.0.2) (3.16.1)\n",
            "Requirement already satisfied: typing-extensions>=4.8.0 in /usr/local/lib/python3.10/dist-packages (from torch->torchviz==0.0.2) (4.12.2)\n",
            "Requirement already satisfied: networkx in /usr/local/lib/python3.10/dist-packages (from torch->torchviz==0.0.2) (3.4.2)\n",
            "Requirement already satisfied: jinja2 in /usr/local/lib/python3.10/dist-packages (from torch->torchviz==0.0.2) (3.1.4)\n",
            "Requirement already satisfied: fsspec in /usr/local/lib/python3.10/dist-packages (from torch->torchviz==0.0.2) (2024.10.0)\n",
            "Requirement already satisfied: sympy==1.13.1 in /usr/local/lib/python3.10/dist-packages (from torch->torchviz==0.0.2) (1.13.1)\n",
            "Requirement already satisfied: mpmath<1.4,>=1.1.0 in /usr/local/lib/python3.10/dist-packages (from sympy==1.13.1->torch->torchviz==0.0.2) (1.3.0)\n",
            "Requirement already satisfied: MarkupSafe>=2.0 in /usr/local/lib/python3.10/dist-packages (from jinja2->torch->torchviz==0.0.2) (3.0.2)\n"
          ]
        }
      ],
      "source": [
        "!pip install graphviz\n",
        "!pip install git+https://github.com/szagoruyko/pytorchviz"
      ]
    },
    {
      "cell_type": "code",
      "execution_count": 47,
      "metadata": {
        "ExecuteTime": {
          "end_time": "2017-11-24T16:28:18.101867",
          "start_time": "2017-11-24T16:28:18.062312"
        },
        "colab": {
          "base_uri": "https://localhost:8080/",
          "height": 0
        },
        "id": "icZLveYLOl20",
        "outputId": "04b74430-40f7-4c01-b72b-a38a25fe0843"
      },
      "outputs": [
        {
          "output_type": "execute_result",
          "data": {
            "text/plain": [
              "tensor(2.2936, grad_fn=<NllLossBackward0>)"
            ]
          },
          "metadata": {},
          "execution_count": 47
        }
      ],
      "source": [
        "from torchviz import make_dot, make_dot_from_trace\n",
        "y_pred = model(Variable(x_train.view(-1,28*28)))\n",
        "loss = criterion(y_pred, Variable(y_train))\n",
        "loss\n"
      ]
    },
    {
      "cell_type": "code",
      "source": [
        "p = make_dot(loss, dict(model.named_parameters()))\n",
        "p"
      ],
      "metadata": {
        "id": "U15ie_7ni0JE",
        "outputId": "6f15e2f9-687c-459a-a240-db02b7a520ae",
        "colab": {
          "base_uri": "https://localhost:8080/",
          "height": 542
        }
      },
      "execution_count": 48,
      "outputs": [
        {
          "output_type": "execute_result",
          "data": {
            "image/svg+xml": "<?xml version=\"1.0\" encoding=\"UTF-8\" standalone=\"no\"?>\n<!DOCTYPE svg PUBLIC \"-//W3C//DTD SVG 1.1//EN\"\n \"http://www.w3.org/Graphics/SVG/1.1/DTD/svg11.dtd\">\n<!-- Generated by graphviz version 2.43.0 (0)\n -->\n<!-- Title: %3 Pages: 1 -->\n<svg width=\"216pt\" height=\"391pt\"\n viewBox=\"0.00 0.00 216.00 391.00\" xmlns=\"http://www.w3.org/2000/svg\" xmlns:xlink=\"http://www.w3.org/1999/xlink\">\n<g id=\"graph0\" class=\"graph\" transform=\"scale(1 1) rotate(0) translate(4 387)\">\n<title>%3</title>\n<polygon fill=\"white\" stroke=\"transparent\" points=\"-4,4 -4,-387 212,-387 212,4 -4,4\"/>\n<!-- 137531597709504 -->\n<g id=\"node1\" class=\"node\">\n<title>137531597709504</title>\n<polygon fill=\"#caff70\" stroke=\"black\" points=\"130.5,-31 76.5,-31 76.5,0 130.5,0 130.5,-31\"/>\n<text text-anchor=\"middle\" x=\"103.5\" y=\"-7\" font-family=\"monospace\" font-size=\"10.00\"> ()</text>\n</g>\n<!-- 137531598318960 -->\n<g id=\"node2\" class=\"node\">\n<title>137531598318960</title>\n<polygon fill=\"lightgrey\" stroke=\"black\" points=\"160,-86 47,-86 47,-67 160,-67 160,-86\"/>\n<text text-anchor=\"middle\" x=\"103.5\" y=\"-74\" font-family=\"monospace\" font-size=\"10.00\">NllLossBackward0</text>\n</g>\n<!-- 137531598318960&#45;&gt;137531597709504 -->\n<g id=\"edge8\" class=\"edge\">\n<title>137531598318960&#45;&gt;137531597709504</title>\n<path fill=\"none\" stroke=\"black\" d=\"M103.5,-66.79C103.5,-60.07 103.5,-50.4 103.5,-41.34\"/>\n<polygon fill=\"black\" stroke=\"black\" points=\"107,-41.19 103.5,-31.19 100,-41.19 107,-41.19\"/>\n</g>\n<!-- 137531598319632 -->\n<g id=\"node3\" class=\"node\">\n<title>137531598319632</title>\n<polygon fill=\"lightgrey\" stroke=\"black\" points=\"169,-141 38,-141 38,-122 169,-122 169,-141\"/>\n<text text-anchor=\"middle\" x=\"103.5\" y=\"-129\" font-family=\"monospace\" font-size=\"10.00\">LogSoftmaxBackward0</text>\n</g>\n<!-- 137531598319632&#45;&gt;137531598318960 -->\n<g id=\"edge1\" class=\"edge\">\n<title>137531598319632&#45;&gt;137531598318960</title>\n<path fill=\"none\" stroke=\"black\" d=\"M103.5,-121.75C103.5,-114.8 103.5,-104.85 103.5,-96.13\"/>\n<polygon fill=\"black\" stroke=\"black\" points=\"107,-96.09 103.5,-86.09 100,-96.09 107,-96.09\"/>\n</g>\n<!-- 137531598314592 -->\n<g id=\"node4\" class=\"node\">\n<title>137531598314592</title>\n<polygon fill=\"lightgrey\" stroke=\"black\" points=\"154,-196 53,-196 53,-177 154,-177 154,-196\"/>\n<text text-anchor=\"middle\" x=\"103.5\" y=\"-184\" font-family=\"monospace\" font-size=\"10.00\">AddmmBackward0</text>\n</g>\n<!-- 137531598314592&#45;&gt;137531598319632 -->\n<g id=\"edge2\" class=\"edge\">\n<title>137531598314592&#45;&gt;137531598319632</title>\n<path fill=\"none\" stroke=\"black\" d=\"M103.5,-176.75C103.5,-169.8 103.5,-159.85 103.5,-151.13\"/>\n<polygon fill=\"black\" stroke=\"black\" points=\"107,-151.09 103.5,-141.09 100,-151.09 107,-151.09\"/>\n</g>\n<!-- 137531598320832 -->\n<g id=\"node5\" class=\"node\">\n<title>137531598320832</title>\n<polygon fill=\"lightgrey\" stroke=\"black\" points=\"101,-251 0,-251 0,-232 101,-232 101,-251\"/>\n<text text-anchor=\"middle\" x=\"50.5\" y=\"-239\" font-family=\"monospace\" font-size=\"10.00\">AccumulateGrad</text>\n</g>\n<!-- 137531598320832&#45;&gt;137531598314592 -->\n<g id=\"edge3\" class=\"edge\">\n<title>137531598320832&#45;&gt;137531598314592</title>\n<path fill=\"none\" stroke=\"black\" d=\"M59.25,-231.75C66.97,-224.03 78.4,-212.6 87.72,-203.28\"/>\n<polygon fill=\"black\" stroke=\"black\" points=\"90.31,-205.64 94.91,-196.09 85.36,-200.69 90.31,-205.64\"/>\n</g>\n<!-- 137535128602640 -->\n<g id=\"node6\" class=\"node\">\n<title>137535128602640</title>\n<polygon fill=\"lightblue\" stroke=\"black\" points=\"77.5,-317 23.5,-317 23.5,-287 77.5,-287 77.5,-317\"/>\n<text text-anchor=\"middle\" x=\"50.5\" y=\"-305\" font-family=\"monospace\" font-size=\"10.00\">bias</text>\n<text text-anchor=\"middle\" x=\"50.5\" y=\"-294\" font-family=\"monospace\" font-size=\"10.00\"> (10)</text>\n</g>\n<!-- 137535128602640&#45;&gt;137531598320832 -->\n<g id=\"edge4\" class=\"edge\">\n<title>137535128602640&#45;&gt;137531598320832</title>\n<path fill=\"none\" stroke=\"black\" d=\"M50.5,-286.84C50.5,-279.21 50.5,-269.7 50.5,-261.45\"/>\n<polygon fill=\"black\" stroke=\"black\" points=\"54,-261.27 50.5,-251.27 47,-261.27 54,-261.27\"/>\n</g>\n<!-- 137531598320784 -->\n<g id=\"node7\" class=\"node\">\n<title>137531598320784</title>\n<polygon fill=\"lightgrey\" stroke=\"black\" points=\"196,-251 119,-251 119,-232 196,-232 196,-251\"/>\n<text text-anchor=\"middle\" x=\"157.5\" y=\"-239\" font-family=\"monospace\" font-size=\"10.00\">TBackward0</text>\n</g>\n<!-- 137531598320784&#45;&gt;137531598314592 -->\n<g id=\"edge5\" class=\"edge\">\n<title>137531598320784&#45;&gt;137531598314592</title>\n<path fill=\"none\" stroke=\"black\" d=\"M148.58,-231.75C140.72,-224.03 129.07,-212.6 119.58,-203.28\"/>\n<polygon fill=\"black\" stroke=\"black\" points=\"121.84,-200.6 112.25,-196.09 116.94,-205.59 121.84,-200.6\"/>\n</g>\n<!-- 137531598319200 -->\n<g id=\"node8\" class=\"node\">\n<title>137531598319200</title>\n<polygon fill=\"lightgrey\" stroke=\"black\" points=\"208,-311.5 107,-311.5 107,-292.5 208,-292.5 208,-311.5\"/>\n<text text-anchor=\"middle\" x=\"157.5\" y=\"-299.5\" font-family=\"monospace\" font-size=\"10.00\">AccumulateGrad</text>\n</g>\n<!-- 137531598319200&#45;&gt;137531598320784 -->\n<g id=\"edge6\" class=\"edge\">\n<title>137531598319200&#45;&gt;137531598320784</title>\n<path fill=\"none\" stroke=\"black\" d=\"M157.5,-292.37C157.5,-284.25 157.5,-271.81 157.5,-261.39\"/>\n<polygon fill=\"black\" stroke=\"black\" points=\"161,-261.17 157.5,-251.17 154,-261.17 161,-261.17\"/>\n</g>\n<!-- 137535128603840 -->\n<g id=\"node9\" class=\"node\">\n<title>137535128603840</title>\n<polygon fill=\"lightblue\" stroke=\"black\" points=\"196,-383 119,-383 119,-353 196,-353 196,-383\"/>\n<text text-anchor=\"middle\" x=\"157.5\" y=\"-371\" font-family=\"monospace\" font-size=\"10.00\">weight</text>\n<text text-anchor=\"middle\" x=\"157.5\" y=\"-360\" font-family=\"monospace\" font-size=\"10.00\"> (10, 784)</text>\n</g>\n<!-- 137535128603840&#45;&gt;137531598319200 -->\n<g id=\"edge7\" class=\"edge\">\n<title>137535128603840&#45;&gt;137531598319200</title>\n<path fill=\"none\" stroke=\"black\" d=\"M157.5,-352.8C157.5,-343.7 157.5,-331.79 157.5,-321.9\"/>\n<polygon fill=\"black\" stroke=\"black\" points=\"161,-321.84 157.5,-311.84 154,-321.84 161,-321.84\"/>\n</g>\n</g>\n</svg>\n",
            "text/plain": [
              "<graphviz.graphs.Digraph at 0x7d15921029b0>"
            ]
          },
          "metadata": {},
          "execution_count": 48
        }
      ]
    },
    {
      "cell_type": "markdown",
      "metadata": {
        "id": "jnUCb6j_Ol23"
      },
      "source": [
        "### Laço de treinamento dos pesos"
      ]
    },
    {
      "cell_type": "code",
      "execution_count": 49,
      "metadata": {
        "ExecuteTime": {
          "end_time": "2017-11-24T15:44:51.678678",
          "start_time": "2017-11-24T15:44:51.427695"
        },
        "id": "g5aavLLTOl24"
      },
      "outputs": [],
      "source": [
        "import numpy\n",
        "losses = []\n",
        "zs = []\n",
        "\n",
        "for i in range(epochs):\n",
        "    # Transforma a entrada para uma dimensão\n",
        "    inputs = Variable(x_train.view(-1, 28 * 28))\n",
        "    # Predict da rede\n",
        "    outputs = model(inputs)\n",
        "\n",
        "    # z0 a z9\n",
        "    zs.append(outputs[1].detach().numpy())\n",
        "\n",
        "    # calcula a perda\n",
        "    loss = criterion(outputs, Variable(y_train))\n",
        "\n",
        "    # zero, backpropagation, ajusta parâmetros pelo gradiente descendente\n",
        "    optimizer.zero_grad()\n",
        "    loss.backward()\n",
        "    optimizer.step()\n",
        "\n",
        "    losses.append(loss.item())\n",
        "\n",
        "    _, predicts = torch.max(outputs, 1)\n",
        "\n",
        "    y_pred = predicts.data\n",
        "    accuracy = (y_pred.numpy() == y_train.numpy()).mean()\n"
      ]
    },
    {
      "cell_type": "code",
      "execution_count": 50,
      "metadata": {
        "ExecuteTime": {
          "end_time": "2017-11-24T15:44:51.685301",
          "start_time": "2017-11-24T15:44:51.680419"
        },
        "colab": {
          "base_uri": "https://localhost:8080/",
          "height": 0
        },
        "id": "menkKvteOl27",
        "outputId": "d1f7790c-61a7-4426-cc60-ca6cc2073846"
      },
      "outputs": [
        {
          "output_type": "stream",
          "name": "stdout",
          "text": [
            "Final loss: 0.2653154730796814\n"
          ]
        }
      ],
      "source": [
        "print('Final loss:', loss.item())"
      ]
    },
    {
      "cell_type": "markdown",
      "metadata": {
        "id": "j1pLKxlqOl3F"
      },
      "source": [
        "### Visualizando gráfico de perda durante o treinamento"
      ]
    },
    {
      "cell_type": "code",
      "execution_count": 51,
      "metadata": {
        "ExecuteTime": {
          "end_time": "2017-11-24T15:44:56.787741",
          "start_time": "2017-11-24T15:44:56.627754"
        },
        "colab": {
          "base_uri": "https://localhost:8080/",
          "height": 448
        },
        "id": "UlivLNgcOl3G",
        "outputId": "2e9f8edd-6c79-4624-efa3-0b95aff9235a"
      },
      "outputs": [
        {
          "output_type": "execute_result",
          "data": {
            "text/plain": [
              "[<matplotlib.lines.Line2D at 0x7d1592101030>]"
            ]
          },
          "metadata": {},
          "execution_count": 51
        },
        {
          "output_type": "display_data",
          "data": {
            "text/plain": [
              "<Figure size 640x480 with 1 Axes>"
            ],
            "image/png": "[encoded data removed]"
          },
          "metadata": {}
        }
      ],
      "source": [
        "plt.plot(losses)"
      ]
    },
    {
      "cell_type": "markdown",
      "metadata": {
        "id": "zUTfdh5VOl3N"
      },
      "source": [
        "## Avaliação"
      ]
    },
    {
      "cell_type": "markdown",
      "metadata": {
        "id": "XgFPZ9hNOl3O"
      },
      "source": [
        "### Acurácia tanto no conjunto de treinamento como no conjunto de testes"
      ]
    },
    {
      "cell_type": "code",
      "execution_count": 52,
      "metadata": {
        "ExecuteTime": {
          "end_time": "2017-11-24T15:50:29.922115",
          "start_time": "2017-11-24T15:50:29.914004"
        },
        "colab": {
          "base_uri": "https://localhost:8080/",
          "height": 0
        },
        "id": "JMo5hSBhOl3P",
        "outputId": "e223bbeb-49a9-4e0b-fd1d-9bd7a7e8e18e"
      },
      "outputs": [
        {
          "output_type": "stream",
          "name": "stdout",
          "text": [
            "Accuracy: 0.942\n"
          ]
        }
      ],
      "source": [
        "def predict(model, input_data):\n",
        "    outputs = model(Variable(input_data))\n",
        "    _, predicts = torch.max(outputs, 1)\n",
        "\n",
        "    return predicts.data\n",
        "\n",
        "y_pred = predict(model, x_train.view(-1, 28*28))\n",
        "accuracy = (y_pred.numpy() == y_train.numpy()).mean()\n",
        "print('Accuracy:', accuracy)"
      ]
    },
    {
      "cell_type": "markdown",
      "metadata": {
        "id": "Po0mlGpCOl3W"
      },
      "source": [
        "### Matriz de confusão com dados de treinamento e teste"
      ]
    },
    {
      "cell_type": "code",
      "execution_count": 53,
      "metadata": {
        "ExecuteTime": {
          "end_time": "2017-11-24T15:51:40.706177",
          "start_time": "2017-11-24T15:51:40.679474"
        },
        "colab": {
          "base_uri": "https://localhost:8080/",
          "height": 412
        },
        "id": "PtA3ZAUjOl3X",
        "outputId": "3166115b-02ba-41d3-fbb9-3fabb0c8b8a8"
      },
      "outputs": [
        {
          "output_type": "stream",
          "name": "stdout",
          "text": [
            "Matriz de confusão:\n"
          ]
        },
        {
          "output_type": "execute_result",
          "data": {
            "text/plain": [
              "col_0   0    1   2   3    4   5   6    7   8   9\n",
              "row_0                                           \n",
              "0      96    0   1   0    0   0   1    0   0   2\n",
              "1       0  111   1   0    0   0   1    3   1   0\n",
              "2       0    0  91   1    0   1   0    1   2   1\n",
              "3       0    0   0  88    0   2   0    0   0   0\n",
              "4       0    0   1   0  102   2   0    2   0   3\n",
              "5       0    2   0   1    0  81   0    0   2   1\n",
              "6       1    0   1   1    2   2  91    0   0   0\n",
              "7       0    1   1   1    0   0   0  110   0   3\n",
              "8       0    2   2   0    0   2   1    0  82   0\n",
              "9       0    0   1   1    1   2   0    1   0  90"
            ],
            "text/html": [
              "\n",
              "  <div id=\"df-6c9a76a6-9cd9-42c1-b37a-f19af36e4756\" class=\"colab-df-container\">\n",
              "    <div>\n",
              "<style scoped>\n",
              "    .dataframe tbody tr th:only-of-type {\n",
              "        vertical-align: middle;\n",
              "    }\n",
              "\n",
              "    .dataframe tbody tr th {\n",
              "        vertical-align: top;\n",
              "    }\n",
              "\n",
              "    .dataframe thead th {\n",
              "        text-align: right;\n",
              "    }\n",
              "</style>\n",
              "<table border=\"1\" class=\"dataframe\">\n",
              "  <thead>\n",
              "    <tr style=\"text-align: right;\">\n",
              "      <th>col_0</th>\n",
              "      <th>0</th>\n",
              "      <th>1</th>\n",
              "      <th>2</th>\n",
              "      <th>3</th>\n",
              "      <th>4</th>\n",
              "      <th>5</th>\n",
              "      <th>6</th>\n",
              "      <th>7</th>\n",
              "      <th>8</th>\n",
              "      <th>9</th>\n",
              "    </tr>\n",
              "    <tr>\n",
              "      <th>row_0</th>\n",
              "      <th></th>\n",
              "      <th></th>\n",
              "      <th></th>\n",
              "      <th></th>\n",
              "      <th></th>\n",
              "      <th></th>\n",
              "      <th></th>\n",
              "      <th></th>\n",
              "      <th></th>\n",
              "      <th></th>\n",
              "    </tr>\n",
              "  </thead>\n",
              "  <tbody>\n",
              "    <tr>\n",
              "      <th>0</th>\n",
              "      <td>96</td>\n",
              "      <td>0</td>\n",
              "      <td>1</td>\n",
              "      <td>0</td>\n",
              "      <td>0</td>\n",
              "      <td>0</td>\n",
              "      <td>1</td>\n",
              "      <td>0</td>\n",
              "      <td>0</td>\n",
              "      <td>2</td>\n",
              "    </tr>\n",
              "    <tr>\n",
              "      <th>1</th>\n",
              "      <td>0</td>\n",
              "      <td>111</td>\n",
              "      <td>1</td>\n",
              "      <td>0</td>\n",
              "      <td>0</td>\n",
              "      <td>0</td>\n",
              "      <td>1</td>\n",
              "      <td>3</td>\n",
              "      <td>1</td>\n",
              "      <td>0</td>\n",
              "    </tr>\n",
              "    <tr>\n",
              "      <th>2</th>\n",
              "      <td>0</td>\n",
              "      <td>0</td>\n",
              "      <td>91</td>\n",
              "      <td>1</td>\n",
              "      <td>0</td>\n",
              "      <td>1</td>\n",
              "      <td>0</td>\n",
              "      <td>1</td>\n",
              "      <td>2</td>\n",
              "      <td>1</td>\n",
              "    </tr>\n",
              "    <tr>\n",
              "      <th>3</th>\n",
              "      <td>0</td>\n",
              "      <td>0</td>\n",
              "      <td>0</td>\n",
              "      <td>88</td>\n",
              "      <td>0</td>\n",
              "      <td>2</td>\n",
              "      <td>0</td>\n",
              "      <td>0</td>\n",
              "      <td>0</td>\n",
              "      <td>0</td>\n",
              "    </tr>\n",
              "    <tr>\n",
              "      <th>4</th>\n",
              "      <td>0</td>\n",
              "      <td>0</td>\n",
              "      <td>1</td>\n",
              "      <td>0</td>\n",
              "      <td>102</td>\n",
              "      <td>2</td>\n",
              "      <td>0</td>\n",
              "      <td>2</td>\n",
              "      <td>0</td>\n",
              "      <td>3</td>\n",
              "    </tr>\n",
              "    <tr>\n",
              "      <th>5</th>\n",
              "      <td>0</td>\n",
              "      <td>2</td>\n",
              "      <td>0</td>\n",
              "      <td>1</td>\n",
              "      <td>0</td>\n",
              "      <td>81</td>\n",
              "      <td>0</td>\n",
              "      <td>0</td>\n",
              "      <td>2</td>\n",
              "      <td>1</td>\n",
              "    </tr>\n",
              "    <tr>\n",
              "      <th>6</th>\n",
              "      <td>1</td>\n",
              "      <td>0</td>\n",
              "      <td>1</td>\n",
              "      <td>1</td>\n",
              "      <td>2</td>\n",
              "      <td>2</td>\n",
              "      <td>91</td>\n",
              "      <td>0</td>\n",
              "      <td>0</td>\n",
              "      <td>0</td>\n",
              "    </tr>\n",
              "    <tr>\n",
              "      <th>7</th>\n",
              "      <td>0</td>\n",
              "      <td>1</td>\n",
              "      <td>1</td>\n",
              "      <td>1</td>\n",
              "      <td>0</td>\n",
              "      <td>0</td>\n",
              "      <td>0</td>\n",
              "      <td>110</td>\n",
              "      <td>0</td>\n",
              "      <td>3</td>\n",
              "    </tr>\n",
              "    <tr>\n",
              "      <th>8</th>\n",
              "      <td>0</td>\n",
              "      <td>2</td>\n",
              "      <td>2</td>\n",
              "      <td>0</td>\n",
              "      <td>0</td>\n",
              "      <td>2</td>\n",
              "      <td>1</td>\n",
              "      <td>0</td>\n",
              "      <td>82</td>\n",
              "      <td>0</td>\n",
              "    </tr>\n",
              "    <tr>\n",
              "      <th>9</th>\n",
              "      <td>0</td>\n",
              "      <td>0</td>\n",
              "      <td>1</td>\n",
              "      <td>1</td>\n",
              "      <td>1</td>\n",
              "      <td>2</td>\n",
              "      <td>0</td>\n",
              "      <td>1</td>\n",
              "      <td>0</td>\n",
              "      <td>90</td>\n",
              "    </tr>\n",
              "  </tbody>\n",
              "</table>\n",
              "</div>\n",
              "    <div class=\"colab-df-buttons\">\n",
              "\n",
              "  <div class=\"colab-df-container\">\n",
              "    <button class=\"colab-df-convert\" onclick=\"convertToInteractive('df-6c9a76a6-9cd9-42c1-b37a-f19af36e4756')\"\n",
              "            title=\"Convert this dataframe to an interactive table.\"\n",
              "            style=\"display:none;\">\n",
              "\n",
              "  <svg xmlns=\"http://www.w3.org/2000/svg\" height=\"24px\" viewBox=\"0 -960 960 960\">\n",
              "    <path d=\"M120-120v-720h720v720H120Zm60-500h600v-160H180v160Zm220 220h160v-160H400v160Zm0 220h160v-160H400v160ZM180-400h160v-160H180v160Zm440 0h160v-160H620v160ZM180-180h160v-160H180v160Zm440 0h160v-160H620v160Z\"/>\n",
              "  </svg>\n",
              "    </button>\n",
              "\n",
              "  <style>\n",
              "    .colab-df-container {\n",
              "      display:flex;\n",
              "      gap: 12px;\n",
              "    }\n",
              "\n",
              "    .colab-df-convert {\n",
              "      background-color: #E8F0FE;\n",
              "      border: none;\n",
              "      border-radius: 50%;\n",
              "      cursor: pointer;\n",
              "      display: none;\n",
              "      fill: #1967D2;\n",
              "      height: 32px;\n",
              "      padding: 0 0 0 0;\n",
              "      width: 32px;\n",
              "    }\n",
              "\n",
              "    .colab-df-convert:hover {\n",
              "      background-color: #E2EBFA;\n",
              "      box-shadow: 0px 1px 2px rgba(60, 64, 67, 0.3), 0px 1px 3px 1px rgba(60, 64, 67, 0.15);\n",
              "      fill: #174EA6;\n",
              "    }\n",
              "\n",
              "    .colab-df-buttons div {\n",
              "      margin-bottom: 4px;\n",
              "    }\n",
              "\n",
              "    [theme=dark] .colab-df-convert {\n",
              "      background-color: #3B4455;\n",
              "      fill: #D2E3FC;\n",
              "    }\n",
              "\n",
              "    [theme=dark] .colab-df-convert:hover {\n",
              "      background-color: #434B5C;\n",
              "      box-shadow: 0px 1px 3px 1px rgba(0, 0, 0, 0.15);\n",
              "      filter: drop-shadow(0px 1px 2px rgba(0, 0, 0, 0.3));\n",
              "      fill: #FFFFFF;\n",
              "    }\n",
              "  </style>\n",
              "\n",
              "    <script>\n",
              "      const buttonEl =\n",
              "        document.querySelector('#df-6c9a76a6-9cd9-42c1-b37a-f19af36e4756 button.colab-df-convert');\n",
              "      buttonEl.style.display =\n",
              "        google.colab.kernel.accessAllowed ? 'block' : 'none';\n",
              "\n",
              "      async function convertToInteractive(key) {\n",
              "        const element = document.querySelector('#df-6c9a76a6-9cd9-42c1-b37a-f19af36e4756');\n",
              "        const dataTable =\n",
              "          await google.colab.kernel.invokeFunction('convertToInteractive',\n",
              "                                                    [key], {});\n",
              "        if (!dataTable) return;\n",
              "\n",
              "        const docLinkHtml = 'Like what you see? Visit the ' +\n",
              "          '<a target=\"_blank\" href=https://colab.research.google.com/notebooks/data_table.ipynb>data table notebook</a>'\n",
              "          + ' to learn more about interactive tables.';\n",
              "        element.innerHTML = '';\n",
              "        dataTable['output_type'] = 'display_data';\n",
              "        await google.colab.output.renderOutput(dataTable, element);\n",
              "        const docLink = document.createElement('div');\n",
              "        docLink.innerHTML = docLinkHtml;\n",
              "        element.appendChild(docLink);\n",
              "      }\n",
              "    </script>\n",
              "  </div>\n",
              "\n",
              "\n",
              "<div id=\"df-3b5f82f0-85ee-4319-91f5-bd1cc338fd29\">\n",
              "  <button class=\"colab-df-quickchart\" onclick=\"quickchart('df-3b5f82f0-85ee-4319-91f5-bd1cc338fd29')\"\n",
              "            title=\"Suggest charts\"\n",
              "            style=\"display:none;\">\n",
              "\n",
              "<svg xmlns=\"http://www.w3.org/2000/svg\" height=\"24px\"viewBox=\"0 0 24 24\"\n",
              "     width=\"24px\">\n",
              "    <g>\n",
              "        <path d=\"M19 3H5c-1.1 0-2 .9-2 2v14c0 1.1.9 2 2 2h14c1.1 0 2-.9 2-2V5c0-1.1-.9-2-2-2zM9 17H7v-7h2v7zm4 0h-2V7h2v10zm4 0h-2v-4h2v4z\"/>\n",
              "    </g>\n",
              "</svg>\n",
              "  </button>\n",
              "\n",
              "<style>\n",
              "  .colab-df-quickchart {\n",
              "      --bg-color: #E8F0FE;\n",
              "      --fill-color: #1967D2;\n",
              "      --hover-bg-color: #E2EBFA;\n",
              "      --hover-fill-color: #174EA6;\n",
              "      --disabled-fill-color: #AAA;\n",
              "      --disabled-bg-color: #DDD;\n",
              "  }\n",
              "\n",
              "  [theme=dark] .colab-df-quickchart {\n",
              "      --bg-color: #3B4455;\n",
              "      --fill-color: #D2E3FC;\n",
              "      --hover-bg-color: #434B5C;\n",
              "      --hover-fill-color: #FFFFFF;\n",
              "      --disabled-bg-color: #3B4455;\n",
              "      --disabled-fill-color: #666;\n",
              "  }\n",
              "\n",
              "  .colab-df-quickchart {\n",
              "    background-color: var(--bg-color);\n",
              "    border: none;\n",
              "    border-radius: 50%;\n",
              "    cursor: pointer;\n",
              "    display: none;\n",
              "    fill: var(--fill-color);\n",
              "    height: 32px;\n",
              "    padding: 0;\n",
              "    width: 32px;\n",
              "  }\n",
              "\n",
              "  .colab-df-quickchart:hover {\n",
              "    background-color: var(--hover-bg-color);\n",
              "    box-shadow: 0 1px 2px rgba(60, 64, 67, 0.3), 0 1px 3px 1px rgba(60, 64, 67, 0.15);\n",
              "    fill: var(--button-hover-fill-color);\n",
              "  }\n",
              "\n",
              "  .colab-df-quickchart-complete:disabled,\n",
              "  .colab-df-quickchart-complete:disabled:hover {\n",
              "    background-color: var(--disabled-bg-color);\n",
              "    fill: var(--disabled-fill-color);\n",
              "    box-shadow: none;\n",
              "  }\n",
              "\n",
              "  .colab-df-spinner {\n",
              "    border: 2px solid var(--fill-color);\n",
              "    border-color: transparent;\n",
              "    border-bottom-color: var(--fill-color);\n",
              "    animation:\n",
              "      spin 1s steps(1) infinite;\n",
              "  }\n",
              "\n",
              "  @keyframes spin {\n",
              "    0% {\n",
              "      border-color: transparent;\n",
              "      border-bottom-color: var(--fill-color);\n",
              "      border-left-color: var(--fill-color);\n",
              "    }\n",
              "    20% {\n",
              "      border-color: transparent;\n",
              "      border-left-color: var(--fill-color);\n",
              "      border-top-color: var(--fill-color);\n",
              "    }\n",
              "    30% {\n",
              "      border-color: transparent;\n",
              "      border-left-color: var(--fill-color);\n",
              "      border-top-color: var(--fill-color);\n",
              "      border-right-color: var(--fill-color);\n",
              "    }\n",
              "    40% {\n",
              "      border-color: transparent;\n",
              "      border-right-color: var(--fill-color);\n",
              "      border-top-color: var(--fill-color);\n",
              "    }\n",
              "    60% {\n",
              "      border-color: transparent;\n",
              "      border-right-color: var(--fill-color);\n",
              "    }\n",
              "    80% {\n",
              "      border-color: transparent;\n",
              "      border-right-color: var(--fill-color);\n",
              "      border-bottom-color: var(--fill-color);\n",
              "    }\n",
              "    90% {\n",
              "      border-color: transparent;\n",
              "      border-bottom-color: var(--fill-color);\n",
              "    }\n",
              "  }\n",
              "</style>\n",
              "\n",
              "  <script>\n",
              "    async function quickchart(key) {\n",
              "      const quickchartButtonEl =\n",
              "        document.querySelector('#' + key + ' button');\n",
              "      quickchartButtonEl.disabled = true;  // To prevent multiple clicks.\n",
              "      quickchartButtonEl.classList.add('colab-df-spinner');\n",
              "      try {\n",
              "        const charts = await google.colab.kernel.invokeFunction(\n",
              "            'suggestCharts', [key], {});\n",
              "      } catch (error) {\n",
              "        console.error('Error during call to suggestCharts:', error);\n",
              "      }\n",
              "      quickchartButtonEl.classList.remove('colab-df-spinner');\n",
              "      quickchartButtonEl.classList.add('colab-df-quickchart-complete');\n",
              "    }\n",
              "    (() => {\n",
              "      let quickchartButtonEl =\n",
              "        document.querySelector('#df-3b5f82f0-85ee-4319-91f5-bd1cc338fd29 button');\n",
              "      quickchartButtonEl.style.display =\n",
              "        google.colab.kernel.accessAllowed ? 'block' : 'none';\n",
              "    })();\n",
              "  </script>\n",
              "</div>\n",
              "\n",
              "    </div>\n",
              "  </div>\n"
            ],
            "application/vnd.google.colaboratory.intrinsic+json": {
              "type": "dataframe",
              "summary": "{\n  \"name\": \"pd\",\n  \"rows\": 10,\n  \"fields\": [\n    {\n      \"column\": \"row_0\",\n      \"properties\": {\n        \"dtype\": \"number\",\n        \"std\": 3,\n        \"min\": 0,\n        \"max\": 9,\n        \"num_unique_values\": 10,\n        \"samples\": [\n          8,\n          1,\n          5\n        ],\n        \"semantic_type\": \"\",\n        \"description\": \"\"\n      }\n    },\n    {\n      \"column\": 0,\n      \"properties\": {\n        \"dtype\": \"number\",\n        \"std\": 30,\n        \"min\": 0,\n        \"max\": 96,\n        \"num_unique_values\": 3,\n        \"samples\": [\n          96,\n          0,\n          1\n        ],\n        \"semantic_type\": \"\",\n        \"description\": \"\"\n      }\n    },\n    {\n      \"column\": 1,\n      \"properties\": {\n        \"dtype\": \"number\",\n        \"std\": 34,\n        \"min\": 0,\n        \"max\": 111,\n        \"num_unique_values\": 4,\n        \"samples\": [\n          111,\n          1,\n          0\n        ],\n        \"semantic_type\": \"\",\n        \"description\": \"\"\n      }\n    },\n    {\n      \"column\": 2,\n      \"properties\": {\n        \"dtype\": \"number\",\n        \"std\": 28,\n        \"min\": 0,\n        \"max\": 91,\n        \"num_unique_values\": 4,\n        \"samples\": [\n          91,\n          2,\n          1\n        ],\n        \"semantic_type\": \"\",\n        \"description\": \"\"\n      }\n    },\n    {\n      \"column\": 3,\n      \"properties\": {\n        \"dtype\": \"number\",\n        \"std\": 27,\n        \"min\": 0,\n        \"max\": 88,\n        \"num_unique_values\": 3,\n        \"samples\": [\n          0,\n          1,\n          88\n        ],\n        \"semantic_type\": \"\",\n        \"description\": \"\"\n      }\n    },\n    {\n      \"column\": 4,\n      \"properties\": {\n        \"dtype\": \"number\",\n        \"std\": 32,\n        \"min\": 0,\n        \"max\": 102,\n        \"num_unique_values\": 4,\n        \"samples\": [\n          102,\n          1,\n          0\n        ],\n        \"semantic_type\": \"\",\n        \"description\": \"\"\n      }\n    },\n    {\n      \"column\": 5,\n      \"properties\": {\n        \"dtype\": \"number\",\n        \"std\": 25,\n        \"min\": 0,\n        \"max\": 81,\n        \"num_unique_values\": 4,\n        \"samples\": [\n          1,\n          81,\n          0\n        ],\n        \"semantic_type\": \"\",\n        \"description\": \"\"\n      }\n    },\n    {\n      \"column\": 6,\n      \"properties\": {\n        \"dtype\": \"number\",\n        \"std\": 28,\n        \"min\": 0,\n        \"max\": 91,\n        \"num_unique_values\": 3,\n        \"samples\": [\n          1,\n          0,\n          91\n        ],\n        \"semantic_type\": \"\",\n        \"description\": \"\"\n      }\n    },\n    {\n      \"column\": 7,\n      \"properties\": {\n        \"dtype\": \"number\",\n        \"std\": 34,\n        \"min\": 0,\n        \"max\": 110,\n        \"num_unique_values\": 5,\n        \"samples\": [\n          3,\n          110,\n          1\n        ],\n        \"semantic_type\": \"\",\n        \"description\": \"\"\n      }\n    },\n    {\n      \"column\": 8,\n      \"properties\": {\n        \"dtype\": \"number\",\n        \"std\": 25,\n        \"min\": 0,\n        \"max\": 82,\n        \"num_unique_values\": 4,\n        \"samples\": [\n          1,\n          82,\n          0\n        ],\n        \"semantic_type\": \"\",\n        \"description\": \"\"\n      }\n    },\n    {\n      \"column\": 9,\n      \"properties\": {\n        \"dtype\": \"number\",\n        \"std\": 28,\n        \"min\": 0,\n        \"max\": 90,\n        \"num_unique_values\": 5,\n        \"samples\": [\n          0,\n          90,\n          1\n        ],\n        \"semantic_type\": \"\",\n        \"description\": \"\"\n      }\n    }\n  ]\n}"
            }
          },
          "metadata": {},
          "execution_count": 53
        }
      ],
      "source": [
        "print('Matriz de confusão:')\n",
        "pd.crosstab(y_pred.numpy(), y_train.numpy())"
      ]
    },
    {
      "cell_type": "markdown",
      "metadata": {
        "id": "6Df5Xz6rOl3c"
      },
      "source": [
        "## Visualizando a matriz de pesos treinados"
      ]
    },
    {
      "cell_type": "markdown",
      "metadata": {
        "id": "DLo6HaWGOl3n"
      },
      "source": [
        "Observe que a matriz de peso treinado para cada classe mostra a importância dos pesos associados aos caracteres de cada classe."
      ]
    },
    {
      "cell_type": "code",
      "execution_count": 54,
      "metadata": {
        "ExecuteTime": {
          "end_time": "2017-11-24T16:34:49.367135",
          "start_time": "2017-11-24T16:34:49.204452"
        },
        "colab": {
          "base_uri": "https://localhost:8080/",
          "height": 466
        },
        "id": "uoBSV4EqOl3q",
        "outputId": "a0484ad7-b16b-4508-cb59-7a56b5b6bde1"
      },
      "outputs": [
        {
          "output_type": "stream",
          "name": "stdout",
          "text": [
            "weights: torch.Size([10, 784])\n",
            "bias:    torch.Size([10])\n"
          ]
        },
        {
          "output_type": "display_data",
          "data": {
            "text/plain": [
              "<Figure size 640x480 with 1 Axes>"
            ],
            "image/png": "[encoded data removed]"
          },
          "metadata": {}
        }
      ],
      "source": [
        "weights = model.state_dict()['weight']\n",
        "print('weights:', weights.shape)\n",
        "\n",
        "bias = model.state_dict()['bias']\n",
        "print('bias:   ', bias.shape)\n",
        "\n",
        "# Visualizando pesos da classe 3\n",
        "plt.imshow(weights[3, :].numpy().reshape((28,28)),cmap = 'gray')\n",
        "plt.show()"
      ]
    },
    {
      "cell_type": "markdown",
      "metadata": {
        "id": "eN6W4vnfOl3w"
      },
      "source": [
        "### Visualizando os pesos de todas as classes"
      ]
    },
    {
      "cell_type": "code",
      "execution_count": 55,
      "metadata": {
        "ExecuteTime": {
          "end_time": "2017-11-24T16:34:50.240218",
          "start_time": "2017-11-24T16:34:50.025515"
        },
        "colab": {
          "base_uri": "https://localhost:8080/",
          "height": 147
        },
        "id": "0Vz_WwiDOl3x",
        "outputId": "c6387fb0-d976-448a-c7b3-0fcf6345b7f0"
      },
      "outputs": [
        {
          "output_type": "display_data",
          "data": {
            "text/plain": [
              "<Figure size 1500x1000 with 1 Axes>"
            ],
            "image/png": "[encoded data removed]"
          },
          "metadata": {}
        }
      ],
      "source": [
        "# cria um grid com as imagens\n",
        "grid = torchvision.utils.make_grid(weights.view(-1, 1, 28, 28), normalize=True, pad_value=1.0, padding=1, nrow=10)\n",
        "\n",
        "plt.figure(figsize=(15, 10))\n",
        "plt.imshow(grid.numpy().transpose(1, 2, 0))\n",
        "plt.axis('off');"
      ]
    },
    {
      "cell_type": "markdown",
      "metadata": {
        "id": "IAwjpjUzOl3z"
      },
      "source": [
        "### Diagrama da regressão softmax com visualização dos pesos W"
      ]
    },
    {
      "cell_type": "markdown",
      "metadata": {
        "id": "Io0kz0bDOl31"
      },
      "source": [
        "![alt text](https://raw.githubusercontent.com/vcasadei/images/master/RegressaoSoftmaxArgmaxNMIST.png)"
      ]
    },
    {
      "cell_type": "markdown",
      "metadata": {
        "id": "KKKZDmIvOl31"
      },
      "source": [
        "# Atividades"
      ]
    },
    {
      "cell_type": "markdown",
      "metadata": {
        "id": "fMcK8rnnOl31"
      },
      "source": [
        "## Exercícios"
      ]
    },
    {
      "cell_type": "markdown",
      "metadata": {
        "id": "bcYvj-5dOl4I"
      },
      "source": [
        "- 1) Insira código no laço do treinamento para que no final de cada época,\n",
        "     seja impresso: o número da época e a perda e a acurácia"
      ]
    },
    {
      "cell_type": "code",
      "source": [
        "losses = []\n",
        "zs = []\n",
        "\n",
        "for i in range(epochs):\n",
        "    # Transformar a entrada para uma dimensão\n",
        "    inputs = Variable(x_train.view(-1, 28 * 28))\n",
        "    # Predição da rede\n",
        "    outputs = model(inputs)\n",
        "\n",
        "    # z0 a z9\n",
        "    zs.append(outputs[1].detach().numpy())\n",
        "\n",
        "    # Calcular a perda\n",
        "    loss = criterion(outputs, Variable(y_train))\n",
        "\n",
        "    # Zero, backpropagation, ajustar parâmetros pelo gradiente descendente\n",
        "    optimizer.zero_grad()\n",
        "    loss.backward()\n",
        "    optimizer.step()\n",
        "\n",
        "    losses.append(loss.item())\n",
        "\n",
        "    _, predicts = torch.max(outputs, 1)\n",
        "\n",
        "    y_pred = predicts.data\n",
        "    accuracy = (y_pred.numpy() == y_train.numpy()).mean()\n",
        "\n",
        "    # Imprimir o número da época, a perda e a acurácia\n",
        "    print(f'Época [{i+1}/{epochs}], Perda: {loss.item():.4f}, Acurácia: {accuracy:.4f}')\n",
        ""
      ],
      "metadata": {
        "colab": {
          "base_uri": "https://localhost:8080/",
          "height": 0
        },
        "id": "GuWNYx92z03_",
        "outputId": "b8d94f26-47a7-4406-9443-688801e7a368"
      },
      "execution_count": 61,
      "outputs": [
        {
          "output_type": "stream",
          "name": "stdout",
          "text": [
            "Época [1/100], Perda: 0.0876, Acurácia: 0.9960\n",
            "Época [2/100], Perda: 0.0874, Acurácia: 0.9960\n",
            "Época [3/100], Perda: 0.0872, Acurácia: 0.9960\n",
            "Época [4/100], Perda: 0.0871, Acurácia: 0.9960\n",
            "Época [5/100], Perda: 0.0869, Acurácia: 0.9960\n",
            "Época [6/100], Perda: 0.0868, Acurácia: 0.9960\n",
            "Época [7/100], Perda: 0.0866, Acurácia: 0.9960\n",
            "Época [8/100], Perda: 0.0865, Acurácia: 0.9960\n",
            "Época [9/100], Perda: 0.0863, Acurácia: 0.9970\n",
            "Época [10/100], Perda: 0.0862, Acurácia: 0.9970\n",
            "Época [11/100], Perda: 0.0860, Acurácia: 0.9970\n",
            "Época [12/100], Perda: 0.0859, Acurácia: 0.9970\n",
            "Época [13/100], Perda: 0.0857, Acurácia: 0.9970\n",
            "Época [14/100], Perda: 0.0856, Acurácia: 0.9970\n",
            "Época [15/100], Perda: 0.0854, Acurácia: 0.9970\n",
            "Época [16/100], Perda: 0.0853, Acurácia: 0.9970\n",
            "Época [17/100], Perda: 0.0851, Acurácia: 0.9970\n",
            "Época [18/100], Perda: 0.0850, Acurácia: 0.9970\n",
            "Época [19/100], Perda: 0.0848, Acurácia: 0.9970\n",
            "Época [20/100], Perda: 0.0847, Acurácia: 0.9970\n",
            "Época [21/100], Perda: 0.0845, Acurácia: 0.9970\n",
            "Época [22/100], Perda: 0.0844, Acurácia: 0.9970\n",
            "Época [23/100], Perda: 0.0842, Acurácia: 0.9970\n",
            "Época [24/100], Perda: 0.0841, Acurácia: 0.9970\n",
            "Época [25/100], Perda: 0.0839, Acurácia: 0.9970\n",
            "Época [26/100], Perda: 0.0838, Acurácia: 0.9970\n",
            "Época [27/100], Perda: 0.0836, Acurácia: 0.9970\n",
            "Época [28/100], Perda: 0.0835, Acurácia: 0.9970\n",
            "Época [29/100], Perda: 0.0833, Acurácia: 0.9980\n",
            "Época [30/100], Perda: 0.0832, Acurácia: 0.9980\n",
            "Época [31/100], Perda: 0.0831, Acurácia: 0.9980\n",
            "Época [32/100], Perda: 0.0829, Acurácia: 0.9980\n",
            "Época [33/100], Perda: 0.0828, Acurácia: 0.9980\n",
            "Época [34/100], Perda: 0.0826, Acurácia: 0.9980\n",
            "Época [35/100], Perda: 0.0825, Acurácia: 0.9980\n",
            "Época [36/100], Perda: 0.0824, Acurácia: 0.9980\n",
            "Época [37/100], Perda: 0.0822, Acurácia: 0.9980\n",
            "Época [38/100], Perda: 0.0821, Acurácia: 0.9980\n",
            "Época [39/100], Perda: 0.0819, Acurácia: 0.9980\n",
            "Época [40/100], Perda: 0.0818, Acurácia: 0.9980\n",
            "Época [41/100], Perda: 0.0817, Acurácia: 0.9980\n",
            "Época [42/100], Perda: 0.0815, Acurácia: 0.9980\n",
            "Época [43/100], Perda: 0.0814, Acurácia: 0.9980\n",
            "Época [44/100], Perda: 0.0812, Acurácia: 0.9980\n",
            "Época [45/100], Perda: 0.0811, Acurácia: 0.9980\n",
            "Época [46/100], Perda: 0.0810, Acurácia: 0.9980\n",
            "Época [47/100], Perda: 0.0808, Acurácia: 0.9980\n",
            "Época [48/100], Perda: 0.0807, Acurácia: 0.9980\n",
            "Época [49/100], Perda: 0.0806, Acurácia: 0.9980\n",
            "Época [50/100], Perda: 0.0804, Acurácia: 0.9980\n",
            "Época [51/100], Perda: 0.0803, Acurácia: 0.9980\n",
            "Época [52/100], Perda: 0.0802, Acurácia: 0.9980\n",
            "Época [53/100], Perda: 0.0800, Acurácia: 0.9980\n",
            "Época [54/100], Perda: 0.0799, Acurácia: 0.9980\n",
            "Época [55/100], Perda: 0.0798, Acurácia: 0.9980\n",
            "Época [56/100], Perda: 0.0796, Acurácia: 0.9980\n",
            "Época [57/100], Perda: 0.0795, Acurácia: 0.9980\n",
            "Época [58/100], Perda: 0.0794, Acurácia: 0.9980\n",
            "Época [59/100], Perda: 0.0792, Acurácia: 0.9980\n",
            "Época [60/100], Perda: 0.0791, Acurácia: 0.9980\n",
            "Época [61/100], Perda: 0.0790, Acurácia: 0.9980\n",
            "Época [62/100], Perda: 0.0788, Acurácia: 0.9980\n",
            "Época [63/100], Perda: 0.0787, Acurácia: 0.9980\n",
            "Época [64/100], Perda: 0.0786, Acurácia: 0.9980\n",
            "Época [65/100], Perda: 0.0785, Acurácia: 0.9980\n",
            "Época [66/100], Perda: 0.0783, Acurácia: 0.9980\n",
            "Época [67/100], Perda: 0.0782, Acurácia: 0.9980\n",
            "Época [68/100], Perda: 0.0781, Acurácia: 0.9980\n",
            "Época [69/100], Perda: 0.0780, Acurácia: 0.9980\n",
            "Época [70/100], Perda: 0.0778, Acurácia: 0.9980\n",
            "Época [71/100], Perda: 0.0777, Acurácia: 0.9980\n",
            "Época [72/100], Perda: 0.0776, Acurácia: 0.9980\n",
            "Época [73/100], Perda: 0.0774, Acurácia: 0.9980\n",
            "Época [74/100], Perda: 0.0773, Acurácia: 0.9980\n",
            "Época [75/100], Perda: 0.0772, Acurácia: 0.9980\n",
            "Época [76/100], Perda: 0.0771, Acurácia: 0.9980\n",
            "Época [77/100], Perda: 0.0770, Acurácia: 0.9980\n",
            "Época [78/100], Perda: 0.0768, Acurácia: 0.9980\n",
            "Época [79/100], Perda: 0.0767, Acurácia: 0.9980\n",
            "Época [80/100], Perda: 0.0766, Acurácia: 0.9980\n",
            "Época [81/100], Perda: 0.0765, Acurácia: 0.9980\n",
            "Época [82/100], Perda: 0.0763, Acurácia: 0.9980\n",
            "Época [83/100], Perda: 0.0762, Acurácia: 0.9980\n",
            "Época [84/100], Perda: 0.0761, Acurácia: 0.9980\n",
            "Época [85/100], Perda: 0.0760, Acurácia: 0.9980\n",
            "Época [86/100], Perda: 0.0759, Acurácia: 0.9980\n",
            "Época [87/100], Perda: 0.0757, Acurácia: 0.9980\n",
            "Época [88/100], Perda: 0.0756, Acurácia: 0.9980\n",
            "Época [89/100], Perda: 0.0755, Acurácia: 0.9980\n",
            "Época [90/100], Perda: 0.0754, Acurácia: 0.9980\n",
            "Época [91/100], Perda: 0.0753, Acurácia: 0.9980\n",
            "Época [92/100], Perda: 0.0751, Acurácia: 0.9980\n",
            "Época [93/100], Perda: 0.0750, Acurácia: 0.9980\n",
            "Época [94/100], Perda: 0.0749, Acurácia: 0.9980\n",
            "Época [95/100], Perda: 0.0748, Acurácia: 0.9980\n",
            "Época [96/100], Perda: 0.0747, Acurácia: 0.9980\n",
            "Época [97/100], Perda: 0.0745, Acurácia: 0.9980\n",
            "Época [98/100], Perda: 0.0744, Acurácia: 0.9980\n",
            "Época [99/100], Perda: 0.0743, Acurácia: 0.9980\n",
            "Época [100/100], Perda: 0.0742, Acurácia: 0.9980\n"
          ]
        }
      ]
    },
    {
      "cell_type": "markdown",
      "metadata": {
        "id": "0xttWrUbOl4J"
      },
      "source": [
        "- 2) Insira código no laço do treinamento para visualização dos valores dos gradientes referentes à classe do dígito 4, no final de cada época."
      ]
    },
    {
      "cell_type": "code",
      "source": [
        "optimizer = torch.optim.SGD(model.parameters(), lr=learningRate)\n",
        "losses = []\n",
        "zs = []\n",
        "\n",
        "for i in range(epochs):\n",
        "    # Transformar a entrada para uma dimensão\n",
        "    inputs = Variable(x_train.view(-1, 28 * 28))\n",
        "    # Predição da rede\n",
        "    outputs = model(inputs)\n",
        "\n",
        "    # z0 a z9\n",
        "    zs.append(outputs[1].detach().numpy())\n",
        "\n",
        "    # Calcular a perda\n",
        "    loss = criterion(outputs, Variable(y_train))\n",
        "\n",
        "    # Zero, backpropagation, ajustar parâmetros pelo gradiente descendente\n",
        "    optimizer.zero_grad()\n",
        "    loss.backward()\n",
        "    optimizer.step()\n",
        "\n",
        "    losses.append(loss.item())\n",
        "\n",
        "    _, predicts = torch.max(outputs, 1)\n",
        "\n",
        "    y_pred = predicts.data\n",
        "    accuracy = (y_pred.numpy() == y_train.numpy()).mean()\n",
        "\n",
        "    # Imprimir o número da época, a perda e a acurácia\n",
        "    print(f'Época [{i+1}/{epochs}], Perda: {loss.item():.4f}, Acurácia: {accuracy:.4f}')\n",
        "\n",
        "    # Visualizar gradientes referentes à classe 4\n",
        "    if i % 1 == 0:\n",
        "        # Pega os gradientes dos parâmetros para a classe 4\n",
        "        for name, param in model.named_parameters():\n",
        "            if param.grad is not None:\n",
        "                # Extrair e mostrar o gradiente médio para a classe 4\n",
        "                grads_class_4 = param.grad.data\n",
        "                print(f'Gradientes para o parâmetro {name} (Classe 4):')\n",
        "                print(grads_class_4.mean().item())  # Média do gradiente de cada parâmetro\n"
      ],
      "metadata": {
        "colab": {
          "base_uri": "https://localhost:8080/",
          "height": 0
        },
        "id": "EEmNi1L73ifK",
        "outputId": "04a46a50-becc-4aa2-c0e3-c2d782032947"
      },
      "execution_count": 62,
      "outputs": [
        {
          "output_type": "stream",
          "name": "stdout",
          "text": [
            "Época [1/100], Perda: 0.0741, Acurácia: 0.9980\n",
            "Gradientes para o parâmetro weight (Classe 4):\n",
            "3.0514476362375476e-11\n",
            "Gradientes para o parâmetro bias (Classe 4):\n",
            "2.3283064365386963e-10\n",
            "Época [2/100], Perda: 0.0740, Acurácia: 0.9980\n",
            "Gradientes para o parâmetro weight (Classe 4):\n",
            "-1.6185292689430142e-11\n",
            "Gradientes para o parâmetro bias (Classe 4):\n",
            "-2.6775523465083495e-10\n",
            "Época [3/100], Perda: 0.0739, Acurácia: 0.9980\n",
            "Gradientes para o parâmetro weight (Classe 4):\n",
            "2.997248976788214e-11\n",
            "Gradientes para o parâmetro bias (Classe 4):\n",
            "7.566995641195007e-11\n",
            "Época [4/100], Perda: 0.0737, Acurácia: 0.9980\n",
            "Gradientes para o parâmetro weight (Classe 4):\n",
            "3.467216444508203e-11\n",
            "Gradientes para o parâmetro bias (Classe 4):\n",
            "1.7462298274040222e-10\n",
            "Época [5/100], Perda: 0.0736, Acurácia: 0.9980\n",
            "Gradientes para o parâmetro weight (Classe 4):\n",
            "1.2718076591866634e-11\n",
            "Gradientes para o parâmetro bias (Classe 4):\n",
            "2.9103830456733704e-11\n",
            "Época [6/100], Perda: 0.0735, Acurácia: 0.9980\n",
            "Gradientes para o parâmetro weight (Classe 4):\n",
            "4.727887525923791e-11\n",
            "Gradientes para o parâmetro bias (Classe 4):\n",
            "3.5506672602103606e-10\n",
            "Época [7/100], Perda: 0.0734, Acurácia: 0.9980\n",
            "Gradientes para o parâmetro weight (Classe 4):\n",
            "6.215746667370681e-11\n",
            "Gradientes para o parâmetro bias (Classe 4):\n",
            "3.958121053138086e-10\n",
            "Época [8/100], Perda: 0.0733, Acurácia: 0.9980\n",
            "Gradientes para o parâmetro weight (Classe 4):\n",
            "3.058129444122315e-11\n",
            "Gradientes para o parâmetro bias (Classe 4):\n",
            "1.0477378686868377e-10\n",
            "Época [9/100], Perda: 0.0732, Acurácia: 0.9980\n",
            "Gradientes para o parâmetro weight (Classe 4):\n",
            "-5.52378802420872e-12\n",
            "Gradientes para o parâmetro bias (Classe 4):\n",
            "-5.8207661780829145e-12\n",
            "Época [10/100], Perda: 0.0731, Acurácia: 0.9980\n",
            "Gradientes para o parâmetro weight (Classe 4):\n",
            "-2.0246465962103777e-11\n",
            "Gradientes para o parâmetro bias (Classe 4):\n",
            "-1.8626451769865326e-10\n",
            "Época [11/100], Perda: 0.0730, Acurácia: 0.9980\n",
            "Gradientes para o parâmetro weight (Classe 4):\n",
            "4.1807057815645976e-11\n",
            "Gradientes para o parâmetro bias (Classe 4):\n",
            "3.958121053138086e-10\n",
            "Época [12/100], Perda: 0.0728, Acurácia: 0.9980\n",
            "Gradientes para o parâmetro weight (Classe 4):\n",
            "9.911635748260927e-12\n",
            "Gradientes para o parâmetro bias (Classe 4):\n",
            "1.8626451769865326e-10\n",
            "Época [13/100], Perda: 0.0727, Acurácia: 0.9980\n",
            "Gradientes para o parâmetro weight (Classe 4):\n",
            "2.5027809685829183e-11\n",
            "Gradientes para o parâmetro bias (Classe 4):\n",
            "1.4551915228366852e-10\n",
            "Época [14/100], Perda: 0.0726, Acurácia: 0.9980\n",
            "Gradientes para o parâmetro weight (Classe 4):\n",
            "-8.22628683921911e-12\n",
            "Gradientes para o parâmetro bias (Classe 4):\n",
            "-8.149072389107559e-11\n",
            "Época [15/100], Perda: 0.0725, Acurácia: 0.9980\n",
            "Gradientes para o parâmetro weight (Classe 4):\n",
            "3.571158646575867e-11\n",
            "Gradientes para o parâmetro bias (Classe 4):\n",
            "2.9103830456733704e-10\n",
            "Época [16/100], Perda: 0.0724, Acurácia: 0.9980\n",
            "Gradientes para o parâmetro weight (Classe 4):\n",
            "2.649784905384145e-11\n",
            "Gradientes para o parâmetro bias (Classe 4):\n",
            "1.0477378686868377e-10\n",
            "Época [17/100], Perda: 0.0723, Acurácia: 0.9980\n",
            "Gradientes para o parâmetro weight (Classe 4):\n",
            "-3.3261520707844605e-12\n",
            "Gradientes para o parâmetro bias (Classe 4):\n",
            "-1.0477378686868377e-10\n",
            "Época [18/100], Perda: 0.0722, Acurácia: 0.9980\n",
            "Gradientes para o parâmetro weight (Classe 4):\n",
            "-2.6950740250608618e-11\n",
            "Gradientes para o parâmetro bias (Classe 4):\n",
            "-1.9208527823888488e-10\n",
            "Época [19/100], Perda: 0.0721, Acurácia: 0.9980\n",
            "Gradientes para o parâmetro weight (Classe 4):\n",
            "-5.683413809021154e-11\n",
            "Gradientes para o parâmetro bias (Classe 4):\n",
            "-5.238689482212067e-10\n",
            "Época [20/100], Perda: 0.0720, Acurácia: 0.9980\n",
            "Gradientes para o parâmetro weight (Classe 4):\n",
            "1.9674782636425192e-12\n",
            "Gradientes para o parâmetro bias (Classe 4):\n",
            "-1.1641532182693481e-10\n",
            "Época [21/100], Perda: 0.0718, Acurácia: 0.9980\n",
            "Gradientes para o parâmetro weight (Classe 4):\n",
            "-2.9371109711018306e-11\n",
            "Gradientes para o parâmetro bias (Classe 4):\n",
            "-2.9685906510756865e-10\n",
            "Época [22/100], Perda: 0.0717, Acurácia: 0.9980\n",
            "Gradientes para o parâmetro weight (Classe 4):\n",
            "3.0967367559142644e-11\n",
            "Gradientes para o parâmetro bias (Classe 4):\n",
            "1.4551915228366852e-10\n",
            "Época [23/100], Perda: 0.0716, Acurácia: 0.9980\n",
            "Gradientes para o parâmetro weight (Classe 4):\n",
            "-1.3081874992992848e-11\n",
            "Gradientes para o parâmetro bias (Classe 4):\n",
            "-4.0745361945537795e-11\n",
            "Época [24/100], Perda: 0.0715, Acurácia: 0.9980\n",
            "Gradientes para o parâmetro weight (Classe 4):\n",
            "-1.4507368396865505e-11\n",
            "Gradientes para o parâmetro bias (Classe 4):\n",
            "-2.2118910869561859e-10\n",
            "Época [25/100], Perda: 0.0714, Acurácia: 0.9980\n",
            "Gradientes para o parâmetro weight (Classe 4):\n",
            "-3.88298551298738e-12\n",
            "Gradientes para o parâmetro bias (Classe 4):\n",
            "0.0\n",
            "Época [26/100], Perda: 0.0713, Acurácia: 0.9980\n",
            "Gradientes para o parâmetro weight (Classe 4):\n",
            "4.199266975812854e-11\n",
            "Gradientes para o parâmetro bias (Classe 4):\n",
            "2.793967834868738e-10\n",
            "Época [27/100], Perda: 0.0712, Acurácia: 0.9980\n",
            "Gradientes para o parâmetro weight (Classe 4):\n",
            "6.555044007594546e-11\n",
            "Gradientes para o parâmetro bias (Classe 4):\n",
            "4.773028083882025e-10\n",
            "Época [28/100], Perda: 0.0711, Acurácia: 0.9980\n",
            "Gradientes para o parâmetro weight (Classe 4):\n",
            "-1.690546487520539e-11\n",
            "Gradientes para o parâmetro bias (Classe 4):\n",
            "-3.085006139436075e-10\n",
            "Época [29/100], Perda: 0.0710, Acurácia: 0.9980\n",
            "Gradientes para o parâmetro weight (Classe 4):\n",
            "2.7084381612474395e-11\n",
            "Gradientes para o parâmetro bias (Classe 4):\n",
            "1.6298144778215118e-10\n",
            "Época [30/100], Perda: 0.0709, Acurácia: 0.9980\n",
            "Gradientes para o parâmetro weight (Classe 4):\n",
            "7.43187109075727e-11\n",
            "Gradientes para o parâmetro bias (Classe 4):\n",
            "5.005859060602802e-10\n",
            "Época [31/100], Perda: 0.0708, Acurácia: 0.9980\n",
            "Gradientes para o parâmetro weight (Classe 4):\n",
            "-1.893976295241906e-11\n",
            "Gradientes para o parâmetro bias (Classe 4):\n",
            "-8.731149137020111e-11\n",
            "Época [32/100], Perda: 0.0707, Acurácia: 0.9980\n",
            "Gradientes para o parâmetro weight (Classe 4):\n",
            "4.7724341839527895e-11\n",
            "Gradientes para o parâmetro bias (Classe 4):\n",
            "2.9103830456733704e-10\n",
            "Época [33/100], Perda: 0.0706, Acurácia: 0.9980\n",
            "Gradientes para o parâmetro weight (Classe 4):\n",
            "1.9199619324949957e-11\n",
            "Gradientes para o parâmetro bias (Classe 4):\n",
            "1.0477378686868377e-10\n",
            "Época [34/100], Perda: 0.0705, Acurácia: 0.9980\n",
            "Gradientes para o parâmetro weight (Classe 4):\n",
            "1.7603363211549095e-11\n",
            "Gradientes para o parâmetro bias (Classe 4):\n",
            "-4.6566129424663316e-11\n",
            "Época [35/100], Perda: 0.0704, Acurácia: 0.9980\n",
            "Gradientes para o parâmetro weight (Classe 4):\n",
            "-2.4641738302633165e-11\n",
            "Gradientes para o parâmetro bias (Classe 4):\n",
            "-1.1641532182693481e-10\n",
            "Época [36/100], Perda: 0.0703, Acurácia: 0.9980\n",
            "Gradientes para o parâmetro weight (Classe 4):\n",
            "6.899537885463047e-11\n",
            "Gradientes para o parâmetro bias (Classe 4):\n",
            "4.190951474747351e-10\n",
            "Época [37/100], Perda: 0.0701, Acurácia: 0.9980\n",
            "Gradientes para o parâmetro weight (Classe 4):\n",
            "1.894718756889624e-11\n",
            "Gradientes para o parâmetro bias (Classe 4):\n",
            "5.820766091346741e-11\n",
            "Época [38/100], Perda: 0.0700, Acurácia: 0.9980\n",
            "Gradientes para o parâmetro weight (Classe 4):\n",
            "1.1366827618042308e-11\n",
            "Gradientes para o parâmetro bias (Classe 4):\n",
            "1.1059455434780929e-10\n",
            "Época [39/100], Perda: 0.0699, Acurácia: 0.9980\n",
            "Gradientes para o parâmetro weight (Classe 4):\n",
            "3.499884063118408e-11\n",
            "Gradientes para o parâmetro bias (Classe 4):\n",
            "2.3283064365386963e-10\n",
            "Época [40/100], Perda: 0.0698, Acurácia: 0.9980\n",
            "Gradientes para o parâmetro weight (Classe 4):\n",
            "-2.0892391983107217e-11\n",
            "Gradientes para o parâmetro bias (Classe 4):\n",
            "-2.0954757373736754e-10\n",
            "Época [41/100], Perda: 0.0697, Acurácia: 0.9980\n",
            "Gradientes para o parâmetro weight (Classe 4):\n",
            "1.2740350441298176e-11\n",
            "Gradientes para o parâmetro bias (Classe 4):\n",
            "1.0477378686868377e-10\n",
            "Época [42/100], Perda: 0.0696, Acurácia: 0.9980\n",
            "Gradientes para o parâmetro weight (Classe 4):\n",
            "-1.6601062538534883e-11\n",
            "Gradientes para o parâmetro bias (Classe 4):\n",
            "0.0\n",
            "Época [43/100], Perda: 0.0695, Acurácia: 0.9980\n",
            "Gradientes para o parâmetro weight (Classe 4):\n",
            "5.434694794886896e-12\n",
            "Gradientes para o parâmetro bias (Classe 4):\n",
            "0.0\n",
            "Época [44/100], Perda: 0.0694, Acurácia: 0.9980\n",
            "Gradientes para o parâmetro weight (Classe 4):\n",
            "3.358819472554231e-11\n",
            "Gradientes para o parâmetro bias (Classe 4):\n",
            "2.2118910869561859e-10\n",
            "Época [45/100], Perda: 0.0693, Acurácia: 0.9980\n",
            "Gradientes para o parâmetro weight (Classe 4):\n",
            "-1.1730625151806784e-12\n",
            "Gradientes para o parâmetro bias (Classe 4):\n",
            "-7.566995641195007e-11\n",
            "Época [46/100], Perda: 0.0692, Acurácia: 0.9980\n",
            "Gradientes para o parâmetro weight (Classe 4):\n",
            "2.8769729654154474e-11\n",
            "Gradientes para o parâmetro bias (Classe 4):\n",
            "2.3283064365386963e-10\n",
            "Época [47/100], Perda: 0.0691, Acurácia: 0.9980\n",
            "Gradientes para o parâmetro weight (Classe 4):\n",
            "2.23847069352745e-11\n",
            "Gradientes para o parâmetro bias (Classe 4):\n",
            "2.7357599519106657e-10\n",
            "Época [48/100], Perda: 0.0690, Acurácia: 0.9980\n",
            "Gradientes para o parâmetro weight (Classe 4):\n",
            "-4.5266849296732303e-11\n",
            "Gradientes para o parâmetro bias (Classe 4):\n",
            "-3.5506672602103606e-10\n",
            "Época [49/100], Perda: 0.0689, Acurácia: 0.9980\n",
            "Gradientes para o parâmetro weight (Classe 4):\n",
            "1.640060309782143e-11\n",
            "Gradientes para o parâmetro bias (Classe 4):\n",
            "1.2805685678518586e-10\n",
            "Época [50/100], Perda: 0.0688, Acurácia: 0.9980\n",
            "Gradientes para o parâmetro weight (Classe 4):\n",
            "-3.2129292282245814e-11\n",
            "Gradientes para o parâmetro bias (Classe 4):\n",
            "-2.793967834868738e-10\n",
            "Época [51/100], Perda: 0.0687, Acurácia: 0.9980\n",
            "Gradientes para o parâmetro weight (Classe 4):\n",
            "1.552080512723375e-11\n",
            "Gradientes para o parâmetro bias (Classe 4):\n",
            "2.3283064712331658e-11\n",
            "Época [52/100], Perda: 0.0686, Acurácia: 0.9980\n",
            "Gradientes para o parâmetro weight (Classe 4):\n",
            "-3.211815535753004e-11\n",
            "Gradientes para o parâmetro bias (Classe 4):\n",
            "-2.561137135703717e-10\n",
            "Época [53/100], Perda: 0.0685, Acurácia: 0.9980\n",
            "Gradientes para o parâmetro weight (Classe 4):\n",
            "-4.959530182369054e-12\n",
            "Gradientes para o parâmetro bias (Classe 4):\n",
            "-1.396983917434369e-10\n",
            "Época [54/100], Perda: 0.0684, Acurácia: 0.9980\n",
            "Gradientes para o parâmetro weight (Classe 4):\n",
            "2.7010137182426064e-11\n",
            "Gradientes para o parâmetro bias (Classe 4):\n",
            "2.0954757373736754e-10\n",
            "Época [55/100], Perda: 0.0683, Acurácia: 0.9980\n",
            "Gradientes para o parâmetro weight (Classe 4):\n",
            "1.336400391391268e-12\n",
            "Gradientes para o parâmetro bias (Classe 4):\n",
            "5.2386893434341886e-11\n",
            "Época [56/100], Perda: 0.0682, Acurácia: 0.9980\n",
            "Gradientes para o parâmetro weight (Classe 4):\n",
            "2.3502085694238062e-11\n",
            "Gradientes para o parâmetro bias (Classe 4):\n",
            "1.396983917434369e-10\n",
            "Época [57/100], Perda: 0.0681, Acurácia: 0.9980\n",
            "Gradientes para o parâmetro weight (Classe 4):\n",
            "3.4950580624082406e-11\n",
            "Gradientes para o parâmetro bias (Classe 4):\n",
            "3.31783656104534e-10\n",
            "Época [58/100], Perda: 0.0680, Acurácia: 0.9980\n",
            "Gradientes para o parâmetro weight (Classe 4):\n",
            "-3.417472901889873e-11\n",
            "Gradientes para o parâmetro bias (Classe 4):\n",
            "-3.2014213502407074e-10\n",
            "Época [59/100], Perda: 0.0679, Acurácia: 0.9980\n",
            "Gradientes para o parâmetro weight (Classe 4):\n",
            "3.35584988617188e-12\n",
            "Gradientes para o parâmetro bias (Classe 4):\n",
            "2.9103830456733704e-11\n",
            "Época [60/100], Perda: 0.0678, Acurácia: 0.9980\n",
            "Gradientes para o parâmetro weight (Classe 4):\n",
            "9.161766831300433e-12\n",
            "Gradientes para o parâmetro bias (Classe 4):\n",
            "-5.8207661780829145e-12\n",
            "Época [61/100], Perda: 0.0677, Acurácia: 0.9980\n",
            "Gradientes para o parâmetro weight (Classe 4):\n",
            "-1.0030427009810605e-11\n",
            "Gradientes para o parâmetro bias (Classe 4):\n",
            "5.8207661780829145e-12\n",
            "Época [62/100], Perda: 0.0676, Acurácia: 0.9980\n",
            "Gradientes para o parâmetro weight (Classe 4):\n",
            "-2.097406102963273e-11\n",
            "Gradientes para o parâmetro bias (Classe 4):\n",
            "-4.6566129424663316e-11\n",
            "Época [63/100], Perda: 0.0675, Acurácia: 0.9980\n",
            "Gradientes para o parâmetro weight (Classe 4):\n",
            "-1.0319980547207619e-12\n",
            "Gradientes para o parâmetro bias (Classe 4):\n",
            "6.984919587171845e-11\n",
            "Época [64/100], Perda: 0.0674, Acurácia: 0.9980\n",
            "Gradientes para o parâmetro weight (Classe 4):\n",
            "2.1137399122683753e-11\n",
            "Gradientes para o parâmetro bias (Classe 4):\n",
            "2.1536834815538697e-10\n",
            "Época [65/100], Perda: 0.0674, Acurácia: 0.9980\n",
            "Gradientes para o parâmetro weight (Classe 4):\n",
            "-4.8630123365700495e-12\n",
            "Gradientes para o parâmetro bias (Classe 4):\n",
            "6.984919587171845e-11\n",
            "Época [66/100], Perda: 0.0673, Acurácia: 0.9980\n",
            "Gradientes para o parâmetro weight (Classe 4):\n",
            "-1.484889359908148e-12\n",
            "Gradientes para o parâmetro bias (Classe 4):\n",
            "1.7462298967929613e-11\n",
            "Época [67/100], Perda: 0.0672, Acurácia: 0.9980\n",
            "Gradientes para o parâmetro weight (Classe 4):\n",
            "-5.627730486484905e-12\n",
            "Gradientes para o parâmetro bias (Classe 4):\n",
            "-1.9208527823888488e-10\n",
            "Época [68/100], Perda: 0.0671, Acurácia: 0.9980\n",
            "Gradientes para o parâmetro weight (Classe 4):\n",
            "2.5246830667735587e-11\n",
            "Gradientes para o parâmetro bias (Classe 4):\n",
            "1.6298144778215118e-10\n",
            "Época [69/100], Perda: 0.0670, Acurácia: 0.9980\n",
            "Gradientes para o parâmetro weight (Classe 4):\n",
            "-4.149523086249829e-11\n",
            "Gradientes para o parâmetro bias (Classe 4):\n",
            "-1.9208527823888488e-10\n",
            "Época [70/100], Perda: 0.0669, Acurácia: 0.9980\n",
            "Gradientes para o parâmetro weight (Classe 4):\n",
            "2.916322738855115e-11\n",
            "Gradientes para o parâmetro bias (Classe 4):\n",
            "2.9103830456733704e-10\n",
            "Época [71/100], Perda: 0.0668, Acurácia: 0.9980\n",
            "Gradientes para o parâmetro weight (Classe 4):\n",
            "1.6111049126743548e-12\n",
            "Gradientes para o parâmetro bias (Classe 4):\n",
            "1.2223608236716643e-10\n",
            "Época [72/100], Perda: 0.0667, Acurácia: 0.9980\n",
            "Gradientes para o parâmetro weight (Classe 4):\n",
            "-1.6363480015435528e-11\n",
            "Gradientes para o parâmetro bias (Classe 4):\n",
            "-1.3387761732541748e-10\n",
            "Época [73/100], Perda: 0.0666, Acurácia: 0.9980\n",
            "Gradientes para o parâmetro weight (Classe 4):\n",
            "1.791147785645819e-11\n",
            "Gradientes para o parâmetro bias (Classe 4):\n",
            "1.396983917434369e-10\n",
            "Época [74/100], Perda: 0.0665, Acurácia: 0.9980\n",
            "Gradientes para o parâmetro weight (Classe 4):\n",
            "-1.3015055179421697e-11\n",
            "Gradientes para o parâmetro bias (Classe 4):\n",
            "-2.9103830456733704e-11\n",
            "Época [75/100], Perda: 0.0664, Acurácia: 0.9980\n",
            "Gradientes para o parâmetro weight (Classe 4):\n",
            "-1.4525929938058457e-11\n",
            "Gradientes para o parâmetro bias (Classe 4):\n",
            "-8.149072389107559e-11\n",
            "Época [76/100], Perda: 0.0663, Acurácia: 0.9980\n",
            "Gradientes para o parâmetro weight (Classe 4):\n",
            "4.199638206636713e-11\n",
            "Gradientes para o parâmetro bias (Classe 4):\n",
            "2.561137135703717e-10\n",
            "Época [77/100], Perda: 0.0662, Acurácia: 0.9980\n",
            "Gradientes para o parâmetro weight (Classe 4):\n",
            "3.890410129464561e-12\n",
            "Gradientes para o parâmetro bias (Classe 4):\n",
            "5.8207661780829145e-12\n",
            "Época [78/100], Perda: 0.0661, Acurácia: 0.9980\n",
            "Gradientes para o parâmetro weight (Classe 4):\n",
            "2.954929703702369e-11\n",
            "Gradientes para o parâmetro bias (Classe 4):\n",
            "2.6775523465083495e-10\n",
            "Época [79/100], Perda: 0.0660, Acurácia: 0.9980\n",
            "Gradientes para o parâmetro weight (Classe 4):\n",
            "-3.984700416848064e-11\n",
            "Gradientes para o parâmetro bias (Classe 4):\n",
            "-2.852175440271054e-10\n",
            "Época [80/100], Perda: 0.0659, Acurácia: 0.9980\n",
            "Gradientes para o parâmetro weight (Classe 4):\n",
            "1.5034504891042744e-11\n",
            "Gradientes para o parâmetro bias (Classe 4):\n",
            "1.8626451769865326e-10\n",
            "Época [81/100], Perda: 0.0658, Acurácia: 0.9980\n",
            "Gradientes para o parâmetro weight (Classe 4):\n",
            "3.934956744125473e-13\n",
            "Gradientes para o parâmetro bias (Classe 4):\n",
            "1.2223608236716643e-10\n",
            "Época [82/100], Perda: 0.0658, Acurácia: 0.9980\n",
            "Gradientes para o parâmetro weight (Classe 4):\n",
            "-1.875415274465997e-11\n",
            "Gradientes para o parâmetro bias (Classe 4):\n",
            "-9.313225884932663e-11\n",
            "Época [83/100], Perda: 0.0657, Acurácia: 0.9980\n",
            "Gradientes para o parâmetro weight (Classe 4):\n",
            "3.712223196482463e-14\n",
            "Gradientes para o parâmetro bias (Classe 4):\n",
            "5.2386893434341886e-11\n",
            "Época [84/100], Perda: 0.0656, Acurácia: 0.9980\n",
            "Gradientes para o parâmetro weight (Classe 4):\n",
            "-5.0159560532891945e-11\n",
            "Gradientes para o parâmetro bias (Classe 4):\n",
            "-4.3073669631077394e-10\n",
            "Época [85/100], Perda: 0.0655, Acurácia: 0.9980\n",
            "Gradientes para o parâmetro weight (Classe 4):\n",
            "2.012767383319236e-11\n",
            "Gradientes para o parâmetro bias (Classe 4):\n",
            "1.1059455434780929e-10\n",
            "Época [86/100], Perda: 0.0654, Acurácia: 0.9980\n",
            "Gradientes para o parâmetro weight (Classe 4):\n",
            "-1.570270497831816e-12\n",
            "Gradientes para o parâmetro bias (Classe 4):\n",
            "-1.7462298967929613e-11\n",
            "Época [87/100], Perda: 0.0653, Acurácia: 0.9980\n",
            "Gradientes para o parâmetro weight (Classe 4):\n",
            "-8.211437606264749e-12\n",
            "Gradientes para o parâmetro bias (Classe 4):\n",
            "-1.6298144778215118e-10\n",
            "Época [88/100], Perda: 0.0652, Acurácia: 0.9980\n",
            "Gradientes para o parâmetro weight (Classe 4):\n",
            "7.884762287524438e-12\n",
            "Gradientes para o parâmetro bias (Classe 4):\n",
            "5.820766091346741e-11\n",
            "Época [89/100], Perda: 0.0651, Acurácia: 0.9990\n",
            "Gradientes para o parâmetro weight (Classe 4):\n",
            "4.6922500607227136e-11\n",
            "Gradientes para o parâmetro bias (Classe 4):\n",
            "2.561137135703717e-10\n",
            "Época [90/100], Perda: 0.0650, Acurácia: 0.9990\n",
            "Gradientes para o parâmetro weight (Classe 4):\n",
            "-2.3661711479050496e-11\n",
            "Gradientes para o parâmetro bias (Classe 4):\n",
            "-1.5716068724191956e-10\n",
            "Época [91/100], Perda: 0.0649, Acurácia: 0.9990\n",
            "Gradientes para o parâmetro weight (Classe 4):\n",
            "-2.341670433947396e-11\n",
            "Gradientes para o parâmetro bias (Classe 4):\n",
            "-2.9103830456733704e-10\n",
            "Época [92/100], Perda: 0.0648, Acurácia: 0.9990\n",
            "Gradientes para o parâmetro weight (Classe 4):\n",
            "2.3921566116857917e-11\n",
            "Gradientes para o parâmetro bias (Classe 4):\n",
            "2.3865140419410125e-10\n",
            "Época [93/100], Perda: 0.0648, Acurácia: 0.9990\n",
            "Gradientes para o parâmetro weight (Classe 4):\n",
            "-3.045879173879662e-11\n",
            "Gradientes para o parâmetro bias (Classe 4):\n",
            "-1.3387761732541748e-10\n",
            "Época [94/100], Perda: 0.0647, Acurácia: 0.9990\n",
            "Gradientes para o parâmetro weight (Classe 4):\n",
            "5.404625705307531e-11\n",
            "Gradientes para o parâmetro bias (Classe 4):\n",
            "4.0163286585404023e-10\n",
            "Época [95/100], Perda: 0.0646, Acurácia: 0.9990\n",
            "Gradientes para o parâmetro weight (Classe 4):\n",
            "1.6834932753395648e-11\n",
            "Gradientes para o parâmetro bias (Classe 4):\n",
            "2.0372681319713593e-10\n",
            "Época [96/100], Perda: 0.0645, Acurácia: 0.9990\n",
            "Gradientes para o parâmetro weight (Classe 4):\n",
            "-1.9971760790299387e-12\n",
            "Gradientes para o parâmetro bias (Classe 4):\n",
            "5.2386893434341886e-11\n",
            "Época [97/100], Perda: 0.0644, Acurácia: 0.9990\n",
            "Gradientes para o parâmetro weight (Classe 4):\n",
            "-6.915871954976671e-12\n",
            "Gradientes para o parâmetro bias (Classe 4):\n",
            "-9.313225884932663e-11\n",
            "Época [98/100], Perda: 0.0643, Acurácia: 0.9990\n",
            "Gradientes para o parâmetro weight (Classe 4):\n",
            "-1.8761575626413673e-11\n",
            "Gradientes para o parâmetro bias (Classe 4):\n",
            "-1.8044374328063384e-10\n",
            "Época [99/100], Perda: 0.0642, Acurácia: 0.9990\n",
            "Gradientes para o parâmetro weight (Classe 4):\n",
            "2.848017655043833e-11\n",
            "Gradientes para o parâmetro bias (Classe 4):\n",
            "2.3283064365386963e-10\n",
            "Época [100/100], Perda: 0.0641, Acurácia: 0.9990\n",
            "Gradientes para o parâmetro weight (Classe 4):\n",
            "4.159175087670164e-11\n",
            "Gradientes para o parâmetro bias (Classe 4):\n",
            "2.3283064365386963e-10\n"
          ]
        }
      ]
    },
    {
      "cell_type": "markdown",
      "source": [
        "<details>\n",
        "<summary>Mostrar Resultado</summary>\n",
        "\n",
        "```python\n",
        "losses = []\n",
        "import numpy\n",
        "\n",
        "import numpy\n",
        "zs = []\n",
        "\n",
        "for i in range(epochs):\n",
        "    # Transforma a entrada para uma dimensão\n",
        "    inputs = Variable(x_train.view(-1, 28 * 28))\n",
        "    # Predict da rede\n",
        "    outputs = model(inputs)\n",
        "    \n",
        "    # z0 a z9\n",
        "    zs.append(outputs[1].detach().numpy())\n",
        "\n",
        "    # calcula a perda\n",
        "    loss = criterion(outputs, Variable(y_train))\n",
        "\n",
        "    # zero, backpropagation, ajusta parâmetros pelo gradiente descendente\n",
        "    optimizer.zero_grad()\n",
        "    loss.backward()\n",
        "    optimizer.step()\n",
        "\n",
        "    losses.append(loss.item())\n",
        "    \n",
        "    _, predicts = torch.max(outputs, 1)\n",
        "    \n",
        "    y_pred = predicts.data\n",
        "    accuracy = (y_pred.numpy() == y_train.numpy()).mean()\n",
        "    \n",
        "    print('Epoch[{}/{}], loss: {:.6f}, acc: {:.6f}'\n",
        "              .format(i+1, epochs, loss.data, accuracy))\n",
        "    \n",
        "    weights = model.state_dict()['weight']\n",
        "    print('weights:', weights.shape)\n",
        "\n",
        "    bias = model.state_dict()['bias']\n",
        "    print('bias:   ', bias.shape)\n",
        "\n",
        "    # Visualizando pesos da classe 3\n",
        "    plt.imshow(weights[4, :].numpy().reshape((28,28)),cmap = 'gray')\n",
        "    plt.show()\n",
        "```\n",
        "\n",
        "</details>"
      ],
      "metadata": {
        "id": "28SnX4gHjeLj"
      }
    },
    {
      "cell_type": "markdown",
      "metadata": {
        "id": "yDhND6p3Ol4J"
      },
      "source": [
        "## Perguntas"
      ]
    },
    {
      "cell_type": "markdown",
      "metadata": {
        "id": "AXg8GBrsOl4L"
      },
      "source": [
        "**1. Qual é o shape da matriz de entrada na rede?**\n",
        "  Para responder as três questões, levei em consideração as seguintes dimensões dos dados das imagens:    torch.Size([1000, 28, 28]) e o código do modelo - model = torch.nn.Linear(28*28, 10) # 28*28 atributos de entrada e 10 neurônios na sáida.\n",
        "\n",
        "  O número de entradas para cada imagem é 28*28 = 784. Portanto, o shape da entrada será (1000, 784).\n",
        "\n",
        "**2. Qual é o shape da saída da rede?**\n",
        "O modelo possui 10 neurônios na camada de saída, portanto a saída será um vetor de 10 valores para cada imagem no lote.  Portanto, o shape da saída será (1000, 10).\n",
        "\n",
        "**3. Qual é o número total de parâmetros da rede, incluindo o bias?**\n",
        "\n",
        "A camada torch.nn.Linear(28*28, 10) possui pesos e vieses(bias).\n",
        "\n",
        "Pesos: Para cada neurônio na camada de saída (10 neurônios), existe um peso para cada entrada (784 entradas). Ou seja, para cada um dos 10 neurônios, há 784 pesos. Portanto, o número de pesos é:\n",
        "\n",
        "Número de pesos = 784 x 10 = 7840\n",
        "\n",
        "Vieses: Cada neurônio na camada de saída possui um viés. Como há 10 neurônios na camada de saída, o número de vieses é 10.\n",
        "\n",
        "Total de parâmetros: O número total de parâmetros é a soma dos pesos e vieses:\n",
        "\n",
        "**Total de parâmetros =** 7840 + 10 = 7850"
      ]
    },
    {
      "cell_type": "markdown",
      "metadata": {
        "id": "0aj1pg_ZOl4L"
      },
      "source": [
        "# Aprendizados\n"
      ]
    },
    {
      "cell_type": "markdown",
      "source": [
        "No presente trabalho foram importados pacotes - bibliotecas, lidos e normalizados os dados, criado modelo de rede e testado o predict com poucas amostras.\n",
        "\n",
        "Também ocorreu o treinamento, com a inicialização dos parâmetros e a visualização do loss. Por fim, foi estabelecido o laço de treinamento dos pesos e a visualização da perda durante o treinamento.\n",
        "\n",
        "Posteriormente, foi estruturada a avaliação, com a determinação da acurácia e matriz de confusão.\n",
        "\n",
        "Na visualização da matriz de pesos treinados, foram determinados os pesos de todas as classes e o diagrama de regressão softmax com visualização dos pesos w.\n",
        "\n",
        "Na parte dos exercícios, ocorreu a resolução de diversas questões como a inserção do código no laço do treinamento para que no final de cada época fosse impresso o número da época, a perda e a acurácia, bem como expresso os valores dos gradientes referentes à classe do dígito 4.\n",
        "\n",
        "Também foram respondidas questões sobre a shape da matriz de entrada, de saída na rede e o número total de parâmetros da rede, incluindo o bias.\n",
        "\n"
      ],
      "metadata": {
        "id": "4mpv8b-HHppr"
      }
    }
  ],
  "metadata": {
    "colab": {
      "provenance": [],
      "toc_visible": true
    },
    "kernelspec": {
      "display_name": "Python 3",
      "name": "python3"
    },
    "language_info": {
      "name": "python",
      "version": "3.10.2"
    },
    "vscode": {
      "interpreter": {
        "hash": "5fe3e6f0cdaab8afdc61c52912fda83f7c0a71baaea1897dd7498e2df01e69ec"
      }
    }
  },
  "nbformat": 4,
  "nbformat_minor": 0
}