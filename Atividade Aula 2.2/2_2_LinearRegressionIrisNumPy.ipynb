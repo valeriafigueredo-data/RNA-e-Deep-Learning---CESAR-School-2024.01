{
  "cells": [
    {
      "cell_type": "markdown",
      "source": [
        "**Disciplina RNA e Deep Learning**\n",
        "\n",
        "Aluna: Valéria Cristina A.R. de Figueredo\n",
        "\n",
        "\n"
      ],
      "metadata": {
        "id": "MpsNw3D1ktN8"
      }
    },
    {
      "cell_type": "markdown",
      "metadata": {
        "id": "5yQgzdjbf9RT"
      },
      "source": [
        "# Regressão Linear com NumPy"
      ]
    },
    {
      "cell_type": "markdown",
      "metadata": {
        "heading_collapsed": true,
        "id": "p5HfrYM3f9RU"
      },
      "source": [
        "## Objetivos deste experimento"
      ]
    },
    {
      "cell_type": "markdown",
      "metadata": {
        "hidden": true,
        "id": "IIYC2db7f9RW"
      },
      "source": [
        "Este exemplo utiliza regressão linear para estimar o comprimento das sépalas da íris a partir do seu comprimento das pétalas.\n",
        "Utiliza-se programação totalmente NumPy com:\n",
        "- o **cálculo do gradiente**,\n",
        "- a **função de perda** e\n",
        "- a atualização dos parâmetros são feitos de forma explícita.\n",
        "- A rede é criada com uma camada como uma classe"
      ]
    },
    {
      "cell_type": "markdown",
      "metadata": {
        "hidden": true,
        "id": "ImJOZIiNf9RW"
      },
      "source": [
        "![alt text](https://raw.githubusercontent.com/vcasadei/images/master/RegressaoLinear_Otimizacao.png)"
      ]
    },
    {
      "cell_type": "markdown",
      "metadata": {
        "heading_collapsed": true,
        "id": "EeTHWCuMf9RX"
      },
      "source": [
        "## Importação dos pacotes"
      ]
    },
    {
      "cell_type": "code",
      "execution_count": 1,
      "metadata": {
        "ExecuteTime": {
          "end_time": "2017-10-08T11:19:38.728936Z",
          "start_time": "2017-10-08T11:19:36.888541Z"
        },
        "hidden": true,
        "id": "5yPytaCLf9RY"
      },
      "outputs": [],
      "source": [
        "%matplotlib inline\n",
        "import matplotlib.pyplot as plt   # para plotting\n",
        "\n",
        "from sklearn.datasets import load_iris  # para carregar dataset\n",
        "\n",
        "import numpy as np  # processamento matricial\n",
        "\n",
        "np.random.seed(1234)"
      ]
    },
    {
      "cell_type": "markdown",
      "metadata": {
        "heading_collapsed": true,
        "id": "wDkSLSnmf9Rc"
      },
      "source": [
        "## Dataset"
      ]
    },
    {
      "cell_type": "markdown",
      "metadata": {
        "heading_collapsed": true,
        "hidden": true,
        "id": "ldcOnrBvf9Rd"
      },
      "source": [
        "### Leitura dos dados"
      ]
    },
    {
      "cell_type": "code",
      "execution_count": 2,
      "metadata": {
        "ExecuteTime": {
          "end_time": "2017-10-08T11:19:38.747769Z",
          "start_time": "2017-10-08T11:19:38.730907Z"
        },
        "colab": {
          "base_uri": "https://localhost:8080/"
        },
        "hidden": true,
        "id": "l3t1qaa0f9Re",
        "outputId": "fa81ab99-92d9-4532-8b08-651881c2eabe"
      },
      "outputs": [
        {
          "output_type": "stream",
          "name": "stdout",
          "text": [
            "x_train.shape: (50, 1) float64\n",
            "y_train.shape: (50, 1) float64\n",
            "x_train[:5]:\n",
            " [[7. ]\n",
            " [6.4]\n",
            " [6.9]\n",
            " [5.5]\n",
            " [6.5]]\n",
            "y_train[:5]:\n",
            " [[4.7]\n",
            " [4.5]\n",
            " [4.9]\n",
            " [4. ]\n",
            " [4.6]]\n"
          ]
        }
      ],
      "source": [
        "iris = load_iris()\n",
        "data = iris.data[iris.target==1,::2]  # comprimento das sépalas e pétalas, indices 0 e 2\n",
        "\n",
        "x_train = data[:,0:1]\n",
        "y_train = data[:,1:2]\n",
        "\n",
        "n_samples = x_train.shape[0]\n",
        "print('x_train.shape:',x_train.shape, x_train.dtype)\n",
        "print('y_train.shape:',y_train.shape, y_train.dtype)\n",
        "\n",
        "print('x_train[:5]:\\n', x_train[:5])\n",
        "print('y_train[:5]:\\n', y_train[:5])"
      ]
    },
    {
      "cell_type": "markdown",
      "metadata": {
        "hidden": true,
        "id": "aPQ-L6FVf9Rk"
      },
      "source": [
        "### Normalização dos dados"
      ]
    },
    {
      "cell_type": "code",
      "execution_count": 3,
      "metadata": {
        "ExecuteTime": {
          "end_time": "2017-10-08T11:19:38.756343Z",
          "start_time": "2017-10-08T11:19:38.750395Z"
        },
        "hidden": true,
        "id": "POM323GEf9Rl"
      },
      "outputs": [],
      "source": [
        "x_train -= x_train.min()\n",
        "x_train /= x_train.max()\n",
        "y_train -= y_train.min()\n",
        "y_train /= y_train.max()"
      ]
    },
    {
      "cell_type": "code",
      "execution_count": 4,
      "metadata": {
        "ExecuteTime": {
          "end_time": "2017-10-08T11:19:39.127199Z",
          "start_time": "2017-10-08T11:19:38.759104Z"
        },
        "colab": {
          "base_uri": "https://localhost:8080/",
          "height": 467
        },
        "hidden": true,
        "id": "dx5AO9Qxf9Rn",
        "outputId": "0441a8a4-975f-42b7-9abb-bdeb3b084e23"
      },
      "outputs": [
        {
          "output_type": "execute_result",
          "data": {
            "text/plain": [
              "Text(0, 0.5, 'Comprimento petalas')"
            ]
          },
          "metadata": {},
          "execution_count": 4
        },
        {
          "output_type": "display_data",
          "data": {
            "text/plain": [
              "<Figure size 640x480 with 1 Axes>"
            ],
            "image/png": "[encoded data removed]"
          },
          "metadata": {}
        }
      ],
      "source": [
        "plt.scatter(x_train,y_train)\n",
        "plt.xlabel('Comprimento sepalas')\n",
        "plt.ylabel('Comprimento petalas')"
      ]
    },
    {
      "cell_type": "markdown",
      "metadata": {
        "heading_collapsed": true,
        "id": "poW81teqf9Rr"
      },
      "source": [
        "## Modelo da rede"
      ]
    },
    {
      "cell_type": "markdown",
      "metadata": {
        "hidden": true,
        "id": "QXFLlJ0_f9Rt"
      },
      "source": [
        "### Reta de ajuste"
      ]
    },
    {
      "cell_type": "markdown",
      "metadata": {
        "hidden": true,
        "id": "s7JuPXysf9Rt"
      },
      "source": [
        "A equação da reta no plano necessita de dois parâmetros, aqui denominados $w_0$ (*bias*) e inclinação $w_1$. Veja figura:\n",
        "\n",
        "![alt text](https://raw.githubusercontent.com/vcasadei/images/master/linhareta.png)\n",
        "\n",
        "A reta de ajuste será dada por:\n",
        "\n",
        "$$ \\hat{y} = w_0 + w_1 x $$\n",
        "\n",
        "onde\n",
        "* $w_1$ é o coeficiente angular da reta e\n",
        "* $w_0$ é a interseção do eixo vertical quando x é igual a zero, também denominado de *bias*.\n",
        "* $x$ é a variável de entrada (comprimento das sépalas) e\n",
        "* $\\hat{y}$ é a predição (comprimento estimado das pétalas)."
      ]
    },
    {
      "cell_type": "markdown",
      "metadata": {
        "hidden": true,
        "id": "hwin_xPff9Ru"
      },
      "source": [
        "### Linear Regression Model"
      ]
    },
    {
      "cell_type": "markdown",
      "metadata": {
        "hidden": true,
        "id": "c7ilOLnkf9Rw"
      },
      "source": [
        "![alt text](https://raw.githubusercontent.com/vcasadei/images/master/RegressaoLinearNeuronio.png)"
      ]
    },
    {
      "cell_type": "markdown",
      "metadata": {
        "hidden": true,
        "id": "H0CzMB91f9Rx"
      },
      "source": [
        "### Formulação matricial do neurônio"
      ]
    },
    {
      "cell_type": "markdown",
      "metadata": {
        "hidden": true,
        "id": "-wWz_wpYf9Ry"
      },
      "source": [
        "* $\\mathbf{w} = [w_0 \\ w_1]$ é vetor linha de parâmetros e\n",
        "* $\\mathbf{x} = [1 \\ x_0] $ é vetor linha de uma amostra (com *bias*).\n",
        "\n",
        "$$ \\hat{y} = 1 w_0 + x_0 w_1 $$\n",
        "\n",
        "$$ [\\hat{y}] = [1 \\ x_0] \\begin{bmatrix} w_0 \\\\ w_1 \\end{bmatrix} $$\n",
        "\n",
        "$$ \\mathbf{\\hat{y}} = \\mathbf{x} \\mathbf{w^T} $$"
      ]
    },
    {
      "cell_type": "markdown",
      "metadata": {
        "hidden": true,
        "id": "rQ1lc-dYf9Rz"
      },
      "source": [
        "### Fazendo o predict de várias amostras"
      ]
    },
    {
      "cell_type": "markdown",
      "metadata": {
        "hidden": true,
        "id": "fh068Clrf9R0"
      },
      "source": [
        "$$ \\begin{matrix}\n",
        "\\begin{bmatrix}\n",
        "\\hat{y}_0\\\\\n",
        "\\hat{y}_1\\\\\n",
        "\\\\\n",
        "\\hat{y}_{M-1}\n",
        "\\end{bmatrix} &=& \\begin{bmatrix}\n",
        "1 & x_0 \\\\\n",
        "1 & x_1\\\\\n",
        "\\\\\n",
        "1 & x_{M-1} \\\\\n",
        "\\end{bmatrix}\n",
        "&\n",
        "\\begin{bmatrix}\n",
        "w_0\\\\\n",
        "w_1\n",
        "\\end{bmatrix} \\\\\n",
        "(M,1) & & (M,2) & (2,1) \\\\\n",
        "\\end{matrix} $$"
      ]
    },
    {
      "cell_type": "markdown",
      "metadata": {
        "hidden": true,
        "id": "jjSchAsZf9R2"
      },
      "source": [
        "### Preenchendo x com coluna de 1's para bias"
      ]
    },
    {
      "cell_type": "code",
      "execution_count": 5,
      "metadata": {
        "ExecuteTime": {
          "end_time": "2017-10-08T11:19:39.135089Z",
          "start_time": "2017-10-08T11:19:39.129385Z"
        },
        "hidden": true,
        "id": "plZEY5-tf9R2"
      },
      "outputs": [],
      "source": [
        "x_train_bias = np.hstack([np.ones(shape=(n_samples,1)), x_train])"
      ]
    },
    {
      "cell_type": "code",
      "execution_count": 6,
      "metadata": {
        "colab": {
          "base_uri": "https://localhost:8080/"
        },
        "id": "tXYx3JdMf9R6",
        "outputId": "4a7be27c-96cd-41a5-d95b-a2664ca2026f"
      },
      "outputs": [
        {
          "output_type": "execute_result",
          "data": {
            "text/plain": [
              "array([[1.        , 1.        ],\n",
              "       [1.        , 0.71428571],\n",
              "       [1.        , 0.95238095],\n",
              "       [1.        , 0.28571429],\n",
              "       [1.        , 0.76190476],\n",
              "       [1.        , 0.38095238],\n",
              "       [1.        , 0.66666667],\n",
              "       [1.        , 0.        ],\n",
              "       [1.        , 0.80952381],\n",
              "       [1.        , 0.14285714],\n",
              "       [1.        , 0.04761905],\n",
              "       [1.        , 0.47619048],\n",
              "       [1.        , 0.52380952],\n",
              "       [1.        , 0.57142857],\n",
              "       [1.        , 0.33333333],\n",
              "       [1.        , 0.85714286],\n",
              "       [1.        , 0.33333333],\n",
              "       [1.        , 0.42857143],\n",
              "       [1.        , 0.61904762],\n",
              "       [1.        , 0.33333333],\n",
              "       [1.        , 0.47619048],\n",
              "       [1.        , 0.57142857],\n",
              "       [1.        , 0.66666667],\n",
              "       [1.        , 0.57142857],\n",
              "       [1.        , 0.71428571],\n",
              "       [1.        , 0.80952381],\n",
              "       [1.        , 0.9047619 ],\n",
              "       [1.        , 0.85714286],\n",
              "       [1.        , 0.52380952],\n",
              "       [1.        , 0.38095238],\n",
              "       [1.        , 0.28571429],\n",
              "       [1.        , 0.28571429],\n",
              "       [1.        , 0.42857143],\n",
              "       [1.        , 0.52380952],\n",
              "       [1.        , 0.23809524],\n",
              "       [1.        , 0.52380952],\n",
              "       [1.        , 0.85714286],\n",
              "       [1.        , 0.66666667],\n",
              "       [1.        , 0.33333333],\n",
              "       [1.        , 0.28571429],\n",
              "       [1.        , 0.28571429],\n",
              "       [1.        , 0.57142857],\n",
              "       [1.        , 0.42857143],\n",
              "       [1.        , 0.04761905],\n",
              "       [1.        , 0.33333333],\n",
              "       [1.        , 0.38095238],\n",
              "       [1.        , 0.38095238],\n",
              "       [1.        , 0.61904762],\n",
              "       [1.        , 0.0952381 ],\n",
              "       [1.        , 0.38095238]])"
            ]
          },
          "metadata": {},
          "execution_count": 6
        }
      ],
      "source": [
        "x_train_bias"
      ]
    },
    {
      "cell_type": "markdown",
      "metadata": {
        "hidden": true,
        "id": "GOtS_8OSf9SC"
      },
      "source": [
        "### Classe com o modelo da rede"
      ]
    },
    {
      "cell_type": "code",
      "execution_count": 7,
      "metadata": {
        "ExecuteTime": {
          "end_time": "2017-10-08T11:19:39.143879Z",
          "start_time": "2017-10-08T11:19:39.137134Z"
        },
        "hidden": true,
        "id": "aKLVIQUtf9SD"
      },
      "outputs": [],
      "source": [
        "class Net():\n",
        "    def __init__(self, n_in, n_out):\n",
        "        self.w = np.random.uniform(-0.1,0.1,(n_out,n_in)) #inicialização dos parâmetros\n",
        "\n",
        "    def forward(self, x_bias):\n",
        "        return x_bias.dot(self.w.T)"
      ]
    },
    {
      "cell_type": "markdown",
      "metadata": {
        "hidden": true,
        "id": "0j0hN9l_f9SH"
      },
      "source": [
        "### Criando a rede, instanciando o objeto model"
      ]
    },
    {
      "cell_type": "code",
      "execution_count": 8,
      "metadata": {
        "ExecuteTime": {
          "end_time": "2017-10-08T11:19:39.151717Z",
          "start_time": "2017-10-08T11:19:39.146858Z"
        },
        "hidden": true,
        "id": "5o5Zkqn5f9SI"
      },
      "outputs": [],
      "source": [
        "model = Net(2,1) # duas entradas (1 + x0) e uma saída y_pred"
      ]
    },
    {
      "cell_type": "markdown",
      "metadata": {
        "hidden": true,
        "id": "F3yolUOGf9SL"
      },
      "source": [
        "### Testando o predict da rede (mesmo sem treiná-la)"
      ]
    },
    {
      "cell_type": "code",
      "execution_count": 9,
      "metadata": {
        "ExecuteTime": {
          "end_time": "2017-10-08T11:19:39.162189Z",
          "start_time": "2017-10-08T11:19:39.156018Z"
        },
        "colab": {
          "base_uri": "https://localhost:8080/"
        },
        "hidden": true,
        "id": "BzkEurfof9SN",
        "outputId": "4dcab8a3-2505-4f0e-b82b-79b67db53d8a"
      },
      "outputs": [
        {
          "output_type": "execute_result",
          "data": {
            "text/plain": [
              "array([[-0.09602795],\n",
              "       [ 0.0661236 ],\n",
              "       [-0.06857828],\n",
              "       [-0.05573871]])"
            ]
          },
          "metadata": {},
          "execution_count": 9
        }
      ],
      "source": [
        "xin = np.random.randn(4,2) # 4 amostras, 2 entradas (1 + x0)\n",
        "ypred = model.forward(xin)\n",
        "ypred"
      ]
    },
    {
      "cell_type": "markdown",
      "metadata": {
        "heading_collapsed": true,
        "id": "edoSiy--f9SS"
      },
      "source": [
        "## Treinamento via gradiente descendente"
      ]
    },
    {
      "cell_type": "markdown",
      "metadata": {
        "hidden": true,
        "id": "SnkXXFref9ST"
      },
      "source": [
        "Função de perda:\n",
        "$$ J(\\hat{y_i},y_i) = \\frac{1}{M} \\sum_{i=0}^{M-1} (\\hat{y_i} - y_i)^2 $$"
      ]
    },
    {
      "cell_type": "markdown",
      "metadata": {
        "ExecuteTime": {
          "end_time": "2017-10-05T14:05:06.244776",
          "start_time": "2017-10-05T14:05:06.240743"
        },
        "hidden": true,
        "id": "6W5QcPwUf9SU"
      },
      "source": [
        "Gradiente:\n",
        "$$  \\mathbf{\\nabla{J_w}} = \\frac{2}{M}\\mathbf{x^T}(\\mathbf{x w^T} - \\mathbf{y}) $$"
      ]
    },
    {
      "cell_type": "markdown",
      "metadata": {
        "ExecuteTime": {
          "end_time": "2017-10-05T14:06:17.929718",
          "start_time": "2017-10-05T14:06:17.925519"
        },
        "hidden": true,
        "id": "6OoQuuvAf9SU"
      },
      "source": [
        "Atualização dos parâmetros pelo gradiente descendente:\n",
        "$$ \\mathbf{w} = \\mathbf{w} − \\eta (\\mathbf{\\nabla J_w})^T $$"
      ]
    },
    {
      "cell_type": "markdown",
      "metadata": {
        "hidden": true,
        "id": "YM0fEnAdf9SW"
      },
      "source": [
        "### Laço de treinamento"
      ]
    },
    {
      "cell_type": "code",
      "execution_count": 10,
      "metadata": {
        "ExecuteTime": {
          "end_time": "2017-10-08T11:19:39.183784Z",
          "start_time": "2017-10-08T11:19:39.165347Z"
        },
        "colab": {
          "base_uri": "https://localhost:8080/"
        },
        "hidden": true,
        "id": "BiCGgqp6f9SX",
        "outputId": "93d90440-8238-498b-8149-abd34937f741",
        "scrolled": false
      },
      "outputs": [
        {
          "output_type": "stream",
          "name": "stdout",
          "text": [
            "Epoch[1/100], loss: 0.469163\n",
            "Epoch[2/100], loss: 0.058070\n",
            "Epoch[3/100], loss: 0.030543\n",
            "Epoch[4/100], loss: 0.028105\n",
            "Epoch[5/100], loss: 0.027364\n",
            "Epoch[6/100], loss: 0.026787\n",
            "Epoch[7/100], loss: 0.026269\n",
            "Epoch[8/100], loss: 0.025799\n",
            "Epoch[9/100], loss: 0.025373\n",
            "Epoch[10/100], loss: 0.024986\n",
            "Epoch[11/100], loss: 0.024634\n",
            "Epoch[12/100], loss: 0.024315\n",
            "Epoch[13/100], loss: 0.024025\n",
            "Epoch[14/100], loss: 0.023762\n",
            "Epoch[15/100], loss: 0.023524\n",
            "Epoch[16/100], loss: 0.023307\n",
            "Epoch[17/100], loss: 0.023110\n",
            "Epoch[18/100], loss: 0.022931\n",
            "Epoch[19/100], loss: 0.022769\n",
            "Epoch[20/100], loss: 0.022622\n",
            "Epoch[21/100], loss: 0.022488\n",
            "Epoch[22/100], loss: 0.022366\n",
            "Epoch[23/100], loss: 0.022256\n",
            "Epoch[24/100], loss: 0.022156\n",
            "Epoch[25/100], loss: 0.022065\n",
            "Epoch[26/100], loss: 0.021983\n",
            "Epoch[27/100], loss: 0.021908\n",
            "Epoch[28/100], loss: 0.021840\n",
            "Epoch[29/100], loss: 0.021778\n",
            "Epoch[30/100], loss: 0.021722\n",
            "Epoch[31/100], loss: 0.021671\n",
            "Epoch[32/100], loss: 0.021625\n",
            "Epoch[33/100], loss: 0.021583\n",
            "Epoch[34/100], loss: 0.021545\n",
            "Epoch[35/100], loss: 0.021510\n",
            "Epoch[36/100], loss: 0.021479\n",
            "Epoch[37/100], loss: 0.021450\n",
            "Epoch[38/100], loss: 0.021425\n",
            "Epoch[39/100], loss: 0.021401\n",
            "Epoch[40/100], loss: 0.021380\n",
            "Epoch[41/100], loss: 0.021360\n",
            "Epoch[42/100], loss: 0.021343\n",
            "Epoch[43/100], loss: 0.021327\n",
            "Epoch[44/100], loss: 0.021312\n",
            "Epoch[45/100], loss: 0.021299\n",
            "Epoch[46/100], loss: 0.021287\n",
            "Epoch[47/100], loss: 0.021276\n",
            "Epoch[48/100], loss: 0.021267\n",
            "Epoch[49/100], loss: 0.021258\n",
            "Epoch[50/100], loss: 0.021249\n",
            "Epoch[51/100], loss: 0.021242\n",
            "Epoch[52/100], loss: 0.021235\n",
            "Epoch[53/100], loss: 0.021229\n",
            "Epoch[54/100], loss: 0.021224\n",
            "Epoch[55/100], loss: 0.021219\n",
            "Epoch[56/100], loss: 0.021214\n",
            "Epoch[57/100], loss: 0.021210\n",
            "Epoch[58/100], loss: 0.021206\n",
            "Epoch[59/100], loss: 0.021203\n",
            "Epoch[60/100], loss: 0.021200\n",
            "Epoch[61/100], loss: 0.021197\n",
            "Epoch[62/100], loss: 0.021195\n",
            "Epoch[63/100], loss: 0.021192\n",
            "Epoch[64/100], loss: 0.021190\n",
            "Epoch[65/100], loss: 0.021188\n",
            "Epoch[66/100], loss: 0.021186\n",
            "Epoch[67/100], loss: 0.021185\n",
            "Epoch[68/100], loss: 0.021183\n",
            "Epoch[69/100], loss: 0.021182\n",
            "Epoch[70/100], loss: 0.021181\n",
            "Epoch[71/100], loss: 0.021180\n",
            "Epoch[72/100], loss: 0.021179\n",
            "Epoch[73/100], loss: 0.021178\n",
            "Epoch[74/100], loss: 0.021177\n",
            "Epoch[75/100], loss: 0.021177\n",
            "Epoch[76/100], loss: 0.021176\n",
            "Epoch[77/100], loss: 0.021175\n",
            "Epoch[78/100], loss: 0.021175\n",
            "Epoch[79/100], loss: 0.021174\n",
            "Epoch[80/100], loss: 0.021174\n",
            "Epoch[81/100], loss: 0.021173\n",
            "Epoch[82/100], loss: 0.021173\n",
            "Epoch[83/100], loss: 0.021173\n",
            "Epoch[84/100], loss: 0.021172\n",
            "Epoch[85/100], loss: 0.021172\n",
            "Epoch[86/100], loss: 0.021172\n",
            "Epoch[87/100], loss: 0.021172\n",
            "Epoch[88/100], loss: 0.021171\n",
            "Epoch[89/100], loss: 0.021171\n",
            "Epoch[90/100], loss: 0.021171\n",
            "Epoch[91/100], loss: 0.021171\n",
            "Epoch[92/100], loss: 0.021171\n",
            "Epoch[93/100], loss: 0.021171\n",
            "Epoch[94/100], loss: 0.021171\n",
            "Epoch[95/100], loss: 0.021170\n",
            "Epoch[96/100], loss: 0.021170\n",
            "Epoch[97/100], loss: 0.021170\n",
            "Epoch[98/100], loss: 0.021170\n",
            "Epoch[99/100], loss: 0.021170\n",
            "Epoch[100/100], loss: 0.021170\n"
          ]
        }
      ],
      "source": [
        "num_epochs = 100\n",
        "learning_rate = 0.5\n",
        "for epoch in range(num_epochs):\n",
        "\n",
        "    # forward - predict\n",
        "    y_pred = model.forward(x_train_bias)\n",
        "\n",
        "    #loss cálculo da função de perda\n",
        "    loss = np.square(y_pred - y_train).mean()\n",
        "\n",
        "    # cálculo do gradiente pelas derivadas parciais\n",
        "    w_grad = (2.0/n_samples) * (x_train_bias.T).dot(x_train_bias.dot(model.w.T) - y_train)\n",
        "\n",
        "    # gradiente descendente\n",
        "    model.w = model.w - learning_rate * w_grad.T\n",
        "\n",
        "    # verbose\n",
        "    if (epoch+1) % 1 == 0:\n",
        "        print('Epoch[{}/{}], loss: {:.6f}'\n",
        "              .format(epoch+1, num_epochs, loss))"
      ]
    },
    {
      "cell_type": "markdown",
      "metadata": {
        "heading_collapsed": true,
        "id": "1QGlDZABf9Sd"
      },
      "source": [
        "## Avaliação"
      ]
    },
    {
      "cell_type": "markdown",
      "metadata": {
        "hidden": true,
        "id": "6TIimlCmf9Si"
      },
      "source": [
        "### Predict"
      ]
    },
    {
      "cell_type": "code",
      "execution_count": 11,
      "metadata": {
        "ExecuteTime": {
          "end_time": "2017-10-08T11:19:39.408412Z",
          "start_time": "2017-10-08T11:19:39.186021Z"
        },
        "colab": {
          "base_uri": "https://localhost:8080/",
          "height": 448
        },
        "hidden": true,
        "id": "ToXwbrlsf9Sk",
        "outputId": "f3ab17e1-0e15-49eb-fc05-f3d381ddb926"
      },
      "outputs": [
        {
          "output_type": "execute_result",
          "data": {
            "text/plain": [
              "[<matplotlib.lines.Line2D at 0x7fd954e4c430>]"
            ]
          },
          "metadata": {},
          "execution_count": 11
        },
        {
          "output_type": "display_data",
          "data": {
            "text/plain": [
              "<Figure size 640x480 with 1 Axes>"
            ],
            "image/png": "[encoded data removed]"
          },
          "metadata": {}
        }
      ],
      "source": [
        "y_pred = model.forward(x_train_bias)\n",
        "plt.plot(x_train, y_train, 'ro', label='Original data')\n",
        "plt.plot(x_train, y_pred, 'kx-', label='Fitting Line')"
      ]
    },
    {
      "cell_type": "markdown",
      "metadata": {
        "hidden": true,
        "id": "kQ1hGdItf9So"
      },
      "source": [
        "### Parâmetros treinados"
      ]
    },
    {
      "cell_type": "code",
      "execution_count": 12,
      "metadata": {
        "ExecuteTime": {
          "end_time": "2017-10-08T11:19:39.417569Z",
          "start_time": "2017-10-08T11:19:39.411060Z"
        },
        "colab": {
          "base_uri": "https://localhost:8080/"
        },
        "hidden": true,
        "id": "IcEOxTg9f9Sp",
        "outputId": "97b9e5f8-f182-415a-9a83-d87f74197699"
      },
      "outputs": [
        {
          "output_type": "stream",
          "name": "stdout",
          "text": [
            "[[0.26295353 0.68335641]]\n"
          ]
        }
      ],
      "source": [
        "print(model.w)"
      ]
    },
    {
      "cell_type": "markdown",
      "metadata": {
        "hidden": true,
        "id": "73n0qSOMf9Sr"
      },
      "source": [
        "### Avaliação do modelo"
      ]
    },
    {
      "cell_type": "code",
      "execution_count": 13,
      "metadata": {
        "colab": {
          "base_uri": "https://localhost:8080/"
        },
        "hidden": true,
        "id": "dI2TE8W6f9Ss",
        "outputId": "b2cfd63b-1f99-4446-bf2c-650e9dea5761"
      },
      "outputs": [
        {
          "output_type": "execute_result",
          "data": {
            "text/plain": [
              "0.02117000379151052"
            ]
          },
          "metadata": {},
          "execution_count": 13
        }
      ],
      "source": [
        "loss = np.square(y_pred - y_train).mean()\n",
        "loss"
      ]
    },
    {
      "cell_type": "markdown",
      "metadata": {
        "hidden": true,
        "id": "cv6q3ElSf9Sv"
      },
      "source": [
        "### Valor ótimo, solução analítica"
      ]
    },
    {
      "cell_type": "markdown",
      "metadata": {
        "hidden": true,
        "id": "qYgHOaNmf9Sv"
      },
      "source": [
        "$$  \\mathbf{w} =(\\mathbf{x^T} \\mathbf{x})^{−1}\\mathbf{x^T} \\mathbf{y} $$"
      ]
    },
    {
      "cell_type": "code",
      "execution_count": 14,
      "metadata": {
        "ExecuteTime": {
          "end_time": "2017-10-08T11:19:39.432480Z",
          "start_time": "2017-10-08T11:19:39.420006Z"
        },
        "colab": {
          "base_uri": "https://localhost:8080/"
        },
        "hidden": true,
        "id": "OmrggYvmf9Sw",
        "outputId": "a9fc0b6c-b652-4d6d-9284-ee47a8856b4b"
      },
      "outputs": [
        {
          "output_type": "stream",
          "name": "stdout",
          "text": [
            "[[0.26134159 0.68646976]]\n"
          ]
        }
      ],
      "source": [
        "x = x_train_bias\n",
        "y = y_train\n",
        "w_opt = (np.linalg.inv((x.T).dot(x)).dot(x.T)).dot(y)\n",
        "print(w_opt.T)"
      ]
    },
    {
      "cell_type": "markdown",
      "metadata": {
        "heading_collapsed": true,
        "id": "2eMOcW8Ff9Sz"
      },
      "source": [
        "# Exercícios"
      ]
    },
    {
      "cell_type": "markdown",
      "metadata": {
        "hidden": true,
        "id": "tCKeOB1-f9S1"
      },
      "source": [
        "## Questões"
      ]
    },
    {
      "cell_type": "markdown",
      "metadata": {
        "hidden": true,
        "id": "c-KyP13vf9S2"
      },
      "source": [
        "**1. Quantos parâmetros são treinados nesse modelo?**\n",
        "\n",
        "Os parâmetros treinados nesse modelo são W0 e W1.\n",
        "\n",
        "**2. Qual é o número de atributos de entrada para a rede?**\n",
        "\n",
        "São 2 atributos: Bias e X.\n",
        "\n",
        "**3. Qual é o número de saídas da rede?**\n",
        "\n",
        "É uma saída.\n",
        "\n",
        "4. Suponha que eu tenha agora 5 mil amostras para fazer a predição. Qual é o shape da matriz de entrada? Qual é o shape do matriz de saída?\n",
        "\n",
        "\n",
        "A shape da **matriz de entrada** é [5000, 2], onde 5000 é a quantidade de dados e 2 são os atributos de entrada: Bias e X.\n",
        "\n",
        "\n",
        "A shape da **matriz de saída** é [5000, 1], onde 5000 é a quantidade de dados e 1 é o atributo de saída: saída do y.\n"
      ]
    },
    {
      "cell_type": "markdown",
      "metadata": {
        "hidden": true,
        "id": "oaj0t2gpf9S3"
      },
      "source": [
        "## Atividades"
      ]
    },
    {
      "cell_type": "markdown",
      "metadata": {
        "hidden": true,
        "id": "pR_fNYurf9S3"
      },
      "source": [
        "1. Modifique o laço do treinamento via gradiente descendente para guardar em uma lista, o valor da perda no final\n",
        "   de cada época. Após o treinamento, plote o valor da perda em função da época.\n",
        "2. Calcule o valor da perda (MSE) da rede com os parâmetros inicializados, sem serem treinados.\n",
        "3. Coloque os valores dos pesos da solução ótima analítica no modelo da rede e calcule o valor da perda (MSE) e\n",
        "   compare com o valor da perda obtida pelo método da otimização via gradiente descendente."
      ]
    },
    {
      "cell_type": "code",
      "source": [
        "# primeira atividade\n",
        "\n",
        "model2 = Net(2,1)\n",
        "losses = []\n",
        "num_epochs = 100\n",
        "learning_rate = 0.5\n",
        "\n",
        "for epoch in range(num_epochs):\n",
        "\n",
        "    # forward - predict\n",
        "    y_pred = model.forward(x_train_bias)\n",
        "\n",
        "    #loss cálculo da função de perda\n",
        "    loss = np.square(y_pred - y_train).mean()\n",
        "    losses.append(loss)\n",
        "\n",
        "    # cálculo do gradiente pelas derivadas parciais\n",
        "    w_grad = (2.0/n_samples) * (x_train_bias.T).dot(x_train_bias.dot(model.w.T) - y_train)\n",
        "\n",
        "    # gradiente descendente\n",
        "    model.w = model.w - learning_rate * w_grad.T\n",
        "\n",
        "    # verbose\n",
        "    if (epoch+1) % 1 == 0:\n",
        "        print('Epoch[{}/{}], loss: {:.6f}'\n",
        "              .format(epoch+1, num_epochs, loss))\n",
        "        print(losses)\n"
      ],
      "metadata": {
        "colab": {
          "base_uri": "https://localhost:8080/"
        },
        "id": "zlHzHvqfVTVG",
        "outputId": "45d26f42-7841-40f4-cb53-9917976fa248"
      },
      "execution_count": 15,
      "outputs": [
        {
          "output_type": "stream",
          "name": "stdout",
          "text": [
            "Epoch[1/100], loss: 0.021170\n",
            "[0.02117000379151052]\n",
            "Epoch[2/100], loss: 0.021170\n",
            "[0.02117000379151052, 0.02116995040474736]\n",
            "Epoch[3/100], loss: 0.021170\n",
            "[0.02117000379151052, 0.02116995040474736, 0.02116990193480691]\n",
            "Epoch[4/100], loss: 0.021170\n",
            "[0.02117000379151052, 0.02116995040474736, 0.02116990193480691, 0.021169857928858827]\n",
            "Epoch[5/100], loss: 0.021170\n",
            "[0.02117000379151052, 0.02116995040474736, 0.02116990193480691, 0.021169857928858827, 0.021169817975777626]\n",
            "Epoch[6/100], loss: 0.021170\n",
            "[0.02117000379151052, 0.02116995040474736, 0.02116990193480691, 0.021169857928858827, 0.021169817975777626, 0.021169781702301722]\n",
            "Epoch[7/100], loss: 0.021170\n",
            "[0.02117000379151052, 0.02116995040474736, 0.02116990193480691, 0.021169857928858827, 0.021169817975777626, 0.021169781702301722, 0.021169748769546245]\n",
            "Epoch[8/100], loss: 0.021170\n",
            "[0.02117000379151052, 0.02116995040474736, 0.02116990193480691, 0.021169857928858827, 0.021169817975777626, 0.021169781702301722, 0.021169748769546245, 0.021169718869836967]\n",
            "Epoch[9/100], loss: 0.021170\n",
            "[0.02117000379151052, 0.02116995040474736, 0.02116990193480691, 0.021169857928858827, 0.021169817975777626, 0.021169781702301722, 0.021169748769546245, 0.021169718869836967, 0.021169691723835923]\n",
            "Epoch[10/100], loss: 0.021170\n",
            "[0.02117000379151052, 0.02116995040474736, 0.02116990193480691, 0.021169857928858827, 0.021169817975777626, 0.021169781702301722, 0.021169748769546245, 0.021169718869836967, 0.021169691723835923, 0.021169667077931654]\n",
            "Epoch[11/100], loss: 0.021170\n",
            "[0.02117000379151052, 0.02116995040474736, 0.02116990193480691, 0.021169857928858827, 0.021169817975777626, 0.021169781702301722, 0.021169748769546245, 0.021169718869836967, 0.021169691723835923, 0.021169667077931654, 0.021169644701869838]\n",
            "Epoch[12/100], loss: 0.021170\n",
            "[0.02117000379151052, 0.02116995040474736, 0.02116990193480691, 0.021169857928858827, 0.021169817975777626, 0.021169781702301722, 0.021169748769546245, 0.021169718869836967, 0.021169691723835923, 0.021169667077931654, 0.021169644701869838, 0.021169624386602165]\n",
            "Epoch[13/100], loss: 0.021170\n",
            "[0.02117000379151052, 0.02116995040474736, 0.02116990193480691, 0.021169857928858827, 0.021169817975777626, 0.021169781702301722, 0.021169748769546245, 0.021169718869836967, 0.021169691723835923, 0.021169667077931654, 0.021169644701869838, 0.021169624386602165, 0.021169605942333282]\n",
            "Epoch[14/100], loss: 0.021170\n",
            "[0.02117000379151052, 0.02116995040474736, 0.02116990193480691, 0.021169857928858827, 0.021169817975777626, 0.021169781702301722, 0.021169748769546245, 0.021169718869836967, 0.021169691723835923, 0.021169667077931654, 0.021169644701869838, 0.021169624386602165, 0.021169605942333282, 0.02116958919674764]\n",
            "Epoch[15/100], loss: 0.021170\n",
            "[0.02117000379151052, 0.02116995040474736, 0.02116990193480691, 0.021169857928858827, 0.021169817975777626, 0.021169781702301722, 0.021169748769546245, 0.021169718869836967, 0.021169691723835923, 0.021169667077931654, 0.021169644701869838, 0.021169624386602165, 0.021169605942333282, 0.02116958919674764, 0.02116957399339963]\n",
            "Epoch[16/100], loss: 0.021170\n",
            "[0.02117000379151052, 0.02116995040474736, 0.02116990193480691, 0.021169857928858827, 0.021169817975777626, 0.021169781702301722, 0.021169748769546245, 0.021169718869836967, 0.021169691723835923, 0.021169667077931654, 0.021169644701869838, 0.021169624386602165, 0.021169605942333282, 0.02116958919674764, 0.02116957399339963, 0.02116956019025202]\n",
            "Epoch[17/100], loss: 0.021170\n",
            "[0.02117000379151052, 0.02116995040474736, 0.02116990193480691, 0.021169857928858827, 0.021169817975777626, 0.021169781702301722, 0.021169748769546245, 0.021169718869836967, 0.021169691723835923, 0.021169667077931654, 0.021169644701869838, 0.021169624386602165, 0.021169605942333282, 0.02116958919674764, 0.02116957399339963, 0.02116956019025202, 0.021169547658348917]\n",
            "Epoch[18/100], loss: 0.021170\n",
            "[0.02117000379151052, 0.02116995040474736, 0.02116990193480691, 0.021169857928858827, 0.021169817975777626, 0.021169781702301722, 0.021169748769546245, 0.021169718869836967, 0.021169691723835923, 0.021169667077931654, 0.021169644701869838, 0.021169624386602165, 0.021169605942333282, 0.02116958919674764, 0.02116957399339963, 0.02116956019025202, 0.021169547658348917, 0.02116953628061104]\n",
            "Epoch[19/100], loss: 0.021170\n",
            "[0.02117000379151052, 0.02116995040474736, 0.02116990193480691, 0.021169857928858827, 0.021169817975777626, 0.021169781702301722, 0.021169748769546245, 0.021169718869836967, 0.021169691723835923, 0.021169667077931654, 0.021169644701869838, 0.021169624386602165, 0.021169605942333282, 0.02116958919674764, 0.02116957399339963, 0.02116956019025202, 0.021169547658348917, 0.02116953628061104, 0.021169525950741893]\n",
            "Epoch[20/100], loss: 0.021170\n",
            "[0.02117000379151052, 0.02116995040474736, 0.02116990193480691, 0.021169857928858827, 0.021169817975777626, 0.021169781702301722, 0.021169748769546245, 0.021169718869836967, 0.021169691723835923, 0.021169667077931654, 0.021169644701869838, 0.021169624386602165, 0.021169605942333282, 0.02116958919674764, 0.02116957399339963, 0.02116956019025202, 0.021169547658348917, 0.02116953628061104, 0.021169525950741893, 0.021169516572234696]\n",
            "Epoch[21/100], loss: 0.021170\n",
            "[0.02117000379151052, 0.02116995040474736, 0.02116990193480691, 0.021169857928858827, 0.021169817975777626, 0.021169781702301722, 0.021169748769546245, 0.021169718869836967, 0.021169691723835923, 0.021169667077931654, 0.021169644701869838, 0.021169624386602165, 0.021169605942333282, 0.02116958919674764, 0.02116957399339963, 0.02116956019025202, 0.021169547658348917, 0.02116953628061104, 0.021169525950741893, 0.021169516572234696, 0.02116950805747077]\n",
            "Epoch[22/100], loss: 0.021170\n",
            "[0.02117000379151052, 0.02116995040474736, 0.02116990193480691, 0.021169857928858827, 0.021169817975777626, 0.021169781702301722, 0.021169748769546245, 0.021169718869836967, 0.021169691723835923, 0.021169667077931654, 0.021169644701869838, 0.021169624386602165, 0.021169605942333282, 0.02116958919674764, 0.02116957399339963, 0.02116956019025202, 0.021169547658348917, 0.02116953628061104, 0.021169525950741893, 0.021169516572234696, 0.02116950805747077, 0.021169500326900938]\n",
            "Epoch[23/100], loss: 0.021169\n",
            "[0.02117000379151052, 0.02116995040474736, 0.02116990193480691, 0.021169857928858827, 0.021169817975777626, 0.021169781702301722, 0.021169748769546245, 0.021169718869836967, 0.021169691723835923, 0.021169667077931654, 0.021169644701869838, 0.021169624386602165, 0.021169605942333282, 0.02116958919674764, 0.02116957399339963, 0.02116956019025202, 0.021169547658348917, 0.02116953628061104, 0.021169525950741893, 0.021169516572234696, 0.02116950805747077, 0.021169500326900938, 0.02116949330830237]\n",
            "Epoch[24/100], loss: 0.021169\n",
            "[0.02117000379151052, 0.02116995040474736, 0.02116990193480691, 0.021169857928858827, 0.021169817975777626, 0.021169781702301722, 0.021169748769546245, 0.021169718869836967, 0.021169691723835923, 0.021169667077931654, 0.021169644701869838, 0.021169624386602165, 0.021169605942333282, 0.02116958919674764, 0.02116957399339963, 0.02116956019025202, 0.021169547658348917, 0.02116953628061104, 0.021169525950741893, 0.021169516572234696, 0.02116950805747077, 0.021169500326900938, 0.02116949330830237, 0.021169486936103817]\n",
            "Epoch[25/100], loss: 0.021169\n",
            "[0.02117000379151052, 0.02116995040474736, 0.02116990193480691, 0.021169857928858827, 0.021169817975777626, 0.021169781702301722, 0.021169748769546245, 0.021169718869836967, 0.021169691723835923, 0.021169667077931654, 0.021169644701869838, 0.021169624386602165, 0.021169605942333282, 0.02116958919674764, 0.02116957399339963, 0.02116956019025202, 0.021169547658348917, 0.02116953628061104, 0.021169525950741893, 0.021169516572234696, 0.02116950805747077, 0.021169500326900938, 0.02116949330830237, 0.021169486936103817, 0.021169481150773037]\n",
            "Epoch[26/100], loss: 0.021169\n",
            "[0.02117000379151052, 0.02116995040474736, 0.02116990193480691, 0.021169857928858827, 0.021169817975777626, 0.021169781702301722, 0.021169748769546245, 0.021169718869836967, 0.021169691723835923, 0.021169667077931654, 0.021169644701869838, 0.021169624386602165, 0.021169605942333282, 0.02116958919674764, 0.02116957399339963, 0.02116956019025202, 0.021169547658348917, 0.02116953628061104, 0.021169525950741893, 0.021169516572234696, 0.02116950805747077, 0.021169500326900938, 0.02116949330830237, 0.021169486936103817, 0.021169481150773037, 0.021169475898260574]\n",
            "Epoch[27/100], loss: 0.021169\n",
            "[0.02117000379151052, 0.02116995040474736, 0.02116990193480691, 0.021169857928858827, 0.021169817975777626, 0.021169781702301722, 0.021169748769546245, 0.021169718869836967, 0.021169691723835923, 0.021169667077931654, 0.021169644701869838, 0.021169624386602165, 0.021169605942333282, 0.02116958919674764, 0.02116957399339963, 0.02116956019025202, 0.021169547658348917, 0.02116953628061104, 0.021169525950741893, 0.021169516572234696, 0.02116950805747077, 0.021169500326900938, 0.02116949330830237, 0.021169486936103817, 0.021169481150773037, 0.021169475898260574, 0.021169471129494858]\n",
            "Epoch[28/100], loss: 0.021169\n",
            "[0.02117000379151052, 0.02116995040474736, 0.02116990193480691, 0.021169857928858827, 0.021169817975777626, 0.021169781702301722, 0.021169748769546245, 0.021169718869836967, 0.021169691723835923, 0.021169667077931654, 0.021169644701869838, 0.021169624386602165, 0.021169605942333282, 0.02116958919674764, 0.02116957399339963, 0.02116956019025202, 0.021169547658348917, 0.02116953628061104, 0.021169525950741893, 0.021169516572234696, 0.02116950805747077, 0.021169500326900938, 0.02116949330830237, 0.021169486936103817, 0.021169481150773037, 0.021169475898260574, 0.021169471129494858, 0.02116946679992369]\n",
            "Epoch[29/100], loss: 0.021169\n",
            "[0.02117000379151052, 0.02116995040474736, 0.02116990193480691, 0.021169857928858827, 0.021169817975777626, 0.021169781702301722, 0.021169748769546245, 0.021169718869836967, 0.021169691723835923, 0.021169667077931654, 0.021169644701869838, 0.021169624386602165, 0.021169605942333282, 0.02116958919674764, 0.02116957399339963, 0.02116956019025202, 0.021169547658348917, 0.02116953628061104, 0.021169525950741893, 0.021169516572234696, 0.02116950805747077, 0.021169500326900938, 0.02116949330830237, 0.021169486936103817, 0.021169481150773037, 0.021169475898260574, 0.021169471129494858, 0.02116946679992369, 0.021169462869098064]\n",
            "Epoch[30/100], loss: 0.021169\n",
            "[0.02117000379151052, 0.02116995040474736, 0.02116990193480691, 0.021169857928858827, 0.021169817975777626, 0.021169781702301722, 0.021169748769546245, 0.021169718869836967, 0.021169691723835923, 0.021169667077931654, 0.021169644701869838, 0.021169624386602165, 0.021169605942333282, 0.02116958919674764, 0.02116957399339963, 0.02116956019025202, 0.021169547658348917, 0.02116953628061104, 0.021169525950741893, 0.021169516572234696, 0.02116950805747077, 0.021169500326900938, 0.02116949330830237, 0.021169486936103817, 0.021169481150773037, 0.021169475898260574, 0.021169471129494858, 0.02116946679992369, 0.021169462869098064, 0.02116945930029425]\n",
            "Epoch[31/100], loss: 0.021169\n",
            "[0.02117000379151052, 0.02116995040474736, 0.02116990193480691, 0.021169857928858827, 0.021169817975777626, 0.021169781702301722, 0.021169748769546245, 0.021169718869836967, 0.021169691723835923, 0.021169667077931654, 0.021169644701869838, 0.021169624386602165, 0.021169605942333282, 0.02116958919674764, 0.02116957399339963, 0.02116956019025202, 0.021169547658348917, 0.02116953628061104, 0.021169525950741893, 0.021169516572234696, 0.02116950805747077, 0.021169500326900938, 0.02116949330830237, 0.021169486936103817, 0.021169481150773037, 0.021169475898260574, 0.021169471129494858, 0.02116946679992369, 0.021169462869098064, 0.02116945930029425, 0.0211694560601707]\n",
            "Epoch[32/100], loss: 0.021169\n",
            "[0.02117000379151052, 0.02116995040474736, 0.02116990193480691, 0.021169857928858827, 0.021169817975777626, 0.021169781702301722, 0.021169748769546245, 0.021169718869836967, 0.021169691723835923, 0.021169667077931654, 0.021169644701869838, 0.021169624386602165, 0.021169605942333282, 0.02116958919674764, 0.02116957399339963, 0.02116956019025202, 0.021169547658348917, 0.02116953628061104, 0.021169525950741893, 0.021169516572234696, 0.02116950805747077, 0.021169500326900938, 0.02116949330830237, 0.021169486936103817, 0.021169481150773037, 0.021169475898260574, 0.021169471129494858, 0.02116946679992369, 0.021169462869098064, 0.02116945930029425, 0.0211694560601707, 0.021169453118456572]\n",
            "Epoch[33/100], loss: 0.021169\n",
            "[0.02117000379151052, 0.02116995040474736, 0.02116990193480691, 0.021169857928858827, 0.021169817975777626, 0.021169781702301722, 0.021169748769546245, 0.021169718869836967, 0.021169691723835923, 0.021169667077931654, 0.021169644701869838, 0.021169624386602165, 0.021169605942333282, 0.02116958919674764, 0.02116957399339963, 0.02116956019025202, 0.021169547658348917, 0.02116953628061104, 0.021169525950741893, 0.021169516572234696, 0.02116950805747077, 0.021169500326900938, 0.02116949330830237, 0.021169486936103817, 0.021169481150773037, 0.021169475898260574, 0.021169471129494858, 0.02116946679992369, 0.021169462869098064, 0.02116945930029425, 0.0211694560601707, 0.021169453118456572, 0.02116945044766891]\n",
            "Epoch[34/100], loss: 0.021169\n",
            "[0.02117000379151052, 0.02116995040474736, 0.02116990193480691, 0.021169857928858827, 0.021169817975777626, 0.021169781702301722, 0.021169748769546245, 0.021169718869836967, 0.021169691723835923, 0.021169667077931654, 0.021169644701869838, 0.021169624386602165, 0.021169605942333282, 0.02116958919674764, 0.02116957399339963, 0.02116956019025202, 0.021169547658348917, 0.02116953628061104, 0.021169525950741893, 0.021169516572234696, 0.02116950805747077, 0.021169500326900938, 0.02116949330830237, 0.021169486936103817, 0.021169481150773037, 0.021169475898260574, 0.021169471129494858, 0.02116946679992369, 0.021169462869098064, 0.02116945930029425, 0.0211694560601707, 0.021169453118456572, 0.02116945044766891, 0.021169448022855867]\n",
            "Epoch[35/100], loss: 0.021169\n",
            "[0.02117000379151052, 0.02116995040474736, 0.02116990193480691, 0.021169857928858827, 0.021169817975777626, 0.021169781702301722, 0.021169748769546245, 0.021169718869836967, 0.021169691723835923, 0.021169667077931654, 0.021169644701869838, 0.021169624386602165, 0.021169605942333282, 0.02116958919674764, 0.02116957399339963, 0.02116956019025202, 0.021169547658348917, 0.02116953628061104, 0.021169525950741893, 0.021169516572234696, 0.02116950805747077, 0.021169500326900938, 0.02116949330830237, 0.021169486936103817, 0.021169481150773037, 0.021169475898260574, 0.021169471129494858, 0.02116946679992369, 0.021169462869098064, 0.02116945930029425, 0.0211694560601707, 0.021169453118456572, 0.02116945044766891, 0.021169448022855867, 0.02116944582136366]\n",
            "Epoch[36/100], loss: 0.021169\n",
            "[0.02117000379151052, 0.02116995040474736, 0.02116990193480691, 0.021169857928858827, 0.021169817975777626, 0.021169781702301722, 0.021169748769546245, 0.021169718869836967, 0.021169691723835923, 0.021169667077931654, 0.021169644701869838, 0.021169624386602165, 0.021169605942333282, 0.02116958919674764, 0.02116957399339963, 0.02116956019025202, 0.021169547658348917, 0.02116953628061104, 0.021169525950741893, 0.021169516572234696, 0.02116950805747077, 0.021169500326900938, 0.02116949330830237, 0.021169486936103817, 0.021169481150773037, 0.021169475898260574, 0.021169471129494858, 0.02116946679992369, 0.021169462869098064, 0.02116945930029425, 0.0211694560601707, 0.021169453118456572, 0.02116945044766891, 0.021169448022855867, 0.02116944582136366, 0.021169443822624825]\n",
            "Epoch[37/100], loss: 0.021169\n",
            "[0.02117000379151052, 0.02116995040474736, 0.02116990193480691, 0.021169857928858827, 0.021169817975777626, 0.021169781702301722, 0.021169748769546245, 0.021169718869836967, 0.021169691723835923, 0.021169667077931654, 0.021169644701869838, 0.021169624386602165, 0.021169605942333282, 0.02116958919674764, 0.02116957399339963, 0.02116956019025202, 0.021169547658348917, 0.02116953628061104, 0.021169525950741893, 0.021169516572234696, 0.02116950805747077, 0.021169500326900938, 0.02116949330830237, 0.021169486936103817, 0.021169481150773037, 0.021169475898260574, 0.021169471129494858, 0.02116946679992369, 0.021169462869098064, 0.02116945930029425, 0.0211694560601707, 0.021169453118456572, 0.02116945044766891, 0.021169448022855867, 0.02116944582136366, 0.021169443822624825, 0.02116944200796617]\n",
            "Epoch[38/100], loss: 0.021169\n",
            "[0.02117000379151052, 0.02116995040474736, 0.02116990193480691, 0.021169857928858827, 0.021169817975777626, 0.021169781702301722, 0.021169748769546245, 0.021169718869836967, 0.021169691723835923, 0.021169667077931654, 0.021169644701869838, 0.021169624386602165, 0.021169605942333282, 0.02116958919674764, 0.02116957399339963, 0.02116956019025202, 0.021169547658348917, 0.02116953628061104, 0.021169525950741893, 0.021169516572234696, 0.02116950805747077, 0.021169500326900938, 0.02116949330830237, 0.021169486936103817, 0.021169481150773037, 0.021169475898260574, 0.021169471129494858, 0.02116946679992369, 0.021169462869098064, 0.02116945930029425, 0.0211694560601707, 0.021169453118456572, 0.02116945044766891, 0.021169448022855867, 0.02116944582136366, 0.021169443822624825, 0.02116944200796617, 0.021169440360434232]\n",
            "Epoch[39/100], loss: 0.021169\n",
            "[0.02117000379151052, 0.02116995040474736, 0.02116990193480691, 0.021169857928858827, 0.021169817975777626, 0.021169781702301722, 0.021169748769546245, 0.021169718869836967, 0.021169691723835923, 0.021169667077931654, 0.021169644701869838, 0.021169624386602165, 0.021169605942333282, 0.02116958919674764, 0.02116957399339963, 0.02116956019025202, 0.021169547658348917, 0.02116953628061104, 0.021169525950741893, 0.021169516572234696, 0.02116950805747077, 0.021169500326900938, 0.02116949330830237, 0.021169486936103817, 0.021169481150773037, 0.021169475898260574, 0.021169471129494858, 0.02116946679992369, 0.021169462869098064, 0.02116945930029425, 0.0211694560601707, 0.021169453118456572, 0.02116945044766891, 0.021169448022855867, 0.02116944582136366, 0.021169443822624825, 0.02116944200796617, 0.021169440360434232, 0.021169438864636958]\n",
            "Epoch[40/100], loss: 0.021169\n",
            "[0.02117000379151052, 0.02116995040474736, 0.02116990193480691, 0.021169857928858827, 0.021169817975777626, 0.021169781702301722, 0.021169748769546245, 0.021169718869836967, 0.021169691723835923, 0.021169667077931654, 0.021169644701869838, 0.021169624386602165, 0.021169605942333282, 0.02116958919674764, 0.02116957399339963, 0.02116956019025202, 0.021169547658348917, 0.02116953628061104, 0.021169525950741893, 0.021169516572234696, 0.02116950805747077, 0.021169500326900938, 0.02116949330830237, 0.021169486936103817, 0.021169481150773037, 0.021169475898260574, 0.021169471129494858, 0.02116946679992369, 0.021169462869098064, 0.02116945930029425, 0.0211694560601707, 0.021169453118456572, 0.02116945044766891, 0.021169448022855867, 0.02116944582136366, 0.021169443822624825, 0.02116944200796617, 0.021169440360434232, 0.021169438864636958, 0.021169437506599862]\n",
            "Epoch[41/100], loss: 0.021169\n",
            "[0.02117000379151052, 0.02116995040474736, 0.02116990193480691, 0.021169857928858827, 0.021169817975777626, 0.021169781702301722, 0.021169748769546245, 0.021169718869836967, 0.021169691723835923, 0.021169667077931654, 0.021169644701869838, 0.021169624386602165, 0.021169605942333282, 0.02116958919674764, 0.02116957399339963, 0.02116956019025202, 0.021169547658348917, 0.02116953628061104, 0.021169525950741893, 0.021169516572234696, 0.02116950805747077, 0.021169500326900938, 0.02116949330830237, 0.021169486936103817, 0.021169481150773037, 0.021169475898260574, 0.021169471129494858, 0.02116946679992369, 0.021169462869098064, 0.02116945930029425, 0.0211694560601707, 0.021169453118456572, 0.02116945044766891, 0.021169448022855867, 0.02116944582136366, 0.021169443822624825, 0.02116944200796617, 0.021169440360434232, 0.021169438864636958, 0.021169437506599862, 0.021169436273635482]\n",
            "Epoch[42/100], loss: 0.021169\n",
            "[0.02117000379151052, 0.02116995040474736, 0.02116990193480691, 0.021169857928858827, 0.021169817975777626, 0.021169781702301722, 0.021169748769546245, 0.021169718869836967, 0.021169691723835923, 0.021169667077931654, 0.021169644701869838, 0.021169624386602165, 0.021169605942333282, 0.02116958919674764, 0.02116957399339963, 0.02116956019025202, 0.021169547658348917, 0.02116953628061104, 0.021169525950741893, 0.021169516572234696, 0.02116950805747077, 0.021169500326900938, 0.02116949330830237, 0.021169486936103817, 0.021169481150773037, 0.021169475898260574, 0.021169471129494858, 0.02116946679992369, 0.021169462869098064, 0.02116945930029425, 0.0211694560601707, 0.021169453118456572, 0.02116945044766891, 0.021169448022855867, 0.02116944582136366, 0.021169443822624825, 0.02116944200796617, 0.021169440360434232, 0.021169438864636958, 0.021169437506599862, 0.021169436273635482, 0.02116943515422486]\n",
            "Epoch[43/100], loss: 0.021169\n",
            "[0.02117000379151052, 0.02116995040474736, 0.02116990193480691, 0.021169857928858827, 0.021169817975777626, 0.021169781702301722, 0.021169748769546245, 0.021169718869836967, 0.021169691723835923, 0.021169667077931654, 0.021169644701869838, 0.021169624386602165, 0.021169605942333282, 0.02116958919674764, 0.02116957399339963, 0.02116956019025202, 0.021169547658348917, 0.02116953628061104, 0.021169525950741893, 0.021169516572234696, 0.02116950805747077, 0.021169500326900938, 0.02116949330830237, 0.021169486936103817, 0.021169481150773037, 0.021169475898260574, 0.021169471129494858, 0.02116946679992369, 0.021169462869098064, 0.02116945930029425, 0.0211694560601707, 0.021169453118456572, 0.02116945044766891, 0.021169448022855867, 0.02116944582136366, 0.021169443822624825, 0.02116944200796617, 0.021169440360434232, 0.021169438864636958, 0.021169437506599862, 0.021169436273635482, 0.02116943515422486, 0.021169434137909896]\n",
            "Epoch[44/100], loss: 0.021169\n",
            "[0.02117000379151052, 0.02116995040474736, 0.02116990193480691, 0.021169857928858827, 0.021169817975777626, 0.021169781702301722, 0.021169748769546245, 0.021169718869836967, 0.021169691723835923, 0.021169667077931654, 0.021169644701869838, 0.021169624386602165, 0.021169605942333282, 0.02116958919674764, 0.02116957399339963, 0.02116956019025202, 0.021169547658348917, 0.02116953628061104, 0.021169525950741893, 0.021169516572234696, 0.02116950805747077, 0.021169500326900938, 0.02116949330830237, 0.021169486936103817, 0.021169481150773037, 0.021169475898260574, 0.021169471129494858, 0.02116946679992369, 0.021169462869098064, 0.02116945930029425, 0.0211694560601707, 0.021169453118456572, 0.02116945044766891, 0.021169448022855867, 0.02116944582136366, 0.021169443822624825, 0.02116944200796617, 0.021169440360434232, 0.021169438864636958, 0.021169437506599862, 0.021169436273635482, 0.02116943515422486, 0.021169434137909896, 0.021169433215195665]\n",
            "Epoch[45/100], loss: 0.021169\n",
            "[0.02117000379151052, 0.02116995040474736, 0.02116990193480691, 0.021169857928858827, 0.021169817975777626, 0.021169781702301722, 0.021169748769546245, 0.021169718869836967, 0.021169691723835923, 0.021169667077931654, 0.021169644701869838, 0.021169624386602165, 0.021169605942333282, 0.02116958919674764, 0.02116957399339963, 0.02116956019025202, 0.021169547658348917, 0.02116953628061104, 0.021169525950741893, 0.021169516572234696, 0.02116950805747077, 0.021169500326900938, 0.02116949330830237, 0.021169486936103817, 0.021169481150773037, 0.021169475898260574, 0.021169471129494858, 0.02116946679992369, 0.021169462869098064, 0.02116945930029425, 0.0211694560601707, 0.021169453118456572, 0.02116945044766891, 0.021169448022855867, 0.02116944582136366, 0.021169443822624825, 0.02116944200796617, 0.021169440360434232, 0.021169438864636958, 0.021169437506599862, 0.021169436273635482, 0.02116943515422486, 0.021169434137909896, 0.021169433215195665, 0.02116943237746172]\n",
            "Epoch[46/100], loss: 0.021169\n",
            "[0.02117000379151052, 0.02116995040474736, 0.02116990193480691, 0.021169857928858827, 0.021169817975777626, 0.021169781702301722, 0.021169748769546245, 0.021169718869836967, 0.021169691723835923, 0.021169667077931654, 0.021169644701869838, 0.021169624386602165, 0.021169605942333282, 0.02116958919674764, 0.02116957399339963, 0.02116956019025202, 0.021169547658348917, 0.02116953628061104, 0.021169525950741893, 0.021169516572234696, 0.02116950805747077, 0.021169500326900938, 0.02116949330830237, 0.021169486936103817, 0.021169481150773037, 0.021169475898260574, 0.021169471129494858, 0.02116946679992369, 0.021169462869098064, 0.02116945930029425, 0.0211694560601707, 0.021169453118456572, 0.02116945044766891, 0.021169448022855867, 0.02116944582136366, 0.021169443822624825, 0.02116944200796617, 0.021169440360434232, 0.021169438864636958, 0.021169437506599862, 0.021169436273635482, 0.02116943515422486, 0.021169434137909896, 0.021169433215195665, 0.02116943237746172, 0.02116943161688153]\n",
            "Epoch[47/100], loss: 0.021169\n",
            "[0.02117000379151052, 0.02116995040474736, 0.02116990193480691, 0.021169857928858827, 0.021169817975777626, 0.021169781702301722, 0.021169748769546245, 0.021169718869836967, 0.021169691723835923, 0.021169667077931654, 0.021169644701869838, 0.021169624386602165, 0.021169605942333282, 0.02116958919674764, 0.02116957399339963, 0.02116956019025202, 0.021169547658348917, 0.02116953628061104, 0.021169525950741893, 0.021169516572234696, 0.02116950805747077, 0.021169500326900938, 0.02116949330830237, 0.021169486936103817, 0.021169481150773037, 0.021169475898260574, 0.021169471129494858, 0.02116946679992369, 0.021169462869098064, 0.02116945930029425, 0.0211694560601707, 0.021169453118456572, 0.02116945044766891, 0.021169448022855867, 0.02116944582136366, 0.021169443822624825, 0.02116944200796617, 0.021169440360434232, 0.021169438864636958, 0.021169437506599862, 0.021169436273635482, 0.02116943515422486, 0.021169434137909896, 0.021169433215195665, 0.02116943237746172, 0.02116943161688153, 0.02116943092634938]\n",
            "Epoch[48/100], loss: 0.021169\n",
            "[0.02117000379151052, 0.02116995040474736, 0.02116990193480691, 0.021169857928858827, 0.021169817975777626, 0.021169781702301722, 0.021169748769546245, 0.021169718869836967, 0.021169691723835923, 0.021169667077931654, 0.021169644701869838, 0.021169624386602165, 0.021169605942333282, 0.02116958919674764, 0.02116957399339963, 0.02116956019025202, 0.021169547658348917, 0.02116953628061104, 0.021169525950741893, 0.021169516572234696, 0.02116950805747077, 0.021169500326900938, 0.02116949330830237, 0.021169486936103817, 0.021169481150773037, 0.021169475898260574, 0.021169471129494858, 0.02116946679992369, 0.021169462869098064, 0.02116945930029425, 0.0211694560601707, 0.021169453118456572, 0.02116945044766891, 0.021169448022855867, 0.02116944582136366, 0.021169443822624825, 0.02116944200796617, 0.021169440360434232, 0.021169438864636958, 0.021169437506599862, 0.021169436273635482, 0.02116943515422486, 0.021169434137909896, 0.021169433215195665, 0.02116943237746172, 0.02116943161688153, 0.02116943092634938, 0.02116943029941398]\n",
            "Epoch[49/100], loss: 0.021169\n",
            "[0.02117000379151052, 0.02116995040474736, 0.02116990193480691, 0.021169857928858827, 0.021169817975777626, 0.021169781702301722, 0.021169748769546245, 0.021169718869836967, 0.021169691723835923, 0.021169667077931654, 0.021169644701869838, 0.021169624386602165, 0.021169605942333282, 0.02116958919674764, 0.02116957399339963, 0.02116956019025202, 0.021169547658348917, 0.02116953628061104, 0.021169525950741893, 0.021169516572234696, 0.02116950805747077, 0.021169500326900938, 0.02116949330830237, 0.021169486936103817, 0.021169481150773037, 0.021169475898260574, 0.021169471129494858, 0.02116946679992369, 0.021169462869098064, 0.02116945930029425, 0.0211694560601707, 0.021169453118456572, 0.02116945044766891, 0.021169448022855867, 0.02116944582136366, 0.021169443822624825, 0.02116944200796617, 0.021169440360434232, 0.021169438864636958, 0.021169437506599862, 0.021169436273635482, 0.02116943515422486, 0.021169434137909896, 0.021169433215195665, 0.02116943237746172, 0.02116943161688153, 0.02116943092634938, 0.02116943029941398, 0.021169429730218164]\n",
            "Epoch[50/100], loss: 0.021169\n",
            "[0.02117000379151052, 0.02116995040474736, 0.02116990193480691, 0.021169857928858827, 0.021169817975777626, 0.021169781702301722, 0.021169748769546245, 0.021169718869836967, 0.021169691723835923, 0.021169667077931654, 0.021169644701869838, 0.021169624386602165, 0.021169605942333282, 0.02116958919674764, 0.02116957399339963, 0.02116956019025202, 0.021169547658348917, 0.02116953628061104, 0.021169525950741893, 0.021169516572234696, 0.02116950805747077, 0.021169500326900938, 0.02116949330830237, 0.021169486936103817, 0.021169481150773037, 0.021169475898260574, 0.021169471129494858, 0.02116946679992369, 0.021169462869098064, 0.02116945930029425, 0.0211694560601707, 0.021169453118456572, 0.02116945044766891, 0.021169448022855867, 0.02116944582136366, 0.021169443822624825, 0.02116944200796617, 0.021169440360434232, 0.021169438864636958, 0.021169437506599862, 0.021169436273635482, 0.02116943515422486, 0.021169434137909896, 0.021169433215195665, 0.02116943237746172, 0.02116943161688153, 0.02116943092634938, 0.02116943029941398, 0.021169429730218164, 0.021169429213444238]\n",
            "Epoch[51/100], loss: 0.021169\n",
            "[0.02117000379151052, 0.02116995040474736, 0.02116990193480691, 0.021169857928858827, 0.021169817975777626, 0.021169781702301722, 0.021169748769546245, 0.021169718869836967, 0.021169691723835923, 0.021169667077931654, 0.021169644701869838, 0.021169624386602165, 0.021169605942333282, 0.02116958919674764, 0.02116957399339963, 0.02116956019025202, 0.021169547658348917, 0.02116953628061104, 0.021169525950741893, 0.021169516572234696, 0.02116950805747077, 0.021169500326900938, 0.02116949330830237, 0.021169486936103817, 0.021169481150773037, 0.021169475898260574, 0.021169471129494858, 0.02116946679992369, 0.021169462869098064, 0.02116945930029425, 0.0211694560601707, 0.021169453118456572, 0.02116945044766891, 0.021169448022855867, 0.02116944582136366, 0.021169443822624825, 0.02116944200796617, 0.021169440360434232, 0.021169438864636958, 0.021169437506599862, 0.021169436273635482, 0.02116943515422486, 0.021169434137909896, 0.021169433215195665, 0.02116943237746172, 0.02116943161688153, 0.02116943092634938, 0.02116943029941398, 0.021169429730218164, 0.021169429213444238, 0.02116942874426424]\n",
            "Epoch[52/100], loss: 0.021169\n",
            "[0.02117000379151052, 0.02116995040474736, 0.02116990193480691, 0.021169857928858827, 0.021169817975777626, 0.021169781702301722, 0.021169748769546245, 0.021169718869836967, 0.021169691723835923, 0.021169667077931654, 0.021169644701869838, 0.021169624386602165, 0.021169605942333282, 0.02116958919674764, 0.02116957399339963, 0.02116956019025202, 0.021169547658348917, 0.02116953628061104, 0.021169525950741893, 0.021169516572234696, 0.02116950805747077, 0.021169500326900938, 0.02116949330830237, 0.021169486936103817, 0.021169481150773037, 0.021169475898260574, 0.021169471129494858, 0.02116946679992369, 0.021169462869098064, 0.02116945930029425, 0.0211694560601707, 0.021169453118456572, 0.02116945044766891, 0.021169448022855867, 0.02116944582136366, 0.021169443822624825, 0.02116944200796617, 0.021169440360434232, 0.021169438864636958, 0.021169437506599862, 0.021169436273635482, 0.02116943515422486, 0.021169434137909896, 0.021169433215195665, 0.02116943237746172, 0.02116943161688153, 0.02116943092634938, 0.02116943029941398, 0.021169429730218164, 0.021169429213444238, 0.02116942874426424, 0.021169428318294867]\n",
            "Epoch[53/100], loss: 0.021169\n",
            "[0.02117000379151052, 0.02116995040474736, 0.02116990193480691, 0.021169857928858827, 0.021169817975777626, 0.021169781702301722, 0.021169748769546245, 0.021169718869836967, 0.021169691723835923, 0.021169667077931654, 0.021169644701869838, 0.021169624386602165, 0.021169605942333282, 0.02116958919674764, 0.02116957399339963, 0.02116956019025202, 0.021169547658348917, 0.02116953628061104, 0.021169525950741893, 0.021169516572234696, 0.02116950805747077, 0.021169500326900938, 0.02116949330830237, 0.021169486936103817, 0.021169481150773037, 0.021169475898260574, 0.021169471129494858, 0.02116946679992369, 0.021169462869098064, 0.02116945930029425, 0.0211694560601707, 0.021169453118456572, 0.02116945044766891, 0.021169448022855867, 0.02116944582136366, 0.021169443822624825, 0.02116944200796617, 0.021169440360434232, 0.021169438864636958, 0.021169437506599862, 0.021169436273635482, 0.02116943515422486, 0.021169434137909896, 0.021169433215195665, 0.02116943237746172, 0.02116943161688153, 0.02116943092634938, 0.02116943029941398, 0.021169429730218164, 0.021169429213444238, 0.02116942874426424, 0.021169428318294867, 0.021169427931556475]\n",
            "Epoch[54/100], loss: 0.021169\n",
            "[0.02117000379151052, 0.02116995040474736, 0.02116990193480691, 0.021169857928858827, 0.021169817975777626, 0.021169781702301722, 0.021169748769546245, 0.021169718869836967, 0.021169691723835923, 0.021169667077931654, 0.021169644701869838, 0.021169624386602165, 0.021169605942333282, 0.02116958919674764, 0.02116957399339963, 0.02116956019025202, 0.021169547658348917, 0.02116953628061104, 0.021169525950741893, 0.021169516572234696, 0.02116950805747077, 0.021169500326900938, 0.02116949330830237, 0.021169486936103817, 0.021169481150773037, 0.021169475898260574, 0.021169471129494858, 0.02116946679992369, 0.021169462869098064, 0.02116945930029425, 0.0211694560601707, 0.021169453118456572, 0.02116945044766891, 0.021169448022855867, 0.02116944582136366, 0.021169443822624825, 0.02116944200796617, 0.021169440360434232, 0.021169438864636958, 0.021169437506599862, 0.021169436273635482, 0.02116943515422486, 0.021169434137909896, 0.021169433215195665, 0.02116943237746172, 0.02116943161688153, 0.02116943092634938, 0.02116943029941398, 0.021169429730218164, 0.021169429213444238, 0.02116942874426424, 0.021169428318294867, 0.021169427931556475, 0.021169427580435985]\n",
            "Epoch[55/100], loss: 0.021169\n",
            "[0.02117000379151052, 0.02116995040474736, 0.02116990193480691, 0.021169857928858827, 0.021169817975777626, 0.021169781702301722, 0.021169748769546245, 0.021169718869836967, 0.021169691723835923, 0.021169667077931654, 0.021169644701869838, 0.021169624386602165, 0.021169605942333282, 0.02116958919674764, 0.02116957399339963, 0.02116956019025202, 0.021169547658348917, 0.02116953628061104, 0.021169525950741893, 0.021169516572234696, 0.02116950805747077, 0.021169500326900938, 0.02116949330830237, 0.021169486936103817, 0.021169481150773037, 0.021169475898260574, 0.021169471129494858, 0.02116946679992369, 0.021169462869098064, 0.02116945930029425, 0.0211694560601707, 0.021169453118456572, 0.02116945044766891, 0.021169448022855867, 0.02116944582136366, 0.021169443822624825, 0.02116944200796617, 0.021169440360434232, 0.021169438864636958, 0.021169437506599862, 0.021169436273635482, 0.02116943515422486, 0.021169434137909896, 0.021169433215195665, 0.02116943237746172, 0.02116943161688153, 0.02116943092634938, 0.02116943029941398, 0.021169429730218164, 0.021169429213444238, 0.02116942874426424, 0.021169428318294867, 0.021169427931556475, 0.021169427580435985, 0.021169427261653048]\n",
            "Epoch[56/100], loss: 0.021169\n",
            "[0.02117000379151052, 0.02116995040474736, 0.02116990193480691, 0.021169857928858827, 0.021169817975777626, 0.021169781702301722, 0.021169748769546245, 0.021169718869836967, 0.021169691723835923, 0.021169667077931654, 0.021169644701869838, 0.021169624386602165, 0.021169605942333282, 0.02116958919674764, 0.02116957399339963, 0.02116956019025202, 0.021169547658348917, 0.02116953628061104, 0.021169525950741893, 0.021169516572234696, 0.02116950805747077, 0.021169500326900938, 0.02116949330830237, 0.021169486936103817, 0.021169481150773037, 0.021169475898260574, 0.021169471129494858, 0.02116946679992369, 0.021169462869098064, 0.02116945930029425, 0.0211694560601707, 0.021169453118456572, 0.02116945044766891, 0.021169448022855867, 0.02116944582136366, 0.021169443822624825, 0.02116944200796617, 0.021169440360434232, 0.021169438864636958, 0.021169437506599862, 0.021169436273635482, 0.02116943515422486, 0.021169434137909896, 0.021169433215195665, 0.02116943237746172, 0.02116943161688153, 0.02116943092634938, 0.02116943029941398, 0.021169429730218164, 0.021169429213444238, 0.02116942874426424, 0.021169428318294867, 0.021169427931556475, 0.021169427580435985, 0.021169427261653048, 0.021169426972229427]\n",
            "Epoch[57/100], loss: 0.021169\n",
            "[0.02117000379151052, 0.02116995040474736, 0.02116990193480691, 0.021169857928858827, 0.021169817975777626, 0.021169781702301722, 0.021169748769546245, 0.021169718869836967, 0.021169691723835923, 0.021169667077931654, 0.021169644701869838, 0.021169624386602165, 0.021169605942333282, 0.02116958919674764, 0.02116957399339963, 0.02116956019025202, 0.021169547658348917, 0.02116953628061104, 0.021169525950741893, 0.021169516572234696, 0.02116950805747077, 0.021169500326900938, 0.02116949330830237, 0.021169486936103817, 0.021169481150773037, 0.021169475898260574, 0.021169471129494858, 0.02116946679992369, 0.021169462869098064, 0.02116945930029425, 0.0211694560601707, 0.021169453118456572, 0.02116945044766891, 0.021169448022855867, 0.02116944582136366, 0.021169443822624825, 0.02116944200796617, 0.021169440360434232, 0.021169438864636958, 0.021169437506599862, 0.021169436273635482, 0.02116943515422486, 0.021169434137909896, 0.021169433215195665, 0.02116943237746172, 0.02116943161688153, 0.02116943092634938, 0.02116943029941398, 0.021169429730218164, 0.021169429213444238, 0.02116942874426424, 0.021169428318294867, 0.021169427931556475, 0.021169427580435985, 0.021169427261653048, 0.021169426972229427, 0.021169426709461193]\n",
            "Epoch[58/100], loss: 0.021169\n",
            "[0.02117000379151052, 0.02116995040474736, 0.02116990193480691, 0.021169857928858827, 0.021169817975777626, 0.021169781702301722, 0.021169748769546245, 0.021169718869836967, 0.021169691723835923, 0.021169667077931654, 0.021169644701869838, 0.021169624386602165, 0.021169605942333282, 0.02116958919674764, 0.02116957399339963, 0.02116956019025202, 0.021169547658348917, 0.02116953628061104, 0.021169525950741893, 0.021169516572234696, 0.02116950805747077, 0.021169500326900938, 0.02116949330830237, 0.021169486936103817, 0.021169481150773037, 0.021169475898260574, 0.021169471129494858, 0.02116946679992369, 0.021169462869098064, 0.02116945930029425, 0.0211694560601707, 0.021169453118456572, 0.02116945044766891, 0.021169448022855867, 0.02116944582136366, 0.021169443822624825, 0.02116944200796617, 0.021169440360434232, 0.021169438864636958, 0.021169437506599862, 0.021169436273635482, 0.02116943515422486, 0.021169434137909896, 0.021169433215195665, 0.02116943237746172, 0.02116943161688153, 0.02116943092634938, 0.02116943029941398, 0.021169429730218164, 0.021169429213444238, 0.02116942874426424, 0.021169428318294867, 0.021169427931556475, 0.021169427580435985, 0.021169427261653048, 0.021169426972229427, 0.021169426709461193, 0.021169426470893433]\n",
            "Epoch[59/100], loss: 0.021169\n",
            "[0.02117000379151052, 0.02116995040474736, 0.02116990193480691, 0.021169857928858827, 0.021169817975777626, 0.021169781702301722, 0.021169748769546245, 0.021169718869836967, 0.021169691723835923, 0.021169667077931654, 0.021169644701869838, 0.021169624386602165, 0.021169605942333282, 0.02116958919674764, 0.02116957399339963, 0.02116956019025202, 0.021169547658348917, 0.02116953628061104, 0.021169525950741893, 0.021169516572234696, 0.02116950805747077, 0.021169500326900938, 0.02116949330830237, 0.021169486936103817, 0.021169481150773037, 0.021169475898260574, 0.021169471129494858, 0.02116946679992369, 0.021169462869098064, 0.02116945930029425, 0.0211694560601707, 0.021169453118456572, 0.02116945044766891, 0.021169448022855867, 0.02116944582136366, 0.021169443822624825, 0.02116944200796617, 0.021169440360434232, 0.021169438864636958, 0.021169437506599862, 0.021169436273635482, 0.02116943515422486, 0.021169434137909896, 0.021169433215195665, 0.02116943237746172, 0.02116943161688153, 0.02116943092634938, 0.02116943029941398, 0.021169429730218164, 0.021169429213444238, 0.02116942874426424, 0.021169428318294867, 0.021169427931556475, 0.021169427580435985, 0.021169427261653048, 0.021169426972229427, 0.021169426709461193, 0.021169426470893433, 0.021169426254297317]\n",
            "Epoch[60/100], loss: 0.021169\n",
            "[0.02117000379151052, 0.02116995040474736, 0.02116990193480691, 0.021169857928858827, 0.021169817975777626, 0.021169781702301722, 0.021169748769546245, 0.021169718869836967, 0.021169691723835923, 0.021169667077931654, 0.021169644701869838, 0.021169624386602165, 0.021169605942333282, 0.02116958919674764, 0.02116957399339963, 0.02116956019025202, 0.021169547658348917, 0.02116953628061104, 0.021169525950741893, 0.021169516572234696, 0.02116950805747077, 0.021169500326900938, 0.02116949330830237, 0.021169486936103817, 0.021169481150773037, 0.021169475898260574, 0.021169471129494858, 0.02116946679992369, 0.021169462869098064, 0.02116945930029425, 0.0211694560601707, 0.021169453118456572, 0.02116945044766891, 0.021169448022855867, 0.02116944582136366, 0.021169443822624825, 0.02116944200796617, 0.021169440360434232, 0.021169438864636958, 0.021169437506599862, 0.021169436273635482, 0.02116943515422486, 0.021169434137909896, 0.021169433215195665, 0.02116943237746172, 0.02116943161688153, 0.02116943092634938, 0.02116943029941398, 0.021169429730218164, 0.021169429213444238, 0.02116942874426424, 0.021169428318294867, 0.021169427931556475, 0.021169427580435985, 0.021169427261653048, 0.021169426972229427, 0.021169426709461193, 0.021169426470893433, 0.021169426254297317, 0.02116942605764931]\n",
            "Epoch[61/100], loss: 0.021169\n",
            "[0.02117000379151052, 0.02116995040474736, 0.02116990193480691, 0.021169857928858827, 0.021169817975777626, 0.021169781702301722, 0.021169748769546245, 0.021169718869836967, 0.021169691723835923, 0.021169667077931654, 0.021169644701869838, 0.021169624386602165, 0.021169605942333282, 0.02116958919674764, 0.02116957399339963, 0.02116956019025202, 0.021169547658348917, 0.02116953628061104, 0.021169525950741893, 0.021169516572234696, 0.02116950805747077, 0.021169500326900938, 0.02116949330830237, 0.021169486936103817, 0.021169481150773037, 0.021169475898260574, 0.021169471129494858, 0.02116946679992369, 0.021169462869098064, 0.02116945930029425, 0.0211694560601707, 0.021169453118456572, 0.02116945044766891, 0.021169448022855867, 0.02116944582136366, 0.021169443822624825, 0.02116944200796617, 0.021169440360434232, 0.021169438864636958, 0.021169437506599862, 0.021169436273635482, 0.02116943515422486, 0.021169434137909896, 0.021169433215195665, 0.02116943237746172, 0.02116943161688153, 0.02116943092634938, 0.02116943029941398, 0.021169429730218164, 0.021169429213444238, 0.02116942874426424, 0.021169428318294867, 0.021169427931556475, 0.021169427580435985, 0.021169427261653048, 0.021169426972229427, 0.021169426709461193, 0.021169426470893433, 0.021169426254297317, 0.02116942605764931, 0.021169425879112226]\n",
            "Epoch[62/100], loss: 0.021169\n",
            "[0.02117000379151052, 0.02116995040474736, 0.02116990193480691, 0.021169857928858827, 0.021169817975777626, 0.021169781702301722, 0.021169748769546245, 0.021169718869836967, 0.021169691723835923, 0.021169667077931654, 0.021169644701869838, 0.021169624386602165, 0.021169605942333282, 0.02116958919674764, 0.02116957399339963, 0.02116956019025202, 0.021169547658348917, 0.02116953628061104, 0.021169525950741893, 0.021169516572234696, 0.02116950805747077, 0.021169500326900938, 0.02116949330830237, 0.021169486936103817, 0.021169481150773037, 0.021169475898260574, 0.021169471129494858, 0.02116946679992369, 0.021169462869098064, 0.02116945930029425, 0.0211694560601707, 0.021169453118456572, 0.02116945044766891, 0.021169448022855867, 0.02116944582136366, 0.021169443822624825, 0.02116944200796617, 0.021169440360434232, 0.021169438864636958, 0.021169437506599862, 0.021169436273635482, 0.02116943515422486, 0.021169434137909896, 0.021169433215195665, 0.02116943237746172, 0.02116943161688153, 0.02116943092634938, 0.02116943029941398, 0.021169429730218164, 0.021169429213444238, 0.02116942874426424, 0.021169428318294867, 0.021169427931556475, 0.021169427580435985, 0.021169427261653048, 0.021169426972229427, 0.021169426709461193, 0.021169426470893433, 0.021169426254297317, 0.02116942605764931, 0.021169425879112226, 0.021169425717018072]\n",
            "Epoch[63/100], loss: 0.021169\n",
            "[0.02117000379151052, 0.02116995040474736, 0.02116990193480691, 0.021169857928858827, 0.021169817975777626, 0.021169781702301722, 0.021169748769546245, 0.021169718869836967, 0.021169691723835923, 0.021169667077931654, 0.021169644701869838, 0.021169624386602165, 0.021169605942333282, 0.02116958919674764, 0.02116957399339963, 0.02116956019025202, 0.021169547658348917, 0.02116953628061104, 0.021169525950741893, 0.021169516572234696, 0.02116950805747077, 0.021169500326900938, 0.02116949330830237, 0.021169486936103817, 0.021169481150773037, 0.021169475898260574, 0.021169471129494858, 0.02116946679992369, 0.021169462869098064, 0.02116945930029425, 0.0211694560601707, 0.021169453118456572, 0.02116945044766891, 0.021169448022855867, 0.02116944582136366, 0.021169443822624825, 0.02116944200796617, 0.021169440360434232, 0.021169438864636958, 0.021169437506599862, 0.021169436273635482, 0.02116943515422486, 0.021169434137909896, 0.021169433215195665, 0.02116943237746172, 0.02116943161688153, 0.02116943092634938, 0.02116943029941398, 0.021169429730218164, 0.021169429213444238, 0.02116942874426424, 0.021169428318294867, 0.021169427931556475, 0.021169427580435985, 0.021169427261653048, 0.021169426972229427, 0.021169426709461193, 0.021169426470893433, 0.021169426254297317, 0.02116942605764931, 0.021169425879112226, 0.021169425717018072, 0.021169425569852494]\n",
            "Epoch[64/100], loss: 0.021169\n",
            "[0.02117000379151052, 0.02116995040474736, 0.02116990193480691, 0.021169857928858827, 0.021169817975777626, 0.021169781702301722, 0.021169748769546245, 0.021169718869836967, 0.021169691723835923, 0.021169667077931654, 0.021169644701869838, 0.021169624386602165, 0.021169605942333282, 0.02116958919674764, 0.02116957399339963, 0.02116956019025202, 0.021169547658348917, 0.02116953628061104, 0.021169525950741893, 0.021169516572234696, 0.02116950805747077, 0.021169500326900938, 0.02116949330830237, 0.021169486936103817, 0.021169481150773037, 0.021169475898260574, 0.021169471129494858, 0.02116946679992369, 0.021169462869098064, 0.02116945930029425, 0.0211694560601707, 0.021169453118456572, 0.02116945044766891, 0.021169448022855867, 0.02116944582136366, 0.021169443822624825, 0.02116944200796617, 0.021169440360434232, 0.021169438864636958, 0.021169437506599862, 0.021169436273635482, 0.02116943515422486, 0.021169434137909896, 0.021169433215195665, 0.02116943237746172, 0.02116943161688153, 0.02116943092634938, 0.02116943029941398, 0.021169429730218164, 0.021169429213444238, 0.02116942874426424, 0.021169428318294867, 0.021169427931556475, 0.021169427580435985, 0.021169427261653048, 0.021169426972229427, 0.021169426709461193, 0.021169426470893433, 0.021169426254297317, 0.02116942605764931, 0.021169425879112226, 0.021169425717018072, 0.021169425569852494, 0.021169425436240594]\n",
            "Epoch[65/100], loss: 0.021169\n",
            "[0.02117000379151052, 0.02116995040474736, 0.02116990193480691, 0.021169857928858827, 0.021169817975777626, 0.021169781702301722, 0.021169748769546245, 0.021169718869836967, 0.021169691723835923, 0.021169667077931654, 0.021169644701869838, 0.021169624386602165, 0.021169605942333282, 0.02116958919674764, 0.02116957399339963, 0.02116956019025202, 0.021169547658348917, 0.02116953628061104, 0.021169525950741893, 0.021169516572234696, 0.02116950805747077, 0.021169500326900938, 0.02116949330830237, 0.021169486936103817, 0.021169481150773037, 0.021169475898260574, 0.021169471129494858, 0.02116946679992369, 0.021169462869098064, 0.02116945930029425, 0.0211694560601707, 0.021169453118456572, 0.02116945044766891, 0.021169448022855867, 0.02116944582136366, 0.021169443822624825, 0.02116944200796617, 0.021169440360434232, 0.021169438864636958, 0.021169437506599862, 0.021169436273635482, 0.02116943515422486, 0.021169434137909896, 0.021169433215195665, 0.02116943237746172, 0.02116943161688153, 0.02116943092634938, 0.02116943029941398, 0.021169429730218164, 0.021169429213444238, 0.02116942874426424, 0.021169428318294867, 0.021169427931556475, 0.021169427580435985, 0.021169427261653048, 0.021169426972229427, 0.021169426709461193, 0.021169426470893433, 0.021169426254297317, 0.02116942605764931, 0.021169425879112226, 0.021169425717018072, 0.021169425569852494, 0.021169425436240594, 0.02116942531493411]\n",
            "Epoch[66/100], loss: 0.021169\n",
            "[0.02117000379151052, 0.02116995040474736, 0.02116990193480691, 0.021169857928858827, 0.021169817975777626, 0.021169781702301722, 0.021169748769546245, 0.021169718869836967, 0.021169691723835923, 0.021169667077931654, 0.021169644701869838, 0.021169624386602165, 0.021169605942333282, 0.02116958919674764, 0.02116957399339963, 0.02116956019025202, 0.021169547658348917, 0.02116953628061104, 0.021169525950741893, 0.021169516572234696, 0.02116950805747077, 0.021169500326900938, 0.02116949330830237, 0.021169486936103817, 0.021169481150773037, 0.021169475898260574, 0.021169471129494858, 0.02116946679992369, 0.021169462869098064, 0.02116945930029425, 0.0211694560601707, 0.021169453118456572, 0.02116945044766891, 0.021169448022855867, 0.02116944582136366, 0.021169443822624825, 0.02116944200796617, 0.021169440360434232, 0.021169438864636958, 0.021169437506599862, 0.021169436273635482, 0.02116943515422486, 0.021169434137909896, 0.021169433215195665, 0.02116943237746172, 0.02116943161688153, 0.02116943092634938, 0.02116943029941398, 0.021169429730218164, 0.021169429213444238, 0.02116942874426424, 0.021169428318294867, 0.021169427931556475, 0.021169427580435985, 0.021169427261653048, 0.021169426972229427, 0.021169426709461193, 0.021169426470893433, 0.021169426254297317, 0.02116942605764931, 0.021169425879112226, 0.021169425717018072, 0.021169425569852494, 0.021169425436240594, 0.02116942531493411, 0.021169425204799724]\n",
            "Epoch[67/100], loss: 0.021169\n",
            "[0.02117000379151052, 0.02116995040474736, 0.02116990193480691, 0.021169857928858827, 0.021169817975777626, 0.021169781702301722, 0.021169748769546245, 0.021169718869836967, 0.021169691723835923, 0.021169667077931654, 0.021169644701869838, 0.021169624386602165, 0.021169605942333282, 0.02116958919674764, 0.02116957399339963, 0.02116956019025202, 0.021169547658348917, 0.02116953628061104, 0.021169525950741893, 0.021169516572234696, 0.02116950805747077, 0.021169500326900938, 0.02116949330830237, 0.021169486936103817, 0.021169481150773037, 0.021169475898260574, 0.021169471129494858, 0.02116946679992369, 0.021169462869098064, 0.02116945930029425, 0.0211694560601707, 0.021169453118456572, 0.02116945044766891, 0.021169448022855867, 0.02116944582136366, 0.021169443822624825, 0.02116944200796617, 0.021169440360434232, 0.021169438864636958, 0.021169437506599862, 0.021169436273635482, 0.02116943515422486, 0.021169434137909896, 0.021169433215195665, 0.02116943237746172, 0.02116943161688153, 0.02116943092634938, 0.02116943029941398, 0.021169429730218164, 0.021169429213444238, 0.02116942874426424, 0.021169428318294867, 0.021169427931556475, 0.021169427580435985, 0.021169427261653048, 0.021169426972229427, 0.021169426709461193, 0.021169426470893433, 0.021169426254297317, 0.02116942605764931, 0.021169425879112226, 0.021169425717018072, 0.021169425569852494, 0.021169425436240594, 0.02116942531493411, 0.021169425204799724, 0.02116942510480851]\n",
            "Epoch[68/100], loss: 0.021169\n",
            "[0.02117000379151052, 0.02116995040474736, 0.02116990193480691, 0.021169857928858827, 0.021169817975777626, 0.021169781702301722, 0.021169748769546245, 0.021169718869836967, 0.021169691723835923, 0.021169667077931654, 0.021169644701869838, 0.021169624386602165, 0.021169605942333282, 0.02116958919674764, 0.02116957399339963, 0.02116956019025202, 0.021169547658348917, 0.02116953628061104, 0.021169525950741893, 0.021169516572234696, 0.02116950805747077, 0.021169500326900938, 0.02116949330830237, 0.021169486936103817, 0.021169481150773037, 0.021169475898260574, 0.021169471129494858, 0.02116946679992369, 0.021169462869098064, 0.02116945930029425, 0.0211694560601707, 0.021169453118456572, 0.02116945044766891, 0.021169448022855867, 0.02116944582136366, 0.021169443822624825, 0.02116944200796617, 0.021169440360434232, 0.021169438864636958, 0.021169437506599862, 0.021169436273635482, 0.02116943515422486, 0.021169434137909896, 0.021169433215195665, 0.02116943237746172, 0.02116943161688153, 0.02116943092634938, 0.02116943029941398, 0.021169429730218164, 0.021169429213444238, 0.02116942874426424, 0.021169428318294867, 0.021169427931556475, 0.021169427580435985, 0.021169427261653048, 0.021169426972229427, 0.021169426709461193, 0.021169426470893433, 0.021169426254297317, 0.02116942605764931, 0.021169425879112226, 0.021169425717018072, 0.021169425569852494, 0.021169425436240594, 0.02116942531493411, 0.021169425204799724, 0.02116942510480851, 0.021169425014026313]\n",
            "Epoch[69/100], loss: 0.021169\n",
            "[0.02117000379151052, 0.02116995040474736, 0.02116990193480691, 0.021169857928858827, 0.021169817975777626, 0.021169781702301722, 0.021169748769546245, 0.021169718869836967, 0.021169691723835923, 0.021169667077931654, 0.021169644701869838, 0.021169624386602165, 0.021169605942333282, 0.02116958919674764, 0.02116957399339963, 0.02116956019025202, 0.021169547658348917, 0.02116953628061104, 0.021169525950741893, 0.021169516572234696, 0.02116950805747077, 0.021169500326900938, 0.02116949330830237, 0.021169486936103817, 0.021169481150773037, 0.021169475898260574, 0.021169471129494858, 0.02116946679992369, 0.021169462869098064, 0.02116945930029425, 0.0211694560601707, 0.021169453118456572, 0.02116945044766891, 0.021169448022855867, 0.02116944582136366, 0.021169443822624825, 0.02116944200796617, 0.021169440360434232, 0.021169438864636958, 0.021169437506599862, 0.021169436273635482, 0.02116943515422486, 0.021169434137909896, 0.021169433215195665, 0.02116943237746172, 0.02116943161688153, 0.02116943092634938, 0.02116943029941398, 0.021169429730218164, 0.021169429213444238, 0.02116942874426424, 0.021169428318294867, 0.021169427931556475, 0.021169427580435985, 0.021169427261653048, 0.021169426972229427, 0.021169426709461193, 0.021169426470893433, 0.021169426254297317, 0.02116942605764931, 0.021169425879112226, 0.021169425717018072, 0.021169425569852494, 0.021169425436240594, 0.02116942531493411, 0.021169425204799724, 0.02116942510480851, 0.021169425014026313, 0.02116942493160498]\n",
            "Epoch[70/100], loss: 0.021169\n",
            "[0.02117000379151052, 0.02116995040474736, 0.02116990193480691, 0.021169857928858827, 0.021169817975777626, 0.021169781702301722, 0.021169748769546245, 0.021169718869836967, 0.021169691723835923, 0.021169667077931654, 0.021169644701869838, 0.021169624386602165, 0.021169605942333282, 0.02116958919674764, 0.02116957399339963, 0.02116956019025202, 0.021169547658348917, 0.02116953628061104, 0.021169525950741893, 0.021169516572234696, 0.02116950805747077, 0.021169500326900938, 0.02116949330830237, 0.021169486936103817, 0.021169481150773037, 0.021169475898260574, 0.021169471129494858, 0.02116946679992369, 0.021169462869098064, 0.02116945930029425, 0.0211694560601707, 0.021169453118456572, 0.02116945044766891, 0.021169448022855867, 0.02116944582136366, 0.021169443822624825, 0.02116944200796617, 0.021169440360434232, 0.021169438864636958, 0.021169437506599862, 0.021169436273635482, 0.02116943515422486, 0.021169434137909896, 0.021169433215195665, 0.02116943237746172, 0.02116943161688153, 0.02116943092634938, 0.02116943029941398, 0.021169429730218164, 0.021169429213444238, 0.02116942874426424, 0.021169428318294867, 0.021169427931556475, 0.021169427580435985, 0.021169427261653048, 0.021169426972229427, 0.021169426709461193, 0.021169426470893433, 0.021169426254297317, 0.02116942605764931, 0.021169425879112226, 0.021169425717018072, 0.021169425569852494, 0.021169425436240594, 0.02116942531493411, 0.021169425204799724, 0.02116942510480851, 0.021169425014026313, 0.02116942493160498, 0.02116942485677451]\n",
            "Epoch[71/100], loss: 0.021169\n",
            "[0.02117000379151052, 0.02116995040474736, 0.02116990193480691, 0.021169857928858827, 0.021169817975777626, 0.021169781702301722, 0.021169748769546245, 0.021169718869836967, 0.021169691723835923, 0.021169667077931654, 0.021169644701869838, 0.021169624386602165, 0.021169605942333282, 0.02116958919674764, 0.02116957399339963, 0.02116956019025202, 0.021169547658348917, 0.02116953628061104, 0.021169525950741893, 0.021169516572234696, 0.02116950805747077, 0.021169500326900938, 0.02116949330830237, 0.021169486936103817, 0.021169481150773037, 0.021169475898260574, 0.021169471129494858, 0.02116946679992369, 0.021169462869098064, 0.02116945930029425, 0.0211694560601707, 0.021169453118456572, 0.02116945044766891, 0.021169448022855867, 0.02116944582136366, 0.021169443822624825, 0.02116944200796617, 0.021169440360434232, 0.021169438864636958, 0.021169437506599862, 0.021169436273635482, 0.02116943515422486, 0.021169434137909896, 0.021169433215195665, 0.02116943237746172, 0.02116943161688153, 0.02116943092634938, 0.02116943029941398, 0.021169429730218164, 0.021169429213444238, 0.02116942874426424, 0.021169428318294867, 0.021169427931556475, 0.021169427580435985, 0.021169427261653048, 0.021169426972229427, 0.021169426709461193, 0.021169426470893433, 0.021169426254297317, 0.02116942605764931, 0.021169425879112226, 0.021169425717018072, 0.021169425569852494, 0.021169425436240594, 0.02116942531493411, 0.021169425204799724, 0.02116942510480851, 0.021169425014026313, 0.02116942493160498, 0.02116942485677451, 0.021169424788835777]\n",
            "Epoch[72/100], loss: 0.021169\n",
            "[0.02117000379151052, 0.02116995040474736, 0.02116990193480691, 0.021169857928858827, 0.021169817975777626, 0.021169781702301722, 0.021169748769546245, 0.021169718869836967, 0.021169691723835923, 0.021169667077931654, 0.021169644701869838, 0.021169624386602165, 0.021169605942333282, 0.02116958919674764, 0.02116957399339963, 0.02116956019025202, 0.021169547658348917, 0.02116953628061104, 0.021169525950741893, 0.021169516572234696, 0.02116950805747077, 0.021169500326900938, 0.02116949330830237, 0.021169486936103817, 0.021169481150773037, 0.021169475898260574, 0.021169471129494858, 0.02116946679992369, 0.021169462869098064, 0.02116945930029425, 0.0211694560601707, 0.021169453118456572, 0.02116945044766891, 0.021169448022855867, 0.02116944582136366, 0.021169443822624825, 0.02116944200796617, 0.021169440360434232, 0.021169438864636958, 0.021169437506599862, 0.021169436273635482, 0.02116943515422486, 0.021169434137909896, 0.021169433215195665, 0.02116943237746172, 0.02116943161688153, 0.02116943092634938, 0.02116943029941398, 0.021169429730218164, 0.021169429213444238, 0.02116942874426424, 0.021169428318294867, 0.021169427931556475, 0.021169427580435985, 0.021169427261653048, 0.021169426972229427, 0.021169426709461193, 0.021169426470893433, 0.021169426254297317, 0.02116942605764931, 0.021169425879112226, 0.021169425717018072, 0.021169425569852494, 0.021169425436240594, 0.02116942531493411, 0.021169425204799724, 0.02116942510480851, 0.021169425014026313, 0.02116942493160498, 0.02116942485677451, 0.021169424788835777, 0.02116942472715409]\n",
            "Epoch[73/100], loss: 0.021169\n",
            "[0.02117000379151052, 0.02116995040474736, 0.02116990193480691, 0.021169857928858827, 0.021169817975777626, 0.021169781702301722, 0.021169748769546245, 0.021169718869836967, 0.021169691723835923, 0.021169667077931654, 0.021169644701869838, 0.021169624386602165, 0.021169605942333282, 0.02116958919674764, 0.02116957399339963, 0.02116956019025202, 0.021169547658348917, 0.02116953628061104, 0.021169525950741893, 0.021169516572234696, 0.02116950805747077, 0.021169500326900938, 0.02116949330830237, 0.021169486936103817, 0.021169481150773037, 0.021169475898260574, 0.021169471129494858, 0.02116946679992369, 0.021169462869098064, 0.02116945930029425, 0.0211694560601707, 0.021169453118456572, 0.02116945044766891, 0.021169448022855867, 0.02116944582136366, 0.021169443822624825, 0.02116944200796617, 0.021169440360434232, 0.021169438864636958, 0.021169437506599862, 0.021169436273635482, 0.02116943515422486, 0.021169434137909896, 0.021169433215195665, 0.02116943237746172, 0.02116943161688153, 0.02116943092634938, 0.02116943029941398, 0.021169429730218164, 0.021169429213444238, 0.02116942874426424, 0.021169428318294867, 0.021169427931556475, 0.021169427580435985, 0.021169427261653048, 0.021169426972229427, 0.021169426709461193, 0.021169426470893433, 0.021169426254297317, 0.02116942605764931, 0.021169425879112226, 0.021169425717018072, 0.021169425569852494, 0.021169425436240594, 0.02116942531493411, 0.021169425204799724, 0.02116942510480851, 0.021169425014026313, 0.02116942493160498, 0.02116942485677451, 0.021169424788835777, 0.02116942472715409, 0.02116942467115316]\n",
            "Epoch[74/100], loss: 0.021169\n",
            "[0.02117000379151052, 0.02116995040474736, 0.02116990193480691, 0.021169857928858827, 0.021169817975777626, 0.021169781702301722, 0.021169748769546245, 0.021169718869836967, 0.021169691723835923, 0.021169667077931654, 0.021169644701869838, 0.021169624386602165, 0.021169605942333282, 0.02116958919674764, 0.02116957399339963, 0.02116956019025202, 0.021169547658348917, 0.02116953628061104, 0.021169525950741893, 0.021169516572234696, 0.02116950805747077, 0.021169500326900938, 0.02116949330830237, 0.021169486936103817, 0.021169481150773037, 0.021169475898260574, 0.021169471129494858, 0.02116946679992369, 0.021169462869098064, 0.02116945930029425, 0.0211694560601707, 0.021169453118456572, 0.02116945044766891, 0.021169448022855867, 0.02116944582136366, 0.021169443822624825, 0.02116944200796617, 0.021169440360434232, 0.021169438864636958, 0.021169437506599862, 0.021169436273635482, 0.02116943515422486, 0.021169434137909896, 0.021169433215195665, 0.02116943237746172, 0.02116943161688153, 0.02116943092634938, 0.02116943029941398, 0.021169429730218164, 0.021169429213444238, 0.02116942874426424, 0.021169428318294867, 0.021169427931556475, 0.021169427580435985, 0.021169427261653048, 0.021169426972229427, 0.021169426709461193, 0.021169426470893433, 0.021169426254297317, 0.02116942605764931, 0.021169425879112226, 0.021169425717018072, 0.021169425569852494, 0.021169425436240594, 0.02116942531493411, 0.021169425204799724, 0.02116942510480851, 0.021169425014026313, 0.02116942493160498, 0.02116942485677451, 0.021169424788835777, 0.02116942472715409, 0.02116942467115316, 0.021169424620309817]\n",
            "Epoch[75/100], loss: 0.021169\n",
            "[0.02117000379151052, 0.02116995040474736, 0.02116990193480691, 0.021169857928858827, 0.021169817975777626, 0.021169781702301722, 0.021169748769546245, 0.021169718869836967, 0.021169691723835923, 0.021169667077931654, 0.021169644701869838, 0.021169624386602165, 0.021169605942333282, 0.02116958919674764, 0.02116957399339963, 0.02116956019025202, 0.021169547658348917, 0.02116953628061104, 0.021169525950741893, 0.021169516572234696, 0.02116950805747077, 0.021169500326900938, 0.02116949330830237, 0.021169486936103817, 0.021169481150773037, 0.021169475898260574, 0.021169471129494858, 0.02116946679992369, 0.021169462869098064, 0.02116945930029425, 0.0211694560601707, 0.021169453118456572, 0.02116945044766891, 0.021169448022855867, 0.02116944582136366, 0.021169443822624825, 0.02116944200796617, 0.021169440360434232, 0.021169438864636958, 0.021169437506599862, 0.021169436273635482, 0.02116943515422486, 0.021169434137909896, 0.021169433215195665, 0.02116943237746172, 0.02116943161688153, 0.02116943092634938, 0.02116943029941398, 0.021169429730218164, 0.021169429213444238, 0.02116942874426424, 0.021169428318294867, 0.021169427931556475, 0.021169427580435985, 0.021169427261653048, 0.021169426972229427, 0.021169426709461193, 0.021169426470893433, 0.021169426254297317, 0.02116942605764931, 0.021169425879112226, 0.021169425717018072, 0.021169425569852494, 0.021169425436240594, 0.02116942531493411, 0.021169425204799724, 0.02116942510480851, 0.021169425014026313, 0.02116942493160498, 0.02116942485677451, 0.021169424788835777, 0.02116942472715409, 0.02116942467115316, 0.021169424620309817, 0.021169424574149054]\n",
            "Epoch[76/100], loss: 0.021169\n",
            "[0.02117000379151052, 0.02116995040474736, 0.02116990193480691, 0.021169857928858827, 0.021169817975777626, 0.021169781702301722, 0.021169748769546245, 0.021169718869836967, 0.021169691723835923, 0.021169667077931654, 0.021169644701869838, 0.021169624386602165, 0.021169605942333282, 0.02116958919674764, 0.02116957399339963, 0.02116956019025202, 0.021169547658348917, 0.02116953628061104, 0.021169525950741893, 0.021169516572234696, 0.02116950805747077, 0.021169500326900938, 0.02116949330830237, 0.021169486936103817, 0.021169481150773037, 0.021169475898260574, 0.021169471129494858, 0.02116946679992369, 0.021169462869098064, 0.02116945930029425, 0.0211694560601707, 0.021169453118456572, 0.02116945044766891, 0.021169448022855867, 0.02116944582136366, 0.021169443822624825, 0.02116944200796617, 0.021169440360434232, 0.021169438864636958, 0.021169437506599862, 0.021169436273635482, 0.02116943515422486, 0.021169434137909896, 0.021169433215195665, 0.02116943237746172, 0.02116943161688153, 0.02116943092634938, 0.02116943029941398, 0.021169429730218164, 0.021169429213444238, 0.02116942874426424, 0.021169428318294867, 0.021169427931556475, 0.021169427580435985, 0.021169427261653048, 0.021169426972229427, 0.021169426709461193, 0.021169426470893433, 0.021169426254297317, 0.02116942605764931, 0.021169425879112226, 0.021169425717018072, 0.021169425569852494, 0.021169425436240594, 0.02116942531493411, 0.021169425204799724, 0.02116942510480851, 0.021169425014026313, 0.02116942493160498, 0.02116942485677451, 0.021169424788835777, 0.02116942472715409, 0.02116942467115316, 0.021169424620309817, 0.021169424574149054, 0.02116942453223961]\n",
            "Epoch[77/100], loss: 0.021169\n",
            "[0.02117000379151052, 0.02116995040474736, 0.02116990193480691, 0.021169857928858827, 0.021169817975777626, 0.021169781702301722, 0.021169748769546245, 0.021169718869836967, 0.021169691723835923, 0.021169667077931654, 0.021169644701869838, 0.021169624386602165, 0.021169605942333282, 0.02116958919674764, 0.02116957399339963, 0.02116956019025202, 0.021169547658348917, 0.02116953628061104, 0.021169525950741893, 0.021169516572234696, 0.02116950805747077, 0.021169500326900938, 0.02116949330830237, 0.021169486936103817, 0.021169481150773037, 0.021169475898260574, 0.021169471129494858, 0.02116946679992369, 0.021169462869098064, 0.02116945930029425, 0.0211694560601707, 0.021169453118456572, 0.02116945044766891, 0.021169448022855867, 0.02116944582136366, 0.021169443822624825, 0.02116944200796617, 0.021169440360434232, 0.021169438864636958, 0.021169437506599862, 0.021169436273635482, 0.02116943515422486, 0.021169434137909896, 0.021169433215195665, 0.02116943237746172, 0.02116943161688153, 0.02116943092634938, 0.02116943029941398, 0.021169429730218164, 0.021169429213444238, 0.02116942874426424, 0.021169428318294867, 0.021169427931556475, 0.021169427580435985, 0.021169427261653048, 0.021169426972229427, 0.021169426709461193, 0.021169426470893433, 0.021169426254297317, 0.02116942605764931, 0.021169425879112226, 0.021169425717018072, 0.021169425569852494, 0.021169425436240594, 0.02116942531493411, 0.021169425204799724, 0.02116942510480851, 0.021169425014026313, 0.02116942493160498, 0.02116942485677451, 0.021169424788835777, 0.02116942472715409, 0.02116942467115316, 0.021169424620309817, 0.021169424574149054, 0.02116942453223961, 0.021169424494189952]\n",
            "Epoch[78/100], loss: 0.021169\n",
            "[0.02117000379151052, 0.02116995040474736, 0.02116990193480691, 0.021169857928858827, 0.021169817975777626, 0.021169781702301722, 0.021169748769546245, 0.021169718869836967, 0.021169691723835923, 0.021169667077931654, 0.021169644701869838, 0.021169624386602165, 0.021169605942333282, 0.02116958919674764, 0.02116957399339963, 0.02116956019025202, 0.021169547658348917, 0.02116953628061104, 0.021169525950741893, 0.021169516572234696, 0.02116950805747077, 0.021169500326900938, 0.02116949330830237, 0.021169486936103817, 0.021169481150773037, 0.021169475898260574, 0.021169471129494858, 0.02116946679992369, 0.021169462869098064, 0.02116945930029425, 0.0211694560601707, 0.021169453118456572, 0.02116945044766891, 0.021169448022855867, 0.02116944582136366, 0.021169443822624825, 0.02116944200796617, 0.021169440360434232, 0.021169438864636958, 0.021169437506599862, 0.021169436273635482, 0.02116943515422486, 0.021169434137909896, 0.021169433215195665, 0.02116943237746172, 0.02116943161688153, 0.02116943092634938, 0.02116943029941398, 0.021169429730218164, 0.021169429213444238, 0.02116942874426424, 0.021169428318294867, 0.021169427931556475, 0.021169427580435985, 0.021169427261653048, 0.021169426972229427, 0.021169426709461193, 0.021169426470893433, 0.021169426254297317, 0.02116942605764931, 0.021169425879112226, 0.021169425717018072, 0.021169425569852494, 0.021169425436240594, 0.02116942531493411, 0.021169425204799724, 0.02116942510480851, 0.021169425014026313, 0.02116942493160498, 0.02116942485677451, 0.021169424788835777, 0.02116942472715409, 0.02116942467115316, 0.021169424620309817, 0.021169424574149054, 0.02116942453223961, 0.021169424494189952, 0.0211694244596446]\n",
            "Epoch[79/100], loss: 0.021169\n",
            "[0.02117000379151052, 0.02116995040474736, 0.02116990193480691, 0.021169857928858827, 0.021169817975777626, 0.021169781702301722, 0.021169748769546245, 0.021169718869836967, 0.021169691723835923, 0.021169667077931654, 0.021169644701869838, 0.021169624386602165, 0.021169605942333282, 0.02116958919674764, 0.02116957399339963, 0.02116956019025202, 0.021169547658348917, 0.02116953628061104, 0.021169525950741893, 0.021169516572234696, 0.02116950805747077, 0.021169500326900938, 0.02116949330830237, 0.021169486936103817, 0.021169481150773037, 0.021169475898260574, 0.021169471129494858, 0.02116946679992369, 0.021169462869098064, 0.02116945930029425, 0.0211694560601707, 0.021169453118456572, 0.02116945044766891, 0.021169448022855867, 0.02116944582136366, 0.021169443822624825, 0.02116944200796617, 0.021169440360434232, 0.021169438864636958, 0.021169437506599862, 0.021169436273635482, 0.02116943515422486, 0.021169434137909896, 0.021169433215195665, 0.02116943237746172, 0.02116943161688153, 0.02116943092634938, 0.02116943029941398, 0.021169429730218164, 0.021169429213444238, 0.02116942874426424, 0.021169428318294867, 0.021169427931556475, 0.021169427580435985, 0.021169427261653048, 0.021169426972229427, 0.021169426709461193, 0.021169426470893433, 0.021169426254297317, 0.02116942605764931, 0.021169425879112226, 0.021169425717018072, 0.021169425569852494, 0.021169425436240594, 0.02116942531493411, 0.021169425204799724, 0.02116942510480851, 0.021169425014026313, 0.02116942493160498, 0.02116942485677451, 0.021169424788835777, 0.02116942472715409, 0.02116942467115316, 0.021169424620309817, 0.021169424574149054, 0.02116942453223961, 0.021169424494189952, 0.0211694244596446, 0.021169424428280802]\n",
            "Epoch[80/100], loss: 0.021169\n",
            "[0.02117000379151052, 0.02116995040474736, 0.02116990193480691, 0.021169857928858827, 0.021169817975777626, 0.021169781702301722, 0.021169748769546245, 0.021169718869836967, 0.021169691723835923, 0.021169667077931654, 0.021169644701869838, 0.021169624386602165, 0.021169605942333282, 0.02116958919674764, 0.02116957399339963, 0.02116956019025202, 0.021169547658348917, 0.02116953628061104, 0.021169525950741893, 0.021169516572234696, 0.02116950805747077, 0.021169500326900938, 0.02116949330830237, 0.021169486936103817, 0.021169481150773037, 0.021169475898260574, 0.021169471129494858, 0.02116946679992369, 0.021169462869098064, 0.02116945930029425, 0.0211694560601707, 0.021169453118456572, 0.02116945044766891, 0.021169448022855867, 0.02116944582136366, 0.021169443822624825, 0.02116944200796617, 0.021169440360434232, 0.021169438864636958, 0.021169437506599862, 0.021169436273635482, 0.02116943515422486, 0.021169434137909896, 0.021169433215195665, 0.02116943237746172, 0.02116943161688153, 0.02116943092634938, 0.02116943029941398, 0.021169429730218164, 0.021169429213444238, 0.02116942874426424, 0.021169428318294867, 0.021169427931556475, 0.021169427580435985, 0.021169427261653048, 0.021169426972229427, 0.021169426709461193, 0.021169426470893433, 0.021169426254297317, 0.02116942605764931, 0.021169425879112226, 0.021169425717018072, 0.021169425569852494, 0.021169425436240594, 0.02116942531493411, 0.021169425204799724, 0.02116942510480851, 0.021169425014026313, 0.02116942493160498, 0.02116942485677451, 0.021169424788835777, 0.02116942472715409, 0.02116942467115316, 0.021169424620309817, 0.021169424574149054, 0.02116942453223961, 0.021169424494189952, 0.0211694244596446, 0.021169424428280802, 0.02116942439980556]\n",
            "Epoch[81/100], loss: 0.021169\n",
            "[0.02117000379151052, 0.02116995040474736, 0.02116990193480691, 0.021169857928858827, 0.021169817975777626, 0.021169781702301722, 0.021169748769546245, 0.021169718869836967, 0.021169691723835923, 0.021169667077931654, 0.021169644701869838, 0.021169624386602165, 0.021169605942333282, 0.02116958919674764, 0.02116957399339963, 0.02116956019025202, 0.021169547658348917, 0.02116953628061104, 0.021169525950741893, 0.021169516572234696, 0.02116950805747077, 0.021169500326900938, 0.02116949330830237, 0.021169486936103817, 0.021169481150773037, 0.021169475898260574, 0.021169471129494858, 0.02116946679992369, 0.021169462869098064, 0.02116945930029425, 0.0211694560601707, 0.021169453118456572, 0.02116945044766891, 0.021169448022855867, 0.02116944582136366, 0.021169443822624825, 0.02116944200796617, 0.021169440360434232, 0.021169438864636958, 0.021169437506599862, 0.021169436273635482, 0.02116943515422486, 0.021169434137909896, 0.021169433215195665, 0.02116943237746172, 0.02116943161688153, 0.02116943092634938, 0.02116943029941398, 0.021169429730218164, 0.021169429213444238, 0.02116942874426424, 0.021169428318294867, 0.021169427931556475, 0.021169427580435985, 0.021169427261653048, 0.021169426972229427, 0.021169426709461193, 0.021169426470893433, 0.021169426254297317, 0.02116942605764931, 0.021169425879112226, 0.021169425717018072, 0.021169425569852494, 0.021169425436240594, 0.02116942531493411, 0.021169425204799724, 0.02116942510480851, 0.021169425014026313, 0.02116942493160498, 0.02116942485677451, 0.021169424788835777, 0.02116942472715409, 0.02116942467115316, 0.021169424620309817, 0.021169424574149054, 0.02116942453223961, 0.021169424494189952, 0.0211694244596446, 0.021169424428280802, 0.02116942439980556, 0.021169424373952826]\n",
            "Epoch[82/100], loss: 0.021169\n",
            "[0.02117000379151052, 0.02116995040474736, 0.02116990193480691, 0.021169857928858827, 0.021169817975777626, 0.021169781702301722, 0.021169748769546245, 0.021169718869836967, 0.021169691723835923, 0.021169667077931654, 0.021169644701869838, 0.021169624386602165, 0.021169605942333282, 0.02116958919674764, 0.02116957399339963, 0.02116956019025202, 0.021169547658348917, 0.02116953628061104, 0.021169525950741893, 0.021169516572234696, 0.02116950805747077, 0.021169500326900938, 0.02116949330830237, 0.021169486936103817, 0.021169481150773037, 0.021169475898260574, 0.021169471129494858, 0.02116946679992369, 0.021169462869098064, 0.02116945930029425, 0.0211694560601707, 0.021169453118456572, 0.02116945044766891, 0.021169448022855867, 0.02116944582136366, 0.021169443822624825, 0.02116944200796617, 0.021169440360434232, 0.021169438864636958, 0.021169437506599862, 0.021169436273635482, 0.02116943515422486, 0.021169434137909896, 0.021169433215195665, 0.02116943237746172, 0.02116943161688153, 0.02116943092634938, 0.02116943029941398, 0.021169429730218164, 0.021169429213444238, 0.02116942874426424, 0.021169428318294867, 0.021169427931556475, 0.021169427580435985, 0.021169427261653048, 0.021169426972229427, 0.021169426709461193, 0.021169426470893433, 0.021169426254297317, 0.02116942605764931, 0.021169425879112226, 0.021169425717018072, 0.021169425569852494, 0.021169425436240594, 0.02116942531493411, 0.021169425204799724, 0.02116942510480851, 0.021169425014026313, 0.02116942493160498, 0.02116942485677451, 0.021169424788835777, 0.02116942472715409, 0.02116942467115316, 0.021169424620309817, 0.021169424574149054, 0.02116942453223961, 0.021169424494189952, 0.0211694244596446, 0.021169424428280802, 0.02116942439980556, 0.021169424373952826, 0.021169424350481095]\n",
            "Epoch[83/100], loss: 0.021169\n",
            "[0.02117000379151052, 0.02116995040474736, 0.02116990193480691, 0.021169857928858827, 0.021169817975777626, 0.021169781702301722, 0.021169748769546245, 0.021169718869836967, 0.021169691723835923, 0.021169667077931654, 0.021169644701869838, 0.021169624386602165, 0.021169605942333282, 0.02116958919674764, 0.02116957399339963, 0.02116956019025202, 0.021169547658348917, 0.02116953628061104, 0.021169525950741893, 0.021169516572234696, 0.02116950805747077, 0.021169500326900938, 0.02116949330830237, 0.021169486936103817, 0.021169481150773037, 0.021169475898260574, 0.021169471129494858, 0.02116946679992369, 0.021169462869098064, 0.02116945930029425, 0.0211694560601707, 0.021169453118456572, 0.02116945044766891, 0.021169448022855867, 0.02116944582136366, 0.021169443822624825, 0.02116944200796617, 0.021169440360434232, 0.021169438864636958, 0.021169437506599862, 0.021169436273635482, 0.02116943515422486, 0.021169434137909896, 0.021169433215195665, 0.02116943237746172, 0.02116943161688153, 0.02116943092634938, 0.02116943029941398, 0.021169429730218164, 0.021169429213444238, 0.02116942874426424, 0.021169428318294867, 0.021169427931556475, 0.021169427580435985, 0.021169427261653048, 0.021169426972229427, 0.021169426709461193, 0.021169426470893433, 0.021169426254297317, 0.02116942605764931, 0.021169425879112226, 0.021169425717018072, 0.021169425569852494, 0.021169425436240594, 0.02116942531493411, 0.021169425204799724, 0.02116942510480851, 0.021169425014026313, 0.02116942493160498, 0.02116942485677451, 0.021169424788835777, 0.02116942472715409, 0.02116942467115316, 0.021169424620309817, 0.021169424574149054, 0.02116942453223961, 0.021169424494189952, 0.0211694244596446, 0.021169424428280802, 0.02116942439980556, 0.021169424373952826, 0.021169424350481095, 0.02116942432917106]\n",
            "Epoch[84/100], loss: 0.021169\n",
            "[0.02117000379151052, 0.02116995040474736, 0.02116990193480691, 0.021169857928858827, 0.021169817975777626, 0.021169781702301722, 0.021169748769546245, 0.021169718869836967, 0.021169691723835923, 0.021169667077931654, 0.021169644701869838, 0.021169624386602165, 0.021169605942333282, 0.02116958919674764, 0.02116957399339963, 0.02116956019025202, 0.021169547658348917, 0.02116953628061104, 0.021169525950741893, 0.021169516572234696, 0.02116950805747077, 0.021169500326900938, 0.02116949330830237, 0.021169486936103817, 0.021169481150773037, 0.021169475898260574, 0.021169471129494858, 0.02116946679992369, 0.021169462869098064, 0.02116945930029425, 0.0211694560601707, 0.021169453118456572, 0.02116945044766891, 0.021169448022855867, 0.02116944582136366, 0.021169443822624825, 0.02116944200796617, 0.021169440360434232, 0.021169438864636958, 0.021169437506599862, 0.021169436273635482, 0.02116943515422486, 0.021169434137909896, 0.021169433215195665, 0.02116943237746172, 0.02116943161688153, 0.02116943092634938, 0.02116943029941398, 0.021169429730218164, 0.021169429213444238, 0.02116942874426424, 0.021169428318294867, 0.021169427931556475, 0.021169427580435985, 0.021169427261653048, 0.021169426972229427, 0.021169426709461193, 0.021169426470893433, 0.021169426254297317, 0.02116942605764931, 0.021169425879112226, 0.021169425717018072, 0.021169425569852494, 0.021169425436240594, 0.02116942531493411, 0.021169425204799724, 0.02116942510480851, 0.021169425014026313, 0.02116942493160498, 0.02116942485677451, 0.021169424788835777, 0.02116942472715409, 0.02116942467115316, 0.021169424620309817, 0.021169424574149054, 0.02116942453223961, 0.021169424494189952, 0.0211694244596446, 0.021169424428280802, 0.02116942439980556, 0.021169424373952826, 0.021169424350481095, 0.02116942432917106, 0.021169424309823638]\n",
            "Epoch[85/100], loss: 0.021169\n",
            "[0.02117000379151052, 0.02116995040474736, 0.02116990193480691, 0.021169857928858827, 0.021169817975777626, 0.021169781702301722, 0.021169748769546245, 0.021169718869836967, 0.021169691723835923, 0.021169667077931654, 0.021169644701869838, 0.021169624386602165, 0.021169605942333282, 0.02116958919674764, 0.02116957399339963, 0.02116956019025202, 0.021169547658348917, 0.02116953628061104, 0.021169525950741893, 0.021169516572234696, 0.02116950805747077, 0.021169500326900938, 0.02116949330830237, 0.021169486936103817, 0.021169481150773037, 0.021169475898260574, 0.021169471129494858, 0.02116946679992369, 0.021169462869098064, 0.02116945930029425, 0.0211694560601707, 0.021169453118456572, 0.02116945044766891, 0.021169448022855867, 0.02116944582136366, 0.021169443822624825, 0.02116944200796617, 0.021169440360434232, 0.021169438864636958, 0.021169437506599862, 0.021169436273635482, 0.02116943515422486, 0.021169434137909896, 0.021169433215195665, 0.02116943237746172, 0.02116943161688153, 0.02116943092634938, 0.02116943029941398, 0.021169429730218164, 0.021169429213444238, 0.02116942874426424, 0.021169428318294867, 0.021169427931556475, 0.021169427580435985, 0.021169427261653048, 0.021169426972229427, 0.021169426709461193, 0.021169426470893433, 0.021169426254297317, 0.02116942605764931, 0.021169425879112226, 0.021169425717018072, 0.021169425569852494, 0.021169425436240594, 0.02116942531493411, 0.021169425204799724, 0.02116942510480851, 0.021169425014026313, 0.02116942493160498, 0.02116942485677451, 0.021169424788835777, 0.02116942472715409, 0.02116942467115316, 0.021169424620309817, 0.021169424574149054, 0.02116942453223961, 0.021169424494189952, 0.0211694244596446, 0.021169424428280802, 0.02116942439980556, 0.021169424373952826, 0.021169424350481095, 0.02116942432917106, 0.021169424309823638, 0.02116942429225808]\n",
            "Epoch[86/100], loss: 0.021169\n",
            "[0.02117000379151052, 0.02116995040474736, 0.02116990193480691, 0.021169857928858827, 0.021169817975777626, 0.021169781702301722, 0.021169748769546245, 0.021169718869836967, 0.021169691723835923, 0.021169667077931654, 0.021169644701869838, 0.021169624386602165, 0.021169605942333282, 0.02116958919674764, 0.02116957399339963, 0.02116956019025202, 0.021169547658348917, 0.02116953628061104, 0.021169525950741893, 0.021169516572234696, 0.02116950805747077, 0.021169500326900938, 0.02116949330830237, 0.021169486936103817, 0.021169481150773037, 0.021169475898260574, 0.021169471129494858, 0.02116946679992369, 0.021169462869098064, 0.02116945930029425, 0.0211694560601707, 0.021169453118456572, 0.02116945044766891, 0.021169448022855867, 0.02116944582136366, 0.021169443822624825, 0.02116944200796617, 0.021169440360434232, 0.021169438864636958, 0.021169437506599862, 0.021169436273635482, 0.02116943515422486, 0.021169434137909896, 0.021169433215195665, 0.02116943237746172, 0.02116943161688153, 0.02116943092634938, 0.02116943029941398, 0.021169429730218164, 0.021169429213444238, 0.02116942874426424, 0.021169428318294867, 0.021169427931556475, 0.021169427580435985, 0.021169427261653048, 0.021169426972229427, 0.021169426709461193, 0.021169426470893433, 0.021169426254297317, 0.02116942605764931, 0.021169425879112226, 0.021169425717018072, 0.021169425569852494, 0.021169425436240594, 0.02116942531493411, 0.021169425204799724, 0.02116942510480851, 0.021169425014026313, 0.02116942493160498, 0.02116942485677451, 0.021169424788835777, 0.02116942472715409, 0.02116942467115316, 0.021169424620309817, 0.021169424574149054, 0.02116942453223961, 0.021169424494189952, 0.0211694244596446, 0.021169424428280802, 0.02116942439980556, 0.021169424373952826, 0.021169424350481095, 0.02116942432917106, 0.021169424309823638, 0.02116942429225808, 0.02116942427631028]\n",
            "Epoch[87/100], loss: 0.021169\n",
            "[0.02117000379151052, 0.02116995040474736, 0.02116990193480691, 0.021169857928858827, 0.021169817975777626, 0.021169781702301722, 0.021169748769546245, 0.021169718869836967, 0.021169691723835923, 0.021169667077931654, 0.021169644701869838, 0.021169624386602165, 0.021169605942333282, 0.02116958919674764, 0.02116957399339963, 0.02116956019025202, 0.021169547658348917, 0.02116953628061104, 0.021169525950741893, 0.021169516572234696, 0.02116950805747077, 0.021169500326900938, 0.02116949330830237, 0.021169486936103817, 0.021169481150773037, 0.021169475898260574, 0.021169471129494858, 0.02116946679992369, 0.021169462869098064, 0.02116945930029425, 0.0211694560601707, 0.021169453118456572, 0.02116945044766891, 0.021169448022855867, 0.02116944582136366, 0.021169443822624825, 0.02116944200796617, 0.021169440360434232, 0.021169438864636958, 0.021169437506599862, 0.021169436273635482, 0.02116943515422486, 0.021169434137909896, 0.021169433215195665, 0.02116943237746172, 0.02116943161688153, 0.02116943092634938, 0.02116943029941398, 0.021169429730218164, 0.021169429213444238, 0.02116942874426424, 0.021169428318294867, 0.021169427931556475, 0.021169427580435985, 0.021169427261653048, 0.021169426972229427, 0.021169426709461193, 0.021169426470893433, 0.021169426254297317, 0.02116942605764931, 0.021169425879112226, 0.021169425717018072, 0.021169425569852494, 0.021169425436240594, 0.02116942531493411, 0.021169425204799724, 0.02116942510480851, 0.021169425014026313, 0.02116942493160498, 0.02116942485677451, 0.021169424788835777, 0.02116942472715409, 0.02116942467115316, 0.021169424620309817, 0.021169424574149054, 0.02116942453223961, 0.021169424494189952, 0.0211694244596446, 0.021169424428280802, 0.02116942439980556, 0.021169424373952826, 0.021169424350481095, 0.02116942432917106, 0.021169424309823638, 0.02116942429225808, 0.02116942427631028, 0.021169424261831243]\n",
            "Epoch[88/100], loss: 0.021169\n",
            "[0.02117000379151052, 0.02116995040474736, 0.02116990193480691, 0.021169857928858827, 0.021169817975777626, 0.021169781702301722, 0.021169748769546245, 0.021169718869836967, 0.021169691723835923, 0.021169667077931654, 0.021169644701869838, 0.021169624386602165, 0.021169605942333282, 0.02116958919674764, 0.02116957399339963, 0.02116956019025202, 0.021169547658348917, 0.02116953628061104, 0.021169525950741893, 0.021169516572234696, 0.02116950805747077, 0.021169500326900938, 0.02116949330830237, 0.021169486936103817, 0.021169481150773037, 0.021169475898260574, 0.021169471129494858, 0.02116946679992369, 0.021169462869098064, 0.02116945930029425, 0.0211694560601707, 0.021169453118456572, 0.02116945044766891, 0.021169448022855867, 0.02116944582136366, 0.021169443822624825, 0.02116944200796617, 0.021169440360434232, 0.021169438864636958, 0.021169437506599862, 0.021169436273635482, 0.02116943515422486, 0.021169434137909896, 0.021169433215195665, 0.02116943237746172, 0.02116943161688153, 0.02116943092634938, 0.02116943029941398, 0.021169429730218164, 0.021169429213444238, 0.02116942874426424, 0.021169428318294867, 0.021169427931556475, 0.021169427580435985, 0.021169427261653048, 0.021169426972229427, 0.021169426709461193, 0.021169426470893433, 0.021169426254297317, 0.02116942605764931, 0.021169425879112226, 0.021169425717018072, 0.021169425569852494, 0.021169425436240594, 0.02116942531493411, 0.021169425204799724, 0.02116942510480851, 0.021169425014026313, 0.02116942493160498, 0.02116942485677451, 0.021169424788835777, 0.02116942472715409, 0.02116942467115316, 0.021169424620309817, 0.021169424574149054, 0.02116942453223961, 0.021169424494189952, 0.0211694244596446, 0.021169424428280802, 0.02116942439980556, 0.021169424373952826, 0.021169424350481095, 0.02116942432917106, 0.021169424309823638, 0.02116942429225808, 0.02116942427631028, 0.021169424261831243, 0.02116942424868569]\n",
            "Epoch[89/100], loss: 0.021169\n",
            "[0.02117000379151052, 0.02116995040474736, 0.02116990193480691, 0.021169857928858827, 0.021169817975777626, 0.021169781702301722, 0.021169748769546245, 0.021169718869836967, 0.021169691723835923, 0.021169667077931654, 0.021169644701869838, 0.021169624386602165, 0.021169605942333282, 0.02116958919674764, 0.02116957399339963, 0.02116956019025202, 0.021169547658348917, 0.02116953628061104, 0.021169525950741893, 0.021169516572234696, 0.02116950805747077, 0.021169500326900938, 0.02116949330830237, 0.021169486936103817, 0.021169481150773037, 0.021169475898260574, 0.021169471129494858, 0.02116946679992369, 0.021169462869098064, 0.02116945930029425, 0.0211694560601707, 0.021169453118456572, 0.02116945044766891, 0.021169448022855867, 0.02116944582136366, 0.021169443822624825, 0.02116944200796617, 0.021169440360434232, 0.021169438864636958, 0.021169437506599862, 0.021169436273635482, 0.02116943515422486, 0.021169434137909896, 0.021169433215195665, 0.02116943237746172, 0.02116943161688153, 0.02116943092634938, 0.02116943029941398, 0.021169429730218164, 0.021169429213444238, 0.02116942874426424, 0.021169428318294867, 0.021169427931556475, 0.021169427580435985, 0.021169427261653048, 0.021169426972229427, 0.021169426709461193, 0.021169426470893433, 0.021169426254297317, 0.02116942605764931, 0.021169425879112226, 0.021169425717018072, 0.021169425569852494, 0.021169425436240594, 0.02116942531493411, 0.021169425204799724, 0.02116942510480851, 0.021169425014026313, 0.02116942493160498, 0.02116942485677451, 0.021169424788835777, 0.02116942472715409, 0.02116942467115316, 0.021169424620309817, 0.021169424574149054, 0.02116942453223961, 0.021169424494189952, 0.0211694244596446, 0.021169424428280802, 0.02116942439980556, 0.021169424373952826, 0.021169424350481095, 0.02116942432917106, 0.021169424309823638, 0.02116942429225808, 0.02116942427631028, 0.021169424261831243, 0.02116942424868569, 0.02116942423675083]\n",
            "Epoch[90/100], loss: 0.021169\n",
            "[0.02117000379151052, 0.02116995040474736, 0.02116990193480691, 0.021169857928858827, 0.021169817975777626, 0.021169781702301722, 0.021169748769546245, 0.021169718869836967, 0.021169691723835923, 0.021169667077931654, 0.021169644701869838, 0.021169624386602165, 0.021169605942333282, 0.02116958919674764, 0.02116957399339963, 0.02116956019025202, 0.021169547658348917, 0.02116953628061104, 0.021169525950741893, 0.021169516572234696, 0.02116950805747077, 0.021169500326900938, 0.02116949330830237, 0.021169486936103817, 0.021169481150773037, 0.021169475898260574, 0.021169471129494858, 0.02116946679992369, 0.021169462869098064, 0.02116945930029425, 0.0211694560601707, 0.021169453118456572, 0.02116945044766891, 0.021169448022855867, 0.02116944582136366, 0.021169443822624825, 0.02116944200796617, 0.021169440360434232, 0.021169438864636958, 0.021169437506599862, 0.021169436273635482, 0.02116943515422486, 0.021169434137909896, 0.021169433215195665, 0.02116943237746172, 0.02116943161688153, 0.02116943092634938, 0.02116943029941398, 0.021169429730218164, 0.021169429213444238, 0.02116942874426424, 0.021169428318294867, 0.021169427931556475, 0.021169427580435985, 0.021169427261653048, 0.021169426972229427, 0.021169426709461193, 0.021169426470893433, 0.021169426254297317, 0.02116942605764931, 0.021169425879112226, 0.021169425717018072, 0.021169425569852494, 0.021169425436240594, 0.02116942531493411, 0.021169425204799724, 0.02116942510480851, 0.021169425014026313, 0.02116942493160498, 0.02116942485677451, 0.021169424788835777, 0.02116942472715409, 0.02116942467115316, 0.021169424620309817, 0.021169424574149054, 0.02116942453223961, 0.021169424494189952, 0.0211694244596446, 0.021169424428280802, 0.02116942439980556, 0.021169424373952826, 0.021169424350481095, 0.02116942432917106, 0.021169424309823638, 0.02116942429225808, 0.02116942427631028, 0.021169424261831243, 0.02116942424868569, 0.02116942423675083, 0.021169424225915147]\n",
            "Epoch[91/100], loss: 0.021169\n",
            "[0.02117000379151052, 0.02116995040474736, 0.02116990193480691, 0.021169857928858827, 0.021169817975777626, 0.021169781702301722, 0.021169748769546245, 0.021169718869836967, 0.021169691723835923, 0.021169667077931654, 0.021169644701869838, 0.021169624386602165, 0.021169605942333282, 0.02116958919674764, 0.02116957399339963, 0.02116956019025202, 0.021169547658348917, 0.02116953628061104, 0.021169525950741893, 0.021169516572234696, 0.02116950805747077, 0.021169500326900938, 0.02116949330830237, 0.021169486936103817, 0.021169481150773037, 0.021169475898260574, 0.021169471129494858, 0.02116946679992369, 0.021169462869098064, 0.02116945930029425, 0.0211694560601707, 0.021169453118456572, 0.02116945044766891, 0.021169448022855867, 0.02116944582136366, 0.021169443822624825, 0.02116944200796617, 0.021169440360434232, 0.021169438864636958, 0.021169437506599862, 0.021169436273635482, 0.02116943515422486, 0.021169434137909896, 0.021169433215195665, 0.02116943237746172, 0.02116943161688153, 0.02116943092634938, 0.02116943029941398, 0.021169429730218164, 0.021169429213444238, 0.02116942874426424, 0.021169428318294867, 0.021169427931556475, 0.021169427580435985, 0.021169427261653048, 0.021169426972229427, 0.021169426709461193, 0.021169426470893433, 0.021169426254297317, 0.02116942605764931, 0.021169425879112226, 0.021169425717018072, 0.021169425569852494, 0.021169425436240594, 0.02116942531493411, 0.021169425204799724, 0.02116942510480851, 0.021169425014026313, 0.02116942493160498, 0.02116942485677451, 0.021169424788835777, 0.02116942472715409, 0.02116942467115316, 0.021169424620309817, 0.021169424574149054, 0.02116942453223961, 0.021169424494189952, 0.0211694244596446, 0.021169424428280802, 0.02116942439980556, 0.021169424373952826, 0.021169424350481095, 0.02116942432917106, 0.021169424309823638, 0.02116942429225808, 0.02116942427631028, 0.021169424261831243, 0.02116942424868569, 0.02116942423675083, 0.021169424225915147, 0.0211694242160774]\n",
            "Epoch[92/100], loss: 0.021169\n",
            "[0.02117000379151052, 0.02116995040474736, 0.02116990193480691, 0.021169857928858827, 0.021169817975777626, 0.021169781702301722, 0.021169748769546245, 0.021169718869836967, 0.021169691723835923, 0.021169667077931654, 0.021169644701869838, 0.021169624386602165, 0.021169605942333282, 0.02116958919674764, 0.02116957399339963, 0.02116956019025202, 0.021169547658348917, 0.02116953628061104, 0.021169525950741893, 0.021169516572234696, 0.02116950805747077, 0.021169500326900938, 0.02116949330830237, 0.021169486936103817, 0.021169481150773037, 0.021169475898260574, 0.021169471129494858, 0.02116946679992369, 0.021169462869098064, 0.02116945930029425, 0.0211694560601707, 0.021169453118456572, 0.02116945044766891, 0.021169448022855867, 0.02116944582136366, 0.021169443822624825, 0.02116944200796617, 0.021169440360434232, 0.021169438864636958, 0.021169437506599862, 0.021169436273635482, 0.02116943515422486, 0.021169434137909896, 0.021169433215195665, 0.02116943237746172, 0.02116943161688153, 0.02116943092634938, 0.02116943029941398, 0.021169429730218164, 0.021169429213444238, 0.02116942874426424, 0.021169428318294867, 0.021169427931556475, 0.021169427580435985, 0.021169427261653048, 0.021169426972229427, 0.021169426709461193, 0.021169426470893433, 0.021169426254297317, 0.02116942605764931, 0.021169425879112226, 0.021169425717018072, 0.021169425569852494, 0.021169425436240594, 0.02116942531493411, 0.021169425204799724, 0.02116942510480851, 0.021169425014026313, 0.02116942493160498, 0.02116942485677451, 0.021169424788835777, 0.02116942472715409, 0.02116942467115316, 0.021169424620309817, 0.021169424574149054, 0.02116942453223961, 0.021169424494189952, 0.0211694244596446, 0.021169424428280802, 0.02116942439980556, 0.021169424373952826, 0.021169424350481095, 0.02116942432917106, 0.021169424309823638, 0.02116942429225808, 0.02116942427631028, 0.021169424261831243, 0.02116942424868569, 0.02116942423675083, 0.021169424225915147, 0.0211694242160774, 0.021169424207145696]\n",
            "Epoch[93/100], loss: 0.021169\n",
            "[0.02117000379151052, 0.02116995040474736, 0.02116990193480691, 0.021169857928858827, 0.021169817975777626, 0.021169781702301722, 0.021169748769546245, 0.021169718869836967, 0.021169691723835923, 0.021169667077931654, 0.021169644701869838, 0.021169624386602165, 0.021169605942333282, 0.02116958919674764, 0.02116957399339963, 0.02116956019025202, 0.021169547658348917, 0.02116953628061104, 0.021169525950741893, 0.021169516572234696, 0.02116950805747077, 0.021169500326900938, 0.02116949330830237, 0.021169486936103817, 0.021169481150773037, 0.021169475898260574, 0.021169471129494858, 0.02116946679992369, 0.021169462869098064, 0.02116945930029425, 0.0211694560601707, 0.021169453118456572, 0.02116945044766891, 0.021169448022855867, 0.02116944582136366, 0.021169443822624825, 0.02116944200796617, 0.021169440360434232, 0.021169438864636958, 0.021169437506599862, 0.021169436273635482, 0.02116943515422486, 0.021169434137909896, 0.021169433215195665, 0.02116943237746172, 0.02116943161688153, 0.02116943092634938, 0.02116943029941398, 0.021169429730218164, 0.021169429213444238, 0.02116942874426424, 0.021169428318294867, 0.021169427931556475, 0.021169427580435985, 0.021169427261653048, 0.021169426972229427, 0.021169426709461193, 0.021169426470893433, 0.021169426254297317, 0.02116942605764931, 0.021169425879112226, 0.021169425717018072, 0.021169425569852494, 0.021169425436240594, 0.02116942531493411, 0.021169425204799724, 0.02116942510480851, 0.021169425014026313, 0.02116942493160498, 0.02116942485677451, 0.021169424788835777, 0.02116942472715409, 0.02116942467115316, 0.021169424620309817, 0.021169424574149054, 0.02116942453223961, 0.021169424494189952, 0.0211694244596446, 0.021169424428280802, 0.02116942439980556, 0.021169424373952826, 0.021169424350481095, 0.02116942432917106, 0.021169424309823638, 0.02116942429225808, 0.02116942427631028, 0.021169424261831243, 0.02116942424868569, 0.02116942423675083, 0.021169424225915147, 0.0211694242160774, 0.021169424207145696, 0.021169424199036592]\n",
            "Epoch[94/100], loss: 0.021169\n",
            "[0.02117000379151052, 0.02116995040474736, 0.02116990193480691, 0.021169857928858827, 0.021169817975777626, 0.021169781702301722, 0.021169748769546245, 0.021169718869836967, 0.021169691723835923, 0.021169667077931654, 0.021169644701869838, 0.021169624386602165, 0.021169605942333282, 0.02116958919674764, 0.02116957399339963, 0.02116956019025202, 0.021169547658348917, 0.02116953628061104, 0.021169525950741893, 0.021169516572234696, 0.02116950805747077, 0.021169500326900938, 0.02116949330830237, 0.021169486936103817, 0.021169481150773037, 0.021169475898260574, 0.021169471129494858, 0.02116946679992369, 0.021169462869098064, 0.02116945930029425, 0.0211694560601707, 0.021169453118456572, 0.02116945044766891, 0.021169448022855867, 0.02116944582136366, 0.021169443822624825, 0.02116944200796617, 0.021169440360434232, 0.021169438864636958, 0.021169437506599862, 0.021169436273635482, 0.02116943515422486, 0.021169434137909896, 0.021169433215195665, 0.02116943237746172, 0.02116943161688153, 0.02116943092634938, 0.02116943029941398, 0.021169429730218164, 0.021169429213444238, 0.02116942874426424, 0.021169428318294867, 0.021169427931556475, 0.021169427580435985, 0.021169427261653048, 0.021169426972229427, 0.021169426709461193, 0.021169426470893433, 0.021169426254297317, 0.02116942605764931, 0.021169425879112226, 0.021169425717018072, 0.021169425569852494, 0.021169425436240594, 0.02116942531493411, 0.021169425204799724, 0.02116942510480851, 0.021169425014026313, 0.02116942493160498, 0.02116942485677451, 0.021169424788835777, 0.02116942472715409, 0.02116942467115316, 0.021169424620309817, 0.021169424574149054, 0.02116942453223961, 0.021169424494189952, 0.0211694244596446, 0.021169424428280802, 0.02116942439980556, 0.021169424373952826, 0.021169424350481095, 0.02116942432917106, 0.021169424309823638, 0.02116942429225808, 0.02116942427631028, 0.021169424261831243, 0.02116942424868569, 0.02116942423675083, 0.021169424225915147, 0.0211694242160774, 0.021169424207145696, 0.021169424199036592, 0.021169424191674314]\n",
            "Epoch[95/100], loss: 0.021169\n",
            "[0.02117000379151052, 0.02116995040474736, 0.02116990193480691, 0.021169857928858827, 0.021169817975777626, 0.021169781702301722, 0.021169748769546245, 0.021169718869836967, 0.021169691723835923, 0.021169667077931654, 0.021169644701869838, 0.021169624386602165, 0.021169605942333282, 0.02116958919674764, 0.02116957399339963, 0.02116956019025202, 0.021169547658348917, 0.02116953628061104, 0.021169525950741893, 0.021169516572234696, 0.02116950805747077, 0.021169500326900938, 0.02116949330830237, 0.021169486936103817, 0.021169481150773037, 0.021169475898260574, 0.021169471129494858, 0.02116946679992369, 0.021169462869098064, 0.02116945930029425, 0.0211694560601707, 0.021169453118456572, 0.02116945044766891, 0.021169448022855867, 0.02116944582136366, 0.021169443822624825, 0.02116944200796617, 0.021169440360434232, 0.021169438864636958, 0.021169437506599862, 0.021169436273635482, 0.02116943515422486, 0.021169434137909896, 0.021169433215195665, 0.02116943237746172, 0.02116943161688153, 0.02116943092634938, 0.02116943029941398, 0.021169429730218164, 0.021169429213444238, 0.02116942874426424, 0.021169428318294867, 0.021169427931556475, 0.021169427580435985, 0.021169427261653048, 0.021169426972229427, 0.021169426709461193, 0.021169426470893433, 0.021169426254297317, 0.02116942605764931, 0.021169425879112226, 0.021169425717018072, 0.021169425569852494, 0.021169425436240594, 0.02116942531493411, 0.021169425204799724, 0.02116942510480851, 0.021169425014026313, 0.02116942493160498, 0.02116942485677451, 0.021169424788835777, 0.02116942472715409, 0.02116942467115316, 0.021169424620309817, 0.021169424574149054, 0.02116942453223961, 0.021169424494189952, 0.0211694244596446, 0.021169424428280802, 0.02116942439980556, 0.021169424373952826, 0.021169424350481095, 0.02116942432917106, 0.021169424309823638, 0.02116942429225808, 0.02116942427631028, 0.021169424261831243, 0.02116942424868569, 0.02116942423675083, 0.021169424225915147, 0.0211694242160774, 0.021169424207145696, 0.021169424199036592, 0.021169424191674314, 0.021169424184990092]\n",
            "Epoch[96/100], loss: 0.021169\n",
            "[0.02117000379151052, 0.02116995040474736, 0.02116990193480691, 0.021169857928858827, 0.021169817975777626, 0.021169781702301722, 0.021169748769546245, 0.021169718869836967, 0.021169691723835923, 0.021169667077931654, 0.021169644701869838, 0.021169624386602165, 0.021169605942333282, 0.02116958919674764, 0.02116957399339963, 0.02116956019025202, 0.021169547658348917, 0.02116953628061104, 0.021169525950741893, 0.021169516572234696, 0.02116950805747077, 0.021169500326900938, 0.02116949330830237, 0.021169486936103817, 0.021169481150773037, 0.021169475898260574, 0.021169471129494858, 0.02116946679992369, 0.021169462869098064, 0.02116945930029425, 0.0211694560601707, 0.021169453118456572, 0.02116945044766891, 0.021169448022855867, 0.02116944582136366, 0.021169443822624825, 0.02116944200796617, 0.021169440360434232, 0.021169438864636958, 0.021169437506599862, 0.021169436273635482, 0.02116943515422486, 0.021169434137909896, 0.021169433215195665, 0.02116943237746172, 0.02116943161688153, 0.02116943092634938, 0.02116943029941398, 0.021169429730218164, 0.021169429213444238, 0.02116942874426424, 0.021169428318294867, 0.021169427931556475, 0.021169427580435985, 0.021169427261653048, 0.021169426972229427, 0.021169426709461193, 0.021169426470893433, 0.021169426254297317, 0.02116942605764931, 0.021169425879112226, 0.021169425717018072, 0.021169425569852494, 0.021169425436240594, 0.02116942531493411, 0.021169425204799724, 0.02116942510480851, 0.021169425014026313, 0.02116942493160498, 0.02116942485677451, 0.021169424788835777, 0.02116942472715409, 0.02116942467115316, 0.021169424620309817, 0.021169424574149054, 0.02116942453223961, 0.021169424494189952, 0.0211694244596446, 0.021169424428280802, 0.02116942439980556, 0.021169424373952826, 0.021169424350481095, 0.02116942432917106, 0.021169424309823638, 0.02116942429225808, 0.02116942427631028, 0.021169424261831243, 0.02116942424868569, 0.02116942423675083, 0.021169424225915147, 0.0211694242160774, 0.021169424207145696, 0.021169424199036592, 0.021169424191674314, 0.021169424184990092, 0.021169424178921474]\n",
            "Epoch[97/100], loss: 0.021169\n",
            "[0.02117000379151052, 0.02116995040474736, 0.02116990193480691, 0.021169857928858827, 0.021169817975777626, 0.021169781702301722, 0.021169748769546245, 0.021169718869836967, 0.021169691723835923, 0.021169667077931654, 0.021169644701869838, 0.021169624386602165, 0.021169605942333282, 0.02116958919674764, 0.02116957399339963, 0.02116956019025202, 0.021169547658348917, 0.02116953628061104, 0.021169525950741893, 0.021169516572234696, 0.02116950805747077, 0.021169500326900938, 0.02116949330830237, 0.021169486936103817, 0.021169481150773037, 0.021169475898260574, 0.021169471129494858, 0.02116946679992369, 0.021169462869098064, 0.02116945930029425, 0.0211694560601707, 0.021169453118456572, 0.02116945044766891, 0.021169448022855867, 0.02116944582136366, 0.021169443822624825, 0.02116944200796617, 0.021169440360434232, 0.021169438864636958, 0.021169437506599862, 0.021169436273635482, 0.02116943515422486, 0.021169434137909896, 0.021169433215195665, 0.02116943237746172, 0.02116943161688153, 0.02116943092634938, 0.02116943029941398, 0.021169429730218164, 0.021169429213444238, 0.02116942874426424, 0.021169428318294867, 0.021169427931556475, 0.021169427580435985, 0.021169427261653048, 0.021169426972229427, 0.021169426709461193, 0.021169426470893433, 0.021169426254297317, 0.02116942605764931, 0.021169425879112226, 0.021169425717018072, 0.021169425569852494, 0.021169425436240594, 0.02116942531493411, 0.021169425204799724, 0.02116942510480851, 0.021169425014026313, 0.02116942493160498, 0.02116942485677451, 0.021169424788835777, 0.02116942472715409, 0.02116942467115316, 0.021169424620309817, 0.021169424574149054, 0.02116942453223961, 0.021169424494189952, 0.0211694244596446, 0.021169424428280802, 0.02116942439980556, 0.021169424373952826, 0.021169424350481095, 0.02116942432917106, 0.021169424309823638, 0.02116942429225808, 0.02116942427631028, 0.021169424261831243, 0.02116942424868569, 0.02116942423675083, 0.021169424225915147, 0.0211694242160774, 0.021169424207145696, 0.021169424199036592, 0.021169424191674314, 0.021169424184990092, 0.021169424178921474, 0.02116942417341177]\n",
            "Epoch[98/100], loss: 0.021169\n",
            "[0.02117000379151052, 0.02116995040474736, 0.02116990193480691, 0.021169857928858827, 0.021169817975777626, 0.021169781702301722, 0.021169748769546245, 0.021169718869836967, 0.021169691723835923, 0.021169667077931654, 0.021169644701869838, 0.021169624386602165, 0.021169605942333282, 0.02116958919674764, 0.02116957399339963, 0.02116956019025202, 0.021169547658348917, 0.02116953628061104, 0.021169525950741893, 0.021169516572234696, 0.02116950805747077, 0.021169500326900938, 0.02116949330830237, 0.021169486936103817, 0.021169481150773037, 0.021169475898260574, 0.021169471129494858, 0.02116946679992369, 0.021169462869098064, 0.02116945930029425, 0.0211694560601707, 0.021169453118456572, 0.02116945044766891, 0.021169448022855867, 0.02116944582136366, 0.021169443822624825, 0.02116944200796617, 0.021169440360434232, 0.021169438864636958, 0.021169437506599862, 0.021169436273635482, 0.02116943515422486, 0.021169434137909896, 0.021169433215195665, 0.02116943237746172, 0.02116943161688153, 0.02116943092634938, 0.02116943029941398, 0.021169429730218164, 0.021169429213444238, 0.02116942874426424, 0.021169428318294867, 0.021169427931556475, 0.021169427580435985, 0.021169427261653048, 0.021169426972229427, 0.021169426709461193, 0.021169426470893433, 0.021169426254297317, 0.02116942605764931, 0.021169425879112226, 0.021169425717018072, 0.021169425569852494, 0.021169425436240594, 0.02116942531493411, 0.021169425204799724, 0.02116942510480851, 0.021169425014026313, 0.02116942493160498, 0.02116942485677451, 0.021169424788835777, 0.02116942472715409, 0.02116942467115316, 0.021169424620309817, 0.021169424574149054, 0.02116942453223961, 0.021169424494189952, 0.0211694244596446, 0.021169424428280802, 0.02116942439980556, 0.021169424373952826, 0.021169424350481095, 0.02116942432917106, 0.021169424309823638, 0.02116942429225808, 0.02116942427631028, 0.021169424261831243, 0.02116942424868569, 0.02116942423675083, 0.021169424225915147, 0.0211694242160774, 0.021169424207145696, 0.021169424199036592, 0.021169424191674314, 0.021169424184990092, 0.021169424178921474, 0.02116942417341177, 0.021169424168409487]\n",
            "Epoch[99/100], loss: 0.021169\n",
            "[0.02117000379151052, 0.02116995040474736, 0.02116990193480691, 0.021169857928858827, 0.021169817975777626, 0.021169781702301722, 0.021169748769546245, 0.021169718869836967, 0.021169691723835923, 0.021169667077931654, 0.021169644701869838, 0.021169624386602165, 0.021169605942333282, 0.02116958919674764, 0.02116957399339963, 0.02116956019025202, 0.021169547658348917, 0.02116953628061104, 0.021169525950741893, 0.021169516572234696, 0.02116950805747077, 0.021169500326900938, 0.02116949330830237, 0.021169486936103817, 0.021169481150773037, 0.021169475898260574, 0.021169471129494858, 0.02116946679992369, 0.021169462869098064, 0.02116945930029425, 0.0211694560601707, 0.021169453118456572, 0.02116945044766891, 0.021169448022855867, 0.02116944582136366, 0.021169443822624825, 0.02116944200796617, 0.021169440360434232, 0.021169438864636958, 0.021169437506599862, 0.021169436273635482, 0.02116943515422486, 0.021169434137909896, 0.021169433215195665, 0.02116943237746172, 0.02116943161688153, 0.02116943092634938, 0.02116943029941398, 0.021169429730218164, 0.021169429213444238, 0.02116942874426424, 0.021169428318294867, 0.021169427931556475, 0.021169427580435985, 0.021169427261653048, 0.021169426972229427, 0.021169426709461193, 0.021169426470893433, 0.021169426254297317, 0.02116942605764931, 0.021169425879112226, 0.021169425717018072, 0.021169425569852494, 0.021169425436240594, 0.02116942531493411, 0.021169425204799724, 0.02116942510480851, 0.021169425014026313, 0.02116942493160498, 0.02116942485677451, 0.021169424788835777, 0.02116942472715409, 0.02116942467115316, 0.021169424620309817, 0.021169424574149054, 0.02116942453223961, 0.021169424494189952, 0.0211694244596446, 0.021169424428280802, 0.02116942439980556, 0.021169424373952826, 0.021169424350481095, 0.02116942432917106, 0.021169424309823638, 0.02116942429225808, 0.02116942427631028, 0.021169424261831243, 0.02116942424868569, 0.02116942423675083, 0.021169424225915147, 0.0211694242160774, 0.021169424207145696, 0.021169424199036592, 0.021169424191674314, 0.021169424184990092, 0.021169424178921474, 0.02116942417341177, 0.021169424168409487, 0.021169424163867915]\n",
            "Epoch[100/100], loss: 0.021169\n",
            "[0.02117000379151052, 0.02116995040474736, 0.02116990193480691, 0.021169857928858827, 0.021169817975777626, 0.021169781702301722, 0.021169748769546245, 0.021169718869836967, 0.021169691723835923, 0.021169667077931654, 0.021169644701869838, 0.021169624386602165, 0.021169605942333282, 0.02116958919674764, 0.02116957399339963, 0.02116956019025202, 0.021169547658348917, 0.02116953628061104, 0.021169525950741893, 0.021169516572234696, 0.02116950805747077, 0.021169500326900938, 0.02116949330830237, 0.021169486936103817, 0.021169481150773037, 0.021169475898260574, 0.021169471129494858, 0.02116946679992369, 0.021169462869098064, 0.02116945930029425, 0.0211694560601707, 0.021169453118456572, 0.02116945044766891, 0.021169448022855867, 0.02116944582136366, 0.021169443822624825, 0.02116944200796617, 0.021169440360434232, 0.021169438864636958, 0.021169437506599862, 0.021169436273635482, 0.02116943515422486, 0.021169434137909896, 0.021169433215195665, 0.02116943237746172, 0.02116943161688153, 0.02116943092634938, 0.02116943029941398, 0.021169429730218164, 0.021169429213444238, 0.02116942874426424, 0.021169428318294867, 0.021169427931556475, 0.021169427580435985, 0.021169427261653048, 0.021169426972229427, 0.021169426709461193, 0.021169426470893433, 0.021169426254297317, 0.02116942605764931, 0.021169425879112226, 0.021169425717018072, 0.021169425569852494, 0.021169425436240594, 0.02116942531493411, 0.021169425204799724, 0.02116942510480851, 0.021169425014026313, 0.02116942493160498, 0.02116942485677451, 0.021169424788835777, 0.02116942472715409, 0.02116942467115316, 0.021169424620309817, 0.021169424574149054, 0.02116942453223961, 0.021169424494189952, 0.0211694244596446, 0.021169424428280802, 0.02116942439980556, 0.021169424373952826, 0.021169424350481095, 0.02116942432917106, 0.021169424309823638, 0.02116942429225808, 0.02116942427631028, 0.021169424261831243, 0.02116942424868569, 0.02116942423675083, 0.021169424225915147, 0.0211694242160774, 0.021169424207145696, 0.021169424199036592, 0.021169424191674314, 0.021169424184990092, 0.021169424178921474, 0.02116942417341177, 0.021169424168409487, 0.021169424163867915, 0.021169424159744613]\n"
          ]
        }
      ]
    },
    {
      "cell_type": "code",
      "source": [
        "import random\n",
        "\n",
        "x_values = list(range(num_epochs))\n",
        "y_values = losses\n",
        "\n",
        "plt.figure(figsize=(12, 8))\n",
        "plt.plot(x_values, y_values, linestyle='-', color='b', alpha=0.5)\n",
        "for i in range(len(x_values)):\n",
        "    # Generate a random color (RGB)\n",
        "    random_color = (random.uniform(0, 1), random.uniform(0, 1), random.uniform(0, 1))\n",
        "\n",
        "    # Plot the point with the random color\n",
        "    plt.plot(x_values[i], y_values[i], marker='o', color=random_color, linestyle='None')\n",
        "\n",
        "plt.xlabel('Épocas')\n",
        "plt.ylabel('Erro médio')\n",
        "plt.title('Gráfico do valor da perda a cada época')\n",
        "\n",
        "# Show the graph\n",
        "plt.grid(True)\n",
        "plt.show()"
      ],
      "metadata": {
        "id": "L81x-6RFP2lA",
        "outputId": "f0180746-8506-44fb-85f2-6e41d00627c3",
        "colab": {
          "base_uri": "https://localhost:8080/",
          "height": 721
        }
      },
      "execution_count": 16,
      "outputs": [
        {
          "output_type": "display_data",
          "data": {
            "text/plain": [
              "<Figure size 1200x800 with 1 Axes>"
            ],
            "image/png": "[encoded data removed]"
          },
          "metadata": {}
        }
      ]
    },
    {
      "cell_type": "code",
      "source": [
        "# 2ª atividade\n",
        "model3 = Net(2,1)\n",
        "print(model3.w)\n",
        "y_pred = model3.forward(x_train_bias)\n",
        "#loss calculo da função de perda\n",
        "loss = np.square (y_pred - y_train.mean())\n",
        "print(\"perda sem treinamento\")\n",
        "print(loss)\n"
      ],
      "metadata": {
        "colab": {
          "base_uri": "https://localhost:8080/"
        },
        "id": "VSApgfNJW4Q6",
        "outputId": "a036f66e-0cd9-4dc8-9e1c-4736e86e66eb"
      },
      "execution_count": 17,
      "outputs": [
        {
          "output_type": "stream",
          "name": "stdout",
          "text": [
            "[[-0.02594985  0.01223924]]\n",
            "perda sem treinamento\n",
            "[[0.37664072]\n",
            " [0.38094514]\n",
            " [0.37735642]\n",
            " [0.38744764]\n",
            " [0.38022604]\n",
            " [0.38599789]\n",
            " [0.38166493]\n",
            " [0.39181321]\n",
            " [0.37950762]\n",
            " [0.38962737]\n",
            " [0.39108392]\n",
            " [0.38455085]\n",
            " [0.38382835]\n",
            " [0.38310653]\n",
            " [0.38672243]\n",
            " [0.37878987]\n",
            " [0.38672243]\n",
            " [0.38527403]\n",
            " [0.38238539]\n",
            " [0.38672243]\n",
            " [0.38455085]\n",
            " [0.38310653]\n",
            " [0.38166493]\n",
            " [0.38310653]\n",
            " [0.38094514]\n",
            " [0.37950762]\n",
            " [0.37807281]\n",
            " [0.37878987]\n",
            " [0.38382835]\n",
            " [0.38599789]\n",
            " [0.38744764]\n",
            " [0.38744764]\n",
            " [0.38527403]\n",
            " [0.38382835]\n",
            " [0.38817354]\n",
            " [0.38382835]\n",
            " [0.37878987]\n",
            " [0.38166493]\n",
            " [0.38672243]\n",
            " [0.38744764]\n",
            " [0.38744764]\n",
            " [0.38310653]\n",
            " [0.38527403]\n",
            " [0.39108392]\n",
            " [0.38672243]\n",
            " [0.38599789]\n",
            " [0.38599789]\n",
            " [0.38238539]\n",
            " [0.39035531]\n",
            " [0.38599789]]\n"
          ]
        }
      ]
    },
    {
      "cell_type": "code",
      "source": [
        "# 3ª Atividade\n",
        "model4 = Net(2,1)\n",
        "x = x_train_bias\n",
        "y = y_train\n",
        "w_opt = (np.linalg.inv((x.T).dot(x)).dot(x.T).dot(y))\n",
        "model4.w[0][0] = w_opt[0]\n",
        "model4.w[0][1] = w_opt [1]\n",
        "print (model4.w)\n",
        "\n",
        "y_pred_otimo = model4.forward(x_train_bias)\n",
        "loss_otima = np.square(y_pred_otimo - y_train).mean()\n",
        "print(\"Perda_ótimo\")\n",
        "print(loss_otima)\n",
        "\n",
        "y_pred_treinamento = model.forward (x_train_bias)\n",
        "loss_treinamento = np.square(y_pred_treinamento - y_train).mean()\n",
        "print(\"Perda de Treinamento\")\n",
        "print(loss_treinamento)\n"
      ],
      "metadata": {
        "colab": {
          "base_uri": "https://localhost:8080/"
        },
        "id": "23Km2v3BY548",
        "outputId": "d8c7d42f-7691-431e-b5c2-5008bd42339e"
      },
      "execution_count": 18,
      "outputs": [
        {
          "output_type": "stream",
          "name": "stdout",
          "text": [
            "[[0.26134159 0.68646976]]\n",
            "Perda_ótimo\n",
            "0.021169424119097165\n",
            "Perda de Treinamento\n",
            "0.02116942415600105\n"
          ]
        },
        {
          "output_type": "stream",
          "name": "stderr",
          "text": [
            "<ipython-input-18-674be2db380d>:6: DeprecationWarning: Conversion of an array with ndim > 0 to a scalar is deprecated, and will error in future. Ensure you extract a single element from your array before performing this operation. (Deprecated NumPy 1.25.)\n",
            "  model4.w[0][0] = w_opt[0]\n",
            "<ipython-input-18-674be2db380d>:7: DeprecationWarning: Conversion of an array with ndim > 0 to a scalar is deprecated, and will error in future. Ensure you extract a single element from your array before performing this operation. (Deprecated NumPy 1.25.)\n",
            "  model4.w[0][1] = w_opt [1]\n"
          ]
        }
      ]
    },
    {
      "cell_type": "markdown",
      "metadata": {
        "collapsed": true,
        "id": "tgmMhSm2f9S4"
      },
      "source": [
        "# Aprendizados"
      ]
    },
    {
      "cell_type": "markdown",
      "source": [
        "No presente trabalho foi estudado regressão linear com Numpy para estimar o comprimento das sépalas da íris a partir do comprimento das pétalas.\n",
        "\n",
        "Nesse sentido, as bibliotecas foram importadas, ocorreu a leitura dos dados e a respectiva normalização dos dados.\n",
        "\n",
        "Durante a criação do modelo, foi plotada a reta de ajuste, a estruturação do modelo de regressão linear, a formulação matricial do neurônio, a estruturação do predict de várias amostras, o preenchimento x com a coluna de 1's para bias, a criação da rede e instanciamento do modelo, o teste do predict da rede (sem treinamento), o treinamento via gradiente descendente e a avaliação.\n",
        "\n",
        "Portanto, diversas etapas precisam ser estruturadas com cuidado para otimização do resultado.\n"
      ],
      "metadata": {
        "id": "WRWD47Ozh76u"
      }
    }
  ],
  "metadata": {
    "colab": {
      "provenance": []
    },
    "kernelspec": {
      "display_name": "Python 3",
      "name": "python3"
    },
    "language_info": {
      "name": "python",
      "version": "3.10.2"
    },
    "vscode": {
      "interpreter": {
        "hash": "5fe3e6f0cdaab8afdc61c52912fda83f7c0a71baaea1897dd7498e2df01e69ec"
      }
    }
  },
  "nbformat": 4,
  "nbformat_minor": 0
}